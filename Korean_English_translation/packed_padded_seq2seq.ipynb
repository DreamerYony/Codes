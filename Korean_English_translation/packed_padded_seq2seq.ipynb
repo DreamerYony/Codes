{
 "cells": [
  {
   "cell_type": "code",
   "execution_count": 1,
   "id": "f8065048",
   "metadata": {
    "_cell_guid": "99e16338-6100-4ceb-9b8c-e2d8f0cb105b",
    "_uuid": "e6c3a396-8134-460e-9097-2e697a19a9a3",
    "execution": {
     "iopub.execute_input": "2021-11-20T14:53:52.704064Z",
     "iopub.status.busy": "2021-11-20T14:53:52.703177Z",
     "iopub.status.idle": "2021-11-20T14:55:33.913688Z",
     "shell.execute_reply": "2021-11-20T14:55:33.914195Z",
     "shell.execute_reply.started": "2021-11-20T13:08:11.049160Z"
    },
    "jupyter": {
     "outputs_hidden": false
    },
    "papermill": {
     "duration": 101.249896,
     "end_time": "2021-11-20T14:55:33.914509",
     "exception": false,
     "start_time": "2021-11-20T14:53:52.664613",
     "status": "completed"
    },
    "tags": []
   },
   "outputs": [
    {
     "name": "stdout",
     "output_type": "stream",
     "text": [
      "Collecting torch==1.8.1\r\n",
      "  Downloading torch-1.8.1-cp37-cp37m-manylinux1_x86_64.whl (804.1 MB)\r\n",
      "\u001b[K     |████████████████████████████████| 804.1 MB 1.9 kB/s \r\n",
      "\u001b[?25hRequirement already satisfied: numpy in /opt/conda/lib/python3.7/site-packages (from torch==1.8.1) (1.19.5)\r\n",
      "Requirement already satisfied: typing-extensions in /opt/conda/lib/python3.7/site-packages (from torch==1.8.1) (3.10.0.2)\r\n",
      "Installing collected packages: torch\r\n",
      "  Attempting uninstall: torch\r\n",
      "    Found existing installation: torch 1.9.1\r\n",
      "    Uninstalling torch-1.9.1:\r\n",
      "      Successfully uninstalled torch-1.9.1\r\n",
      "Successfully installed torch-1.8.1\r\n",
      "\u001b[33mWARNING: Running pip as the 'root' user can result in broken permissions and conflicting behaviour with the system package manager. It is recommended to use a virtual environment instead: https://pip.pypa.io/warnings/venv\u001b[0m\r\n",
      "Collecting torchtext==0.9.1\r\n",
      "  Downloading torchtext-0.9.1-cp37-cp37m-manylinux1_x86_64.whl (7.1 MB)\r\n",
      "\u001b[K     |████████████████████████████████| 7.1 MB 506 kB/s \r\n",
      "\u001b[?25hRequirement already satisfied: numpy in /opt/conda/lib/python3.7/site-packages (from torchtext==0.9.1) (1.19.5)\r\n",
      "Requirement already satisfied: tqdm in /opt/conda/lib/python3.7/site-packages (from torchtext==0.9.1) (4.62.3)\r\n",
      "Requirement already satisfied: requests in /opt/conda/lib/python3.7/site-packages (from torchtext==0.9.1) (2.25.1)\r\n",
      "Requirement already satisfied: torch==1.8.1 in /opt/conda/lib/python3.7/site-packages (from torchtext==0.9.1) (1.8.1)\r\n",
      "Requirement already satisfied: typing-extensions in /opt/conda/lib/python3.7/site-packages (from torch==1.8.1->torchtext==0.9.1) (3.10.0.2)\r\n",
      "Requirement already satisfied: urllib3<1.27,>=1.21.1 in /opt/conda/lib/python3.7/site-packages (from requests->torchtext==0.9.1) (1.26.6)\r\n",
      "Requirement already satisfied: chardet<5,>=3.0.2 in /opt/conda/lib/python3.7/site-packages (from requests->torchtext==0.9.1) (4.0.0)\r\n",
      "Requirement already satisfied: certifi>=2017.4.17 in /opt/conda/lib/python3.7/site-packages (from requests->torchtext==0.9.1) (2021.10.8)\r\n",
      "Requirement already satisfied: idna<3,>=2.5 in /opt/conda/lib/python3.7/site-packages (from requests->torchtext==0.9.1) (2.10)\r\n",
      "Installing collected packages: torchtext\r\n",
      "  Attempting uninstall: torchtext\r\n",
      "    Found existing installation: torchtext 0.10.1\r\n",
      "    Uninstalling torchtext-0.10.1:\r\n",
      "      Successfully uninstalled torchtext-0.10.1\r\n",
      "Successfully installed torchtext-0.9.1\r\n",
      "\u001b[33mWARNING: Running pip as the 'root' user can result in broken permissions and conflicting behaviour with the system package manager. It is recommended to use a virtual environment instead: https://pip.pypa.io/warnings/venv\u001b[0m\r\n"
     ]
    }
   ],
   "source": [
    "!pip install torch==1.8.1\n",
    "!pip install torchtext==0.9.1"
   ]
  },
  {
   "cell_type": "code",
   "execution_count": 2,
   "id": "bb2f7e26",
   "metadata": {
    "execution": {
     "iopub.execute_input": "2021-11-20T14:55:34.722795Z",
     "iopub.status.busy": "2021-11-20T14:55:34.722154Z",
     "iopub.status.idle": "2021-11-20T14:55:36.583283Z",
     "shell.execute_reply": "2021-11-20T14:55:36.582679Z",
     "shell.execute_reply.started": "2021-11-20T13:09:47.824580Z"
    },
    "papermill": {
     "duration": 2.253919,
     "end_time": "2021-11-20T14:55:36.583421",
     "exception": false,
     "start_time": "2021-11-20T14:55:34.329502",
     "status": "completed"
    },
    "tags": []
   },
   "outputs": [],
   "source": [
    "import numpy as np\n",
    "import pandas as pd\n",
    "import seaborn as sns\n",
    "import matplotlib.pyplot as plt\n",
    "import matplotlib as mpl\n",
    "import matplotlib.ticker as ticker\n",
    "from numpy import array\n",
    "from nltk.tree import Tree\n",
    "import re\n",
    "\n",
    "import torch\n",
    "import torch.nn as nn\n",
    "import torch.optim as optim\n",
    "import torch.nn.functional as F\n",
    "import torchtext\n",
    "from torchtext.legacy import data\n",
    "from torchtext.legacy.data import Field\n",
    "from torchtext.legacy.data import TabularDataset, BucketIterator\n",
    "\n",
    "import random\n",
    "import math\n",
    "import time\n",
    "\n",
    "import warnings\n",
    "warnings.filterwarnings(action='ignore')"
   ]
  },
  {
   "cell_type": "code",
   "execution_count": 3,
   "id": "bc675813",
   "metadata": {
    "execution": {
     "iopub.execute_input": "2021-11-20T14:55:37.370111Z",
     "iopub.status.busy": "2021-11-20T14:55:37.369541Z",
     "iopub.status.idle": "2021-11-20T14:55:38.866156Z",
     "shell.execute_reply": "2021-11-20T14:55:38.865122Z",
     "shell.execute_reply.started": "2021-11-20T13:09:49.525890Z"
    },
    "papermill": {
     "duration": 1.893458,
     "end_time": "2021-11-20T14:55:38.866320",
     "exception": false,
     "start_time": "2021-11-20T14:55:36.972862",
     "status": "completed"
    },
    "tags": []
   },
   "outputs": [],
   "source": [
    "# file processing\n",
    "en_file = open('../input/koenen/ko-en.en.parse.syn.txt','r', encoding='UTF8')\n",
    "english = en_file.readlines() \n",
    "\n",
    "ko_File = open('../input/koenko/ko-en.ko.parse.txt','r', encoding='UTF8')\n",
    "korean = ko_File.readlines()"
   ]
  },
  {
   "cell_type": "code",
   "execution_count": 4,
   "id": "49f39f5b",
   "metadata": {
    "execution": {
     "iopub.execute_input": "2021-11-20T14:55:39.596355Z",
     "iopub.status.busy": "2021-11-20T14:55:39.595136Z",
     "iopub.status.idle": "2021-11-20T14:55:39.597051Z",
     "shell.execute_reply": "2021-11-20T14:55:39.597478Z",
     "shell.execute_reply.started": "2021-11-20T13:09:51.168869Z"
    },
    "papermill": {
     "duration": 0.36286,
     "end_time": "2021-11-20T14:55:39.597620",
     "exception": false,
     "start_time": "2021-11-20T14:55:39.234760",
     "status": "completed"
    },
    "tags": []
   },
   "outputs": [],
   "source": [
    "# function to read raw text file\n",
    "def read_text(filename): \n",
    "    # open the file \n",
    "    file = open('../input/koenko/ko-en.ko.parse.txt', mode='rt', encoding='utf-8') \n",
    "        \n",
    "    # read all text \n",
    "    text = file.read() \n",
    "    file.close() \n",
    "    return text\n",
    "    \n",
    "# split text into sentences # 이 노트북에서는 형태소로 나뉜 자료로 사용했습니다.\n",
    "def to_lines(text): \n",
    "    sents = text.strip().split('\\n\\n')  # 한 문장 내 분리된 채 사용할 때\n",
    "    return sents\n",
    "\n",
    "def to_other_lines(text): \n",
    "    sents = text.strip().split('\\n\\n') \n",
    "    sents = [i.split('\\t') for i in sents]  #이거 입력하면 어절별로 처리 가능\n",
    "    return sents"
   ]
  },
  {
   "cell_type": "code",
   "execution_count": 5,
   "id": "085cb6f5",
   "metadata": {
    "execution": {
     "iopub.execute_input": "2021-11-20T14:55:40.341564Z",
     "iopub.status.busy": "2021-11-20T14:55:40.340446Z",
     "iopub.status.idle": "2021-11-20T14:55:41.003787Z",
     "shell.execute_reply": "2021-11-20T14:55:41.003305Z",
     "shell.execute_reply.started": "2021-11-20T13:09:51.176887Z"
    },
    "papermill": {
     "duration": 1.059381,
     "end_time": "2021-11-20T14:55:41.003921",
     "exception": false,
     "start_time": "2021-11-20T14:55:39.944540",
     "status": "completed"
    },
    "tags": []
   },
   "outputs": [
    {
     "data": {
      "text/html": [
       "<div>\n",
       "<style scoped>\n",
       "    .dataframe tbody tr th:only-of-type {\n",
       "        vertical-align: middle;\n",
       "    }\n",
       "\n",
       "    .dataframe tbody tr th {\n",
       "        vertical-align: top;\n",
       "    }\n",
       "\n",
       "    .dataframe thead th {\n",
       "        text-align: right;\n",
       "    }\n",
       "</style>\n",
       "<table border=\"1\" class=\"dataframe\">\n",
       "  <thead>\n",
       "    <tr style=\"text-align: right;\">\n",
       "      <th></th>\n",
       "      <th>read_lines</th>\n",
       "    </tr>\n",
       "  </thead>\n",
       "  <tbody>\n",
       "    <tr>\n",
       "      <th>0</th>\n",
       "      <td>&lt;id 1&gt;\\n&lt;sent 1&gt;\\n1\\t2\\tNP\\t777/SN\\n2\\t6\\tNP_SBJ\\t항공편/NNG|은/JX\\n3\\t4\\tNP\\t1/SN|시간/NNG\\n4\\t6\\tNP_AJT\\t동안/NNG\\n5\\t6\\tNP_AJT\\t지상/NNG|에/JKB\\n6\\t7\\tVP\\t머물/VV|게/EC\\n7\\t0\\tVP\\t되/VV|ㅂ니다/EF|./SF\\n&lt;/sent&gt;\\n&lt;/id&gt;</td>\n",
       "    </tr>\n",
       "    <tr>\n",
       "      <th>1</th>\n",
       "      <td>&lt;id 2&gt;\\n&lt;sent 1&gt;\\n1\\t2\\tNP\\t777/SN\\n2\\t6\\tNP_SBJ\\t항공편/NNG|은/JX\\n3\\t4\\tNP\\t3/SN|시간/NNG\\n4\\t6\\tNP_AJT\\t동안/NNG\\n5\\t6\\tNP_AJT\\t지상/NNG|에/JKB\\n6\\t0\\tVP\\t있/VV|겠/EP|습니다/EF|./SF\\n&lt;/sent&gt;\\n&lt;/id&gt;</td>\n",
       "    </tr>\n",
       "    <tr>\n",
       "      <th>2</th>\n",
       "      <td>&lt;id 3&gt;\\n&lt;sent 1&gt;\\n1\\t2\\tNP\\t1/SN|,/SP|000/SN|달러/NNB\\n2\\t3\\tNP_SBJ\\t여행자/NNG|수표/NNG|가/JKS\\n3\\t0\\tVP\\t필요/NNG|하/XSA|ㅂ니다/EF|./SF\\n&lt;/sent&gt;\\n&lt;/id&gt;</td>\n",
       "    </tr>\n",
       "    <tr>\n",
       "      <th>3</th>\n",
       "      <td>&lt;id 4&gt;\\n&lt;sent 1&gt;\\n1\\t3\\tNP_SBJ\\t1/SN|,/SP|250/SN|원/NNB|이/JKS\\n2\\t3\\tNP\\t공식/NNG\\n3\\t0\\tVNP\\t환율/NNG|이/VCP|ㅂ니다/EF|./SF\\n&lt;/sent&gt;\\n&lt;/id&gt;</td>\n",
       "    </tr>\n",
       "    <tr>\n",
       "      <th>4</th>\n",
       "      <td>&lt;id 5&gt;\\n&lt;sent 1&gt;\\n1\\t2\\tNP\\t100/SN|달러/NNB\\n2\\t3\\tNP_CNJ\\t3/SN|장/NNB|과/JC\\n3\\t5\\tNP_SBJ\\t나머지/NNG|는/JX\\n4\\t5\\tNP_AJT\\t20/SN|달러/NNB|권/XSN|으로/JKB\\n5\\t0\\tVP\\t주/VV|시/EP|ㅂ시오/EF|./SF\\n&lt;/sent&gt;\\n&lt;/id&gt;</td>\n",
       "    </tr>\n",
       "  </tbody>\n",
       "</table>\n",
       "</div>"
      ],
      "text/plain": [
       "                                                                                                                                                                                                  read_lines\n",
       "0  <id 1>\\n<sent 1>\\n1\\t2\\tNP\\t777/SN\\n2\\t6\\tNP_SBJ\\t항공편/NNG|은/JX\\n3\\t4\\tNP\\t1/SN|시간/NNG\\n4\\t6\\tNP_AJT\\t동안/NNG\\n5\\t6\\tNP_AJT\\t지상/NNG|에/JKB\\n6\\t7\\tVP\\t머물/VV|게/EC\\n7\\t0\\tVP\\t되/VV|ㅂ니다/EF|./SF\\n</sent>\\n</id>\n",
       "1                   <id 2>\\n<sent 1>\\n1\\t2\\tNP\\t777/SN\\n2\\t6\\tNP_SBJ\\t항공편/NNG|은/JX\\n3\\t4\\tNP\\t3/SN|시간/NNG\\n4\\t6\\tNP_AJT\\t동안/NNG\\n5\\t6\\tNP_AJT\\t지상/NNG|에/JKB\\n6\\t0\\tVP\\t있/VV|겠/EP|습니다/EF|./SF\\n</sent>\\n</id>\n",
       "2                                                                <id 3>\\n<sent 1>\\n1\\t2\\tNP\\t1/SN|,/SP|000/SN|달러/NNB\\n2\\t3\\tNP_SBJ\\t여행자/NNG|수표/NNG|가/JKS\\n3\\t0\\tVP\\t필요/NNG|하/XSA|ㅂ니다/EF|./SF\\n</sent>\\n</id>\n",
       "3                                                                        <id 4>\\n<sent 1>\\n1\\t3\\tNP_SBJ\\t1/SN|,/SP|250/SN|원/NNB|이/JKS\\n2\\t3\\tNP\\t공식/NNG\\n3\\t0\\tVNP\\t환율/NNG|이/VCP|ㅂ니다/EF|./SF\\n</sent>\\n</id>\n",
       "4             <id 5>\\n<sent 1>\\n1\\t2\\tNP\\t100/SN|달러/NNB\\n2\\t3\\tNP_CNJ\\t3/SN|장/NNB|과/JC\\n3\\t5\\tNP_SBJ\\t나머지/NNG|는/JX\\n4\\t5\\tNP_AJT\\t20/SN|달러/NNB|권/XSN|으로/JKB\\n5\\t0\\tVP\\t주/VV|시/EP|ㅂ시오/EF|./SF\\n</sent>\\n</id>"
      ]
     },
     "execution_count": 5,
     "metadata": {},
     "output_type": "execute_result"
    }
   ],
   "source": [
    "# 데이터프레임으로 만들기(한국어 문장)\n",
    "data = read_text(\"ko-en.ko.parse.txt\") \n",
    "ko_eng_lines = to_lines(data) \n",
    "ko_eng = pd.DataFrame(ko_eng_lines, columns = [\"read_lines\"])\n",
    "\n",
    "pd.set_option('display.max_colwidth', 250)\n",
    "ko_eng.head()"
   ]
  },
  {
   "cell_type": "code",
   "execution_count": 6,
   "id": "a089a076",
   "metadata": {
    "execution": {
     "iopub.execute_input": "2021-11-20T14:55:41.736187Z",
     "iopub.status.busy": "2021-11-20T14:55:41.715210Z",
     "iopub.status.idle": "2021-11-20T14:56:14.200443Z",
     "shell.execute_reply": "2021-11-20T14:56:14.200976Z",
     "shell.execute_reply.started": "2021-11-20T13:09:51.840254Z"
    },
    "papermill": {
     "duration": 32.846568,
     "end_time": "2021-11-20T14:56:14.201140",
     "exception": false,
     "start_time": "2021-11-20T14:55:41.354572",
     "status": "completed"
    },
    "tags": []
   },
   "outputs": [
    {
     "data": {
      "text/html": [
       "<div>\n",
       "<style scoped>\n",
       "    .dataframe tbody tr th:only-of-type {\n",
       "        vertical-align: middle;\n",
       "    }\n",
       "\n",
       "    .dataframe tbody tr th {\n",
       "        vertical-align: top;\n",
       "    }\n",
       "\n",
       "    .dataframe thead th {\n",
       "        text-align: right;\n",
       "    }\n",
       "</style>\n",
       "<table border=\"1\" class=\"dataframe\">\n",
       "  <thead>\n",
       "    <tr style=\"text-align: right;\">\n",
       "      <th></th>\n",
       "      <th>English_list</th>\n",
       "      <th>English_POS</th>\n",
       "    </tr>\n",
       "  </thead>\n",
       "  <tbody>\n",
       "    <tr>\n",
       "      <th>0</th>\n",
       "      <td>Flight 007 will stay on the ground for one hour .</td>\n",
       "      <td>NNP NNP MD VB IN DT NN IN CD NN .</td>\n",
       "    </tr>\n",
       "    <tr>\n",
       "      <th>1</th>\n",
       "      <td>Flight 017 will stay on the ground for three hours .</td>\n",
       "      <td>NNP NNP MD VB IN DT NN IN CD NNS .</td>\n",
       "    </tr>\n",
       "    <tr>\n",
       "      <th>2</th>\n",
       "      <td>I need 1,000 dollars in traveler 's checks .</td>\n",
       "      <td>PRP VBP CD NNS IN NN POS NNS .</td>\n",
       "    </tr>\n",
       "    <tr>\n",
       "      <th>3</th>\n",
       "      <td>The official exchange rate is around 1,250 Won .</td>\n",
       "      <td>DT JJ NN NN VBZ IN NNP NNP .</td>\n",
       "    </tr>\n",
       "    <tr>\n",
       "      <th>4</th>\n",
       "      <td>Please give me three hundred dollar bills and twenty dollar bills for the rest .</td>\n",
       "      <td>UH VB PRP CD CD NN NNS CC CD NN NNS IN DT NN .</td>\n",
       "    </tr>\n",
       "  </tbody>\n",
       "</table>\n",
       "</div>"
      ],
      "text/plain": [
       "                                                                        English_list  \\\n",
       "0                                 Flight 007 will stay on the ground for one hour .    \n",
       "1                              Flight 017 will stay on the ground for three hours .    \n",
       "2                                      I need 1,000 dollars in traveler 's checks .    \n",
       "3                                  The official exchange rate is around 1,250 Won .    \n",
       "4  Please give me three hundred dollar bills and twenty dollar bills for the rest .    \n",
       "\n",
       "                                       English_POS  \n",
       "0               NNP NNP MD VB IN DT NN IN CD NN .   \n",
       "1              NNP NNP MD VB IN DT NN IN CD NNS .   \n",
       "2                  PRP VBP CD NNS IN NN POS NNS .   \n",
       "3                    DT JJ NN NN VBZ IN NNP NNP .   \n",
       "4  UH VB PRP CD CD NN NNS CC CD NN NNS IN DT NN .   "
      ]
     },
     "execution_count": 6,
     "metadata": {},
     "output_type": "execute_result"
    }
   ],
   "source": [
    "# 데이터프레임으로 만들기(영어 문장)\n",
    "sentences = []\n",
    "for a in english:\n",
    "    first_list = []\n",
    "    seconde_list = []\n",
    "    t = Tree.fromstring(a)\n",
    "    t.pos()\n",
    "    for i in t.pos():\n",
    "        a,b = i\n",
    "        a += ' '\n",
    "        b += ' '\n",
    "        first_list.append(a)\n",
    "        seconde_list.append(b)\n",
    "        row = (first_list, seconde_list)\n",
    "    sentences.append((''.join(row[0]), ''.join(row[1])))\n",
    "    \n",
    "english_df = pd.DataFrame(sentences, columns = [\"English_list\", \"English_POS\"])\n",
    "english_df.head()"
   ]
  },
  {
   "cell_type": "code",
   "execution_count": 7,
   "id": "ff4df23d",
   "metadata": {
    "execution": {
     "iopub.execute_input": "2021-11-20T14:56:14.910585Z",
     "iopub.status.busy": "2021-11-20T14:56:14.909862Z",
     "iopub.status.idle": "2021-11-20T14:56:14.913455Z",
     "shell.execute_reply": "2021-11-20T14:56:14.912973Z",
     "shell.execute_reply.started": "2021-11-20T13:10:23.535781Z"
    },
    "papermill": {
     "duration": 0.36356,
     "end_time": "2021-11-20T14:56:14.913575",
     "exception": false,
     "start_time": "2021-11-20T14:56:14.550015",
     "status": "completed"
    },
    "tags": []
   },
   "outputs": [],
   "source": [
    "# 병렬 데이터를 만들기 위한 기본 전처리\n",
    "def basic_cleaning_ko(text):\n",
    "    text = re.sub(r'[A-Z0-9_]+\\t', '', text) # 탭과 결합된 문자 제거\n",
    "    text = re.sub(r'<id [0-9]+>', '', text) # 불필요한 글자 제거\n",
    "    text = re.sub(r'</id>', '', text)\n",
    "    text = re.sub(r'<sent [0-9]+>', '', text)\n",
    "    text = re.sub(r'</sent>', '', text)\n",
    "    text = re.sub(r'\\n', ' ', text) # 줄바꿈 공백으로 바꿔주기\n",
    "    text = re.sub(r'\\|', ' ', text) # vertical var도 공백으로 바꿔주기\n",
    "    text = re.findall('(.+?)/[A-Z]+\\s*', text) # 품사기호 앞에 있는 단어만 추출\n",
    "    return ' '.join(text)\n",
    "\n",
    "def basic_cleaning_en(text):\n",
    "    text = re.split('(\\d+)', text) # 숫자와 글자 분리\n",
    "    return ' '.join(text)"
   ]
  },
  {
   "cell_type": "code",
   "execution_count": 8,
   "id": "84c85b96",
   "metadata": {
    "execution": {
     "iopub.execute_input": "2021-11-20T14:56:15.619810Z",
     "iopub.status.busy": "2021-11-20T14:56:15.618927Z",
     "iopub.status.idle": "2021-11-20T14:56:26.004739Z",
     "shell.execute_reply": "2021-11-20T14:56:26.004195Z",
     "shell.execute_reply.started": "2021-11-20T13:10:23.544898Z"
    },
    "papermill": {
     "duration": 10.739093,
     "end_time": "2021-11-20T14:56:26.004882",
     "exception": false,
     "start_time": "2021-11-20T14:56:15.265789",
     "status": "completed"
    },
    "tags": []
   },
   "outputs": [],
   "source": [
    "ko_eng[\"clean_Korean\"] = ko_eng[\"read_lines\"].apply(basic_cleaning_ko)\n",
    "english_df[\"clean_English\"] = english_df[\"English_list\"].apply(basic_cleaning_en)"
   ]
  },
  {
   "cell_type": "code",
   "execution_count": 9,
   "id": "a29e9c5b",
   "metadata": {
    "execution": {
     "iopub.execute_input": "2021-11-20T14:56:26.708573Z",
     "iopub.status.busy": "2021-11-20T14:56:26.707713Z",
     "iopub.status.idle": "2021-11-20T14:56:26.728121Z",
     "shell.execute_reply": "2021-11-20T14:56:26.728566Z",
     "shell.execute_reply.started": "2021-11-20T13:10:33.161759Z"
    },
    "papermill": {
     "duration": 0.370718,
     "end_time": "2021-11-20T14:56:26.728716",
     "exception": false,
     "start_time": "2021-11-20T14:56:26.357998",
     "status": "completed"
    },
    "tags": []
   },
   "outputs": [
    {
     "data": {
      "text/html": [
       "<div>\n",
       "<style scoped>\n",
       "    .dataframe tbody tr th:only-of-type {\n",
       "        vertical-align: middle;\n",
       "    }\n",
       "\n",
       "    .dataframe tbody tr th {\n",
       "        vertical-align: top;\n",
       "    }\n",
       "\n",
       "    .dataframe thead th {\n",
       "        text-align: right;\n",
       "    }\n",
       "</style>\n",
       "<table border=\"1\" class=\"dataframe\">\n",
       "  <thead>\n",
       "    <tr style=\"text-align: right;\">\n",
       "      <th></th>\n",
       "      <th>clean_Korean</th>\n",
       "      <th>clean_English</th>\n",
       "    </tr>\n",
       "  </thead>\n",
       "  <tbody>\n",
       "    <tr>\n",
       "      <th>0</th>\n",
       "      <td>777 항공편 은 1 시간 동안 지상 에 머물 게 되 ㅂ니다 .</td>\n",
       "      <td>Flight  007  will stay on the ground for one hour .</td>\n",
       "    </tr>\n",
       "    <tr>\n",
       "      <th>1</th>\n",
       "      <td>777 항공편 은 3 시간 동안 지상 에 있 겠 습니다 .</td>\n",
       "      <td>Flight  017  will stay on the ground for three hours .</td>\n",
       "    </tr>\n",
       "    <tr>\n",
       "      <th>2</th>\n",
       "      <td>1 , 000 달러 여행자 수표 가 필요 하 ㅂ니다 .</td>\n",
       "      <td>I need  1 , 000  dollars in traveler 's checks .</td>\n",
       "    </tr>\n",
       "    <tr>\n",
       "      <th>3</th>\n",
       "      <td>1 , 250 원 이 공식 환율 이 ㅂ니다 .</td>\n",
       "      <td>The official exchange rate is around  1 , 250  Won .</td>\n",
       "    </tr>\n",
       "    <tr>\n",
       "      <th>4</th>\n",
       "      <td>100 달러 3 장 과 나머지 는 20 달러 권 으로 주 시 ㅂ시오 .</td>\n",
       "      <td>Please give me three hundred dollar bills and twenty dollar bills for the rest .</td>\n",
       "    </tr>\n",
       "    <tr>\n",
       "      <th>...</th>\n",
       "      <td>...</td>\n",
       "      <td>...</td>\n",
       "    </tr>\n",
       "    <tr>\n",
       "      <th>330969</th>\n",
       "      <td>저 의 주소 가 지방 으로 되 어 있 는데 , 서울 에서 여권 을 만들 ㄹ 수 있 나요 ?</td>\n",
       "      <td>Can I file my passport application in Seoul even if I do n't live in that area ?</td>\n",
       "    </tr>\n",
       "    <tr>\n",
       "      <th>330970</th>\n",
       "      <td>학교 친구 한 명 이 LA 에 있 어요 .</td>\n",
       "      <td>I have a school friend in Los Angeles .</td>\n",
       "    </tr>\n",
       "    <tr>\n",
       "      <th>330971</th>\n",
       "      <td>이것 ㄴ 얼마 이 에요 ?</td>\n",
       "      <td>How much is this ?</td>\n",
       "    </tr>\n",
       "    <tr>\n",
       "      <th>330972</th>\n",
       "      <td>저것 ㄴ 얼마 이 에요 ?</td>\n",
       "      <td>How much is that ?</td>\n",
       "    </tr>\n",
       "    <tr>\n",
       "      <th>330973</th>\n",
       "      <td>저것 은 얼마 이 에요 ?</td>\n",
       "      <td>How much is that ?</td>\n",
       "    </tr>\n",
       "  </tbody>\n",
       "</table>\n",
       "<p>330974 rows × 2 columns</p>\n",
       "</div>"
      ],
      "text/plain": [
       "                                                clean_Korean  \\\n",
       "0                        777 항공편 은 1 시간 동안 지상 에 머물 게 되 ㅂ니다 .   \n",
       "1                           777 항공편 은 3 시간 동안 지상 에 있 겠 습니다 .   \n",
       "2                             1 , 000 달러 여행자 수표 가 필요 하 ㅂ니다 .   \n",
       "3                                  1 , 250 원 이 공식 환율 이 ㅂ니다 .   \n",
       "4                    100 달러 3 장 과 나머지 는 20 달러 권 으로 주 시 ㅂ시오 .   \n",
       "...                                                      ...   \n",
       "330969    저 의 주소 가 지방 으로 되 어 있 는데 , 서울 에서 여권 을 만들 ㄹ 수 있 나요 ?   \n",
       "330970                               학교 친구 한 명 이 LA 에 있 어요 .   \n",
       "330971                                        이것 ㄴ 얼마 이 에요 ?   \n",
       "330972                                        저것 ㄴ 얼마 이 에요 ?   \n",
       "330973                                        저것 은 얼마 이 에요 ?   \n",
       "\n",
       "                                                                            clean_English  \n",
       "0                                    Flight  007  will stay on the ground for one hour .   \n",
       "1                                 Flight  017  will stay on the ground for three hours .   \n",
       "2                                       I need  1 , 000  dollars in traveler 's checks .   \n",
       "3                                   The official exchange rate is around  1 , 250  Won .   \n",
       "4       Please give me three hundred dollar bills and twenty dollar bills for the rest .   \n",
       "...                                                                                   ...  \n",
       "330969  Can I file my passport application in Seoul even if I do n't live in that area ?   \n",
       "330970                                           I have a school friend in Los Angeles .   \n",
       "330971                                                                How much is this ?   \n",
       "330972                                                                How much is that ?   \n",
       "330973                                                                How much is that ?   \n",
       "\n",
       "[330974 rows x 2 columns]"
      ]
     },
     "execution_count": 9,
     "metadata": {},
     "output_type": "execute_result"
    }
   ],
   "source": [
    "# 한국어-영어 병렬 데이터 만들기\n",
    "ko_trans =ko_eng[\"clean_Korean\"]\n",
    "en_trans = english_df[\"clean_English\"]\n",
    "final_df = pd.concat([ko_trans, en_trans], axis=1)\n",
    "final_df"
   ]
  },
  {
   "cell_type": "code",
   "execution_count": 10,
   "id": "96194eda",
   "metadata": {
    "execution": {
     "iopub.execute_input": "2021-11-20T14:56:27.426153Z",
     "iopub.status.busy": "2021-11-20T14:56:27.425543Z",
     "iopub.status.idle": "2021-11-20T14:56:27.428538Z",
     "shell.execute_reply": "2021-11-20T14:56:27.428081Z",
     "shell.execute_reply.started": "2021-11-20T13:10:33.190164Z"
    },
    "papermill": {
     "duration": 0.35972,
     "end_time": "2021-11-20T14:56:27.428660",
     "exception": false,
     "start_time": "2021-11-20T14:56:27.068940",
     "status": "completed"
    },
    "tags": []
   },
   "outputs": [],
   "source": [
    "# 토큰화 \n",
    "def tok_english(text): \n",
    "    text = text.lower() # 소문자 변환\n",
    "    text = text.replace(\"n't\", 'not') # 기본적인 축약형 수정\n",
    "    text = text.replace(\"'ve\", 'have')\n",
    "    text = text.replace(\"'m\", 'am')\n",
    "    text = text.replace(\"'s\", ' ')\n",
    "    text = text.replace(\"'ll\", 'will')\n",
    "    text = text.replace(\"'d\", 'would')    \n",
    "    #text = re.sub(r'[^\\w\\s]', '', text) # 구두점 제거\n",
    "    text = text.replace('  ', ' ') # 다중 공백 제거\n",
    "    text = text.replace('  ', ' ') # 두번\n",
    "    return ''.join(text).split() # 단어 분리\n",
    "\n",
    "def tok_korean(text):\n",
    "   # text = re.sub(r'[^\\w\\s]', '', text) # 구두점 제거 \n",
    "    text = text.replace('  ', ' ') # 다중 공백 제거\n",
    "    return ''.join(text).split() # 단어 분리"
   ]
  },
  {
   "cell_type": "code",
   "execution_count": 11,
   "id": "7c08157a",
   "metadata": {
    "execution": {
     "iopub.execute_input": "2021-11-20T14:56:28.127789Z",
     "iopub.status.busy": "2021-11-20T14:56:28.126825Z",
     "iopub.status.idle": "2021-11-20T14:56:28.204769Z",
     "shell.execute_reply": "2021-11-20T14:56:28.205285Z",
     "shell.execute_reply.started": "2021-11-20T13:10:33.198354Z"
    },
    "papermill": {
     "duration": 0.437535,
     "end_time": "2021-11-20T14:56:28.205460",
     "exception": false,
     "start_time": "2021-11-20T14:56:27.767925",
     "status": "completed"
    },
    "tags": []
   },
   "outputs": [],
   "source": [
    "# devide into train and test set\n",
    "\n",
    "SEED = 42\n",
    "\n",
    "from sklearn.model_selection import train_test_split\n",
    "train_data, test_data = train_test_split(final_df, test_size=0.2, shuffle=True, random_state=SEED)"
   ]
  },
  {
   "cell_type": "code",
   "execution_count": 12,
   "id": "80c92348",
   "metadata": {
    "execution": {
     "iopub.execute_input": "2021-11-20T14:56:28.918406Z",
     "iopub.status.busy": "2021-11-20T14:56:28.917717Z",
     "iopub.status.idle": "2021-11-20T14:56:28.920607Z",
     "shell.execute_reply": "2021-11-20T14:56:28.918916Z",
     "shell.execute_reply.started": "2021-11-20T13:10:33.267877Z"
    },
    "papermill": {
     "duration": 0.35717,
     "end_time": "2021-11-20T14:56:28.920773",
     "exception": false,
     "start_time": "2021-11-20T14:56:28.563603",
     "status": "completed"
    },
    "tags": []
   },
   "outputs": [
    {
     "name": "stdout",
     "output_type": "stream",
     "text": [
      "264779\n",
      "66195\n"
     ]
    }
   ],
   "source": [
    "print(len(train_data))\n",
    "print(len(test_data))"
   ]
  },
  {
   "cell_type": "code",
   "execution_count": 13,
   "id": "299e26fe",
   "metadata": {
    "execution": {
     "iopub.execute_input": "2021-11-20T14:56:29.624293Z",
     "iopub.status.busy": "2021-11-20T14:56:29.623458Z",
     "iopub.status.idle": "2021-11-20T14:56:31.548966Z",
     "shell.execute_reply": "2021-11-20T14:56:31.548467Z",
     "shell.execute_reply.started": "2021-11-20T13:10:33.275220Z"
    },
    "papermill": {
     "duration": 2.283537,
     "end_time": "2021-11-20T14:56:31.549096",
     "exception": false,
     "start_time": "2021-11-20T14:56:29.265559",
     "status": "completed"
    },
    "tags": []
   },
   "outputs": [],
   "source": [
    "# save to csv file\n",
    "train_data.to_csv(\"train.csv\")\n",
    "test_data.to_csv(\"test.csv\")"
   ]
  },
  {
   "cell_type": "code",
   "execution_count": 14,
   "id": "c6f56262",
   "metadata": {
    "execution": {
     "iopub.execute_input": "2021-11-20T14:56:32.256849Z",
     "iopub.status.busy": "2021-11-20T14:56:32.250907Z",
     "iopub.status.idle": "2021-11-20T14:56:32.812953Z",
     "shell.execute_reply": "2021-11-20T14:56:32.812495Z",
     "shell.execute_reply.started": "2021-11-20T13:10:34.898563Z"
    },
    "papermill": {
     "duration": 0.916519,
     "end_time": "2021-11-20T14:56:32.813077",
     "exception": false,
     "start_time": "2021-11-20T14:56:31.896558",
     "status": "completed"
    },
    "tags": []
   },
   "outputs": [
    {
     "data": {
      "text/html": [
       "<div>\n",
       "<style scoped>\n",
       "    .dataframe tbody tr th:only-of-type {\n",
       "        vertical-align: middle;\n",
       "    }\n",
       "\n",
       "    .dataframe tbody tr th {\n",
       "        vertical-align: top;\n",
       "    }\n",
       "\n",
       "    .dataframe thead th {\n",
       "        text-align: right;\n",
       "    }\n",
       "</style>\n",
       "<table border=\"1\" class=\"dataframe\">\n",
       "  <thead>\n",
       "    <tr style=\"text-align: right;\">\n",
       "      <th></th>\n",
       "      <th>Unnamed: 0</th>\n",
       "      <th>clean_Korean</th>\n",
       "      <th>clean_English</th>\n",
       "    </tr>\n",
       "  </thead>\n",
       "  <tbody>\n",
       "    <tr>\n",
       "      <th>0</th>\n",
       "      <td>41455</td>\n",
       "      <td>이 전화 로 스위스 에 걸 ㄹ 수 있 습니까 ?</td>\n",
       "      <td>Can I call Switzerland with this telephone ?</td>\n",
       "    </tr>\n",
       "  </tbody>\n",
       "</table>\n",
       "</div>"
      ],
      "text/plain": [
       "   Unnamed: 0                  clean_Korean  \\\n",
       "0       41455    이 전화 로 스위스 에 걸 ㄹ 수 있 습니까 ?   \n",
       "\n",
       "                                   clean_English  \n",
       "0  Can I call Switzerland with this telephone ?   "
      ]
     },
     "execution_count": 14,
     "metadata": {},
     "output_type": "execute_result"
    }
   ],
   "source": [
    "train_reading = pd.read_csv(\"./train.csv\")\n",
    "train_reading.head(1)"
   ]
  },
  {
   "cell_type": "code",
   "execution_count": 15,
   "id": "e1521cad",
   "metadata": {
    "execution": {
     "iopub.execute_input": "2021-11-20T14:56:33.519247Z",
     "iopub.status.busy": "2021-11-20T14:56:33.518267Z",
     "iopub.status.idle": "2021-11-20T14:56:33.521913Z",
     "shell.execute_reply": "2021-11-20T14:56:33.522414Z",
     "shell.execute_reply.started": "2021-11-20T13:10:35.440901Z"
    },
    "papermill": {
     "duration": 0.364126,
     "end_time": "2021-11-20T14:56:33.522594",
     "exception": false,
     "start_time": "2021-11-20T14:56:33.158468",
     "status": "completed"
    },
    "tags": []
   },
   "outputs": [],
   "source": [
    "SEED = 1234\n",
    "\n",
    "random.seed(SEED)\n",
    "np.random.seed(SEED)\n",
    "torch.manual_seed(SEED)\n",
    "torch.cuda.manual_seed(SEED)\n",
    "torch.backends.cudnn.deterministic = True"
   ]
  },
  {
   "cell_type": "code",
   "execution_count": 16,
   "id": "7c85cf57",
   "metadata": {
    "execution": {
     "iopub.execute_input": "2021-11-20T14:56:34.278195Z",
     "iopub.status.busy": "2021-11-20T14:56:34.277559Z",
     "iopub.status.idle": "2021-11-20T14:56:34.280649Z",
     "shell.execute_reply": "2021-11-20T14:56:34.279993Z",
     "shell.execute_reply.started": "2021-11-20T13:10:35.450445Z"
    },
    "papermill": {
     "duration": 0.402303,
     "end_time": "2021-11-20T14:56:34.280771",
     "exception": false,
     "start_time": "2021-11-20T14:56:33.878468",
     "status": "completed"
    },
    "tags": []
   },
   "outputs": [],
   "source": [
    "device = torch.device('cuda' if torch.cuda.is_available() else 'cpu')"
   ]
  },
  {
   "cell_type": "markdown",
   "id": "768607eb",
   "metadata": {
    "papermill": {
     "duration": 0.361931,
     "end_time": "2021-11-20T14:56:35.013486",
     "exception": false,
     "start_time": "2021-11-20T14:56:34.651555",
     "status": "completed"
    },
    "tags": []
   },
   "source": [
    "# Packed Padded"
   ]
  },
  {
   "cell_type": "code",
   "execution_count": 17,
   "id": "294befd8",
   "metadata": {
    "execution": {
     "iopub.execute_input": "2021-11-20T14:56:35.736568Z",
     "iopub.status.busy": "2021-11-20T14:56:35.735749Z",
     "iopub.status.idle": "2021-11-20T14:56:35.738985Z",
     "shell.execute_reply": "2021-11-20T14:56:35.738099Z",
     "shell.execute_reply.started": "2021-11-20T13:10:35.507635Z"
    },
    "papermill": {
     "duration": 0.372426,
     "end_time": "2021-11-20T14:56:35.739101",
     "exception": false,
     "start_time": "2021-11-20T14:56:35.366675",
     "status": "completed"
    },
    "tags": []
   },
   "outputs": [],
   "source": [
    "import torch\n",
    "import torch.nn as nn\n",
    "import torch.optim as optim\n",
    "import torch.nn.functional as F\n",
    "import torchtext\n",
    "from torchtext.legacy import data\n",
    "from torchtext.legacy.data import Field\n",
    "from torchtext.legacy.data import TabularDataset, BucketIterator"
   ]
  },
  {
   "cell_type": "code",
   "execution_count": 18,
   "id": "b1b35103",
   "metadata": {
    "execution": {
     "iopub.execute_input": "2021-11-20T14:56:36.451612Z",
     "iopub.status.busy": "2021-11-20T14:56:36.440256Z",
     "iopub.status.idle": "2021-11-20T14:56:48.396936Z",
     "shell.execute_reply": "2021-11-20T14:56:48.396447Z",
     "shell.execute_reply.started": "2021-11-20T13:10:35.522856Z"
    },
    "papermill": {
     "duration": 12.311409,
     "end_time": "2021-11-20T14:56:48.397064",
     "exception": false,
     "start_time": "2021-11-20T14:56:36.085655",
     "status": "completed"
    },
    "tags": []
   },
   "outputs": [],
   "source": [
    "SRC = Field(tokenize = tok_korean, \n",
    "            init_token = '<sos>', \n",
    "            eos_token = '<eos>', \n",
    "            lower = True, \n",
    "            include_lengths = True)\n",
    "\n",
    "TRG = Field(tokenize = tok_english, \n",
    "            init_token = '<sos>', \n",
    "            eos_token = '<eos>', \n",
    "            lower = True)\n",
    "\n",
    "Raw_datafields = [(\"Unnamed:0\", None), (\"src\", SRC), (\"trg\", TRG)]\n",
    "\n",
    "train_data = data.TabularDataset(\n",
    "        path='./train.csv',\n",
    "        format='csv',\n",
    "        skip_header=True, \n",
    "        fields=Raw_datafields) \n",
    "test_data = data.TabularDataset(\n",
    "        path='./test.csv',\n",
    "        format='csv',\n",
    "        skip_header=True,\n",
    "        fields=Raw_datafields)"
   ]
  },
  {
   "cell_type": "code",
   "execution_count": 19,
   "id": "c2b1e0b4",
   "metadata": {
    "execution": {
     "iopub.execute_input": "2021-11-20T14:56:49.132699Z",
     "iopub.status.busy": "2021-11-20T14:56:49.118390Z",
     "iopub.status.idle": "2021-11-20T14:56:51.003934Z",
     "shell.execute_reply": "2021-11-20T14:56:51.003455Z",
     "shell.execute_reply.started": "2021-11-20T13:10:47.536113Z"
    },
    "papermill": {
     "duration": 2.258794,
     "end_time": "2021-11-20T14:56:51.004065",
     "exception": false,
     "start_time": "2021-11-20T14:56:48.745271",
     "status": "completed"
    },
    "tags": []
   },
   "outputs": [],
   "source": [
    "SRC.build_vocab(train_data, min_freq = 1)\n",
    "TRG.build_vocab(train_data, min_freq = 1)"
   ]
  },
  {
   "cell_type": "code",
   "execution_count": 20,
   "id": "8d308bf2",
   "metadata": {
    "execution": {
     "iopub.execute_input": "2021-11-20T14:56:51.753698Z",
     "iopub.status.busy": "2021-11-20T14:56:51.752619Z",
     "iopub.status.idle": "2021-11-20T14:56:51.754439Z",
     "shell.execute_reply": "2021-11-20T14:56:51.754853Z",
     "shell.execute_reply.started": "2021-11-20T13:10:49.416978Z"
    },
    "papermill": {
     "duration": 0.356781,
     "end_time": "2021-11-20T14:56:51.754990",
     "exception": false,
     "start_time": "2021-11-20T14:56:51.398209",
     "status": "completed"
    },
    "tags": []
   },
   "outputs": [],
   "source": [
    "BATCH_SIZE = 64\n",
    "\n",
    "train_iterator, test_iterator = BucketIterator.splits(\n",
    "    (train_data, test_data), \n",
    "     batch_size = BATCH_SIZE,\n",
    "     sort_key = lambda x : len(x.src),\n",
    "     sort_within_batch =True,\n",
    "     device = device)"
   ]
  },
  {
   "cell_type": "code",
   "execution_count": 21,
   "id": "f485e91e",
   "metadata": {
    "execution": {
     "iopub.execute_input": "2021-11-20T14:56:52.467687Z",
     "iopub.status.busy": "2021-11-20T14:56:52.456105Z",
     "iopub.status.idle": "2021-11-20T14:56:52.469915Z",
     "shell.execute_reply": "2021-11-20T14:56:52.469492Z",
     "shell.execute_reply.started": "2021-11-20T13:10:49.425047Z"
    },
    "papermill": {
     "duration": 0.370151,
     "end_time": "2021-11-20T14:56:52.470031",
     "exception": false,
     "start_time": "2021-11-20T14:56:52.099880",
     "status": "completed"
    },
    "tags": []
   },
   "outputs": [],
   "source": [
    "class Encoder(nn.Module):\n",
    "    def __init__(self, input_dim, emb_dim, enc_hid_dim, dec_hid_dim, dropout):\n",
    "        super().__init__()\n",
    "        \n",
    "        self.embedding = nn.Embedding(input_dim, emb_dim)\n",
    "        \n",
    "        self.rnn = nn.GRU(emb_dim, enc_hid_dim, bidirectional = True)\n",
    "        \n",
    "        self.fc = nn.Linear(enc_hid_dim * 2, dec_hid_dim)\n",
    "        \n",
    "        self.dropout = nn.Dropout(dropout)\n",
    "        \n",
    "    def forward(self, src, src_len):\n",
    "        \n",
    "        embedded = self.dropout(self.embedding(src))\n",
    "        \n",
    "        packed_embedded = nn.utils.rnn.pack_padded_sequence(embedded, src_len.to('cpu'))\n",
    "                \n",
    "        packed_outputs, hidden = self.rnn(packed_embedded)\n",
    "            \n",
    "        outputs, _ = nn.utils.rnn.pad_packed_sequence(packed_outputs) \n",
    "\n",
    "        hidden = torch.tanh(self.fc(torch.cat((hidden[-2,:,:], hidden[-1,:,:]), dim = 1)))\n",
    "        \n",
    "        return outputs, hidden\n",
    "    \n",
    "class Attention(nn.Module):\n",
    "    def __init__(self, enc_hid_dim, dec_hid_dim):\n",
    "        super().__init__()\n",
    "        \n",
    "        self.attn = nn.Linear((enc_hid_dim * 2) + dec_hid_dim, dec_hid_dim)\n",
    "        self.v = nn.Linear(dec_hid_dim, 1, bias = False)\n",
    "        \n",
    "    def forward(self, hidden, encoder_outputs, mask):\n",
    "        \n",
    "        batch_size = encoder_outputs.shape[1]\n",
    "        src_len = encoder_outputs.shape[0]\n",
    "        hidden = hidden.unsqueeze(1).repeat(1, src_len, 1)\n",
    "  \n",
    "        encoder_outputs = encoder_outputs.permute(1, 0, 2)\n",
    "        \n",
    "        energy = torch.tanh(self.attn(torch.cat((hidden, encoder_outputs), dim = 2))) \n",
    "\n",
    "        attention = self.v(energy).squeeze(2)\n",
    "        \n",
    "        attention = attention.masked_fill(mask == 0, -1e10)\n",
    "        \n",
    "        return F.softmax(attention, dim = 1)\n",
    "    \n",
    "class Decoder(nn.Module):\n",
    "    def __init__(self, output_dim, emb_dim, enc_hid_dim, dec_hid_dim, dropout, attention):\n",
    "        super().__init__()\n",
    "\n",
    "        self.output_dim = output_dim\n",
    "        self.attention = attention\n",
    "        \n",
    "        self.embedding = nn.Embedding(output_dim, emb_dim)\n",
    "        \n",
    "        self.rnn = nn.GRU((enc_hid_dim * 2) + emb_dim, dec_hid_dim)\n",
    "        \n",
    "        self.fc_out = nn.Linear((enc_hid_dim * 2) + dec_hid_dim + emb_dim, output_dim)\n",
    "        \n",
    "        self.dropout = nn.Dropout(dropout)\n",
    "        \n",
    "    def forward(self, input, hidden, encoder_outputs, mask):\n",
    "        \n",
    "        input = input.unsqueeze(0)\n",
    "      \n",
    "        embedded = self.dropout(self.embedding(input))\n",
    "        \n",
    "        a = self.attention(hidden, encoder_outputs, mask)\n",
    "        \n",
    "        a = a.unsqueeze(1)\n",
    "        \n",
    "        encoder_outputs = encoder_outputs.permute(1, 0, 2)\n",
    "        \n",
    "        weighted = torch.bmm(a, encoder_outputs)\n",
    "        \n",
    "        weighted = weighted.permute(1, 0, 2)\n",
    "        \n",
    "        rnn_input = torch.cat((embedded, weighted), dim = 2)\n",
    "            \n",
    "        output, hidden = self.rnn(rnn_input, hidden.unsqueeze(0))\n",
    "\n",
    "        assert (output == hidden).all()\n",
    "        \n",
    "        embedded = embedded.squeeze(0)\n",
    "        output = output.squeeze(0)\n",
    "        weighted = weighted.squeeze(0)\n",
    "        \n",
    "        prediction = self.fc_out(torch.cat((output, weighted, embedded), dim = 1))\n",
    "        \n",
    "        return prediction, hidden.squeeze(0), a.squeeze(1)"
   ]
  },
  {
   "cell_type": "code",
   "execution_count": 22,
   "id": "9c49da5a",
   "metadata": {
    "execution": {
     "iopub.execute_input": "2021-11-20T14:56:53.425924Z",
     "iopub.status.busy": "2021-11-20T14:56:53.423905Z",
     "iopub.status.idle": "2021-11-20T14:56:53.428351Z",
     "shell.execute_reply": "2021-11-20T14:56:53.427872Z",
     "shell.execute_reply.started": "2021-11-20T13:10:49.448945Z"
    },
    "papermill": {
     "duration": 0.387963,
     "end_time": "2021-11-20T14:56:53.428470",
     "exception": false,
     "start_time": "2021-11-20T14:56:53.040507",
     "status": "completed"
    },
    "tags": []
   },
   "outputs": [],
   "source": [
    "class Seq2Seq(nn.Module):\n",
    "    def __init__(self, encoder, decoder, src_pad_idx, device):\n",
    "        super().__init__()\n",
    "        \n",
    "        self.encoder = encoder\n",
    "        self.decoder = decoder\n",
    "        self.src_pad_idx = src_pad_idx\n",
    "        self.device = device\n",
    "        \n",
    "    def create_mask(self, src):\n",
    "        mask = (src != self.src_pad_idx).permute(1, 0)\n",
    "        return mask\n",
    "        \n",
    "    def forward(self, src, src_len, trg, teacher_forcing_ratio = 0.5):\n",
    "                          \n",
    "        batch_size = src.shape[1]\n",
    "        trg_len = trg.shape[0]\n",
    "        trg_vocab_size = self.decoder.output_dim\n",
    "\n",
    "        outputs = torch.zeros(trg_len, batch_size, trg_vocab_size).to(self.device)\n",
    "\n",
    "        encoder_outputs, hidden = self.encoder(src, src_len)\n",
    "\n",
    "        input = trg[0,:]\n",
    "        \n",
    "        mask = self.create_mask(src)\n",
    "                \n",
    "        for t in range(1, trg_len):\n",
    "\n",
    "            output, hidden, _ = self.decoder(input, hidden, encoder_outputs, mask)\n",
    "\n",
    "            outputs[t] = output\n",
    "\n",
    "            teacher_force = random.random() < teacher_forcing_ratio\n",
    "\n",
    "            top1 = output.argmax(1) \n",
    "\n",
    "            input = trg[t] if teacher_force else top1\n",
    "            \n",
    "        return outputs"
   ]
  },
  {
   "cell_type": "code",
   "execution_count": 23,
   "id": "686b04f5",
   "metadata": {
    "execution": {
     "iopub.execute_input": "2021-11-20T14:56:54.138742Z",
     "iopub.status.busy": "2021-11-20T14:56:54.137965Z",
     "iopub.status.idle": "2021-11-20T14:56:57.733976Z",
     "shell.execute_reply": "2021-11-20T14:56:57.733188Z",
     "shell.execute_reply.started": "2021-11-20T13:10:49.463072Z"
    },
    "papermill": {
     "duration": 3.959093,
     "end_time": "2021-11-20T14:56:57.734114",
     "exception": false,
     "start_time": "2021-11-20T14:56:53.775021",
     "status": "completed"
    },
    "tags": []
   },
   "outputs": [
    {
     "name": "stdout",
     "output_type": "stream",
     "text": [
      "The model_packed has 69,316,673 trainable parameters\n"
     ]
    }
   ],
   "source": [
    "INPUT_DIM = len(SRC.vocab)\n",
    "OUTPUT_DIM = len(TRG.vocab)\n",
    "ENC_EMB_DIM = 256\n",
    "DEC_EMB_DIM = 256\n",
    "ENC_HID_DIM = 512\n",
    "DEC_HID_DIM = 512\n",
    "ENC_DROPOUT = 0.5\n",
    "DEC_DROPOUT = 0.5\n",
    "SRC_PAD_IDX = SRC.vocab.stoi[SRC.pad_token]\n",
    "\n",
    "attn = Attention(ENC_HID_DIM, DEC_HID_DIM)\n",
    "enc = Encoder(INPUT_DIM, ENC_EMB_DIM, ENC_HID_DIM, DEC_HID_DIM, ENC_DROPOUT)\n",
    "dec = Decoder(OUTPUT_DIM, DEC_EMB_DIM, ENC_HID_DIM, DEC_HID_DIM, DEC_DROPOUT, attn)\n",
    "\n",
    "model_packed = Seq2Seq(enc, dec, SRC_PAD_IDX, device).to(device)\n",
    "\n",
    "def init_weights(m):\n",
    "    for name, param in m.named_parameters():\n",
    "        if 'weight' in name:\n",
    "            nn.init.normal_(param.data, mean=0, std=0.01)\n",
    "        else:\n",
    "            nn.init.constant_(param.data, 0)\n",
    "            \n",
    "model_packed.apply(init_weights)\n",
    "\n",
    "def count_parameters(model_packed):\n",
    "    return sum(p.numel() for p in model_packed.parameters() if p.requires_grad)\n",
    "\n",
    "print(f'The model_packed has {count_parameters(model_packed):,} trainable parameters')"
   ]
  },
  {
   "cell_type": "code",
   "execution_count": 24,
   "id": "38749cf7",
   "metadata": {
    "execution": {
     "iopub.execute_input": "2021-11-20T14:56:58.440460Z",
     "iopub.status.busy": "2021-11-20T14:56:58.439607Z",
     "iopub.status.idle": "2021-11-20T14:56:58.441452Z",
     "shell.execute_reply": "2021-11-20T14:56:58.440966Z",
     "shell.execute_reply.started": "2021-11-20T13:10:52.974083Z"
    },
    "papermill": {
     "duration": 0.362011,
     "end_time": "2021-11-20T14:56:58.441573",
     "exception": false,
     "start_time": "2021-11-20T14:56:58.079562",
     "status": "completed"
    },
    "tags": []
   },
   "outputs": [],
   "source": [
    "optimizer = optim.Adam(model_packed.parameters())\n",
    "\n",
    "TRG_PAD_IDX = TRG.vocab.stoi[TRG.pad_token]\n",
    "\n",
    "criterion = nn.CrossEntropyLoss(ignore_index = TRG_PAD_IDX)"
   ]
  },
  {
   "cell_type": "code",
   "execution_count": 25,
   "id": "5ece80f2",
   "metadata": {
    "execution": {
     "iopub.execute_input": "2021-11-20T14:56:59.142321Z",
     "iopub.status.busy": "2021-11-20T14:56:59.141393Z",
     "iopub.status.idle": "2021-11-20T14:56:59.143152Z",
     "shell.execute_reply": "2021-11-20T14:56:59.143677Z",
     "shell.execute_reply.started": "2021-11-20T13:10:52.981223Z"
    },
    "papermill": {
     "duration": 0.363095,
     "end_time": "2021-11-20T14:56:59.143808",
     "exception": false,
     "start_time": "2021-11-20T14:56:58.780713",
     "status": "completed"
    },
    "tags": []
   },
   "outputs": [],
   "source": [
    "def train(model_packed, iterator, optimizer, criterion, clip):\n",
    "    \n",
    "    model_packed.train()\n",
    "    \n",
    "    epoch_loss = 0\n",
    "    \n",
    "    for i, batch in enumerate(iterator):\n",
    "        \n",
    "        src, src_len = batch.src\n",
    "        trg = batch.trg\n",
    "        \n",
    "        optimizer.zero_grad()\n",
    "        \n",
    "        output = model_packed(src, src_len, trg)\n",
    "        \n",
    "        output_dim = output.shape[-1]\n",
    "        \n",
    "        output = output[1:].view(-1, output_dim)\n",
    "        trg = trg[1:].view(-1)\n",
    "        \n",
    "        loss = criterion(output, trg)\n",
    "        \n",
    "        loss.backward()\n",
    "        \n",
    "        torch.nn.utils.clip_grad_norm_(model_packed.parameters(), clip)\n",
    "        \n",
    "        optimizer.step()\n",
    "        \n",
    "        epoch_loss += loss.item()\n",
    "        \n",
    "    return epoch_loss / len(iterator)\n",
    "\n",
    "def evaluate(model_packed, iterator, criterion):\n",
    "    \n",
    "    model_packed.eval()\n",
    "    \n",
    "    epoch_loss = 0\n",
    "    \n",
    "    with torch.no_grad():\n",
    "    \n",
    "        for i, batch in enumerate(iterator):\n",
    "\n",
    "            src, src_len = batch.src\n",
    "            trg = batch.trg\n",
    "\n",
    "            output = model_packed(src, src_len, trg, 0) #turn off teacher forcing\n",
    "\n",
    "            output_dim = output.shape[-1]\n",
    "            \n",
    "            output = output[1:].view(-1, output_dim)\n",
    "            trg = trg[1:].view(-1)\n",
    "\n",
    "            loss = criterion(output, trg)\n",
    "\n",
    "            epoch_loss += loss.item()\n",
    "        \n",
    "    return epoch_loss / len(iterator)\n",
    "\n",
    "def epoch_time(start_time, end_time):\n",
    "    elapsed_time = end_time - start_time\n",
    "    elapsed_mins = int(elapsed_time / 60)\n",
    "    elapsed_secs = int(elapsed_time - (elapsed_mins * 60))\n",
    "    return elapsed_mins, elapsed_secs"
   ]
  },
  {
   "cell_type": "code",
   "execution_count": 26,
   "id": "aa3b787a",
   "metadata": {
    "execution": {
     "iopub.execute_input": "2021-11-20T14:56:59.892690Z",
     "iopub.status.busy": "2021-11-20T14:56:59.887496Z",
     "iopub.status.idle": "2021-11-20T16:18:29.543747Z",
     "shell.execute_reply": "2021-11-20T16:18:29.544525Z",
     "shell.execute_reply.started": "2021-11-20T13:10:52.995375Z"
    },
    "papermill": {
     "duration": 4890.052002,
     "end_time": "2021-11-20T16:18:29.544767",
     "exception": false,
     "start_time": "2021-11-20T14:56:59.492765",
     "status": "completed"
    },
    "tags": []
   },
   "outputs": [
    {
     "name": "stdout",
     "output_type": "stream",
     "text": [
      "Epoch: 01 | Time: 14m 22s\n",
      "\tTrain Loss: 3.140 | Train PPL:  23.114\n",
      "\t Test. Loss: 2.817 |  Test. PPL:  16.733\n",
      "Epoch: 02 | Time: 14m 17s\n",
      "\tTrain Loss: 2.009 | Train PPL:   7.458\n",
      "\t Test. Loss: 2.536 |  Test. PPL:  12.627\n",
      "Epoch: 03 | Time: 14m 24s\n",
      "\tTrain Loss: 1.692 | Train PPL:   5.429\n",
      "\t Test. Loss: 2.425 |  Test. PPL:  11.307\n",
      "Epoch: 04 | Time: 14m 19s\n",
      "\tTrain Loss: 1.522 | Train PPL:   4.580\n",
      "\t Test. Loss: 2.403 |  Test. PPL:  11.054\n",
      "Epoch: 05 | Time: 14m 13s\n",
      "\tTrain Loss: 1.426 | Train PPL:   4.161\n",
      "\t Test. Loss: 2.394 |  Test. PPL:  10.958\n"
     ]
    }
   ],
   "source": [
    "N_EPOCHS = 5\n",
    "CLIP = 1\n",
    "\n",
    "best_valid_loss = float('inf')\n",
    "\n",
    "for epoch in range(N_EPOCHS):\n",
    "    \n",
    "    start_time = time.time()\n",
    "    \n",
    "    train_loss = train(model_packed, train_iterator, optimizer, criterion, CLIP)\n",
    "    \n",
    "    end_time = time.time()\n",
    "    \n",
    "    epoch_mins, epoch_secs = epoch_time(start_time, end_time)\n",
    "    \n",
    "    test_loss = evaluate(model_packed, test_iterator, criterion)\n",
    "    torch.save(model_packed.state_dict(), 'tut4-model.pt')\n",
    "    \n",
    "    print(f'Epoch: {epoch+1:02} | Time: {epoch_mins}m {epoch_secs}s')\n",
    "    print(f'\\tTrain Loss: {train_loss:.3f} | Train PPL: {math.exp(train_loss):7.3f}')\n",
    "    print(f'\\t Test. Loss: {test_loss:.3f} |  Test. PPL: {math.exp(test_loss):7.3f}')"
   ]
  },
  {
   "cell_type": "markdown",
   "id": "06e4f5fd",
   "metadata": {
    "papermill": {
     "duration": 0.342438,
     "end_time": "2021-11-20T16:18:30.239128",
     "exception": false,
     "start_time": "2021-11-20T16:18:29.896690",
     "status": "completed"
    },
    "tags": []
   },
   "source": [
    "# Inference"
   ]
  },
  {
   "cell_type": "code",
   "execution_count": 27,
   "id": "6202bfe4",
   "metadata": {
    "execution": {
     "iopub.execute_input": "2021-11-20T16:18:30.937536Z",
     "iopub.status.busy": "2021-11-20T16:18:30.936646Z",
     "iopub.status.idle": "2021-11-20T16:18:30.938545Z",
     "shell.execute_reply": "2021-11-20T16:18:30.939041Z",
     "shell.execute_reply.started": "2021-11-20T14:38:39.706276Z"
    },
    "papermill": {
     "duration": 0.357736,
     "end_time": "2021-11-20T16:18:30.939186",
     "exception": false,
     "start_time": "2021-11-20T16:18:30.581450",
     "status": "completed"
    },
    "tags": []
   },
   "outputs": [],
   "source": [
    "def translate_sentence(sentence, src_field, trg_field, model_packed, device, max_len = 50):\n",
    "\n",
    "    model_packed.eval()\n",
    "        \n",
    "    if isinstance(sentence, str):\n",
    "        nlp = spacy.load('de')\n",
    "        tokens = [token.text.lower() for token in nlp(sentence)]\n",
    "    else:\n",
    "        tokens = [token.lower() for token in sentence]\n",
    "\n",
    "    tokens = [src_field.init_token] + tokens + [src_field.eos_token]\n",
    "        \n",
    "    src_indexes = [src_field.vocab.stoi[token] for token in tokens]\n",
    "    \n",
    "    src_tensor = torch.LongTensor(src_indexes).unsqueeze(1).to(device)\n",
    "\n",
    "    src_len = torch.LongTensor([len(src_indexes)])\n",
    "    \n",
    "    with torch.no_grad():\n",
    "        encoder_outputs, hidden = model_packed.encoder(src_tensor, src_len)\n",
    "\n",
    "    mask = model_packed.create_mask(src_tensor)\n",
    "        \n",
    "    trg_indexes = [trg_field.vocab.stoi[trg_field.init_token]]\n",
    "\n",
    "    attentions = torch.zeros(max_len, 1, len(src_indexes)).to(device)\n",
    "    \n",
    "    for i in range(max_len):\n",
    "\n",
    "        trg_tensor = torch.LongTensor([trg_indexes[-1]]).to(device)\n",
    "                \n",
    "        with torch.no_grad():\n",
    "            output, hidden, attention = model_packed.decoder(trg_tensor, hidden, encoder_outputs, mask)\n",
    "\n",
    "        attentions[i] = attention\n",
    "            \n",
    "        pred_token = output.argmax(1).item()\n",
    "        \n",
    "        trg_indexes.append(pred_token)\n",
    "\n",
    "        if pred_token == trg_field.vocab.stoi[trg_field.eos_token]:\n",
    "            break\n",
    "    \n",
    "    trg_tokens = [trg_field.vocab.itos[i] for i in trg_indexes]\n",
    "    \n",
    "    return trg_tokens[1:], attentions[:len(trg_tokens)-1]"
   ]
  },
  {
   "cell_type": "markdown",
   "id": "2eeb6305",
   "metadata": {
    "papermill": {
     "duration": 0.339763,
     "end_time": "2021-11-20T16:18:31.624808",
     "exception": false,
     "start_time": "2021-11-20T16:18:31.285045",
     "status": "completed"
    },
    "tags": []
   },
   "source": [
    "# Input data processing, inference"
   ]
  },
  {
   "cell_type": "code",
   "execution_count": 28,
   "id": "dbbc85b2",
   "metadata": {
    "execution": {
     "iopub.execute_input": "2021-11-20T16:18:32.322964Z",
     "iopub.status.busy": "2021-11-20T16:18:32.321927Z",
     "iopub.status.idle": "2021-11-20T16:18:32.323717Z",
     "shell.execute_reply": "2021-11-20T16:18:32.324134Z",
     "shell.execute_reply.started": "2021-11-20T14:38:40.934721Z"
    },
    "papermill": {
     "duration": 0.356447,
     "end_time": "2021-11-20T16:18:32.324283",
     "exception": false,
     "start_time": "2021-11-20T16:18:31.967836",
     "status": "completed"
    },
    "tags": []
   },
   "outputs": [],
   "source": [
    "def basic_clean_ko(text):\n",
    "    text = re.split('(\\d+)', text) # 숫자와 글자 분리\n",
    "    return ' '.join(text)\n",
    "\n",
    "def sent_tok_korean(text):\n",
    "   # text = re.sub(r'[^\\w\\s]', '', text) # 구두점 제거 \n",
    "    text = text.replace('  ', ' ') # 다중 공백 제거\n",
    "    text = re.split('([가-힣]+[^\\w\\s])', text) # 구두점과 글자 분리    \n",
    "    return ''.join(text) # 단어 분리 "
   ]
  },
  {
   "cell_type": "code",
   "execution_count": 29,
   "id": "dc9cd9b4",
   "metadata": {
    "execution": {
     "iopub.execute_input": "2021-11-20T16:18:33.022041Z",
     "iopub.status.busy": "2021-11-20T16:18:33.021215Z",
     "iopub.status.idle": "2021-11-20T16:18:33.024050Z",
     "shell.execute_reply": "2021-11-20T16:18:33.023589Z",
     "shell.execute_reply.started": "2021-11-20T14:38:41.760135Z"
    },
    "papermill": {
     "duration": 0.363084,
     "end_time": "2021-11-20T16:18:33.024170",
     "exception": false,
     "start_time": "2021-11-20T16:18:32.661086",
     "status": "completed"
    },
    "tags": []
   },
   "outputs": [],
   "source": [
    "## 형태소 분석을 할 경우\n",
    "\n",
    "sen_list_morph = [\n",
    "'모든 액체 , 젤 , 에어로졸 등 은 1 커트 짜리 여닫이 투명 봉지 하나 에 넣 어야 하 ㅂ니다 .',\n",
    "'미안 하 지만 , 뒷쪽 아이 들 의 떠들 는 소리 가 커 어서 , 광화문 으로 가 아고 싶 은데 표 를 바꾸 어 주 시 겠 어요 ?',\n",
    "'은행 이 너무 멀 어서 안 되 겠 네요 . 현찰 이 필요 하면 돈 을 훔치 시 어요',\n",
    "'아무래도 분실 하 ㄴ 것 같 으니 분실 신고서 를 작성 하 아야 하 겠 습니다 . 사무실 로 같이 가 시 ㄹ 까요 ?',\n",
    "'부산 에서 코로나 확진자 가 급증 하 아서 병상 이 부족하 아 지자  확진자 20명 을 대구 로 이송하 ㄴ다 .',\n",
    "'변기 가 막히 었 습니다 .',\n",
    "'그 바지 좀 보이 어 주 시 ㅂ시오 . 이거 얼마 에 사 ㄹ 수 있 는 것 이 ㅂ니까 ?',\n",
    "'비 가 오 아서 백화점 으로 가지 말 고 두타 로 가 았 으면 좋 겠 습니다 .',\n",
    "'속 이 안 좋 을 때 는 죽 이나 미음 으로 아침 을 대신 하 ㅂ니다',\n",
    "'문 대통령 은 집단 이익 에서 벗어 나 아 라고 말 하 었 다 .',\n",
    "'이것 좀 먹어 보 ㄹ 몇 일 간 의 시간 을 주 시 어요 .',\n",
    "'이날 개미군단 은 외인 의 물량 을 모두 받 아 내 었 다 .',\n",
    "'통합 우승 의 목표 를 달성하 ㄴ NC 다이노스 나성범 이 메이저리그 진출 이라는 또 다른 꿈 을 향하 어 나아가 ㄴ다 .',\n",
    "'이번 구조 조정 이 제품 을 효과 적 으로 개발 하 고 판매 하 기 위하 ㄴ 회사 의 능력 강화 조처 이 ㅁ 을 이해 하 아 주 시 리라 생각 하 ㅂ니다 .',\n",
    "'요즘 이 프로그램 녹화 하 며 많은 걸 느끼 ㄴ다 '\n",
    "'배낭 여행 은 우리 들 이 어리었을 때 허용 되 지 않 으면 우울 하 아 하 ㄴ다'\n",
    "'그 소녀 는 단지 늑대 처럼 울부짖 을 수 있 을 뿐 이 었 다']\n",
    "\n",
    "# 데이터프레임으로 만들기\n",
    "sent_morph = pd.DataFrame(sen_list_morph, columns = [\"sentences\"])\n",
    "sent_morph[\"clean_Korean\"] = sent_morph[\"sentences\"].apply(basic_clean_ko)\n",
    "sent_morph[\"clean_Korean\"] = sent_morph[\"clean_Korean\"].apply(sent_tok_korean)\n",
    "sent_morph = sent_morph[\"clean_Korean\"]\n",
    "sent_morph.to_csv(\"sent_morph\")"
   ]
  },
  {
   "cell_type": "code",
   "execution_count": 30,
   "id": "f1d77f41",
   "metadata": {
    "execution": {
     "iopub.execute_input": "2021-11-20T16:18:34.846183Z",
     "iopub.status.busy": "2021-11-20T16:18:34.845260Z",
     "iopub.status.idle": "2021-11-20T16:18:34.851072Z",
     "shell.execute_reply": "2021-11-20T16:18:34.852155Z",
     "shell.execute_reply.started": "2021-11-20T14:38:42.617647Z"
    },
    "papermill": {
     "duration": 1.472743,
     "end_time": "2021-11-20T16:18:34.852383",
     "exception": false,
     "start_time": "2021-11-20T16:18:33.379640",
     "status": "completed"
    },
    "tags": []
   },
   "outputs": [],
   "source": [
    "reading_sent = pd.read_csv(\"./sent_morph\")\n",
    "reading_sent[\"trg\"] = \"\" # 빈 컬럼 만들어주기"
   ]
  },
  {
   "cell_type": "code",
   "execution_count": 31,
   "id": "53621515",
   "metadata": {
    "execution": {
     "iopub.execute_input": "2021-11-20T16:18:35.548299Z",
     "iopub.status.busy": "2021-11-20T16:18:35.547448Z",
     "iopub.status.idle": "2021-11-20T16:18:37.286914Z",
     "shell.execute_reply": "2021-11-20T16:18:37.287373Z",
     "shell.execute_reply.started": "2021-11-20T14:38:43.498052Z"
    },
    "papermill": {
     "duration": 2.086629,
     "end_time": "2021-11-20T16:18:37.287544",
     "exception": false,
     "start_time": "2021-11-20T16:18:35.200915",
     "status": "completed"
    },
    "tags": []
   },
   "outputs": [],
   "source": [
    "Raw_datafields = [(\"Unnamed:0\", None), (\"src\", SRC), (\"trg\", TRG)]\n",
    "\n",
    "sent_data = data.TabularDataset(\n",
    "        path='./sent_morph',\n",
    "        format='csv',\n",
    "        skip_header=True, \n",
    "        fields=Raw_datafields) \n",
    "\n",
    "SRC.build_vocab(train_data, min_freq = 1)\n",
    "TRG.build_vocab(train_data, min_freq = 1)"
   ]
  },
  {
   "cell_type": "code",
   "execution_count": 32,
   "id": "2a22e167",
   "metadata": {
    "execution": {
     "iopub.execute_input": "2021-11-20T16:18:37.982866Z",
     "iopub.status.busy": "2021-11-20T16:18:37.982011Z",
     "iopub.status.idle": "2021-11-20T16:18:38.312921Z",
     "shell.execute_reply": "2021-11-20T16:18:38.313386Z",
     "shell.execute_reply.started": "2021-11-20T14:38:45.282988Z"
    },
    "papermill": {
     "duration": 0.676819,
     "end_time": "2021-11-20T16:18:38.313544",
     "exception": false,
     "start_time": "2021-11-20T16:18:37.636725",
     "status": "completed"
    },
    "tags": []
   },
   "outputs": [
    {
     "data": {
      "text/html": [
       "<div>\n",
       "<style scoped>\n",
       "    .dataframe tbody tr th:only-of-type {\n",
       "        vertical-align: middle;\n",
       "    }\n",
       "\n",
       "    .dataframe tbody tr th {\n",
       "        vertical-align: top;\n",
       "    }\n",
       "\n",
       "    .dataframe thead th {\n",
       "        text-align: right;\n",
       "    }\n",
       "</style>\n",
       "<table border=\"1\" class=\"dataframe\">\n",
       "  <thead>\n",
       "    <tr style=\"text-align: right;\">\n",
       "      <th></th>\n",
       "      <th>Unnamed: 0</th>\n",
       "      <th>clean_Korean</th>\n",
       "      <th>trg</th>\n",
       "    </tr>\n",
       "  </thead>\n",
       "  <tbody>\n",
       "    <tr>\n",
       "      <th>0</th>\n",
       "      <td>0</td>\n",
       "      <td>모든 액체 , 젤 , 에어로졸 등 은 1 커트 짜리 여닫이 투명 봉지 하나 에 넣 어야 하 ㅂ니다 .</td>\n",
       "      <td>gels liquids gels gels gels , gels , gels zip-top zip-top zip-top zip-top zip-top plastic bag . zip-top plastic bag . zip-top plastic bag . &lt;eos&gt;</td>\n",
       "    </tr>\n",
       "    <tr>\n",
       "      <th>1</th>\n",
       "      <td>1</td>\n",
       "      <td>미안 하 지만 , 뒷쪽 아이 들 의 떠들 는 소리 가 커 어서 , 광화문 으로 가 아고 싶 은데 표 를 바꾸 어 주 시 겠 어요 ?</td>\n",
       "      <td>i am sorry , but i would to go to the . . could you please a ticket for me ? &lt;eos&gt;</td>\n",
       "    </tr>\n",
       "    <tr>\n",
       "      <th>2</th>\n",
       "      <td>2</td>\n",
       "      <td>은행 이 너무 멀 어서 안 되 겠 네요 . 현찰 이 필요 하면 돈 을 훔치 시 어요</td>\n",
       "      <td>the bank is too far . so cash . cash or so cash . &lt;eos&gt;</td>\n",
       "    </tr>\n",
       "    <tr>\n",
       "      <th>3</th>\n",
       "      <td>3</td>\n",
       "      <td>아무래도 분실 하 ㄴ 것 같 으니 분실 신고서 를 작성 하 아야 하 겠 습니다 . 사무실 로 같이 가 시 ㄹ 까요 ?</td>\n",
       "      <td>we seem to have lost the report . perhaps we would like to the office . shall you like to come office ? office office ? &lt;eos&gt;</td>\n",
       "    </tr>\n",
       "    <tr>\n",
       "      <th>4</th>\n",
       "      <td>4</td>\n",
       "      <td>부산 에서 코로나 확진자 가 급증 하 아서 병상 이 부족하 아 지자 확진자 20 명 을 대구 로 이송하 ㄴ다 .</td>\n",
       "      <td>the sun of the principal , the in the war . &lt;eos&gt;</td>\n",
       "    </tr>\n",
       "    <tr>\n",
       "      <th>5</th>\n",
       "      <td>5</td>\n",
       "      <td>변기 가 막히 었 습니다 .</td>\n",
       "      <td>the toilet is clogged up . &lt;eos&gt;</td>\n",
       "    </tr>\n",
       "    <tr>\n",
       "      <th>6</th>\n",
       "      <td>6</td>\n",
       "      <td>그 바지 좀 보이 어 주 시 ㅂ시오 . 이거 얼마 에 사 ㄹ 수 있 는 것 이 ㅂ니까 ?</td>\n",
       "      <td>can i see me those earrings . can you buy it ? &lt;eos&gt;</td>\n",
       "    </tr>\n",
       "    <tr>\n",
       "      <th>7</th>\n",
       "      <td>7</td>\n",
       "      <td>비 가 오 아서 백화점 으로 가지 말 고 두타 로 가 았 으면 좋 겠 습니다 .</td>\n",
       "      <td>i would we go to the department store or so . &lt;eos&gt;</td>\n",
       "    </tr>\n",
       "    <tr>\n",
       "      <th>8</th>\n",
       "      <td>8</td>\n",
       "      <td>속 이 안 좋 을 때 는 죽 이나 미음 으로 아침 을 대신 하 ㅂ니다</td>\n",
       "      <td>i porridge porridge , because it was porridge for me . &lt;eos&gt;</td>\n",
       "    </tr>\n",
       "    <tr>\n",
       "      <th>9</th>\n",
       "      <td>9</td>\n",
       "      <td>문 대통령 은 집단 이익 에서 벗어 나 아 라고 말 하 었 다 .</td>\n",
       "      <td>the president was told the the out of the national . &lt;eos&gt;</td>\n",
       "    </tr>\n",
       "    <tr>\n",
       "      <th>10</th>\n",
       "      <td>10</td>\n",
       "      <td>이것 좀 먹어 보 ㄹ 몇 일 간 의 시간 을 주 시 어요 .</td>\n",
       "      <td>give me a time time for this one look . &lt;eos&gt;</td>\n",
       "    </tr>\n",
       "    <tr>\n",
       "      <th>11</th>\n",
       "      <td>11</td>\n",
       "      <td>이날 개미군단 은 외인 의 물량 을 모두 받 아 내 었 다 .</td>\n",
       "      <td>the stock market was all the in the . &lt;eos&gt;</td>\n",
       "    </tr>\n",
       "    <tr>\n",
       "      <th>12</th>\n",
       "      <td>12</td>\n",
       "      <td>통합 우승 의 목표 를 달성하 ㄴ NC 다이노스 나성범 이 메이저리그 진출 이라는 또 다른 꿈 을 향하 어 나아가 ㄴ다 .</td>\n",
       "      <td>the new spire of the agenda , the office another head towards the other people . &lt;eos&gt;</td>\n",
       "    </tr>\n",
       "    <tr>\n",
       "      <th>13</th>\n",
       "      <td>13</td>\n",
       "      <td>이번 구조 조정 이 제품 을 효과 적 으로 개발 하 고 판매 하 기 위하 ㄴ 회사 의 능력 강화 조처 이 ㅁ 을 이해 하 아 주 시 리라 생각 하 ㅂ니다 .</td>\n",
       "      <td>i think you restructuring restructuring restructuring restructuring restructuring restructuring restructuring restructuring restructuring restructuring restructuring restructuring restructuring restructuring restructuring restructuring effectivel...</td>\n",
       "    </tr>\n",
       "    <tr>\n",
       "      <th>14</th>\n",
       "      <td>14</td>\n",
       "      <td>요즘 이 프로그램 녹화 하 며 많은 걸 느끼 ㄴ다 배낭 여행 은 우리 들 이 어리었을 때 허용 되 지 않 으면 우울 하 아 하 ㄴ다그 소녀 는 단지 늑대 처럼 울부짖 을 수 있 을 뿐 이 었 다</td>\n",
       "      <td>the new new these days , these things , , they can , can be able to watch a web . &lt;eos&gt;</td>\n",
       "    </tr>\n",
       "  </tbody>\n",
       "</table>\n",
       "</div>"
      ],
      "text/plain": [
       "    Unnamed: 0  \\\n",
       "0            0   \n",
       "1            1   \n",
       "2            2   \n",
       "3            3   \n",
       "4            4   \n",
       "5            5   \n",
       "6            6   \n",
       "7            7   \n",
       "8            8   \n",
       "9            9   \n",
       "10          10   \n",
       "11          11   \n",
       "12          12   \n",
       "13          13   \n",
       "14          14   \n",
       "\n",
       "                                                                                                    clean_Korean  \\\n",
       "0                                                       모든 액체 , 젤 , 에어로졸 등 은 1 커트 짜리 여닫이 투명 봉지 하나 에 넣 어야 하 ㅂ니다 .   \n",
       "1                                      미안 하 지만 , 뒷쪽 아이 들 의 떠들 는 소리 가 커 어서 , 광화문 으로 가 아고 싶 은데 표 를 바꾸 어 주 시 겠 어요 ?   \n",
       "2                                                                 은행 이 너무 멀 어서 안 되 겠 네요 . 현찰 이 필요 하면 돈 을 훔치 시 어요   \n",
       "3                                              아무래도 분실 하 ㄴ 것 같 으니 분실 신고서 를 작성 하 아야 하 겠 습니다 . 사무실 로 같이 가 시 ㄹ 까요 ?   \n",
       "4                                                 부산 에서 코로나 확진자 가 급증 하 아서 병상 이 부족하 아 지자 확진자 20 명 을 대구 로 이송하 ㄴ다 .   \n",
       "5                                                                                                변기 가 막히 었 습니다 .   \n",
       "6                                                              그 바지 좀 보이 어 주 시 ㅂ시오 . 이거 얼마 에 사 ㄹ 수 있 는 것 이 ㅂ니까 ?   \n",
       "7                                                                   비 가 오 아서 백화점 으로 가지 말 고 두타 로 가 았 으면 좋 겠 습니다 .   \n",
       "8                                                                         속 이 안 좋 을 때 는 죽 이나 미음 으로 아침 을 대신 하 ㅂ니다   \n",
       "9                                                                           문 대통령 은 집단 이익 에서 벗어 나 아 라고 말 하 었 다 .   \n",
       "10                                                                             이것 좀 먹어 보 ㄹ 몇 일 간 의 시간 을 주 시 어요 .   \n",
       "11                                                                            이날 개미군단 은 외인 의 물량 을 모두 받 아 내 었 다 .   \n",
       "12                                          통합 우승 의 목표 를 달성하 ㄴ NC 다이노스 나성범 이 메이저리그 진출 이라는 또 다른 꿈 을 향하 어 나아가 ㄴ다 .   \n",
       "13                       이번 구조 조정 이 제품 을 효과 적 으로 개발 하 고 판매 하 기 위하 ㄴ 회사 의 능력 강화 조처 이 ㅁ 을 이해 하 아 주 시 리라 생각 하 ㅂ니다 .   \n",
       "14  요즘 이 프로그램 녹화 하 며 많은 걸 느끼 ㄴ다 배낭 여행 은 우리 들 이 어리었을 때 허용 되 지 않 으면 우울 하 아 하 ㄴ다그 소녀 는 단지 늑대 처럼 울부짖 을 수 있 을 뿐 이 었 다   \n",
       "\n",
       "                                                                                                                                                                                                                                                          trg  \n",
       "0                                                                                                           gels liquids gels gels gels , gels , gels zip-top zip-top zip-top zip-top zip-top plastic bag . zip-top plastic bag . zip-top plastic bag . <eos>  \n",
       "1                                                                                                                                                                          i am sorry , but i would to go to the . . could you please a ticket for me ? <eos>  \n",
       "2                                                                                                                                                                                                     the bank is too far . so cash . cash or so cash . <eos>  \n",
       "3                                                                                                                               we seem to have lost the report . perhaps we would like to the office . shall you like to come office ? office office ? <eos>  \n",
       "4                                                                                                                                                                                                           the sun of the principal , the in the war . <eos>  \n",
       "5                                                                                                                                                                                                                            the toilet is clogged up . <eos>  \n",
       "6                                                                                                                                                                                                        can i see me those earrings . can you buy it ? <eos>  \n",
       "7                                                                                                                                                                                                         i would we go to the department store or so . <eos>  \n",
       "8                                                                                                                                                                                                i porridge porridge , because it was porridge for me . <eos>  \n",
       "9                                                                                                                                                                                                  the president was told the the out of the national . <eos>  \n",
       "10                                                                                                                                                                                                              give me a time time for this one look . <eos>  \n",
       "11                                                                                                                                                                                                                the stock market was all the in the . <eos>  \n",
       "12                                                                                                                                                                     the new spire of the agenda , the office another head towards the other people . <eos>  \n",
       "13  i think you restructuring restructuring restructuring restructuring restructuring restructuring restructuring restructuring restructuring restructuring restructuring restructuring restructuring restructuring restructuring restructuring effectivel...  \n",
       "14                                                                                                                                                                    the new new these days , these things , , they can , can be able to watch a web . <eos>  "
      ]
     },
     "execution_count": 32,
     "metadata": {},
     "output_type": "execute_result"
    }
   ],
   "source": [
    "pred_sent = []\n",
    "\n",
    "for i in range(len(sent_data)):\n",
    "    src = vars(sent_data[i])['src']\n",
    "    translation, attention = translate_sentence(src, SRC, TRG, model_packed, device)\n",
    "    translation = ' '.join(translation)\n",
    "    pred_sent.append(translation)\n",
    "    \n",
    "pred = pd.DataFrame(pred_sent, columns = [\"pred_sentences\"])\n",
    "\n",
    "reading_sent[\"trg\"] = pred[\"pred_sentences\"]\n",
    "reading_sent"
   ]
  },
  {
   "cell_type": "code",
   "execution_count": 33,
   "id": "66387359",
   "metadata": {
    "execution": {
     "iopub.execute_input": "2021-11-20T16:18:39.273500Z",
     "iopub.status.busy": "2021-11-20T16:18:39.272517Z",
     "iopub.status.idle": "2021-11-20T16:18:39.278677Z",
     "shell.execute_reply": "2021-11-20T16:18:39.278097Z",
     "shell.execute_reply.started": "2021-11-20T14:39:08.402430Z"
    },
    "papermill": {
     "duration": 0.523197,
     "end_time": "2021-11-20T16:18:39.278811",
     "exception": false,
     "start_time": "2021-11-20T16:18:38.755614",
     "status": "completed"
    },
    "tags": []
   },
   "outputs": [],
   "source": [
    "## 어절단위로 결합하여 할 경우\n",
    "\n",
    "sen_list_eojeol = [\n",
    "'모든 액체, 젤, 에어로졸 등은 1커트 짜리 여닫이 투명 봉지 하나에 넣어야 합니다.',\n",
    "'미안하지만 , 뒷쪽 아이들의 떠드는 소리가 커서 , 광화문으로 가고 싶은데 표를 바꾸어 주시겠어요?',\n",
    "'은행이 너무 멀어서 안되겠네요. 현찰이 필요하면 돈을 훔치세요',\n",
    "'아무래도 분실한 것 같으니 분실신고서를 작성해야 하겠습니다. 사무실로 같이 가실까요?',\n",
    "'부산에서 코로나 확진자가 급증해서 병상이 부족해지자  확진자 20명을 대구로 이송한다.',\n",
    "'변기가 막히었습니다 .',\n",
    "'그 바지 좀 보여주십시오. 이거 얼마에 살 수 있는 것입니까?',\n",
    "'비가 와서 백화점으로 가지 말고 두타로 갔으면 좋겠습니다 .',\n",
    "'속이 안좋을 때는 죽이나 미음으로 아침을 대신 합니다',\n",
    "'문 대통령은 집단이익에서 벗어나라고 말하였다.',\n",
    "'이것 좀 먹어 볼 몇 일 간의 시간을 주세요.',\n",
    "'이날 개미군단은 외인의 물량을 모두 받아내었다.',\n",
    "'통합 우승의 목표를 달성한 NC 다이노스 나성범이 메이저리그 진출이라는 또다른 꿈을 향해 나아간다.',\n",
    "'이번 구조 조정이 제품을 효과적으로 개발하고 판매하기 위한 회사의 능력 강화 조처임을 이해해 주시리라 생각합니다.',\n",
    "'요즘 이 프로그램 녹화하며 많은 걸 느낀다'\n",
    "'배낭 여행은 우리들이 어렸을 때 허용디지 않으면 우울 해 한다'\n",
    "'그 소녀는 단지 늑대처럼 울부짖을 수 있을 뿐이었다']\n",
    "sent_eojeol = pd.DataFrame(sen_list_eojeol, columns = [\"sentences\"])\n",
    "sent_eojeol[\"clean_Korean\"] = sent_eojeol[\"sentences\"].apply(basic_clean_ko)\n",
    "sent_eojeol[\"clean_Korean\"] = sent_eojeol[\"clean_Korean\"].apply(sent_tok_korean)\n",
    "sent_eojeol = sent_eojeol[\"clean_Korean\"]\n",
    "sent_eojeol.to_csv(\"sent_eojeol\")\n",
    "\n",
    "reading_sent2 = pd.read_csv(\"./sent_eojeol\")\n",
    "reading_sent2[\"trg\"] = \"\""
   ]
  },
  {
   "cell_type": "code",
   "execution_count": 34,
   "id": "6a4462d7",
   "metadata": {
    "execution": {
     "iopub.execute_input": "2021-11-20T16:18:39.970342Z",
     "iopub.status.busy": "2021-11-20T16:18:39.969482Z",
     "iopub.status.idle": "2021-11-20T16:18:41.749590Z",
     "shell.execute_reply": "2021-11-20T16:18:41.748963Z",
     "shell.execute_reply.started": "2021-11-20T14:39:09.568877Z"
    },
    "papermill": {
     "duration": 2.132271,
     "end_time": "2021-11-20T16:18:41.749722",
     "exception": false,
     "start_time": "2021-11-20T16:18:39.617451",
     "status": "completed"
    },
    "tags": []
   },
   "outputs": [],
   "source": [
    "Raw_datafields = [(\"Unnamed:0\", None), (\"src\", SRC), (\"trg\", TRG)]\n",
    "\n",
    "sent_data2 = data.TabularDataset(\n",
    "        path='./sent_eojeol',\n",
    "        format='csv',\n",
    "        skip_header=True, \n",
    "        fields=Raw_datafields) \n",
    "\n",
    "SRC.build_vocab(train_data, min_freq = 1)\n",
    "TRG.build_vocab(train_data, min_freq = 1)"
   ]
  },
  {
   "cell_type": "code",
   "execution_count": 35,
   "id": "288a8994",
   "metadata": {
    "execution": {
     "iopub.execute_input": "2021-11-20T16:18:42.449180Z",
     "iopub.status.busy": "2021-11-20T16:18:42.448320Z",
     "iopub.status.idle": "2021-11-20T16:18:42.609071Z",
     "shell.execute_reply": "2021-11-20T16:18:42.609515Z",
     "shell.execute_reply.started": "2021-11-20T14:39:16.935035Z"
    },
    "papermill": {
     "duration": 0.516344,
     "end_time": "2021-11-20T16:18:42.609671",
     "exception": false,
     "start_time": "2021-11-20T16:18:42.093327",
     "status": "completed"
    },
    "tags": []
   },
   "outputs": [
    {
     "data": {
      "text/html": [
       "<div>\n",
       "<style scoped>\n",
       "    .dataframe tbody tr th:only-of-type {\n",
       "        vertical-align: middle;\n",
       "    }\n",
       "\n",
       "    .dataframe tbody tr th {\n",
       "        vertical-align: top;\n",
       "    }\n",
       "\n",
       "    .dataframe thead th {\n",
       "        text-align: right;\n",
       "    }\n",
       "</style>\n",
       "<table border=\"1\" class=\"dataframe\">\n",
       "  <thead>\n",
       "    <tr style=\"text-align: right;\">\n",
       "      <th></th>\n",
       "      <th>Unnamed: 0</th>\n",
       "      <th>clean_Korean</th>\n",
       "      <th>trg</th>\n",
       "    </tr>\n",
       "  </thead>\n",
       "  <tbody>\n",
       "    <tr>\n",
       "      <th>0</th>\n",
       "      <td>0</td>\n",
       "      <td>모든 액체, 젤, 에어로졸 등은 1 커트 짜리 여닫이 투명 봉지 하나에 넣어야 합니다.</td>\n",
       "      <td>all carry-on bag is clear plastic bag , zip-top plastic bag . &lt;eos&gt;</td>\n",
       "    </tr>\n",
       "    <tr>\n",
       "      <th>1</th>\n",
       "      <td>1</td>\n",
       "      <td>미안하지만 , 뒷쪽 아이들의 떠드는 소리가 커서 , 광화문으로 가고 싶은데 표를 바꾸어 주시겠어요?</td>\n",
       "      <td>edward , lotions , gels , etc. . &lt;eos&gt;</td>\n",
       "    </tr>\n",
       "    <tr>\n",
       "      <th>2</th>\n",
       "      <td>2</td>\n",
       "      <td>은행이 너무 멀어서 안되겠네요. 현찰이 필요하면 돈을 훔치세요</td>\n",
       "      <td>it is too early to the . &lt;eos&gt;</td>\n",
       "    </tr>\n",
       "    <tr>\n",
       "      <th>3</th>\n",
       "      <td>3</td>\n",
       "      <td>아무래도 분실한 것 같으니 분실신고서를 작성해야 하겠습니다. 사무실로 같이 가실까요?</td>\n",
       "      <td>by the the the the . &lt;eos&gt;</td>\n",
       "    </tr>\n",
       "    <tr>\n",
       "      <th>4</th>\n",
       "      <td>4</td>\n",
       "      <td>부산에서 코로나 확진자가 급증해서 병상이 부족해지자 확진자 20 명을 대구로 이송한다.</td>\n",
       "      <td>the sun is 20 degrees below the . &lt;eos&gt;</td>\n",
       "    </tr>\n",
       "    <tr>\n",
       "      <th>5</th>\n",
       "      <td>5</td>\n",
       "      <td>변기가 막히었습니다 .</td>\n",
       "      <td>my face . &lt;eos&gt;</td>\n",
       "    </tr>\n",
       "    <tr>\n",
       "      <th>6</th>\n",
       "      <td>6</td>\n",
       "      <td>그 바지 좀 보여주십시오. 이거 얼마에 살 수 있는 것입니까?</td>\n",
       "      <td>i is is of pants are . &lt;eos&gt;</td>\n",
       "    </tr>\n",
       "    <tr>\n",
       "      <th>7</th>\n",
       "      <td>7</td>\n",
       "      <td>비가 와서 백화점으로 가지 말고 두타로 갔으면 좋겠습니다 .</td>\n",
       "      <td>it is the heavy of the situation . &lt;eos&gt;</td>\n",
       "    </tr>\n",
       "    <tr>\n",
       "      <th>8</th>\n",
       "      <td>8</td>\n",
       "      <td>속이 안좋을 때는 죽이나 미음으로 아침을 대신 합니다</td>\n",
       "      <td>instead of the tree . &lt;eos&gt;</td>\n",
       "    </tr>\n",
       "    <tr>\n",
       "      <th>9</th>\n",
       "      <td>9</td>\n",
       "      <td>문 대통령은 집단이익에서 벗어나라고 말하였다.</td>\n",
       "      <td>door door door . &lt;eos&gt;</td>\n",
       "    </tr>\n",
       "    <tr>\n",
       "      <th>10</th>\n",
       "      <td>10</td>\n",
       "      <td>이것 좀 먹어 볼 몇 일 간의 시간을 주세요.</td>\n",
       "      <td>this is the matter of age . &lt;eos&gt;</td>\n",
       "    </tr>\n",
       "    <tr>\n",
       "      <th>11</th>\n",
       "      <td>11</td>\n",
       "      <td>이날 개미군단은 외인의 물량을 모두 받아내었다.</td>\n",
       "      <td>the weather is in the . &lt;eos&gt;</td>\n",
       "    </tr>\n",
       "    <tr>\n",
       "      <th>12</th>\n",
       "      <td>12</td>\n",
       "      <td>통합 우승의 목표를 달성한 NC 다이노스 나성범이 메이저리그 진출이라는 또다른 꿈을 향해 나아간다.</td>\n",
       "      <td>pudding pudding &lt;eos&gt;</td>\n",
       "    </tr>\n",
       "    <tr>\n",
       "      <th>13</th>\n",
       "      <td>13</td>\n",
       "      <td>이번 구조 조정이 제품을 효과적으로 개발하고 판매하기 위한 회사의 능력 강화 조처임을 이해해 주시리라 생각합니다.</td>\n",
       "      <td>is this the strong strong . &lt;eos&gt;</td>\n",
       "    </tr>\n",
       "    <tr>\n",
       "      <th>14</th>\n",
       "      <td>14</td>\n",
       "      <td>요즘 이 프로그램 녹화하며 많은 걸 느낀다배낭 여행은 우리들이 어렸을 때 허용디지 않으면 우울 해 한다그 소녀는 단지 늑대처럼 울부짖을 수 있을 뿐이었다</td>\n",
       "      <td>the new is the new these days , the the can hardly complete the the . &lt;eos&gt;</td>\n",
       "    </tr>\n",
       "  </tbody>\n",
       "</table>\n",
       "</div>"
      ],
      "text/plain": [
       "    Unnamed: 0  \\\n",
       "0            0   \n",
       "1            1   \n",
       "2            2   \n",
       "3            3   \n",
       "4            4   \n",
       "5            5   \n",
       "6            6   \n",
       "7            7   \n",
       "8            8   \n",
       "9            9   \n",
       "10          10   \n",
       "11          11   \n",
       "12          12   \n",
       "13          13   \n",
       "14          14   \n",
       "\n",
       "                                                                             clean_Korean  \\\n",
       "0                                        모든 액체, 젤, 에어로졸 등은 1 커트 짜리 여닫이 투명 봉지 하나에 넣어야 합니다.   \n",
       "1                                 미안하지만 , 뒷쪽 아이들의 떠드는 소리가 커서 , 광화문으로 가고 싶은데 표를 바꾸어 주시겠어요?   \n",
       "2                                                      은행이 너무 멀어서 안되겠네요. 현찰이 필요하면 돈을 훔치세요   \n",
       "3                                         아무래도 분실한 것 같으니 분실신고서를 작성해야 하겠습니다. 사무실로 같이 가실까요?   \n",
       "4                                        부산에서 코로나 확진자가 급증해서 병상이 부족해지자 확진자 20 명을 대구로 이송한다.   \n",
       "5                                                                            변기가 막히었습니다 .   \n",
       "6                                                      그 바지 좀 보여주십시오. 이거 얼마에 살 수 있는 것입니까?   \n",
       "7                                                       비가 와서 백화점으로 가지 말고 두타로 갔으면 좋겠습니다 .   \n",
       "8                                                           속이 안좋을 때는 죽이나 미음으로 아침을 대신 합니다   \n",
       "9                                                               문 대통령은 집단이익에서 벗어나라고 말하였다.   \n",
       "10                                                              이것 좀 먹어 볼 몇 일 간의 시간을 주세요.   \n",
       "11                                                             이날 개미군단은 외인의 물량을 모두 받아내었다.   \n",
       "12                                통합 우승의 목표를 달성한 NC 다이노스 나성범이 메이저리그 진출이라는 또다른 꿈을 향해 나아간다.   \n",
       "13                        이번 구조 조정이 제품을 효과적으로 개발하고 판매하기 위한 회사의 능력 강화 조처임을 이해해 주시리라 생각합니다.   \n",
       "14  요즘 이 프로그램 녹화하며 많은 걸 느낀다배낭 여행은 우리들이 어렸을 때 허용디지 않으면 우울 해 한다그 소녀는 단지 늑대처럼 울부짖을 수 있을 뿐이었다   \n",
       "\n",
       "                                                                            trg  \n",
       "0           all carry-on bag is clear plastic bag , zip-top plastic bag . <eos>  \n",
       "1                                        edward , lotions , gels , etc. . <eos>  \n",
       "2                                                it is too early to the . <eos>  \n",
       "3                                                    by the the the the . <eos>  \n",
       "4                                       the sun is 20 degrees below the . <eos>  \n",
       "5                                                               my face . <eos>  \n",
       "6                                                  i is is of pants are . <eos>  \n",
       "7                                      it is the heavy of the situation . <eos>  \n",
       "8                                                   instead of the tree . <eos>  \n",
       "9                                                        door door door . <eos>  \n",
       "10                                            this is the matter of age . <eos>  \n",
       "11                                                the weather is in the . <eos>  \n",
       "12                                                        pudding pudding <eos>  \n",
       "13                                            is this the strong strong . <eos>  \n",
       "14  the new is the new these days , the the can hardly complete the the . <eos>  "
      ]
     },
     "execution_count": 35,
     "metadata": {},
     "output_type": "execute_result"
    }
   ],
   "source": [
    "pred_sent = []\n",
    "\n",
    "for i in range(len(sent_data2)):\n",
    "    src = vars(sent_data2[i])['src']\n",
    "    translation, attention = translate_sentence(src, SRC, TRG, model_packed, device)\n",
    "    translation = ' '.join(translation)\n",
    "    pred_sent.append(translation)\n",
    "    \n",
    "pred = pd.DataFrame(pred_sent, columns = [\"pred_sentences\"])\n",
    "\n",
    "reading_sent2[\"trg\"] = pred[\"pred_sentences\"]\n",
    "reading_sent2"
   ]
  },
  {
   "cell_type": "code",
   "execution_count": 36,
   "id": "09504c79",
   "metadata": {
    "execution": {
     "iopub.execute_input": "2021-11-20T16:18:43.307222Z",
     "iopub.status.busy": "2021-11-20T16:18:43.306594Z",
     "iopub.status.idle": "2021-11-20T16:18:43.308998Z",
     "shell.execute_reply": "2021-11-20T16:18:43.309403Z",
     "shell.execute_reply.started": "2021-11-20T14:40:29.342596Z"
    },
    "papermill": {
     "duration": 0.356052,
     "end_time": "2021-11-20T16:18:43.309545",
     "exception": false,
     "start_time": "2021-11-20T16:18:42.953493",
     "status": "completed"
    },
    "tags": []
   },
   "outputs": [],
   "source": [
    "from torchtext.data.metrics import bleu_score\n",
    "\n",
    "def calculate_bleu(data, src_field, trg_field, model_packed, device, max_len = 50):\n",
    "    \n",
    "    trgs = []\n",
    "    pred_trgs = []\n",
    "    \n",
    "    for datum in data:\n",
    "        \n",
    "        src = vars(datum)['src']\n",
    "        trg = vars(datum)['trg']\n",
    "        \n",
    "        pred_trg, _ = translate_sentence(src, src_field, trg_field, model_packed, device, max_len)\n",
    "        \n",
    "        #cut off <eos> token\n",
    "        pred_trg = pred_trg[:-1]\n",
    "        \n",
    "        pred_trgs.append(pred_trg)\n",
    "        trgs.append([trg])\n",
    "        \n",
    "    return bleu_score(pred_trgs, trgs)"
   ]
  },
  {
   "cell_type": "code",
   "execution_count": 37,
   "id": "b86adba0",
   "metadata": {
    "execution": {
     "iopub.execute_input": "2021-11-20T16:18:43.997436Z",
     "iopub.status.busy": "2021-11-20T16:18:43.996771Z",
     "iopub.status.idle": "2021-11-20T16:31:22.008846Z",
     "shell.execute_reply": "2021-11-20T16:31:22.009365Z",
     "shell.execute_reply.started": "2021-11-20T14:40:30.196166Z"
    },
    "papermill": {
     "duration": 758.363408,
     "end_time": "2021-11-20T16:31:22.009544",
     "exception": false,
     "start_time": "2021-11-20T16:18:43.646136",
     "status": "completed"
    },
    "tags": []
   },
   "outputs": [
    {
     "name": "stdout",
     "output_type": "stream",
     "text": [
      "BLEU score = 43.63\n"
     ]
    }
   ],
   "source": [
    "bleu_score = calculate_bleu(test_data, SRC, TRG,model_packed, device)\n",
    "\n",
    "print(f'BLEU score = {bleu_score*100:.2f}')"
   ]
  },
  {
   "cell_type": "markdown",
   "id": "39ac7554",
   "metadata": {
    "papermill": {
     "duration": 0.3427,
     "end_time": "2021-11-20T16:31:22.696422",
     "exception": false,
     "start_time": "2021-11-20T16:31:22.353722",
     "status": "completed"
    },
    "tags": []
   },
   "source": [
    "# 정리\n",
    "\n",
    "BATCH_SIZE = 64\n",
    "\n",
    "N-epoch : 5\n",
    "\n",
    "Train_PPL : 4.161\n",
    "\n",
    "Test_PPL : 10.958\n",
    "\n",
    "BLEU score : 43.63"
   ]
  }
 ],
 "metadata": {
  "kernelspec": {
   "display_name": "Python 3",
   "language": "python",
   "name": "python3"
  },
  "language_info": {
   "codemirror_mode": {
    "name": "ipython",
    "version": 3
   },
   "file_extension": ".py",
   "mimetype": "text/x-python",
   "name": "python",
   "nbconvert_exporter": "python",
   "pygments_lexer": "ipython3",
   "version": "3.9.5"
  },
  "papermill": {
   "default_parameters": {},
   "duration": 5860.14247,
   "end_time": "2021-11-20T16:31:25.371587",
   "environment_variables": {},
   "exception": null,
   "input_path": "__notebook__.ipynb",
   "output_path": "__notebook__.ipynb",
   "parameters": {},
   "start_time": "2021-11-20T14:53:45.229117",
   "version": "2.3.3"
  }
 },
 "nbformat": 4,
 "nbformat_minor": 5
}
