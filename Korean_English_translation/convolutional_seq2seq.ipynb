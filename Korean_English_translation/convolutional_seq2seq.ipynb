{
 "cells": [
  {
   "cell_type": "markdown",
   "id": "fe171576",
   "metadata": {
    "papermill": {
     "duration": 0.032213,
     "end_time": "2021-11-21T09:52:17.957258",
     "exception": false,
     "start_time": "2021-11-21T09:52:17.925045",
     "status": "completed"
    },
    "tags": []
   },
   "source": [
    "## 구현,실험 전체적인 설명 및 분석 "
   ]
  },
  {
   "cell_type": "code",
   "execution_count": 1,
   "id": "a73cff51",
   "metadata": {
    "execution": {
     "iopub.execute_input": "2021-11-21T09:52:18.026626Z",
     "iopub.status.busy": "2021-11-21T09:52:18.024930Z",
     "iopub.status.idle": "2021-11-21T09:53:49.104859Z",
     "shell.execute_reply": "2021-11-21T09:53:49.104252Z",
     "shell.execute_reply.started": "2021-11-21T07:47:39.925311Z"
    },
    "papermill": {
     "duration": 91.114563,
     "end_time": "2021-11-21T09:53:49.105009",
     "exception": false,
     "start_time": "2021-11-21T09:52:17.990446",
     "status": "completed"
    },
    "tags": []
   },
   "outputs": [
    {
     "name": "stdout",
     "output_type": "stream",
     "text": [
      "Collecting torch==1.8.1\r\n",
      "  Downloading torch-1.8.1-cp37-cp37m-manylinux1_x86_64.whl (804.1 MB)\r\n",
      "\u001b[K     |████████████████████████████████| 804.1 MB 1.9 kB/s \r\n",
      "\u001b[?25hRequirement already satisfied: numpy in /opt/conda/lib/python3.7/site-packages (from torch==1.8.1) (1.19.5)\r\n",
      "Requirement already satisfied: typing-extensions in /opt/conda/lib/python3.7/site-packages (from torch==1.8.1) (3.10.0.2)\r\n",
      "Installing collected packages: torch\r\n",
      "  Attempting uninstall: torch\r\n",
      "    Found existing installation: torch 1.9.1\r\n",
      "    Uninstalling torch-1.9.1:\r\n",
      "      Successfully uninstalled torch-1.9.1\r\n",
      "Successfully installed torch-1.8.1\r\n",
      "\u001b[33mWARNING: Running pip as the 'root' user can result in broken permissions and conflicting behaviour with the system package manager. It is recommended to use a virtual environment instead: https://pip.pypa.io/warnings/venv\u001b[0m\r\n",
      "Collecting torchtext==0.9.1\r\n",
      "  Downloading torchtext-0.9.1-cp37-cp37m-manylinux1_x86_64.whl (7.1 MB)\r\n",
      "\u001b[K     |████████████████████████████████| 7.1 MB 889 kB/s \r\n",
      "\u001b[?25hRequirement already satisfied: tqdm in /opt/conda/lib/python3.7/site-packages (from torchtext==0.9.1) (4.62.3)\r\n",
      "Requirement already satisfied: requests in /opt/conda/lib/python3.7/site-packages (from torchtext==0.9.1) (2.25.1)\r\n",
      "Requirement already satisfied: numpy in /opt/conda/lib/python3.7/site-packages (from torchtext==0.9.1) (1.19.5)\r\n",
      "Requirement already satisfied: torch==1.8.1 in /opt/conda/lib/python3.7/site-packages (from torchtext==0.9.1) (1.8.1)\r\n",
      "Requirement already satisfied: typing-extensions in /opt/conda/lib/python3.7/site-packages (from torch==1.8.1->torchtext==0.9.1) (3.10.0.2)\r\n",
      "Requirement already satisfied: chardet<5,>=3.0.2 in /opt/conda/lib/python3.7/site-packages (from requests->torchtext==0.9.1) (4.0.0)\r\n",
      "Requirement already satisfied: certifi>=2017.4.17 in /opt/conda/lib/python3.7/site-packages (from requests->torchtext==0.9.1) (2021.10.8)\r\n",
      "Requirement already satisfied: idna<3,>=2.5 in /opt/conda/lib/python3.7/site-packages (from requests->torchtext==0.9.1) (2.10)\r\n",
      "Requirement already satisfied: urllib3<1.27,>=1.21.1 in /opt/conda/lib/python3.7/site-packages (from requests->torchtext==0.9.1) (1.26.6)\r\n",
      "Installing collected packages: torchtext\r\n",
      "  Attempting uninstall: torchtext\r\n",
      "    Found existing installation: torchtext 0.10.1\r\n",
      "    Uninstalling torchtext-0.10.1:\r\n",
      "      Successfully uninstalled torchtext-0.10.1\r\n",
      "Successfully installed torchtext-0.9.1\r\n",
      "\u001b[33mWARNING: Running pip as the 'root' user can result in broken permissions and conflicting behaviour with the system package manager. It is recommended to use a virtual environment instead: https://pip.pypa.io/warnings/venv\u001b[0m\r\n"
     ]
    }
   ],
   "source": [
    "!pip install torch==1.8.1\n",
    "!pip install torchtext==0.9.1"
   ]
  },
  {
   "cell_type": "code",
   "execution_count": 2,
   "id": "ca12d3ad",
   "metadata": {
    "execution": {
     "iopub.execute_input": "2021-11-21T09:53:49.771947Z",
     "iopub.status.busy": "2021-11-21T09:53:49.769830Z",
     "iopub.status.idle": "2021-11-21T09:53:51.681148Z",
     "shell.execute_reply": "2021-11-21T09:53:51.682255Z",
     "shell.execute_reply.started": "2021-11-21T07:49:02.147726Z"
    },
    "papermill": {
     "duration": 2.215814,
     "end_time": "2021-11-21T09:53:51.682466",
     "exception": false,
     "start_time": "2021-11-21T09:53:49.466652",
     "status": "completed"
    },
    "tags": []
   },
   "outputs": [],
   "source": [
    "import numpy as np\n",
    "import pandas as pd\n",
    "import seaborn as sns\n",
    "import matplotlib.pyplot as plt\n",
    "import matplotlib as mpl\n",
    "import matplotlib.ticker as ticker\n",
    "from numpy import array\n",
    "from nltk.tree import Tree\n",
    "import re\n",
    "\n",
    "import torch\n",
    "import torch.nn as nn\n",
    "import torch.optim as optim\n",
    "import torch.nn.functional as F\n",
    "import torchtext\n",
    "from torchtext.legacy import data\n",
    "from torchtext.legacy.data import Field\n",
    "from torchtext.legacy.data import TabularDataset, BucketIterator\n",
    "\n",
    "import random\n",
    "import math\n",
    "import time\n",
    "\n",
    "import warnings\n",
    "warnings.filterwarnings(action='ignore')"
   ]
  },
  {
   "cell_type": "code",
   "execution_count": 3,
   "id": "20187a34",
   "metadata": {
    "execution": {
     "iopub.execute_input": "2021-11-21T09:53:52.349084Z",
     "iopub.status.busy": "2021-11-21T09:53:52.348299Z",
     "iopub.status.idle": "2021-11-21T09:53:53.783828Z",
     "shell.execute_reply": "2021-11-21T09:53:53.782915Z",
     "shell.execute_reply.started": "2021-11-21T07:49:03.903978Z"
    },
    "papermill": {
     "duration": 1.753383,
     "end_time": "2021-11-21T09:53:53.783974",
     "exception": false,
     "start_time": "2021-11-21T09:53:52.030591",
     "status": "completed"
    },
    "tags": []
   },
   "outputs": [],
   "source": [
    "# file processing\n",
    "en_file = open('../input/koenen/ko-en.en.parse.syn.txt','r', encoding='UTF8')\n",
    "english = en_file.readlines() \n",
    "\n",
    "ko_File = open('../input/koenko/ko-en.ko.parse.txt','r', encoding='UTF8')\n",
    "korean = ko_File.readlines()"
   ]
  },
  {
   "cell_type": "code",
   "execution_count": 4,
   "id": "c8f7e32d",
   "metadata": {
    "execution": {
     "iopub.execute_input": "2021-11-21T09:53:54.385879Z",
     "iopub.status.busy": "2021-11-21T09:53:54.385015Z",
     "iopub.status.idle": "2021-11-21T09:53:54.387397Z",
     "shell.execute_reply": "2021-11-21T09:53:54.386960Z",
     "shell.execute_reply.started": "2021-11-21T07:49:05.630030Z"
    },
    "papermill": {
     "duration": 0.300545,
     "end_time": "2021-11-21T09:53:54.387514",
     "exception": false,
     "start_time": "2021-11-21T09:53:54.086969",
     "status": "completed"
    },
    "tags": []
   },
   "outputs": [],
   "source": [
    "# function to read raw text file\n",
    "def read_text(filename): \n",
    "    # open the file \n",
    "    file = open('../input/koenko/ko-en.ko.parse.txt', mode='rt', encoding='utf-8') \n",
    "        \n",
    "    # read all text \n",
    "    text = file.read() \n",
    "    file.close() \n",
    "    return text\n",
    "    \n",
    "# split text into sentences # 이 노트북에서는 형태소로 나뉜 자료로 사용했습니다.\n",
    "def to_lines(text): \n",
    "    sents = text.strip().split('\\n\\n')  # 한 문장 내 분리된 채 사용할 때\n",
    "    return sents\n",
    "\n",
    "def to_other_lines(text): \n",
    "    sents = text.strip().split('\\n\\n') \n",
    "    sents = [i.split('\\t') for i in sents]  #이거 입력하면 어절별로 처리 가능\n",
    "    return sents"
   ]
  },
  {
   "cell_type": "code",
   "execution_count": 5,
   "id": "f6e698c1",
   "metadata": {
    "execution": {
     "iopub.execute_input": "2021-11-21T09:53:55.001042Z",
     "iopub.status.busy": "2021-11-21T09:53:55.000150Z",
     "iopub.status.idle": "2021-11-21T09:53:55.004240Z",
     "shell.execute_reply": "2021-11-21T09:53:55.003809Z",
     "shell.execute_reply.started": "2021-11-21T07:49:05.639708Z"
    },
    "papermill": {
     "duration": 0.320405,
     "end_time": "2021-11-21T09:53:55.004358",
     "exception": false,
     "start_time": "2021-11-21T09:53:54.683953",
     "status": "completed"
    },
    "tags": []
   },
   "outputs": [],
   "source": [
    "# 어절별\n",
    "#ko_eng_other = to_other_lines(data) \n",
    "#ko_eng_other = pd.DataFrame(ko_eng_other)\n",
    "#ko_eng_other.head()\n",
    "#ko_eng_other.iloc[:,::3] # 필요한 문장이 담긴 컬럼만 추출"
   ]
  },
  {
   "cell_type": "code",
   "execution_count": 6,
   "id": "dc9bbc0d",
   "metadata": {
    "execution": {
     "iopub.execute_input": "2021-11-21T09:53:55.601005Z",
     "iopub.status.busy": "2021-11-21T09:53:55.598978Z",
     "iopub.status.idle": "2021-11-21T09:53:56.249762Z",
     "shell.execute_reply": "2021-11-21T09:53:56.250313Z",
     "shell.execute_reply.started": "2021-11-21T07:49:05.649953Z"
    },
    "papermill": {
     "duration": 0.952571,
     "end_time": "2021-11-21T09:53:56.250469",
     "exception": false,
     "start_time": "2021-11-21T09:53:55.297898",
     "status": "completed"
    },
    "tags": []
   },
   "outputs": [
    {
     "data": {
      "text/html": [
       "<div>\n",
       "<style scoped>\n",
       "    .dataframe tbody tr th:only-of-type {\n",
       "        vertical-align: middle;\n",
       "    }\n",
       "\n",
       "    .dataframe tbody tr th {\n",
       "        vertical-align: top;\n",
       "    }\n",
       "\n",
       "    .dataframe thead th {\n",
       "        text-align: right;\n",
       "    }\n",
       "</style>\n",
       "<table border=\"1\" class=\"dataframe\">\n",
       "  <thead>\n",
       "    <tr style=\"text-align: right;\">\n",
       "      <th></th>\n",
       "      <th>read_lines</th>\n",
       "    </tr>\n",
       "  </thead>\n",
       "  <tbody>\n",
       "    <tr>\n",
       "      <th>0</th>\n",
       "      <td>&lt;id 1&gt;\\n&lt;sent 1&gt;\\n1\\t2\\tNP\\t777/SN\\n2\\t6\\tNP_SBJ\\t항공편/NNG|은/JX\\n3\\t4\\tNP\\t1/SN|시간/NNG\\n4\\t6\\tNP_AJT\\t동안/NNG\\n5\\t6\\tNP_AJT\\t지상/NNG|에/JKB\\n6\\t7\\tVP\\t머물/VV|게/EC\\n7\\t0\\tVP\\t되/VV|ㅂ니다/EF|./SF\\n&lt;/sent&gt;\\n&lt;/id&gt;</td>\n",
       "    </tr>\n",
       "    <tr>\n",
       "      <th>1</th>\n",
       "      <td>&lt;id 2&gt;\\n&lt;sent 1&gt;\\n1\\t2\\tNP\\t777/SN\\n2\\t6\\tNP_SBJ\\t항공편/NNG|은/JX\\n3\\t4\\tNP\\t3/SN|시간/NNG\\n4\\t6\\tNP_AJT\\t동안/NNG\\n5\\t6\\tNP_AJT\\t지상/NNG|에/JKB\\n6\\t0\\tVP\\t있/VV|겠/EP|습니다/EF|./SF\\n&lt;/sent&gt;\\n&lt;/id&gt;</td>\n",
       "    </tr>\n",
       "    <tr>\n",
       "      <th>2</th>\n",
       "      <td>&lt;id 3&gt;\\n&lt;sent 1&gt;\\n1\\t2\\tNP\\t1/SN|,/SP|000/SN|달러/NNB\\n2\\t3\\tNP_SBJ\\t여행자/NNG|수표/NNG|가/JKS\\n3\\t0\\tVP\\t필요/NNG|하/XSA|ㅂ니다/EF|./SF\\n&lt;/sent&gt;\\n&lt;/id&gt;</td>\n",
       "    </tr>\n",
       "    <tr>\n",
       "      <th>3</th>\n",
       "      <td>&lt;id 4&gt;\\n&lt;sent 1&gt;\\n1\\t3\\tNP_SBJ\\t1/SN|,/SP|250/SN|원/NNB|이/JKS\\n2\\t3\\tNP\\t공식/NNG\\n3\\t0\\tVNP\\t환율/NNG|이/VCP|ㅂ니다/EF|./SF\\n&lt;/sent&gt;\\n&lt;/id&gt;</td>\n",
       "    </tr>\n",
       "    <tr>\n",
       "      <th>4</th>\n",
       "      <td>&lt;id 5&gt;\\n&lt;sent 1&gt;\\n1\\t2\\tNP\\t100/SN|달러/NNB\\n2\\t3\\tNP_CNJ\\t3/SN|장/NNB|과/JC\\n3\\t5\\tNP_SBJ\\t나머지/NNG|는/JX\\n4\\t5\\tNP_AJT\\t20/SN|달러/NNB|권/XSN|으로/JKB\\n5\\t0\\tVP\\t주/VV|시/EP|ㅂ시오/EF|./SF\\n&lt;/sent&gt;\\n&lt;/id&gt;</td>\n",
       "    </tr>\n",
       "  </tbody>\n",
       "</table>\n",
       "</div>"
      ],
      "text/plain": [
       "                                                                                                                                                                                                  read_lines\n",
       "0  <id 1>\\n<sent 1>\\n1\\t2\\tNP\\t777/SN\\n2\\t6\\tNP_SBJ\\t항공편/NNG|은/JX\\n3\\t4\\tNP\\t1/SN|시간/NNG\\n4\\t6\\tNP_AJT\\t동안/NNG\\n5\\t6\\tNP_AJT\\t지상/NNG|에/JKB\\n6\\t7\\tVP\\t머물/VV|게/EC\\n7\\t0\\tVP\\t되/VV|ㅂ니다/EF|./SF\\n</sent>\\n</id>\n",
       "1                   <id 2>\\n<sent 1>\\n1\\t2\\tNP\\t777/SN\\n2\\t6\\tNP_SBJ\\t항공편/NNG|은/JX\\n3\\t4\\tNP\\t3/SN|시간/NNG\\n4\\t6\\tNP_AJT\\t동안/NNG\\n5\\t6\\tNP_AJT\\t지상/NNG|에/JKB\\n6\\t0\\tVP\\t있/VV|겠/EP|습니다/EF|./SF\\n</sent>\\n</id>\n",
       "2                                                                <id 3>\\n<sent 1>\\n1\\t2\\tNP\\t1/SN|,/SP|000/SN|달러/NNB\\n2\\t3\\tNP_SBJ\\t여행자/NNG|수표/NNG|가/JKS\\n3\\t0\\tVP\\t필요/NNG|하/XSA|ㅂ니다/EF|./SF\\n</sent>\\n</id>\n",
       "3                                                                        <id 4>\\n<sent 1>\\n1\\t3\\tNP_SBJ\\t1/SN|,/SP|250/SN|원/NNB|이/JKS\\n2\\t3\\tNP\\t공식/NNG\\n3\\t0\\tVNP\\t환율/NNG|이/VCP|ㅂ니다/EF|./SF\\n</sent>\\n</id>\n",
       "4             <id 5>\\n<sent 1>\\n1\\t2\\tNP\\t100/SN|달러/NNB\\n2\\t3\\tNP_CNJ\\t3/SN|장/NNB|과/JC\\n3\\t5\\tNP_SBJ\\t나머지/NNG|는/JX\\n4\\t5\\tNP_AJT\\t20/SN|달러/NNB|권/XSN|으로/JKB\\n5\\t0\\tVP\\t주/VV|시/EP|ㅂ시오/EF|./SF\\n</sent>\\n</id>"
      ]
     },
     "execution_count": 6,
     "metadata": {},
     "output_type": "execute_result"
    }
   ],
   "source": [
    "# 데이터프레임으로 만들기(한국어 문장)\n",
    "data = read_text(\"ko-en.ko.parse.txt\") \n",
    "ko_eng_lines = to_lines(data) \n",
    "ko_eng = pd.DataFrame(ko_eng_lines, columns = [\"read_lines\"])\n",
    "\n",
    "pd.set_option('display.max_colwidth', 250)\n",
    "ko_eng.head()"
   ]
  },
  {
   "cell_type": "code",
   "execution_count": 7,
   "id": "47eb49a5",
   "metadata": {
    "execution": {
     "iopub.execute_input": "2021-11-21T09:53:56.867820Z",
     "iopub.status.busy": "2021-11-21T09:53:56.862750Z",
     "iopub.status.idle": "2021-11-21T09:54:29.107384Z",
     "shell.execute_reply": "2021-11-21T09:54:29.107854Z",
     "shell.execute_reply.started": "2021-11-21T07:49:06.312855Z"
    },
    "papermill": {
     "duration": 32.568125,
     "end_time": "2021-11-21T09:54:29.108007",
     "exception": false,
     "start_time": "2021-11-21T09:53:56.539882",
     "status": "completed"
    },
    "tags": []
   },
   "outputs": [
    {
     "data": {
      "text/html": [
       "<div>\n",
       "<style scoped>\n",
       "    .dataframe tbody tr th:only-of-type {\n",
       "        vertical-align: middle;\n",
       "    }\n",
       "\n",
       "    .dataframe tbody tr th {\n",
       "        vertical-align: top;\n",
       "    }\n",
       "\n",
       "    .dataframe thead th {\n",
       "        text-align: right;\n",
       "    }\n",
       "</style>\n",
       "<table border=\"1\" class=\"dataframe\">\n",
       "  <thead>\n",
       "    <tr style=\"text-align: right;\">\n",
       "      <th></th>\n",
       "      <th>English_list</th>\n",
       "      <th>English_POS</th>\n",
       "    </tr>\n",
       "  </thead>\n",
       "  <tbody>\n",
       "    <tr>\n",
       "      <th>0</th>\n",
       "      <td>Flight 007 will stay on the ground for one hour .</td>\n",
       "      <td>NNP NNP MD VB IN DT NN IN CD NN .</td>\n",
       "    </tr>\n",
       "    <tr>\n",
       "      <th>1</th>\n",
       "      <td>Flight 017 will stay on the ground for three hours .</td>\n",
       "      <td>NNP NNP MD VB IN DT NN IN CD NNS .</td>\n",
       "    </tr>\n",
       "    <tr>\n",
       "      <th>2</th>\n",
       "      <td>I need 1,000 dollars in traveler 's checks .</td>\n",
       "      <td>PRP VBP CD NNS IN NN POS NNS .</td>\n",
       "    </tr>\n",
       "    <tr>\n",
       "      <th>3</th>\n",
       "      <td>The official exchange rate is around 1,250 Won .</td>\n",
       "      <td>DT JJ NN NN VBZ IN NNP NNP .</td>\n",
       "    </tr>\n",
       "    <tr>\n",
       "      <th>4</th>\n",
       "      <td>Please give me three hundred dollar bills and twenty dollar bills for the rest .</td>\n",
       "      <td>UH VB PRP CD CD NN NNS CC CD NN NNS IN DT NN .</td>\n",
       "    </tr>\n",
       "  </tbody>\n",
       "</table>\n",
       "</div>"
      ],
      "text/plain": [
       "                                                                        English_list  \\\n",
       "0                                 Flight 007 will stay on the ground for one hour .    \n",
       "1                              Flight 017 will stay on the ground for three hours .    \n",
       "2                                      I need 1,000 dollars in traveler 's checks .    \n",
       "3                                  The official exchange rate is around 1,250 Won .    \n",
       "4  Please give me three hundred dollar bills and twenty dollar bills for the rest .    \n",
       "\n",
       "                                       English_POS  \n",
       "0               NNP NNP MD VB IN DT NN IN CD NN .   \n",
       "1              NNP NNP MD VB IN DT NN IN CD NNS .   \n",
       "2                  PRP VBP CD NNS IN NN POS NNS .   \n",
       "3                    DT JJ NN NN VBZ IN NNP NNP .   \n",
       "4  UH VB PRP CD CD NN NNS CC CD NN NNS IN DT NN .   "
      ]
     },
     "execution_count": 7,
     "metadata": {},
     "output_type": "execute_result"
    }
   ],
   "source": [
    "# 데이터프레임으로 만들기(영어 문장)\n",
    "sentences = []\n",
    "for a in english:\n",
    "    first_list = []\n",
    "    seconde_list = []\n",
    "    t = Tree.fromstring(a)\n",
    "    t.pos()\n",
    "    for i in t.pos():\n",
    "        a,b = i\n",
    "        a += ' '\n",
    "        b += ' '\n",
    "        first_list.append(a)\n",
    "        seconde_list.append(b)\n",
    "        row = (first_list, seconde_list)\n",
    "    sentences.append((''.join(row[0]), ''.join(row[1])))\n",
    "    \n",
    "english_df = pd.DataFrame(sentences, columns = [\"English_list\", \"English_POS\"])\n",
    "english_df.head()"
   ]
  },
  {
   "cell_type": "code",
   "execution_count": 8,
   "id": "d2e1e95b",
   "metadata": {
    "execution": {
     "iopub.execute_input": "2021-11-21T09:54:29.700343Z",
     "iopub.status.busy": "2021-11-21T09:54:29.699435Z",
     "iopub.status.idle": "2021-11-21T09:54:29.701316Z",
     "shell.execute_reply": "2021-11-21T09:54:29.701721Z",
     "shell.execute_reply.started": "2021-11-21T07:49:38.527558Z"
    },
    "papermill": {
     "duration": 0.303163,
     "end_time": "2021-11-21T09:54:29.701860",
     "exception": false,
     "start_time": "2021-11-21T09:54:29.398697",
     "status": "completed"
    },
    "tags": []
   },
   "outputs": [],
   "source": [
    "# 병렬 데이터를 만들기 위한 기본 전처리\n",
    "def basic_cleaning_ko(text):\n",
    "    text = re.sub(r'[A-Z0-9_]+\\t', '', text) # 탭과 결합된 문자 제거\n",
    "    text = re.sub(r'<id [0-9]+>', '', text) # 불필요한 글자 제거\n",
    "    text = re.sub(r'</id>', '', text)\n",
    "    text = re.sub(r'<sent [0-9]+>', '', text)\n",
    "    text = re.sub(r'</sent>', '', text)\n",
    "    text = re.sub(r'\\n', ' ', text) # 줄바꿈 공백으로 바꿔주기\n",
    "    text = re.sub(r'\\|', ' ', text) # vertical var도 공백으로 바꿔주기\n",
    "    text = re.findall('(.+?)/[A-Z]+\\s*', text) # 품사기호 앞에 있는 단어만 추출\n",
    "    return ' '.join(text)\n",
    "\n",
    "def basic_cleaning_en(text):\n",
    "    text = re.split('(\\d+)', text) # 숫자와 글자 분리\n",
    "    return ' '.join(text)"
   ]
  },
  {
   "cell_type": "code",
   "execution_count": 9,
   "id": "0e10b1af",
   "metadata": {
    "execution": {
     "iopub.execute_input": "2021-11-21T09:54:30.302234Z",
     "iopub.status.busy": "2021-11-21T09:54:30.301435Z",
     "iopub.status.idle": "2021-11-21T09:54:39.943902Z",
     "shell.execute_reply": "2021-11-21T09:54:39.943393Z",
     "shell.execute_reply.started": "2021-11-21T07:49:38.537152Z"
    },
    "papermill": {
     "duration": 9.950738,
     "end_time": "2021-11-21T09:54:39.944038",
     "exception": false,
     "start_time": "2021-11-21T09:54:29.993300",
     "status": "completed"
    },
    "tags": []
   },
   "outputs": [],
   "source": [
    "ko_eng[\"clean_Korean\"] = ko_eng[\"read_lines\"].apply(basic_cleaning_ko)\n",
    "english_df[\"clean_English\"] = english_df[\"English_list\"].apply(basic_cleaning_en)"
   ]
  },
  {
   "cell_type": "code",
   "execution_count": 10,
   "id": "51ba95c8",
   "metadata": {
    "execution": {
     "iopub.execute_input": "2021-11-21T09:54:40.544860Z",
     "iopub.status.busy": "2021-11-21T09:54:40.543875Z",
     "iopub.status.idle": "2021-11-21T09:54:40.563484Z",
     "shell.execute_reply": "2021-11-21T09:54:40.563963Z",
     "shell.execute_reply.started": "2021-11-21T07:49:48.223543Z"
    },
    "papermill": {
     "duration": 0.322948,
     "end_time": "2021-11-21T09:54:40.564117",
     "exception": false,
     "start_time": "2021-11-21T09:54:40.241169",
     "status": "completed"
    },
    "tags": []
   },
   "outputs": [
    {
     "data": {
      "text/html": [
       "<div>\n",
       "<style scoped>\n",
       "    .dataframe tbody tr th:only-of-type {\n",
       "        vertical-align: middle;\n",
       "    }\n",
       "\n",
       "    .dataframe tbody tr th {\n",
       "        vertical-align: top;\n",
       "    }\n",
       "\n",
       "    .dataframe thead th {\n",
       "        text-align: right;\n",
       "    }\n",
       "</style>\n",
       "<table border=\"1\" class=\"dataframe\">\n",
       "  <thead>\n",
       "    <tr style=\"text-align: right;\">\n",
       "      <th></th>\n",
       "      <th>clean_Korean</th>\n",
       "      <th>clean_English</th>\n",
       "    </tr>\n",
       "  </thead>\n",
       "  <tbody>\n",
       "    <tr>\n",
       "      <th>0</th>\n",
       "      <td>777 항공편 은 1 시간 동안 지상 에 머물 게 되 ㅂ니다 .</td>\n",
       "      <td>Flight  007  will stay on the ground for one hour .</td>\n",
       "    </tr>\n",
       "    <tr>\n",
       "      <th>1</th>\n",
       "      <td>777 항공편 은 3 시간 동안 지상 에 있 겠 습니다 .</td>\n",
       "      <td>Flight  017  will stay on the ground for three hours .</td>\n",
       "    </tr>\n",
       "    <tr>\n",
       "      <th>2</th>\n",
       "      <td>1 , 000 달러 여행자 수표 가 필요 하 ㅂ니다 .</td>\n",
       "      <td>I need  1 , 000  dollars in traveler 's checks .</td>\n",
       "    </tr>\n",
       "    <tr>\n",
       "      <th>3</th>\n",
       "      <td>1 , 250 원 이 공식 환율 이 ㅂ니다 .</td>\n",
       "      <td>The official exchange rate is around  1 , 250  Won .</td>\n",
       "    </tr>\n",
       "    <tr>\n",
       "      <th>4</th>\n",
       "      <td>100 달러 3 장 과 나머지 는 20 달러 권 으로 주 시 ㅂ시오 .</td>\n",
       "      <td>Please give me three hundred dollar bills and twenty dollar bills for the rest .</td>\n",
       "    </tr>\n",
       "    <tr>\n",
       "      <th>...</th>\n",
       "      <td>...</td>\n",
       "      <td>...</td>\n",
       "    </tr>\n",
       "    <tr>\n",
       "      <th>330969</th>\n",
       "      <td>저 의 주소 가 지방 으로 되 어 있 는데 , 서울 에서 여권 을 만들 ㄹ 수 있 나요 ?</td>\n",
       "      <td>Can I file my passport application in Seoul even if I do n't live in that area ?</td>\n",
       "    </tr>\n",
       "    <tr>\n",
       "      <th>330970</th>\n",
       "      <td>학교 친구 한 명 이 LA 에 있 어요 .</td>\n",
       "      <td>I have a school friend in Los Angeles .</td>\n",
       "    </tr>\n",
       "    <tr>\n",
       "      <th>330971</th>\n",
       "      <td>이것 ㄴ 얼마 이 에요 ?</td>\n",
       "      <td>How much is this ?</td>\n",
       "    </tr>\n",
       "    <tr>\n",
       "      <th>330972</th>\n",
       "      <td>저것 ㄴ 얼마 이 에요 ?</td>\n",
       "      <td>How much is that ?</td>\n",
       "    </tr>\n",
       "    <tr>\n",
       "      <th>330973</th>\n",
       "      <td>저것 은 얼마 이 에요 ?</td>\n",
       "      <td>How much is that ?</td>\n",
       "    </tr>\n",
       "  </tbody>\n",
       "</table>\n",
       "<p>330974 rows × 2 columns</p>\n",
       "</div>"
      ],
      "text/plain": [
       "                                                clean_Korean  \\\n",
       "0                        777 항공편 은 1 시간 동안 지상 에 머물 게 되 ㅂ니다 .   \n",
       "1                           777 항공편 은 3 시간 동안 지상 에 있 겠 습니다 .   \n",
       "2                             1 , 000 달러 여행자 수표 가 필요 하 ㅂ니다 .   \n",
       "3                                  1 , 250 원 이 공식 환율 이 ㅂ니다 .   \n",
       "4                    100 달러 3 장 과 나머지 는 20 달러 권 으로 주 시 ㅂ시오 .   \n",
       "...                                                      ...   \n",
       "330969    저 의 주소 가 지방 으로 되 어 있 는데 , 서울 에서 여권 을 만들 ㄹ 수 있 나요 ?   \n",
       "330970                               학교 친구 한 명 이 LA 에 있 어요 .   \n",
       "330971                                        이것 ㄴ 얼마 이 에요 ?   \n",
       "330972                                        저것 ㄴ 얼마 이 에요 ?   \n",
       "330973                                        저것 은 얼마 이 에요 ?   \n",
       "\n",
       "                                                                            clean_English  \n",
       "0                                    Flight  007  will stay on the ground for one hour .   \n",
       "1                                 Flight  017  will stay on the ground for three hours .   \n",
       "2                                       I need  1 , 000  dollars in traveler 's checks .   \n",
       "3                                   The official exchange rate is around  1 , 250  Won .   \n",
       "4       Please give me three hundred dollar bills and twenty dollar bills for the rest .   \n",
       "...                                                                                   ...  \n",
       "330969  Can I file my passport application in Seoul even if I do n't live in that area ?   \n",
       "330970                                           I have a school friend in Los Angeles .   \n",
       "330971                                                                How much is this ?   \n",
       "330972                                                                How much is that ?   \n",
       "330973                                                                How much is that ?   \n",
       "\n",
       "[330974 rows x 2 columns]"
      ]
     },
     "execution_count": 10,
     "metadata": {},
     "output_type": "execute_result"
    }
   ],
   "source": [
    "# 한국어-영어 병렬 데이터 만들기\n",
    "ko_trans =ko_eng[\"clean_Korean\"]\n",
    "en_trans = english_df[\"clean_English\"]\n",
    "final_df = pd.concat([ko_trans, en_trans], axis=1)\n",
    "final_df"
   ]
  },
  {
   "cell_type": "code",
   "execution_count": 11,
   "id": "3b6b5e49",
   "metadata": {
    "execution": {
     "iopub.execute_input": "2021-11-21T09:54:41.159541Z",
     "iopub.status.busy": "2021-11-21T09:54:41.158643Z",
     "iopub.status.idle": "2021-11-21T09:54:41.160604Z",
     "shell.execute_reply": "2021-11-21T09:54:41.161049Z",
     "shell.execute_reply.started": "2021-11-21T07:49:48.249245Z"
    },
    "papermill": {
     "duration": 0.3051,
     "end_time": "2021-11-21T09:54:41.161211",
     "exception": false,
     "start_time": "2021-11-21T09:54:40.856111",
     "status": "completed"
    },
    "tags": []
   },
   "outputs": [],
   "source": [
    "# 토큰화 \n",
    "def tok_english(text): \n",
    "    text = text.lower() # 소문자 변환\n",
    "    text = text.replace(\"n't\", 'not') # 기본적인 축약형 수정\n",
    "    text = text.replace(\"'ve\", 'have')\n",
    "    text = text.replace(\"'m\", 'am')\n",
    "    text = text.replace(\"'s\", ' ')\n",
    "    text = text.replace(\"'ll\", 'will')\n",
    "    text = text.replace(\"'d\", 'would')    \n",
    "    #text = re.sub(r'[^\\w\\s]', '', text) # 구두점 제거\n",
    "    text = text.replace('  ', ' ') # 다중 공백 제거\n",
    "    text = text.replace('  ', ' ') # 두번\n",
    "    return ''.join(text).split() # 단어 분리\n",
    "\n",
    "def tok_korean(text):\n",
    "   # text = re.sub(r'[^\\w\\s]', '', text) # 구두점 제거 \n",
    "    text = text.replace('  ', ' ') # 다중 공백 제거\n",
    "    return ''.join(text).split() # 단어 분리"
   ]
  },
  {
   "cell_type": "code",
   "execution_count": 12,
   "id": "60e1f6c0",
   "metadata": {
    "execution": {
     "iopub.execute_input": "2021-11-21T09:54:41.750783Z",
     "iopub.status.busy": "2021-11-21T09:54:41.749886Z",
     "iopub.status.idle": "2021-11-21T09:54:43.781013Z",
     "shell.execute_reply": "2021-11-21T09:54:43.781623Z",
     "shell.execute_reply.started": "2021-11-21T07:49:48.258382Z"
    },
    "papermill": {
     "duration": 2.333156,
     "end_time": "2021-11-21T09:54:43.781830",
     "exception": false,
     "start_time": "2021-11-21T09:54:41.448674",
     "status": "completed"
    },
    "tags": []
   },
   "outputs": [
    {
     "data": {
      "text/plain": [
       "330969    [저, 의, 주소, 가, 지방, 으로, 되, 어, 있, 는데, ,, 서울, 에서, 여권, 을, 만들, ㄹ, 수, 있, 나요, ?]\n",
       "330970                                          [학교, 친구, 한, 명, 이, LA, 에, 있, 어요, .]\n",
       "330971                                                       [이것, ㄴ, 얼마, 이, 에요, ?]\n",
       "330972                                                       [저것, ㄴ, 얼마, 이, 에요, ?]\n",
       "330973                                                       [저것, 은, 얼마, 이, 에요, ?]\n",
       "Name: clean_Korean, dtype: object"
      ]
     },
     "execution_count": 12,
     "metadata": {},
     "output_type": "execute_result"
    }
   ],
   "source": [
    "# 확인\n",
    "final_df[\"clean_Korean\"].apply(tok_korean).tail()"
   ]
  },
  {
   "cell_type": "code",
   "execution_count": 13,
   "id": "ffd6327b",
   "metadata": {
    "execution": {
     "iopub.execute_input": "2021-11-21T09:54:44.605047Z",
     "iopub.status.busy": "2021-11-21T09:54:44.604119Z",
     "iopub.status.idle": "2021-11-21T09:54:46.781224Z",
     "shell.execute_reply": "2021-11-21T09:54:46.780765Z",
     "shell.execute_reply.started": "2021-11-21T07:49:50.097544Z"
    },
    "papermill": {
     "duration": 2.478948,
     "end_time": "2021-11-21T09:54:46.781365",
     "exception": false,
     "start_time": "2021-11-21T09:54:44.302417",
     "status": "completed"
    },
    "tags": []
   },
   "outputs": [
    {
     "data": {
      "text/plain": [
       "330969    [can, i, file, my, passport, application, in, seoul, even, if, i, do, not, live, in, that, area, ?]\n",
       "330970                                                      [i, have, a, school, friend, in, los, angeles, .]\n",
       "330971                                                                               [how, much, is, this, ?]\n",
       "330972                                                                               [how, much, is, that, ?]\n",
       "330973                                                                               [how, much, is, that, ?]\n",
       "Name: clean_English, dtype: object"
      ]
     },
     "execution_count": 13,
     "metadata": {},
     "output_type": "execute_result"
    }
   ],
   "source": [
    "# 확인\n",
    "final_df[\"clean_English\"].apply(tok_english).tail()"
   ]
  },
  {
   "cell_type": "code",
   "execution_count": 14,
   "id": "2bb2ad14",
   "metadata": {
    "execution": {
     "iopub.execute_input": "2021-11-21T09:54:47.382889Z",
     "iopub.status.busy": "2021-11-21T09:54:47.382220Z",
     "iopub.status.idle": "2021-11-21T09:54:47.425230Z",
     "shell.execute_reply": "2021-11-21T09:54:47.424348Z",
     "shell.execute_reply.started": "2021-11-21T07:49:52.041576Z"
    },
    "papermill": {
     "duration": 0.355343,
     "end_time": "2021-11-21T09:54:47.425378",
     "exception": false,
     "start_time": "2021-11-21T09:54:47.070035",
     "status": "completed"
    },
    "tags": []
   },
   "outputs": [],
   "source": [
    "# devide into train and test set\n",
    "\n",
    "SEED = 42\n",
    "\n",
    "from sklearn.model_selection import train_test_split\n",
    "train_data, test_data = train_test_split(final_df, test_size=0.2, shuffle=True, random_state=SEED)"
   ]
  },
  {
   "cell_type": "code",
   "execution_count": 15,
   "id": "e93ab75d",
   "metadata": {
    "execution": {
     "iopub.execute_input": "2021-11-21T09:54:48.015040Z",
     "iopub.status.busy": "2021-11-21T09:54:48.014425Z",
     "iopub.status.idle": "2021-11-21T09:54:48.017228Z",
     "shell.execute_reply": "2021-11-21T09:54:48.015591Z",
     "shell.execute_reply.started": "2021-11-21T07:49:52.096588Z"
    },
    "papermill": {
     "duration": 0.304382,
     "end_time": "2021-11-21T09:54:48.017383",
     "exception": false,
     "start_time": "2021-11-21T09:54:47.713001",
     "status": "completed"
    },
    "tags": []
   },
   "outputs": [
    {
     "name": "stdout",
     "output_type": "stream",
     "text": [
      "264779\n",
      "66195\n"
     ]
    }
   ],
   "source": [
    "print(len(train_data))\n",
    "print(len(test_data))"
   ]
  },
  {
   "cell_type": "code",
   "execution_count": 16,
   "id": "59bfe955",
   "metadata": {
    "execution": {
     "iopub.execute_input": "2021-11-21T09:54:48.615034Z",
     "iopub.status.busy": "2021-11-21T09:54:48.614126Z",
     "iopub.status.idle": "2021-11-21T09:54:50.256381Z",
     "shell.execute_reply": "2021-11-21T09:54:50.255859Z",
     "shell.execute_reply.started": "2021-11-21T07:49:52.103691Z"
    },
    "papermill": {
     "duration": 1.943664,
     "end_time": "2021-11-21T09:54:50.256521",
     "exception": false,
     "start_time": "2021-11-21T09:54:48.312857",
     "status": "completed"
    },
    "tags": []
   },
   "outputs": [],
   "source": [
    "# save to csv file\n",
    "train_data.to_csv(\"train.csv\")\n",
    "test_data.to_csv(\"test.csv\")"
   ]
  },
  {
   "cell_type": "code",
   "execution_count": 17,
   "id": "de6b840f",
   "metadata": {
    "execution": {
     "iopub.execute_input": "2021-11-21T09:54:50.844116Z",
     "iopub.status.busy": "2021-11-21T09:54:50.842931Z",
     "iopub.status.idle": "2021-11-21T09:54:51.396508Z",
     "shell.execute_reply": "2021-11-21T09:54:51.395869Z",
     "shell.execute_reply.started": "2021-11-21T07:49:53.845326Z"
    },
    "papermill": {
     "duration": 0.847059,
     "end_time": "2021-11-21T09:54:51.396643",
     "exception": false,
     "start_time": "2021-11-21T09:54:50.549584",
     "status": "completed"
    },
    "tags": []
   },
   "outputs": [
    {
     "data": {
      "text/html": [
       "<div>\n",
       "<style scoped>\n",
       "    .dataframe tbody tr th:only-of-type {\n",
       "        vertical-align: middle;\n",
       "    }\n",
       "\n",
       "    .dataframe tbody tr th {\n",
       "        vertical-align: top;\n",
       "    }\n",
       "\n",
       "    .dataframe thead th {\n",
       "        text-align: right;\n",
       "    }\n",
       "</style>\n",
       "<table border=\"1\" class=\"dataframe\">\n",
       "  <thead>\n",
       "    <tr style=\"text-align: right;\">\n",
       "      <th></th>\n",
       "      <th>Unnamed: 0</th>\n",
       "      <th>clean_Korean</th>\n",
       "      <th>clean_English</th>\n",
       "    </tr>\n",
       "  </thead>\n",
       "  <tbody>\n",
       "    <tr>\n",
       "      <th>0</th>\n",
       "      <td>41455</td>\n",
       "      <td>이 전화 로 스위스 에 걸 ㄹ 수 있 습니까 ?</td>\n",
       "      <td>Can I call Switzerland with this telephone ?</td>\n",
       "    </tr>\n",
       "  </tbody>\n",
       "</table>\n",
       "</div>"
      ],
      "text/plain": [
       "   Unnamed: 0                  clean_Korean  \\\n",
       "0       41455    이 전화 로 스위스 에 걸 ㄹ 수 있 습니까 ?   \n",
       "\n",
       "                                   clean_English  \n",
       "0  Can I call Switzerland with this telephone ?   "
      ]
     },
     "execution_count": 17,
     "metadata": {},
     "output_type": "execute_result"
    }
   ],
   "source": [
    "train_reading = pd.read_csv(\"./train.csv\")\n",
    "train_reading.head(1) "
   ]
  },
  {
   "cell_type": "code",
   "execution_count": 18,
   "id": "e5d91d46",
   "metadata": {
    "execution": {
     "iopub.execute_input": "2021-11-21T09:54:51.998917Z",
     "iopub.status.busy": "2021-11-21T09:54:51.997896Z",
     "iopub.status.idle": "2021-11-21T09:54:52.003318Z",
     "shell.execute_reply": "2021-11-21T09:54:52.002753Z",
     "shell.execute_reply.started": "2021-11-21T07:49:54.404777Z"
    },
    "papermill": {
     "duration": 0.309521,
     "end_time": "2021-11-21T09:54:52.003476",
     "exception": false,
     "start_time": "2021-11-21T09:54:51.693955",
     "status": "completed"
    },
    "tags": []
   },
   "outputs": [],
   "source": [
    "SEED = 1234\n",
    "\n",
    "random.seed(SEED)\n",
    "np.random.seed(SEED)\n",
    "torch.manual_seed(SEED)\n",
    "torch.cuda.manual_seed(SEED)\n",
    "torch.backends.cudnn.deterministic = True"
   ]
  },
  {
   "cell_type": "code",
   "execution_count": 19,
   "id": "60f151e6",
   "metadata": {
    "execution": {
     "iopub.execute_input": "2021-11-21T09:54:52.676327Z",
     "iopub.status.busy": "2021-11-21T09:54:52.675633Z",
     "iopub.status.idle": "2021-11-21T09:54:52.679398Z",
     "shell.execute_reply": "2021-11-21T09:54:52.678909Z",
     "shell.execute_reply.started": "2021-11-21T07:49:54.415966Z"
    },
    "papermill": {
     "duration": 0.379849,
     "end_time": "2021-11-21T09:54:52.679527",
     "exception": false,
     "start_time": "2021-11-21T09:54:52.299678",
     "status": "completed"
    },
    "tags": []
   },
   "outputs": [],
   "source": [
    "device = torch.device('cuda' if torch.cuda.is_available() else 'cpu')"
   ]
  },
  {
   "cell_type": "markdown",
   "id": "15f8a710",
   "metadata": {
    "papermill": {
     "duration": 0.299843,
     "end_time": "2021-11-21T09:54:53.267993",
     "exception": false,
     "start_time": "2021-11-21T09:54:52.968150",
     "status": "completed"
    },
    "tags": []
   },
   "source": [
    "# Convolutional seq2seq"
   ]
  },
  {
   "cell_type": "code",
   "execution_count": 20,
   "id": "bc3b97e2",
   "metadata": {
    "execution": {
     "iopub.execute_input": "2021-11-21T09:54:53.881556Z",
     "iopub.status.busy": "2021-11-21T09:54:53.880716Z",
     "iopub.status.idle": "2021-11-21T09:54:53.882978Z",
     "shell.execute_reply": "2021-11-21T09:54:53.883443Z",
     "shell.execute_reply.started": "2021-11-21T07:49:54.474865Z"
    },
    "papermill": {
     "duration": 0.305586,
     "end_time": "2021-11-21T09:54:53.883592",
     "exception": false,
     "start_time": "2021-11-21T09:54:53.578006",
     "status": "completed"
    },
    "tags": []
   },
   "outputs": [],
   "source": [
    "import torch\n",
    "import torch.nn as nn\n",
    "import torch.optim as optim\n",
    "import torch.nn.functional as F\n",
    "import torchtext\n",
    "from torchtext.legacy import data\n",
    "from torchtext.legacy.data import Field\n",
    "from torchtext.legacy.data import TabularDataset, BucketIterator"
   ]
  },
  {
   "cell_type": "code",
   "execution_count": 21,
   "id": "b1cf537e",
   "metadata": {
    "execution": {
     "iopub.execute_input": "2021-11-21T09:54:54.478798Z",
     "iopub.status.busy": "2021-11-21T09:54:54.477945Z",
     "iopub.status.idle": "2021-11-21T09:55:05.393691Z",
     "shell.execute_reply": "2021-11-21T09:55:05.393201Z",
     "shell.execute_reply.started": "2021-11-21T07:49:54.495252Z"
    },
    "papermill": {
     "duration": 11.217606,
     "end_time": "2021-11-21T09:55:05.393830",
     "exception": false,
     "start_time": "2021-11-21T09:54:54.176224",
     "status": "completed"
    },
    "tags": []
   },
   "outputs": [],
   "source": [
    "SRC = Field(tokenize = tok_korean, \n",
    "            init_token = '<sos>', \n",
    "            eos_token = '<eos>', \n",
    "            lower = True, \n",
    "            batch_first = True)\n",
    "\n",
    "TRG = Field(tokenize = tok_english, \n",
    "            init_token = '<sos>', \n",
    "            eos_token = '<eos>', \n",
    "            lower = True,\n",
    "            batch_first = True)\n",
    "\n",
    "Raw_datafields = [(\"Unnamed:0\", None), (\"src\", SRC), (\"trg\", TRG)]\n",
    "\n",
    "train_data = data.TabularDataset(\n",
    "        path='./train.csv',\n",
    "        format='csv',\n",
    "        skip_header=True, \n",
    "        fields=Raw_datafields) \n",
    "test_data = data.TabularDataset(\n",
    "        path='./test.csv',\n",
    "        format='csv',\n",
    "        skip_header=True,\n",
    "        fields=Raw_datafields)"
   ]
  },
  {
   "cell_type": "code",
   "execution_count": 22,
   "id": "08c7d4ec",
   "metadata": {
    "execution": {
     "iopub.execute_input": "2021-11-21T09:55:06.032648Z",
     "iopub.status.busy": "2021-11-21T09:55:06.007005Z",
     "iopub.status.idle": "2021-11-21T09:55:07.958827Z",
     "shell.execute_reply": "2021-11-21T09:55:07.958341Z",
     "shell.execute_reply.started": "2021-11-21T07:50:06.095743Z"
    },
    "papermill": {
     "duration": 2.263038,
     "end_time": "2021-11-21T09:55:07.958962",
     "exception": false,
     "start_time": "2021-11-21T09:55:05.695924",
     "status": "completed"
    },
    "tags": []
   },
   "outputs": [],
   "source": [
    "SRC.build_vocab(train_data, min_freq = 1)\n",
    "TRG.build_vocab(train_data, min_freq = 1)\n",
    "\n",
    "BATCH_SIZE = 256\n",
    "\n",
    "train_iterator, test_iterator = BucketIterator.splits(\n",
    "    (train_data, test_data), sort = False, repeat = False,\n",
    "    sort_within_batch =False,\n",
    "     batch_size = BATCH_SIZE,\n",
    "     device = device)"
   ]
  },
  {
   "cell_type": "code",
   "execution_count": 23,
   "id": "7ccf770d",
   "metadata": {
    "execution": {
     "iopub.execute_input": "2021-11-21T09:55:08.861132Z",
     "iopub.status.busy": "2021-11-21T09:55:08.860123Z",
     "iopub.status.idle": "2021-11-21T09:55:08.862153Z",
     "shell.execute_reply": "2021-11-21T09:55:08.862602Z",
     "shell.execute_reply.started": "2021-11-21T07:50:08.020852Z"
    },
    "papermill": {
     "duration": 0.505459,
     "end_time": "2021-11-21T09:55:08.862749",
     "exception": false,
     "start_time": "2021-11-21T09:55:08.357290",
     "status": "completed"
    },
    "tags": []
   },
   "outputs": [],
   "source": [
    "class Encoder(nn.Module):\n",
    "    def __init__(self, \n",
    "                 input_dim, \n",
    "                 emb_dim, \n",
    "                 hid_dim, \n",
    "                 n_layers, \n",
    "                 kernel_size, \n",
    "                 dropout, \n",
    "                 device,\n",
    "                 max_length = 100):\n",
    "        super().__init__()\n",
    "        \n",
    "        assert kernel_size % 2 == 1, \"Kernel size must be odd!\"\n",
    "        \n",
    "        self.device = device       \n",
    "        self.scale = torch.sqrt(torch.FloatTensor([0.5])).to(device)        \n",
    "        self.tok_embedding = nn.Embedding(input_dim, emb_dim)\n",
    "        self.pos_embedding = nn.Embedding(max_length, emb_dim)        \n",
    "        self.emb2hid = nn.Linear(emb_dim, hid_dim)\n",
    "        self.hid2emb = nn.Linear(hid_dim, emb_dim)       \n",
    "        self.convs = nn.ModuleList([nn.Conv1d(in_channels = hid_dim, \n",
    "                                              out_channels = 2 * hid_dim, \n",
    "                                              kernel_size = kernel_size, \n",
    "                                              padding = (kernel_size - 1) // 2)\n",
    "                                    for _ in range(n_layers)])\n",
    "        \n",
    "        self.dropout = nn.Dropout(dropout)\n",
    "        \n",
    "    def forward(self, src):\n",
    "        \n",
    "        batch_size = src.shape[0]\n",
    "        src_len = src.shape[1] \n",
    "        pos = torch.arange(0, src_len).unsqueeze(0).repeat(batch_size, 1).to(self.device)        \n",
    "        tok_embedded = self.tok_embedding(src)\n",
    "        pos_embedded = self.pos_embedding(pos)        \n",
    "        embedded = self.dropout(tok_embedded + pos_embedded)        \n",
    "        conv_input = self.emb2hid(embedded)\n",
    "        conv_input = conv_input.permute(0, 2, 1) \n",
    "\n",
    "        for i, conv in enumerate(self.convs):\n",
    "\n",
    "            conved = conv(self.dropout(conv_input))\n",
    "            conved = F.glu(conved, dim = 1)\n",
    "            conved = (conved + conv_input) * self.scale\n",
    "            conv_input = conved\n",
    "\n",
    "        conved = self.hid2emb(conved.permute(0, 2, 1))\n",
    "        combined = (conved + embedded) * self.scale\n",
    "        \n",
    "        return conved, combined\n",
    "    \n",
    "class Decoder(nn.Module):\n",
    "    def __init__(self, \n",
    "                 output_dim, \n",
    "                 emb_dim, \n",
    "                 hid_dim, \n",
    "                 n_layers, \n",
    "                 kernel_size, \n",
    "                 dropout, \n",
    "                 trg_pad_idx, \n",
    "                 device,\n",
    "                 max_length = 100):\n",
    "        super().__init__()\n",
    "        \n",
    "        self.kernel_size = kernel_size\n",
    "        self.trg_pad_idx = trg_pad_idx\n",
    "        self.device = device        \n",
    "        self.scale = torch.sqrt(torch.FloatTensor([0.5])).to(device)        \n",
    "        self.tok_embedding = nn.Embedding(output_dim, emb_dim)\n",
    "        self.pos_embedding = nn.Embedding(max_length, emb_dim)        \n",
    "        self.emb2hid = nn.Linear(emb_dim, hid_dim)\n",
    "        self.hid2emb = nn.Linear(hid_dim, emb_dim)        \n",
    "        self.attn_hid2emb = nn.Linear(hid_dim, emb_dim)\n",
    "        self.attn_emb2hid = nn.Linear(emb_dim, hid_dim)        \n",
    "        self.fc_out = nn.Linear(emb_dim, output_dim)        \n",
    "        self.convs = nn.ModuleList([nn.Conv1d(in_channels = hid_dim, \n",
    "                                              out_channels = 2 * hid_dim, \n",
    "                                              kernel_size = kernel_size)\n",
    "                                    for _ in range(n_layers)])\n",
    "        \n",
    "        self.dropout = nn.Dropout(dropout)\n",
    "      \n",
    "    def calculate_attention(self, embedded, conved, encoder_conved, encoder_combined):\n",
    "\n",
    "        conved_emb = self.attn_hid2emb(conved.permute(0, 2, 1))        \n",
    "        combined = (conved_emb + embedded) * self.scale                \n",
    "        energy = torch.matmul(combined, encoder_conved.permute(0, 2, 1))        \n",
    "        attention = F.softmax(energy, dim=2)            \n",
    "        attended_encoding = torch.matmul(attention, encoder_combined)\n",
    "        attended_encoding = self.attn_emb2hid(attended_encoding)\n",
    "        attended_combined = (conved + attended_encoding.permute(0, 2, 1)) * self.scale\n",
    "        \n",
    "        return attention, attended_combined\n",
    "        \n",
    "    def forward(self, trg, encoder_conved, encoder_combined):\n",
    "\n",
    "        batch_size = trg.shape[0]\n",
    "        trg_len = trg.shape[1]\n",
    "        pos = torch.arange(0, trg_len).unsqueeze(0).repeat(batch_size, 1).to(self.device)\n",
    "        tok_embedded = self.tok_embedding(trg)\n",
    "        pos_embedded = self.pos_embedding(pos)\n",
    "        embedded = self.dropout(tok_embedded + pos_embedded)\n",
    "        conv_input = self.emb2hid(embedded)\n",
    "        conv_input = conv_input.permute(0, 2, 1)         \n",
    "        batch_size = conv_input.shape[0]\n",
    "        hid_dim = conv_input.shape[1]\n",
    "        \n",
    "        for i, conv in enumerate(self.convs):\n",
    "\n",
    "            conv_input = self.dropout(conv_input)\n",
    "            padding = torch.zeros(batch_size, \n",
    "                                  hid_dim, \n",
    "                                  self.kernel_size - 1).fill_(self.trg_pad_idx).to(self.device)\n",
    "                \n",
    "            padded_conv_input = torch.cat((padding, conv_input), dim = 2) \n",
    "            conved = conv(padded_conv_input)\n",
    "            conved = F.glu(conved, dim = 1)\n",
    "            attention, conved = self.calculate_attention(embedded, \n",
    "                                                         conved, \n",
    "                                                         encoder_conved, \n",
    "                                                         encoder_combined)\n",
    "\n",
    "            conved = (conved + conv_input) * self.scale\n",
    "            conv_input = conved\n",
    "            \n",
    "        conved = self.hid2emb(conved.permute(0, 2, 1))            \n",
    "        output = self.fc_out(self.dropout(conved))\n",
    "            \n",
    "        return output, attention\n",
    "    \n",
    "class Seq2Seq(nn.Module):\n",
    "    def __init__(self, encoder, decoder):\n",
    "        super().__init__()\n",
    "        \n",
    "        self.encoder = encoder\n",
    "        self.decoder = decoder\n",
    "        \n",
    "    def forward(self, src, trg):\n",
    "\n",
    "        encoder_conved, encoder_combined = self.encoder(src)\n",
    "        output, attention = self.decoder(trg, encoder_conved, encoder_combined)\n",
    "               \n",
    "        return output, attention"
   ]
  },
  {
   "cell_type": "code",
   "execution_count": 24,
   "id": "f9cf472e",
   "metadata": {
    "execution": {
     "iopub.execute_input": "2021-11-21T09:55:09.462663Z",
     "iopub.status.busy": "2021-11-21T09:55:09.461701Z",
     "iopub.status.idle": "2021-11-21T09:55:12.601797Z",
     "shell.execute_reply": "2021-11-21T09:55:12.602234Z",
     "shell.execute_reply.started": "2021-11-21T07:50:08.063261Z"
    },
    "papermill": {
     "duration": 3.447017,
     "end_time": "2021-11-21T09:55:12.602385",
     "exception": false,
     "start_time": "2021-11-21T09:55:09.155368",
     "status": "completed"
    },
    "tags": []
   },
   "outputs": [
    {
     "name": "stdout",
     "output_type": "stream",
     "text": [
      "The model_conv has 53,420,353 trainable parameters\n"
     ]
    }
   ],
   "source": [
    "INPUT_DIM = len(SRC.vocab)\n",
    "OUTPUT_DIM = len(TRG.vocab)\n",
    "EMB_DIM = 256\n",
    "HID_DIM = 512 # each conv. layer has 2 * hid_dim filters\n",
    "ENC_LAYERS = 10 # number of conv. blocks in encoder\n",
    "DEC_LAYERS = 10 # number of conv. blocks in decoder\n",
    "ENC_KERNEL_SIZE = 3 # must be odd!\n",
    "DEC_KERNEL_SIZE = 3 # can be even or odd\n",
    "ENC_DROPOUT = 0.25\n",
    "DEC_DROPOUT = 0.25\n",
    "TRG_PAD_IDX = TRG.vocab.stoi[TRG.pad_token]\n",
    "    \n",
    "enc = Encoder(INPUT_DIM, EMB_DIM, HID_DIM, ENC_LAYERS, ENC_KERNEL_SIZE, ENC_DROPOUT, device)\n",
    "dec = Decoder(OUTPUT_DIM, EMB_DIM, HID_DIM, DEC_LAYERS, DEC_KERNEL_SIZE, DEC_DROPOUT, TRG_PAD_IDX, device)\n",
    "\n",
    "model_conv = Seq2Seq(enc, dec).to(device)\n",
    "\n",
    "def count_parameters(model_conv):\n",
    "    return sum(p.numel() for p in model_conv.parameters() if p.requires_grad)\n",
    "\n",
    "print(f'The model_conv has {count_parameters(model_conv):,} trainable parameters')"
   ]
  },
  {
   "cell_type": "code",
   "execution_count": 25,
   "id": "2c1ca2ca",
   "metadata": {
    "execution": {
     "iopub.execute_input": "2021-11-21T09:55:13.205302Z",
     "iopub.status.busy": "2021-11-21T09:55:13.204414Z",
     "iopub.status.idle": "2021-11-21T09:55:13.207862Z",
     "shell.execute_reply": "2021-11-21T09:55:13.207437Z",
     "shell.execute_reply.started": "2021-11-21T07:50:11.403725Z"
    },
    "papermill": {
     "duration": 0.303585,
     "end_time": "2021-11-21T09:55:13.207983",
     "exception": false,
     "start_time": "2021-11-21T09:55:12.904398",
     "status": "completed"
    },
    "tags": []
   },
   "outputs": [],
   "source": [
    "optimizer = optim.Adam(model_conv.parameters())\n",
    "criterion = nn.CrossEntropyLoss(ignore_index = TRG_PAD_IDX)"
   ]
  },
  {
   "cell_type": "code",
   "execution_count": 26,
   "id": "33d73325",
   "metadata": {
    "execution": {
     "iopub.execute_input": "2021-11-21T09:55:13.827442Z",
     "iopub.status.busy": "2021-11-21T09:55:13.825852Z",
     "iopub.status.idle": "2021-11-21T09:55:13.838301Z",
     "shell.execute_reply": "2021-11-21T09:55:13.837762Z",
     "shell.execute_reply.started": "2021-11-21T07:50:11.410845Z"
    },
    "papermill": {
     "duration": 0.331797,
     "end_time": "2021-11-21T09:55:13.838431",
     "exception": false,
     "start_time": "2021-11-21T09:55:13.506634",
     "status": "completed"
    },
    "tags": []
   },
   "outputs": [],
   "source": [
    "def train(model_conv, iterator, optimizer, criterion, clip):\n",
    "    \n",
    "    model_conv.train()    \n",
    "    epoch_loss = 0\n",
    "    \n",
    "    for i, batch in enumerate(iterator):\n",
    "        \n",
    "        src = batch.src\n",
    "        trg = batch.trg        \n",
    "        optimizer.zero_grad()        \n",
    "        output, _ = model_conv(src, trg[:,:-1])        \n",
    "        output_dim = output.shape[-1]        \n",
    "        output = output.contiguous().view(-1, output_dim)\n",
    "        trg = trg[:,1:].contiguous().view(-1)        \n",
    "        loss = criterion(output, trg)        \n",
    "        loss.backward()        \n",
    "        torch.nn.utils.clip_grad_norm_(model_conv.parameters(), clip)        \n",
    "        optimizer.step()        \n",
    "        epoch_loss += loss.item()\n",
    "        \n",
    "    return epoch_loss / len(iterator)\n",
    "\n",
    "def evaluate(model_conv, iterator, criterion):\n",
    "    \n",
    "    model_conv.eval()    \n",
    "    epoch_loss = 0\n",
    "    \n",
    "    with torch.no_grad():\n",
    "    \n",
    "        for i, batch in enumerate(iterator):\n",
    "\n",
    "            src = batch.src\n",
    "            trg = batch.trg\n",
    "            output, _ = model_conv(src, trg[:,:-1])\n",
    "        \n",
    "            #output = [batch size, trg len - 1, output dim]\n",
    "            #trg = [batch size, trg len]\n",
    "\n",
    "            output_dim = output.shape[-1]            \n",
    "            output = output.contiguous().view(-1, output_dim)\n",
    "            trg = trg[:,1:].contiguous().view(-1)           \n",
    "            loss = criterion(output, trg)\n",
    "            epoch_loss += loss.item()\n",
    "        \n",
    "    return epoch_loss / len(iterator)"
   ]
  },
  {
   "cell_type": "code",
   "execution_count": 27,
   "id": "31839b00",
   "metadata": {
    "execution": {
     "iopub.execute_input": "2021-11-21T09:55:14.457512Z",
     "iopub.status.busy": "2021-11-21T09:55:14.456829Z",
     "iopub.status.idle": "2021-11-21T09:55:14.458457Z",
     "shell.execute_reply": "2021-11-21T09:55:14.458008Z",
     "shell.execute_reply.started": "2021-11-21T07:50:11.424414Z"
    },
    "papermill": {
     "duration": 0.325686,
     "end_time": "2021-11-21T09:55:14.458570",
     "exception": false,
     "start_time": "2021-11-21T09:55:14.132884",
     "status": "completed"
    },
    "tags": []
   },
   "outputs": [],
   "source": [
    "def epoch_time(start_time, end_time):\n",
    "    elapsed_time = end_time - start_time\n",
    "    elapsed_mins = int(elapsed_time / 60)\n",
    "    elapsed_secs = int(elapsed_time - (elapsed_mins * 60))\n",
    "    return elapsed_mins, elapsed_secs"
   ]
  },
  {
   "cell_type": "code",
   "execution_count": 28,
   "id": "03cfebf8",
   "metadata": {
    "execution": {
     "iopub.execute_input": "2021-11-21T09:55:15.069431Z",
     "iopub.status.busy": "2021-11-21T09:55:15.064257Z",
     "iopub.status.idle": "2021-11-21T10:27:47.242421Z",
     "shell.execute_reply": "2021-11-21T10:27:47.243324Z",
     "shell.execute_reply.started": "2021-11-21T07:50:11.439066Z"
    },
    "papermill": {
     "duration": 1952.496188,
     "end_time": "2021-11-21T10:27:47.243584",
     "exception": false,
     "start_time": "2021-11-21T09:55:14.747396",
     "status": "completed"
    },
    "tags": []
   },
   "outputs": [
    {
     "name": "stdout",
     "output_type": "stream",
     "text": [
      "Epoch: 01 | Time: 6m 0s\n",
      "\tTrain Loss: 3.497 | Train PPL:  33.025\n",
      "\t Test. Loss: 2.302 |  Test. PPL:   9.989\n",
      "Epoch: 02 | Time: 6m 0s\n",
      "\tTrain Loss: 2.362 | Train PPL:  10.609\n",
      "\t Test. Loss: 1.892 |  Test. PPL:   6.632\n",
      "Epoch: 03 | Time: 6m 0s\n",
      "\tTrain Loss: 2.050 | Train PPL:   7.765\n",
      "\t Test. Loss: 1.716 |  Test. PPL:   5.561\n",
      "Epoch: 04 | Time: 6m 0s\n",
      "\tTrain Loss: 1.865 | Train PPL:   6.457\n",
      "\t Test. Loss: 1.600 |  Test. PPL:   4.955\n",
      "Epoch: 05 | Time: 5m 59s\n",
      "\tTrain Loss: 1.734 | Train PPL:   5.663\n",
      "\t Test. Loss: 1.524 |  Test. PPL:   4.592\n"
     ]
    }
   ],
   "source": [
    "N_EPOCHS = 5\n",
    "CLIP = 0.1\n",
    "\n",
    "best_valid_loss = float('inf')\n",
    "\n",
    "for epoch in range(N_EPOCHS):\n",
    "    \n",
    "    start_time = time.time()\n",
    "    \n",
    "    train_loss = train(model_conv, train_iterator, optimizer, criterion, CLIP)\n",
    "    \n",
    "    end_time = time.time()\n",
    "    \n",
    "    epoch_mins, epoch_secs = epoch_time(start_time, end_time)\n",
    "\n",
    "    test_loss = evaluate(model_conv, test_iterator, criterion)\n",
    "    torch.save(model_conv.state_dict(), 'tut5-model.pt')\n",
    "    \n",
    "    print(f'Epoch: {epoch+1:02} | Time: {epoch_mins}m {epoch_secs}s')\n",
    "    print(f'\\tTrain Loss: {train_loss:.3f} | Train PPL: {math.exp(train_loss):7.3f}')\n",
    "    print(f'\\t Test. Loss: {test_loss:.3f} |  Test. PPL: {math.exp(test_loss):7.3f}')"
   ]
  },
  {
   "cell_type": "markdown",
   "id": "70887126",
   "metadata": {
    "papermill": {
     "duration": 0.299175,
     "end_time": "2021-11-21T10:27:47.844933",
     "exception": false,
     "start_time": "2021-11-21T10:27:47.545758",
     "status": "completed"
    },
    "tags": []
   },
   "source": [
    "# Inference: Convolutuional"
   ]
  },
  {
   "cell_type": "markdown",
   "id": "f7b29220",
   "metadata": {
    "papermill": {
     "duration": 0.297105,
     "end_time": "2021-11-21T10:27:48.456446",
     "exception": false,
     "start_time": "2021-11-21T10:27:48.159341",
     "status": "completed"
    },
    "tags": []
   },
   "source": [
    "# 예시 확인"
   ]
  },
  {
   "cell_type": "code",
   "execution_count": 29,
   "id": "4d3308a6",
   "metadata": {
    "execution": {
     "iopub.execute_input": "2021-11-21T10:27:49.067454Z",
     "iopub.status.busy": "2021-11-21T10:27:49.066709Z",
     "iopub.status.idle": "2021-11-21T10:27:49.069632Z",
     "shell.execute_reply": "2021-11-21T10:27:49.070136Z",
     "shell.execute_reply.started": "2021-11-21T08:23:11.450628Z"
    },
    "papermill": {
     "duration": 0.308469,
     "end_time": "2021-11-21T10:27:49.070322",
     "exception": false,
     "start_time": "2021-11-21T10:27:48.761853",
     "status": "completed"
    },
    "tags": []
   },
   "outputs": [],
   "source": [
    "def basic_clean_ko(text):\n",
    "    text = re.split('(\\d+)', text) # 숫자와 글자 분리\n",
    "    return ' '.join(text)\n",
    "\n",
    "def sent_tok_korean(text):\n",
    "   # text = re.sub(r'[^\\w\\s]', '', text) # 구두점 제거 \n",
    "    text = text.replace('  ', ' ') # 다중 공백 제거\n",
    "    text = re.split('([가-힣]+[^\\w\\s])', text) # 구두점과 글자 분리    \n",
    "    return ''.join(text) # 단어 분리   "
   ]
  },
  {
   "cell_type": "code",
   "execution_count": 30,
   "id": "e988ecf6",
   "metadata": {
    "execution": {
     "iopub.execute_input": "2021-11-21T10:27:49.682663Z",
     "iopub.status.busy": "2021-11-21T10:27:49.681816Z",
     "iopub.status.idle": "2021-11-21T10:27:49.685423Z",
     "shell.execute_reply": "2021-11-21T10:27:49.685838Z",
     "shell.execute_reply.started": "2021-11-21T08:23:12.244196Z"
    },
    "papermill": {
     "duration": 0.317605,
     "end_time": "2021-11-21T10:27:49.685977",
     "exception": false,
     "start_time": "2021-11-21T10:27:49.368372",
     "status": "completed"
    },
    "tags": []
   },
   "outputs": [],
   "source": [
    "## 형태소 분석을 할 경우\n",
    "\n",
    "sen_list_morph = [\n",
    "'모든 액체 , 젤 , 에어로졸 등 은 1 커트 짜리 여닫이 투명 봉지 하나 에 넣 어야 하 ㅂ니다 .',\n",
    "'미안 하 지만 , 뒷쪽 아이 들 의 떠들 는 소리 가 커 어서 , 광화문 으로 가 아고 싶 은데 표 를 바꾸 어 주 시 겠 어요 ?',\n",
    "'은행 이 너무 멀 어서 안 되 겠 네요 . 현찰 이 필요 하면 돈 을 훔치 시 어요',\n",
    "'아무래도 분실 하 ㄴ 것 같 으니 분실 신고서 를 작성 하 아야 하 겠 습니다 . 사무실 로 같이 가 시 ㄹ 까요 ?',\n",
    "'부산 에서 코로나 확진자 가 급증 하 아서 병상 이 부족하 아 지자  확진자 20명 을 대구 로 이송하 ㄴ다 .',\n",
    "'변기 가 막히 었 습니다 .',\n",
    "'그 바지 좀 보이 어 주 시 ㅂ시오 . 이거 얼마 에 사 ㄹ 수 있 는 것 이 ㅂ니까 ?',\n",
    "'비 가 오 아서 백화점 으로 가지 말 고 두타 로 가 았 으면 좋 겠 습니다 .',\n",
    "'속 이 안 좋 을 때 는 죽 이나 미음 으로 아침 을 대신 하 ㅂ니다',\n",
    "'문 대통령 은 집단 이익 에서 벗어 나 아 라고 말 하 었 다 .',\n",
    "'이것 좀 먹어 보 ㄹ 몇 일 간 의 시간 을 주 시 어요 .',\n",
    "'이날 개미군단 은 외인 의 물량 을 모두 받 아 내 었 다 .',\n",
    "'통합 우승 의 목표 를 달성하 ㄴ NC 다이노스 나성범 이 메이저리그 진출 이라는 또 다른 꿈 을 향하 어 나아가 ㄴ다 .',\n",
    "'이번 구조 조정 이 제품 을 효과 적 으로 개발 하 고 판매 하 기 위하 ㄴ 회사 의 능력 강화 조처 이 ㅁ 을 이해 하 아 주 시 리라 생각 하 ㅂ니다 .',\n",
    "'요즘 이 프로그램 녹화 하 며 많은 걸 느끼 ㄴ다 '\n",
    "'배낭 여행 은 우리 들 이 어리었을 때 허용 되 지 않 으면 우울 하 아 하 ㄴ다'\n",
    "'그 소녀 는 단지 늑대 처럼 울부짖 을 수 있 을 뿐 이 었 다']\n",
    " \n",
    "sent_morph = pd.DataFrame(sen_list_morph, columns = [\"sentences\"])\n",
    "sent_morph[\"clean_Korean\"] = sent_morph[\"sentences\"].apply(basic_clean_ko)\n",
    "sent_morph[\"clean_Korean\"] = sent_morph[\"clean_Korean\"].apply(sent_tok_korean)\n",
    "sent_morph = sent_morph[\"clean_Korean\"]\n",
    "sent_morph.to_csv(\"sent_morph\")"
   ]
  },
  {
   "cell_type": "code",
   "execution_count": 31,
   "id": "106b0aa6",
   "metadata": {
    "execution": {
     "iopub.execute_input": "2021-11-21T10:27:50.292842Z",
     "iopub.status.busy": "2021-11-21T10:27:50.292203Z",
     "iopub.status.idle": "2021-11-21T10:27:50.295225Z",
     "shell.execute_reply": "2021-11-21T10:27:50.295631Z",
     "shell.execute_reply.started": "2021-11-21T08:23:13.463255Z"
    },
    "papermill": {
     "duration": 0.315845,
     "end_time": "2021-11-21T10:27:50.295762",
     "exception": false,
     "start_time": "2021-11-21T10:27:49.979917",
     "status": "completed"
    },
    "tags": []
   },
   "outputs": [
    {
     "data": {
      "text/html": [
       "<div>\n",
       "<style scoped>\n",
       "    .dataframe tbody tr th:only-of-type {\n",
       "        vertical-align: middle;\n",
       "    }\n",
       "\n",
       "    .dataframe tbody tr th {\n",
       "        vertical-align: top;\n",
       "    }\n",
       "\n",
       "    .dataframe thead th {\n",
       "        text-align: right;\n",
       "    }\n",
       "</style>\n",
       "<table border=\"1\" class=\"dataframe\">\n",
       "  <thead>\n",
       "    <tr style=\"text-align: right;\">\n",
       "      <th></th>\n",
       "      <th>Unnamed: 0</th>\n",
       "      <th>clean_Korean</th>\n",
       "      <th>trg</th>\n",
       "    </tr>\n",
       "  </thead>\n",
       "  <tbody>\n",
       "    <tr>\n",
       "      <th>0</th>\n",
       "      <td>0</td>\n",
       "      <td>모든 액체 , 젤 , 에어로졸 등 은 1 커트 짜리 여닫이 투명 봉지 하나 에 넣 어야 하 ㅂ니다 .</td>\n",
       "      <td></td>\n",
       "    </tr>\n",
       "    <tr>\n",
       "      <th>1</th>\n",
       "      <td>1</td>\n",
       "      <td>미안 하 지만 , 뒷쪽 아이 들 의 떠들 는 소리 가 커 어서 , 광화문 으로 가 아고 싶 은데 표 를 바꾸 어 주 시 겠 어요 ?</td>\n",
       "      <td></td>\n",
       "    </tr>\n",
       "    <tr>\n",
       "      <th>2</th>\n",
       "      <td>2</td>\n",
       "      <td>은행 이 너무 멀 어서 안 되 겠 네요 . 현찰 이 필요 하면 돈 을 훔치 시 어요</td>\n",
       "      <td></td>\n",
       "    </tr>\n",
       "    <tr>\n",
       "      <th>3</th>\n",
       "      <td>3</td>\n",
       "      <td>아무래도 분실 하 ㄴ 것 같 으니 분실 신고서 를 작성 하 아야 하 겠 습니다 . 사무실 로 같이 가 시 ㄹ 까요 ?</td>\n",
       "      <td></td>\n",
       "    </tr>\n",
       "    <tr>\n",
       "      <th>4</th>\n",
       "      <td>4</td>\n",
       "      <td>부산 에서 코로나 확진자 가 급증 하 아서 병상 이 부족하 아 지자 확진자 20 명 을 대구 로 이송하 ㄴ다 .</td>\n",
       "      <td></td>\n",
       "    </tr>\n",
       "    <tr>\n",
       "      <th>5</th>\n",
       "      <td>5</td>\n",
       "      <td>변기 가 막히 었 습니다 .</td>\n",
       "      <td></td>\n",
       "    </tr>\n",
       "    <tr>\n",
       "      <th>6</th>\n",
       "      <td>6</td>\n",
       "      <td>그 바지 좀 보이 어 주 시 ㅂ시오 . 이거 얼마 에 사 ㄹ 수 있 는 것 이 ㅂ니까 ?</td>\n",
       "      <td></td>\n",
       "    </tr>\n",
       "    <tr>\n",
       "      <th>7</th>\n",
       "      <td>7</td>\n",
       "      <td>비 가 오 아서 백화점 으로 가지 말 고 두타 로 가 았 으면 좋 겠 습니다 .</td>\n",
       "      <td></td>\n",
       "    </tr>\n",
       "    <tr>\n",
       "      <th>8</th>\n",
       "      <td>8</td>\n",
       "      <td>속 이 안 좋 을 때 는 죽 이나 미음 으로 아침 을 대신 하 ㅂ니다</td>\n",
       "      <td></td>\n",
       "    </tr>\n",
       "    <tr>\n",
       "      <th>9</th>\n",
       "      <td>9</td>\n",
       "      <td>문 대통령 은 집단 이익 에서 벗어 나 아 라고 말 하 었 다 .</td>\n",
       "      <td></td>\n",
       "    </tr>\n",
       "    <tr>\n",
       "      <th>10</th>\n",
       "      <td>10</td>\n",
       "      <td>이것 좀 먹어 보 ㄹ 몇 일 간 의 시간 을 주 시 어요 .</td>\n",
       "      <td></td>\n",
       "    </tr>\n",
       "    <tr>\n",
       "      <th>11</th>\n",
       "      <td>11</td>\n",
       "      <td>이날 개미군단 은 외인 의 물량 을 모두 받 아 내 었 다 .</td>\n",
       "      <td></td>\n",
       "    </tr>\n",
       "    <tr>\n",
       "      <th>12</th>\n",
       "      <td>12</td>\n",
       "      <td>통합 우승 의 목표 를 달성하 ㄴ NC 다이노스 나성범 이 메이저리그 진출 이라는 또 다른 꿈 을 향하 어 나아가 ㄴ다 .</td>\n",
       "      <td></td>\n",
       "    </tr>\n",
       "    <tr>\n",
       "      <th>13</th>\n",
       "      <td>13</td>\n",
       "      <td>이번 구조 조정 이 제품 을 효과 적 으로 개발 하 고 판매 하 기 위하 ㄴ 회사 의 능력 강화 조처 이 ㅁ 을 이해 하 아 주 시 리라 생각 하 ㅂ니다 .</td>\n",
       "      <td></td>\n",
       "    </tr>\n",
       "    <tr>\n",
       "      <th>14</th>\n",
       "      <td>14</td>\n",
       "      <td>요즘 이 프로그램 녹화 하 며 많은 걸 느끼 ㄴ다 배낭 여행 은 우리 들 이 어리었을 때 허용 되 지 않 으면 우울 하 아 하 ㄴ다그 소녀 는 단지 늑대 처럼 울부짖 을 수 있 을 뿐 이 었 다</td>\n",
       "      <td></td>\n",
       "    </tr>\n",
       "  </tbody>\n",
       "</table>\n",
       "</div>"
      ],
      "text/plain": [
       "    Unnamed: 0  \\\n",
       "0            0   \n",
       "1            1   \n",
       "2            2   \n",
       "3            3   \n",
       "4            4   \n",
       "5            5   \n",
       "6            6   \n",
       "7            7   \n",
       "8            8   \n",
       "9            9   \n",
       "10          10   \n",
       "11          11   \n",
       "12          12   \n",
       "13          13   \n",
       "14          14   \n",
       "\n",
       "                                                                                                    clean_Korean  \\\n",
       "0                                                       모든 액체 , 젤 , 에어로졸 등 은 1 커트 짜리 여닫이 투명 봉지 하나 에 넣 어야 하 ㅂ니다 .   \n",
       "1                                      미안 하 지만 , 뒷쪽 아이 들 의 떠들 는 소리 가 커 어서 , 광화문 으로 가 아고 싶 은데 표 를 바꾸 어 주 시 겠 어요 ?   \n",
       "2                                                                 은행 이 너무 멀 어서 안 되 겠 네요 . 현찰 이 필요 하면 돈 을 훔치 시 어요   \n",
       "3                                              아무래도 분실 하 ㄴ 것 같 으니 분실 신고서 를 작성 하 아야 하 겠 습니다 . 사무실 로 같이 가 시 ㄹ 까요 ?   \n",
       "4                                                 부산 에서 코로나 확진자 가 급증 하 아서 병상 이 부족하 아 지자 확진자 20 명 을 대구 로 이송하 ㄴ다 .   \n",
       "5                                                                                                변기 가 막히 었 습니다 .   \n",
       "6                                                              그 바지 좀 보이 어 주 시 ㅂ시오 . 이거 얼마 에 사 ㄹ 수 있 는 것 이 ㅂ니까 ?   \n",
       "7                                                                   비 가 오 아서 백화점 으로 가지 말 고 두타 로 가 았 으면 좋 겠 습니다 .   \n",
       "8                                                                         속 이 안 좋 을 때 는 죽 이나 미음 으로 아침 을 대신 하 ㅂ니다   \n",
       "9                                                                           문 대통령 은 집단 이익 에서 벗어 나 아 라고 말 하 었 다 .   \n",
       "10                                                                             이것 좀 먹어 보 ㄹ 몇 일 간 의 시간 을 주 시 어요 .   \n",
       "11                                                                            이날 개미군단 은 외인 의 물량 을 모두 받 아 내 었 다 .   \n",
       "12                                          통합 우승 의 목표 를 달성하 ㄴ NC 다이노스 나성범 이 메이저리그 진출 이라는 또 다른 꿈 을 향하 어 나아가 ㄴ다 .   \n",
       "13                       이번 구조 조정 이 제품 을 효과 적 으로 개발 하 고 판매 하 기 위하 ㄴ 회사 의 능력 강화 조처 이 ㅁ 을 이해 하 아 주 시 리라 생각 하 ㅂ니다 .   \n",
       "14  요즘 이 프로그램 녹화 하 며 많은 걸 느끼 ㄴ다 배낭 여행 은 우리 들 이 어리었을 때 허용 되 지 않 으면 우울 하 아 하 ㄴ다그 소녀 는 단지 늑대 처럼 울부짖 을 수 있 을 뿐 이 었 다   \n",
       "\n",
       "   trg  \n",
       "0       \n",
       "1       \n",
       "2       \n",
       "3       \n",
       "4       \n",
       "5       \n",
       "6       \n",
       "7       \n",
       "8       \n",
       "9       \n",
       "10      \n",
       "11      \n",
       "12      \n",
       "13      \n",
       "14      "
      ]
     },
     "execution_count": 31,
     "metadata": {},
     "output_type": "execute_result"
    }
   ],
   "source": [
    "reading_sent = pd.read_csv(\"./sent_morph\")\n",
    "reading_sent[\"trg\"] = \"\"\n",
    "reading_sent"
   ]
  },
  {
   "cell_type": "code",
   "execution_count": 32,
   "id": "4810b893",
   "metadata": {
    "execution": {
     "iopub.execute_input": "2021-11-21T10:27:50.899663Z",
     "iopub.status.busy": "2021-11-21T10:27:50.898820Z",
     "iopub.status.idle": "2021-11-21T10:27:52.745031Z",
     "shell.execute_reply": "2021-11-21T10:27:52.744059Z",
     "shell.execute_reply.started": "2021-11-21T08:23:18.802350Z"
    },
    "papermill": {
     "duration": 2.15479,
     "end_time": "2021-11-21T10:27:52.745205",
     "exception": false,
     "start_time": "2021-11-21T10:27:50.590415",
     "status": "completed"
    },
    "tags": []
   },
   "outputs": [],
   "source": [
    "Raw_datafields = [(\"Unnamed:0\", None), (\"src\", SRC), (\"trg\", TRG)]\n",
    "\n",
    "sent_data = data.TabularDataset(\n",
    "        path='./sent_morph',\n",
    "        format='csv',\n",
    "        skip_header=True, \n",
    "        fields=Raw_datafields) \n",
    "\n",
    "SRC.build_vocab(train_data, min_freq = 1)\n",
    "TRG.build_vocab(train_data, min_freq = 1)"
   ]
  },
  {
   "cell_type": "code",
   "execution_count": 33,
   "id": "ba37cb6b",
   "metadata": {
    "execution": {
     "iopub.execute_input": "2021-11-21T10:27:53.363652Z",
     "iopub.status.busy": "2021-11-21T10:27:53.358774Z",
     "iopub.status.idle": "2021-11-21T10:27:53.365883Z",
     "shell.execute_reply": "2021-11-21T10:27:53.365444Z",
     "shell.execute_reply.started": "2021-11-21T08:23:20.794116Z"
    },
    "papermill": {
     "duration": 0.312296,
     "end_time": "2021-11-21T10:27:53.366005",
     "exception": false,
     "start_time": "2021-11-21T10:27:53.053709",
     "status": "completed"
    },
    "tags": []
   },
   "outputs": [],
   "source": [
    "def translate_sentence(sentence, src_field, trg_field, model_conv, device, max_len = 50):\n",
    "\n",
    "    model_conv.eval()\n",
    "        \n",
    "    if isinstance(sentence, str):\n",
    "        \n",
    "        tokens = [token.text.lower() for token in tok_korean(sentence)]\n",
    "    else:\n",
    "        tokens = [token.lower() for token in sentence]\n",
    "\n",
    "    tokens = [src_field.init_token] + tokens + [src_field.eos_token]        \n",
    "    src_indexes = [src_field.vocab.stoi[token] for token in tokens]\n",
    "    src_tensor = torch.LongTensor(src_indexes).unsqueeze(0).to(device)\n",
    "\n",
    "    with torch.no_grad():\n",
    "        encoder_conved, encoder_combined = model_conv.encoder(src_tensor)\n",
    "\n",
    "    trg_indexes = [trg_field.vocab.stoi[trg_field.init_token]]\n",
    "\n",
    "    for i in range(max_len):\n",
    "\n",
    "        trg_tensor = torch.LongTensor(trg_indexes).unsqueeze(0).to(device)\n",
    "\n",
    "        with torch.no_grad():\n",
    "            output, attention = model_conv.decoder(trg_tensor, encoder_conved, encoder_combined)\n",
    "        \n",
    "        pred_token = output.argmax(2)[:,-1].item()        \n",
    "        trg_indexes.append(pred_token)\n",
    "\n",
    "        if pred_token == trg_field.vocab.stoi[trg_field.eos_token]:\n",
    "            break\n",
    "    \n",
    "    trg_tokens = [trg_field.vocab.itos[i] for i in trg_indexes]\n",
    "    \n",
    "    return trg_tokens[1:], attention\n",
    "\n",
    "def display_attention(sentence, translation, attention):\n",
    "    \n",
    "    fig = plt.figure(figsize=(10,10))\n",
    "    ax = fig.add_subplot(111)        \n",
    "    attention = attention.squeeze(0).cpu().detach().numpy()    \n",
    "    cax = ax.matshow(attention, cmap='bone')   \n",
    "    ax.tick_params(labelsize=15)\n",
    "    ax.set_xticklabels(['']+['<sos>']+[t.lower() for t in sentence]+['<eos>'], \n",
    "                       rotation=45)\n",
    "    ax.set_yticklabels(['']+translation)\n",
    "    ax.xaxis.set_major_locator(ticker.MultipleLocator(1))\n",
    "    ax.yaxis.set_major_locator(ticker.MultipleLocator(1))\n",
    "\n",
    "    plt.show()\n",
    "    plt.close()"
   ]
  },
  {
   "cell_type": "code",
   "execution_count": 34,
   "id": "15e7d803",
   "metadata": {
    "execution": {
     "iopub.execute_input": "2021-11-21T10:27:53.965728Z",
     "iopub.status.busy": "2021-11-21T10:27:53.964243Z",
     "iopub.status.idle": "2021-11-21T10:27:55.678471Z",
     "shell.execute_reply": "2021-11-21T10:27:55.677756Z",
     "shell.execute_reply.started": "2021-11-21T08:24:43.710961Z"
    },
    "papermill": {
     "duration": 2.012555,
     "end_time": "2021-11-21T10:27:55.678609",
     "exception": false,
     "start_time": "2021-11-21T10:27:53.666054",
     "status": "completed"
    },
    "tags": []
   },
   "outputs": [
    {
     "data": {
      "text/html": [
       "<div>\n",
       "<style scoped>\n",
       "    .dataframe tbody tr th:only-of-type {\n",
       "        vertical-align: middle;\n",
       "    }\n",
       "\n",
       "    .dataframe tbody tr th {\n",
       "        vertical-align: top;\n",
       "    }\n",
       "\n",
       "    .dataframe thead th {\n",
       "        text-align: right;\n",
       "    }\n",
       "</style>\n",
       "<table border=\"1\" class=\"dataframe\">\n",
       "  <thead>\n",
       "    <tr style=\"text-align: right;\">\n",
       "      <th></th>\n",
       "      <th>Unnamed: 0</th>\n",
       "      <th>clean_Korean</th>\n",
       "      <th>trg</th>\n",
       "    </tr>\n",
       "  </thead>\n",
       "  <tbody>\n",
       "    <tr>\n",
       "      <th>0</th>\n",
       "      <td>0</td>\n",
       "      <td>모든 액체 , 젤 , 에어로졸 등 은 1 커트 짜리 여닫이 투명 봉지 하나 에 넣 어야 하 ㅂ니다 .</td>\n",
       "      <td>all liquids , gels , gels , aerosols , aerosols , aerosols , aerosols , aerosols , aerosols , aerosols , zip-top , aerosols . &lt;eos&gt;</td>\n",
       "    </tr>\n",
       "    <tr>\n",
       "      <th>1</th>\n",
       "      <td>1</td>\n",
       "      <td>미안 하 지만 , 뒷쪽 아이 들 의 떠들 는 소리 가 커 어서 , 광화문 으로 가 아고 싶 은데 표 를 바꾸 어 주 시 겠 어요 ?</td>\n",
       "      <td>i am sorry , but i want to change the noise , would you please change the ticket to gwanghwamun ? &lt;eos&gt;</td>\n",
       "    </tr>\n",
       "    <tr>\n",
       "      <th>2</th>\n",
       "      <td>2</td>\n",
       "      <td>은행 이 너무 멀 어서 안 되 겠 네요 . 현찰 이 필요 하면 돈 을 훔치 시 어요</td>\n",
       "      <td>the bank is too far . you can have a cash money . &lt;eos&gt;</td>\n",
       "    </tr>\n",
       "    <tr>\n",
       "      <th>3</th>\n",
       "      <td>3</td>\n",
       "      <td>아무래도 분실 하 ㄴ 것 같 으니 분실 신고서 를 작성 하 아야 하 겠 습니다 . 사무실 로 같이 가 시 ㄹ 까요 ?</td>\n",
       "      <td>i think you have lost the lost report , i will have to fill out the office form ? &lt;eos&gt;</td>\n",
       "    </tr>\n",
       "    <tr>\n",
       "      <th>4</th>\n",
       "      <td>4</td>\n",
       "      <td>부산 에서 코로나 확진자 가 급증 하 아서 병상 이 부족하 아 지자 확진자 20 명 을 대구 로 이송하 ㄴ다 .</td>\n",
       "      <td>the food is the most specialty in busan , and the keyboard is the best of the busan . &lt;eos&gt;</td>\n",
       "    </tr>\n",
       "    <tr>\n",
       "      <th>5</th>\n",
       "      <td>5</td>\n",
       "      <td>변기 가 막히 었 습니다 .</td>\n",
       "      <td>the toilet is clogged . the toilet is clogged . &lt;eos&gt;</td>\n",
       "    </tr>\n",
       "    <tr>\n",
       "      <th>6</th>\n",
       "      <td>6</td>\n",
       "      <td>그 바지 좀 보이 어 주 시 ㅂ시오 . 이거 얼마 에 사 ㄹ 수 있 는 것 이 ㅂ니까 ?</td>\n",
       "      <td>please show me the pants , how much is this to buy this pants ? &lt;eos&gt;</td>\n",
       "    </tr>\n",
       "    <tr>\n",
       "      <th>7</th>\n",
       "      <td>7</td>\n",
       "      <td>비 가 오 아서 백화점 으로 가지 말 고 두타 로 가 았 으면 좋 겠 습니다 .</td>\n",
       "      <td>i hope it will rain to the department store and go to duta . &lt;eos&gt;</td>\n",
       "    </tr>\n",
       "    <tr>\n",
       "      <th>8</th>\n",
       "      <td>8</td>\n",
       "      <td>속 이 안 좋 을 때 는 죽 이나 미음 으로 아침 을 대신 하 ㅂ니다</td>\n",
       "      <td>i am afraid i ca not make a little in the morning , i will be in the morning . &lt;eos&gt;</td>\n",
       "    </tr>\n",
       "    <tr>\n",
       "      <th>9</th>\n",
       "      <td>9</td>\n",
       "      <td>문 대통령 은 집단 이익 에서 벗어 나 아 라고 말 하 었 다 .</td>\n",
       "      <td>the doors told me the president of the national president . &lt;eos&gt;</td>\n",
       "    </tr>\n",
       "    <tr>\n",
       "      <th>10</th>\n",
       "      <td>10</td>\n",
       "      <td>이것 좀 먹어 보 ㄹ 몇 일 간 의 시간 을 주 시 어요 .</td>\n",
       "      <td>i would like to have a few time to get this of the time to get this of the time to see this . &lt;eos&gt;</td>\n",
       "    </tr>\n",
       "    <tr>\n",
       "      <th>11</th>\n",
       "      <td>11</td>\n",
       "      <td>이날 개미군단 은 외인 의 물량 을 모두 받 아 내 었 다 .</td>\n",
       "      <td>the shipping was the loss of oeinmyoji . &lt;eos&gt;</td>\n",
       "    </tr>\n",
       "    <tr>\n",
       "      <th>12</th>\n",
       "      <td>12</td>\n",
       "      <td>통합 우승 의 목표 를 달성하 ㄴ NC 다이노스 나성범 이 메이저리그 진출 이라는 또 다른 꿈 을 향하 어 나아가 ㄴ다 .</td>\n",
       "      <td>the baggage of the main , and the best of the luggage , the other dream is the best area . &lt;eos&gt;</td>\n",
       "    </tr>\n",
       "    <tr>\n",
       "      <th>13</th>\n",
       "      <td>13</td>\n",
       "      <td>이번 구조 조정 이 제품 을 효과 적 으로 개발 하 고 판매 하 기 위하 ㄴ 회사 의 능력 강화 조처 이 ㅁ 을 이해 하 아 주 시 리라 생각 하 ㅂ니다 .</td>\n",
       "      <td>the whole of the whole is the firm of the company of the company . &lt;eos&gt;</td>\n",
       "    </tr>\n",
       "    <tr>\n",
       "      <th>14</th>\n",
       "      <td>14</td>\n",
       "      <td>요즘 이 프로그램 녹화 하 며 많은 걸 느끼 ㄴ다 배낭 여행 은 우리 들 이 어리었을 때 허용 되 지 않 으면 우울 하 아 하 ㄴ다그 소녀 는 단지 늑대 처럼 울부짖 을 수 있 을 뿐 이 었 다</td>\n",
       "      <td>the of these days were so than the things of the program , we have to be a little narrow-minded . &lt;eos&gt;</td>\n",
       "    </tr>\n",
       "  </tbody>\n",
       "</table>\n",
       "</div>"
      ],
      "text/plain": [
       "    Unnamed: 0  \\\n",
       "0            0   \n",
       "1            1   \n",
       "2            2   \n",
       "3            3   \n",
       "4            4   \n",
       "5            5   \n",
       "6            6   \n",
       "7            7   \n",
       "8            8   \n",
       "9            9   \n",
       "10          10   \n",
       "11          11   \n",
       "12          12   \n",
       "13          13   \n",
       "14          14   \n",
       "\n",
       "                                                                                                    clean_Korean  \\\n",
       "0                                                       모든 액체 , 젤 , 에어로졸 등 은 1 커트 짜리 여닫이 투명 봉지 하나 에 넣 어야 하 ㅂ니다 .   \n",
       "1                                      미안 하 지만 , 뒷쪽 아이 들 의 떠들 는 소리 가 커 어서 , 광화문 으로 가 아고 싶 은데 표 를 바꾸 어 주 시 겠 어요 ?   \n",
       "2                                                                 은행 이 너무 멀 어서 안 되 겠 네요 . 현찰 이 필요 하면 돈 을 훔치 시 어요   \n",
       "3                                              아무래도 분실 하 ㄴ 것 같 으니 분실 신고서 를 작성 하 아야 하 겠 습니다 . 사무실 로 같이 가 시 ㄹ 까요 ?   \n",
       "4                                                 부산 에서 코로나 확진자 가 급증 하 아서 병상 이 부족하 아 지자 확진자 20 명 을 대구 로 이송하 ㄴ다 .   \n",
       "5                                                                                                변기 가 막히 었 습니다 .   \n",
       "6                                                              그 바지 좀 보이 어 주 시 ㅂ시오 . 이거 얼마 에 사 ㄹ 수 있 는 것 이 ㅂ니까 ?   \n",
       "7                                                                   비 가 오 아서 백화점 으로 가지 말 고 두타 로 가 았 으면 좋 겠 습니다 .   \n",
       "8                                                                         속 이 안 좋 을 때 는 죽 이나 미음 으로 아침 을 대신 하 ㅂ니다   \n",
       "9                                                                           문 대통령 은 집단 이익 에서 벗어 나 아 라고 말 하 었 다 .   \n",
       "10                                                                             이것 좀 먹어 보 ㄹ 몇 일 간 의 시간 을 주 시 어요 .   \n",
       "11                                                                            이날 개미군단 은 외인 의 물량 을 모두 받 아 내 었 다 .   \n",
       "12                                          통합 우승 의 목표 를 달성하 ㄴ NC 다이노스 나성범 이 메이저리그 진출 이라는 또 다른 꿈 을 향하 어 나아가 ㄴ다 .   \n",
       "13                       이번 구조 조정 이 제품 을 효과 적 으로 개발 하 고 판매 하 기 위하 ㄴ 회사 의 능력 강화 조처 이 ㅁ 을 이해 하 아 주 시 리라 생각 하 ㅂ니다 .   \n",
       "14  요즘 이 프로그램 녹화 하 며 많은 걸 느끼 ㄴ다 배낭 여행 은 우리 들 이 어리었을 때 허용 되 지 않 으면 우울 하 아 하 ㄴ다그 소녀 는 단지 늑대 처럼 울부짖 을 수 있 을 뿐 이 었 다   \n",
       "\n",
       "                                                                                                                                    trg  \n",
       "0   all liquids , gels , gels , aerosols , aerosols , aerosols , aerosols , aerosols , aerosols , aerosols , zip-top , aerosols . <eos>  \n",
       "1                               i am sorry , but i want to change the noise , would you please change the ticket to gwanghwamun ? <eos>  \n",
       "2                                                                               the bank is too far . you can have a cash money . <eos>  \n",
       "3                                               i think you have lost the lost report , i will have to fill out the office form ? <eos>  \n",
       "4                                           the food is the most specialty in busan , and the keyboard is the best of the busan . <eos>  \n",
       "5                                                                                 the toilet is clogged . the toilet is clogged . <eos>  \n",
       "6                                                                 please show me the pants , how much is this to buy this pants ? <eos>  \n",
       "7                                                                    i hope it will rain to the department store and go to duta . <eos>  \n",
       "8                                                  i am afraid i ca not make a little in the morning , i will be in the morning . <eos>  \n",
       "9                                                                     the doors told me the president of the national president . <eos>  \n",
       "10                                  i would like to have a few time to get this of the time to get this of the time to see this . <eos>  \n",
       "11                                                                                       the shipping was the loss of oeinmyoji . <eos>  \n",
       "12                                     the baggage of the main , and the best of the luggage , the other dream is the best area . <eos>  \n",
       "13                                                             the whole of the whole is the firm of the company of the company . <eos>  \n",
       "14                              the of these days were so than the things of the program , we have to be a little narrow-minded . <eos>  "
      ]
     },
     "execution_count": 34,
     "metadata": {},
     "output_type": "execute_result"
    }
   ],
   "source": [
    "pred_sent = []\n",
    "\n",
    "for i in range(len(sent_data)):\n",
    "    src = vars(sent_data[i])['src']\n",
    "    translation, attention = translate_sentence(src, SRC, TRG, model_conv, device)\n",
    "    translation = ' '.join(translation)\n",
    "    pred_sent.append(translation)\n",
    "    \n",
    "pred = pd.DataFrame(pred_sent, columns = [\"pred_sentences\"])\n",
    "\n",
    "reading_sent[\"trg\"] = pred[\"pred_sentences\"]\n",
    "reading_sent"
   ]
  },
  {
   "cell_type": "code",
   "execution_count": 35,
   "id": "5f81528a",
   "metadata": {
    "execution": {
     "iopub.execute_input": "2021-11-21T10:27:56.284863Z",
     "iopub.status.busy": "2021-11-21T10:27:56.283932Z",
     "iopub.status.idle": "2021-11-21T10:27:56.285796Z",
     "shell.execute_reply": "2021-11-21T10:27:56.286302Z",
     "shell.execute_reply.started": "2021-11-21T08:25:25.678504Z"
    },
    "papermill": {
     "duration": 0.317275,
     "end_time": "2021-11-21T10:27:56.286455",
     "exception": false,
     "start_time": "2021-11-21T10:27:55.969180",
     "status": "completed"
    },
    "tags": []
   },
   "outputs": [],
   "source": [
    "## 어절단위로 결합하여 할 경우\n",
    "\n",
    "sen_list_eojeol = [\n",
    "'모든 액체, 젤, 에어로졸 등은 1커트 짜리 여닫이 투명 봉지 하나에 넣어야 합니다.',\n",
    "'미안하지만 , 뒷쪽 아이들의 떠드는 소리가 커서 , 광화문으로 가고 싶은데 표를 바꾸어 주시겠어요?',\n",
    "'은행이 너무 멀어서 안되겠네요. 현찰이 필요하면 돈을 훔치세요',\n",
    "'아무래도 분실한 것 같으니 분실신고서를 작성해야 하겠습니다. 사무실로 같이 가실까요?',\n",
    "'부산에서 코로나 확진자가 급증해서 병상이 부족해지자  확진자 20명을 대구로 이송한다.',\n",
    "'변기가 막히었습니다 .',\n",
    "'그 바지 좀 보여주십시오. 이거 얼마에 살 수 있는 것입니까?',\n",
    "'비가 와서 백화점으로 가지 말고 두타로 갔으면 좋겠습니다 .',\n",
    "'속이 안좋을 때는 죽이나 미음으로 아침을 대신 합니다',\n",
    "'문 대통령은 집단이익에서 벗어나라고 말하였다.',\n",
    "'이것 좀 먹어 볼 몇 일 간의 시간을 주세요.',\n",
    "'이날 개미군단은 외인의 물량을 모두 받아내었다.',\n",
    "'통합 우승의 목표를 달성한 NC 다이노스 나성범이 메이저리그 진출이라는 또다른 꿈을 향해 나아간다.',\n",
    "'이번 구조 조정이 제품을 효과적으로 개발하고 판매하기 위한 회사의 능력 강화 조처임을 이해해 주시리라 생각합니다.',\n",
    "'요즘 이 프로그램 녹화하며 많은 걸 느낀다'\n",
    "'배낭 여행은 우리들이 어렸을 때 허용디지 않으면 우울 해 한다'\n",
    "'그 소녀는 단지 늑대처럼 울부짖을 수 있을 뿐이었다']\n",
    "sent_eojeol = pd.DataFrame(sen_list_eojeol, columns = [\"sentences\"])\n",
    "sent_eojeol[\"clean_Korean\"] = sent_eojeol[\"sentences\"].apply(basic_clean_ko)\n",
    "sent_eojeol[\"clean_Korean\"] = sent_eojeol[\"clean_Korean\"].apply(sent_tok_korean)\n",
    "sent_eojeol = sent_eojeol[\"clean_Korean\"]\n",
    "sent_eojeol.to_csv(\"sent_eojeol\")"
   ]
  },
  {
   "cell_type": "code",
   "execution_count": 36,
   "id": "a8995174",
   "metadata": {
    "execution": {
     "iopub.execute_input": "2021-11-21T10:27:56.883982Z",
     "iopub.status.busy": "2021-11-21T10:27:56.883104Z",
     "iopub.status.idle": "2021-11-21T10:27:59.016709Z",
     "shell.execute_reply": "2021-11-21T10:27:59.017203Z",
     "shell.execute_reply.started": "2021-11-21T08:25:28.955725Z"
    },
    "papermill": {
     "duration": 2.439581,
     "end_time": "2021-11-21T10:27:59.017391",
     "exception": false,
     "start_time": "2021-11-21T10:27:56.577810",
     "status": "completed"
    },
    "tags": []
   },
   "outputs": [],
   "source": [
    "reading_sent2 = pd.read_csv(\"./sent_eojeol\")\n",
    "reading_sent2[\"trg\"] = \"\"\n",
    "\n",
    "Raw_datafields = [(\"Unnamed:0\", None), (\"src\", SRC), (\"trg\", TRG)]\n",
    "\n",
    "sent_data2 = data.TabularDataset(\n",
    "        path='./sent_eojeol',\n",
    "        format='csv',\n",
    "        skip_header=True, \n",
    "        fields=Raw_datafields) \n",
    "\n",
    "SRC.build_vocab(train_data, min_freq = 1)\n",
    "TRG.build_vocab(train_data, min_freq = 1)"
   ]
  },
  {
   "cell_type": "code",
   "execution_count": 37,
   "id": "87acbba0",
   "metadata": {
    "execution": {
     "iopub.execute_input": "2021-11-21T10:27:59.681404Z",
     "iopub.status.busy": "2021-11-21T10:27:59.680525Z",
     "iopub.status.idle": "2021-11-21T10:28:00.681915Z",
     "shell.execute_reply": "2021-11-21T10:28:00.682359Z",
     "shell.execute_reply.started": "2021-11-21T08:25:57.916580Z"
    },
    "papermill": {
     "duration": 1.304746,
     "end_time": "2021-11-21T10:28:00.682506",
     "exception": false,
     "start_time": "2021-11-21T10:27:59.377760",
     "status": "completed"
    },
    "tags": []
   },
   "outputs": [
    {
     "data": {
      "text/html": [
       "<div>\n",
       "<style scoped>\n",
       "    .dataframe tbody tr th:only-of-type {\n",
       "        vertical-align: middle;\n",
       "    }\n",
       "\n",
       "    .dataframe tbody tr th {\n",
       "        vertical-align: top;\n",
       "    }\n",
       "\n",
       "    .dataframe thead th {\n",
       "        text-align: right;\n",
       "    }\n",
       "</style>\n",
       "<table border=\"1\" class=\"dataframe\">\n",
       "  <thead>\n",
       "    <tr style=\"text-align: right;\">\n",
       "      <th></th>\n",
       "      <th>Unnamed: 0</th>\n",
       "      <th>clean_Korean</th>\n",
       "      <th>trg</th>\n",
       "    </tr>\n",
       "  </thead>\n",
       "  <tbody>\n",
       "    <tr>\n",
       "      <th>0</th>\n",
       "      <td>0</td>\n",
       "      <td>모든 액체, 젤, 에어로졸 등은 1 커트 짜리 여닫이 투명 봉지 하나에 넣어야 합니다.</td>\n",
       "      <td>all the specialty are all made for the main 1 and a pair of food , the food ? &lt;eos&gt;</td>\n",
       "    </tr>\n",
       "    <tr>\n",
       "      <th>1</th>\n",
       "      <td>1</td>\n",
       "      <td>미안하지만 , 뒷쪽 아이들의 떠드는 소리가 커서 , 광화문으로 가고 싶은데 표를 바꾸어 주시겠어요?</td>\n",
       "      <td>do you have any special or specialty ? &lt;eos&gt;</td>\n",
       "    </tr>\n",
       "    <tr>\n",
       "      <th>2</th>\n",
       "      <td>2</td>\n",
       "      <td>은행이 너무 멀어서 안되겠네요. 현찰이 필요하면 돈을 훔치세요</td>\n",
       "      <td>is this specialty made specialty ? &lt;eos&gt;</td>\n",
       "    </tr>\n",
       "    <tr>\n",
       "      <th>3</th>\n",
       "      <td>3</td>\n",
       "      <td>아무래도 분실한 것 같으니 분실신고서를 작성해야 하겠습니다. 사무실로 같이 가실까요?</td>\n",
       "      <td>do you have any special food with the food ? &lt;eos&gt;</td>\n",
       "    </tr>\n",
       "    <tr>\n",
       "      <th>4</th>\n",
       "      <td>4</td>\n",
       "      <td>부산에서 코로나 확진자가 급증해서 병상이 부족해지자 확진자 20 명을 대구로 이송한다.</td>\n",
       "      <td>is this special special special food food specialty ? &lt;eos&gt;</td>\n",
       "    </tr>\n",
       "    <tr>\n",
       "      <th>5</th>\n",
       "      <td>5</td>\n",
       "      <td>변기가 막히었습니다 .</td>\n",
       "      <td>this food are working . &lt;eos&gt;</td>\n",
       "    </tr>\n",
       "    <tr>\n",
       "      <th>6</th>\n",
       "      <td>6</td>\n",
       "      <td>그 바지 좀 보여주십시오. 이거 얼마에 살 수 있는 것입니까?</td>\n",
       "      <td>can i buy a pair of food ? &lt;eos&gt;</td>\n",
       "    </tr>\n",
       "    <tr>\n",
       "      <th>7</th>\n",
       "      <td>7</td>\n",
       "      <td>비가 와서 백화점으로 가지 말고 두타로 갔으면 좋겠습니다 .</td>\n",
       "      <td>the food food you have the special food ? &lt;eos&gt;</td>\n",
       "    </tr>\n",
       "    <tr>\n",
       "      <th>8</th>\n",
       "      <td>8</td>\n",
       "      <td>속이 안좋을 때는 죽이나 미음으로 아침을 대신 합니다</td>\n",
       "      <td>do you have any food or specialty ? &lt;eos&gt;</td>\n",
       "    </tr>\n",
       "    <tr>\n",
       "      <th>9</th>\n",
       "      <td>9</td>\n",
       "      <td>문 대통령은 집단이익에서 벗어나라고 말하였다.</td>\n",
       "      <td>do you have the baggage baggage food ? &lt;eos&gt;</td>\n",
       "    </tr>\n",
       "    <tr>\n",
       "      <th>10</th>\n",
       "      <td>10</td>\n",
       "      <td>이것 좀 먹어 볼 몇 일 간의 시간을 주세요.</td>\n",
       "      <td>how many things are this in the main area ? &lt;eos&gt;</td>\n",
       "    </tr>\n",
       "    <tr>\n",
       "      <th>11</th>\n",
       "      <td>11</td>\n",
       "      <td>이날 개미군단은 외인의 물량을 모두 받아내었다.</td>\n",
       "      <td>is the specialty all the baggage ? &lt;eos&gt;</td>\n",
       "    </tr>\n",
       "    <tr>\n",
       "      <th>12</th>\n",
       "      <td>12</td>\n",
       "      <td>통합 우승의 목표를 달성한 NC 다이노스 나성범이 메이저리그 진출이라는 또다른 꿈을 향해 나아간다.</td>\n",
       "      <td>is it made of special specialty specialty in your baggage ? &lt;eos&gt;</td>\n",
       "    </tr>\n",
       "    <tr>\n",
       "      <th>13</th>\n",
       "      <td>13</td>\n",
       "      <td>이번 구조 조정이 제품을 효과적으로 개발하고 판매하기 위한 회사의 능력 강화 조처임을 이해해 주시리라 생각합니다.</td>\n",
       "      <td>is this the baggage food for the specialty ? &lt;eos&gt;</td>\n",
       "    </tr>\n",
       "    <tr>\n",
       "      <th>14</th>\n",
       "      <td>14</td>\n",
       "      <td>요즘 이 프로그램 녹화하며 많은 걸 느낀다배낭 여행은 우리들이 어렸을 때 허용디지 않으면 우울 해 한다그 소녀는 단지 늑대처럼 울부짖을 수 있을 뿐이었다</td>\n",
       "      <td>is this made working working with the specialty of the main food ? &lt;eos&gt;</td>\n",
       "    </tr>\n",
       "  </tbody>\n",
       "</table>\n",
       "</div>"
      ],
      "text/plain": [
       "    Unnamed: 0  \\\n",
       "0            0   \n",
       "1            1   \n",
       "2            2   \n",
       "3            3   \n",
       "4            4   \n",
       "5            5   \n",
       "6            6   \n",
       "7            7   \n",
       "8            8   \n",
       "9            9   \n",
       "10          10   \n",
       "11          11   \n",
       "12          12   \n",
       "13          13   \n",
       "14          14   \n",
       "\n",
       "                                                                             clean_Korean  \\\n",
       "0                                        모든 액체, 젤, 에어로졸 등은 1 커트 짜리 여닫이 투명 봉지 하나에 넣어야 합니다.   \n",
       "1                                 미안하지만 , 뒷쪽 아이들의 떠드는 소리가 커서 , 광화문으로 가고 싶은데 표를 바꾸어 주시겠어요?   \n",
       "2                                                      은행이 너무 멀어서 안되겠네요. 현찰이 필요하면 돈을 훔치세요   \n",
       "3                                         아무래도 분실한 것 같으니 분실신고서를 작성해야 하겠습니다. 사무실로 같이 가실까요?   \n",
       "4                                        부산에서 코로나 확진자가 급증해서 병상이 부족해지자 확진자 20 명을 대구로 이송한다.   \n",
       "5                                                                            변기가 막히었습니다 .   \n",
       "6                                                      그 바지 좀 보여주십시오. 이거 얼마에 살 수 있는 것입니까?   \n",
       "7                                                       비가 와서 백화점으로 가지 말고 두타로 갔으면 좋겠습니다 .   \n",
       "8                                                           속이 안좋을 때는 죽이나 미음으로 아침을 대신 합니다   \n",
       "9                                                               문 대통령은 집단이익에서 벗어나라고 말하였다.   \n",
       "10                                                              이것 좀 먹어 볼 몇 일 간의 시간을 주세요.   \n",
       "11                                                             이날 개미군단은 외인의 물량을 모두 받아내었다.   \n",
       "12                                통합 우승의 목표를 달성한 NC 다이노스 나성범이 메이저리그 진출이라는 또다른 꿈을 향해 나아간다.   \n",
       "13                        이번 구조 조정이 제품을 효과적으로 개발하고 판매하기 위한 회사의 능력 강화 조처임을 이해해 주시리라 생각합니다.   \n",
       "14  요즘 이 프로그램 녹화하며 많은 걸 느낀다배낭 여행은 우리들이 어렸을 때 허용디지 않으면 우울 해 한다그 소녀는 단지 늑대처럼 울부짖을 수 있을 뿐이었다   \n",
       "\n",
       "                                                                                    trg  \n",
       "0   all the specialty are all made for the main 1 and a pair of food , the food ? <eos>  \n",
       "1                                          do you have any special or specialty ? <eos>  \n",
       "2                                              is this specialty made specialty ? <eos>  \n",
       "3                                    do you have any special food with the food ? <eos>  \n",
       "4                           is this special special special food food specialty ? <eos>  \n",
       "5                                                         this food are working . <eos>  \n",
       "6                                                      can i buy a pair of food ? <eos>  \n",
       "7                                       the food food you have the special food ? <eos>  \n",
       "8                                             do you have any food or specialty ? <eos>  \n",
       "9                                          do you have the baggage baggage food ? <eos>  \n",
       "10                                    how many things are this in the main area ? <eos>  \n",
       "11                                             is the specialty all the baggage ? <eos>  \n",
       "12                    is it made of special specialty specialty in your baggage ? <eos>  \n",
       "13                                   is this the baggage food for the specialty ? <eos>  \n",
       "14             is this made working working with the specialty of the main food ? <eos>  "
      ]
     },
     "execution_count": 37,
     "metadata": {},
     "output_type": "execute_result"
    }
   ],
   "source": [
    "pred_sent = []\n",
    "\n",
    "for i in range(len(sent_data2)):\n",
    "    src = vars(sent_data2[i])['src']\n",
    "    translation, attention = translate_sentence(src, SRC, TRG, model_conv, device)\n",
    "    translation = ' '.join(translation)\n",
    "    pred_sent.append(translation)\n",
    "    \n",
    "pred = pd.DataFrame(pred_sent, columns = [\"pred_sentences\"])\n",
    "\n",
    "reading_sent2[\"trg\"] = pred[\"pred_sentences\"]\n",
    "reading_sent2"
   ]
  },
  {
   "cell_type": "code",
   "execution_count": 38,
   "id": "21956e09",
   "metadata": {
    "execution": {
     "iopub.execute_input": "2021-11-21T10:28:01.276964Z",
     "iopub.status.busy": "2021-11-21T10:28:01.276392Z",
     "iopub.status.idle": "2021-11-21T10:28:01.278868Z",
     "shell.execute_reply": "2021-11-21T10:28:01.279273Z",
     "shell.execute_reply.started": "2021-11-21T08:27:38.972946Z"
    },
    "papermill": {
     "duration": 0.305696,
     "end_time": "2021-11-21T10:28:01.279424",
     "exception": false,
     "start_time": "2021-11-21T10:28:00.973728",
     "status": "completed"
    },
    "tags": []
   },
   "outputs": [],
   "source": [
    "from torchtext.data.metrics import bleu_score\n",
    "\n",
    "def calculate_bleu(data, src_field, trg_field, model_conv, device, max_len = 50):\n",
    "    \n",
    "    trgs = []\n",
    "    pred_trgs = []\n",
    "    \n",
    "    for datum in data:\n",
    "        \n",
    "        src = vars(datum)['src']\n",
    "        trg = vars(datum)['trg']\n",
    "        \n",
    "        pred_trg, _ = translate_sentence(src, src_field, trg_field, model_conv, device, max_len)\n",
    "        \n",
    "        #cut off <eos> token\n",
    "        pred_trg = pred_trg[:-1]\n",
    "        \n",
    "        pred_trgs.append(pred_trg)\n",
    "        trgs.append([trg])\n",
    "        \n",
    "    return bleu_score(pred_trgs, trgs)"
   ]
  },
  {
   "cell_type": "code",
   "execution_count": 39,
   "id": "6df4cf70",
   "metadata": {
    "execution": {
     "iopub.execute_input": "2021-11-21T10:28:01.868526Z",
     "iopub.status.busy": "2021-11-21T10:28:01.866938Z",
     "iopub.status.idle": "2021-11-21T11:51:01.676338Z",
     "shell.execute_reply": "2021-11-21T11:51:01.676962Z",
     "shell.execute_reply.started": "2021-11-21T08:27:42.296994Z"
    },
    "papermill": {
     "duration": 4980.107748,
     "end_time": "2021-11-21T11:51:01.677181",
     "exception": false,
     "start_time": "2021-11-21T10:28:01.569433",
     "status": "completed"
    },
    "tags": []
   },
   "outputs": [
    {
     "name": "stdout",
     "output_type": "stream",
     "text": [
      "BLEU score = 27.35\n"
     ]
    }
   ],
   "source": [
    "bleu_score = calculate_bleu(test_data, SRC, TRG,model_conv, device)\n",
    "\n",
    "print(f'BLEU score = {bleu_score*100:.2f}')"
   ]
  },
  {
   "cell_type": "markdown",
   "id": "d5455ad5",
   "metadata": {
    "papermill": {
     "duration": 0.308668,
     "end_time": "2021-11-21T11:51:02.276733",
     "exception": false,
     "start_time": "2021-11-21T11:51:01.968065",
     "status": "completed"
    },
    "tags": []
   },
   "source": [
    "# 정리"
   ]
  },
  {
   "cell_type": "markdown",
   "id": "90ed8e50",
   "metadata": {
    "papermill": {
     "duration": 0.295429,
     "end_time": "2021-11-21T11:51:02.886117",
     "exception": false,
     "start_time": "2021-11-21T11:51:02.590688",
     "status": "completed"
    },
    "tags": []
   },
   "source": [
    "BATCH_SIZE = 256\n",
    "\n",
    "N-EPOCH = 5\n",
    "\n",
    "Train_PPL = 5.663\n",
    "\n",
    "Test_PPL = 4.592\n",
    "\n",
    "BLUE score = 27.36"
   ]
  },
  {
   "cell_type": "code",
   "execution_count": null,
   "id": "49efb2a8",
   "metadata": {
    "papermill": {
     "duration": 0.421572,
     "end_time": "2021-11-21T11:51:03.604003",
     "exception": false,
     "start_time": "2021-11-21T11:51:03.182431",
     "status": "completed"
    },
    "tags": []
   },
   "outputs": [],
   "source": []
  }
 ],
 "metadata": {
  "kernelspec": {
   "display_name": "Python 3",
   "language": "python",
   "name": "python3"
  },
  "language_info": {
   "codemirror_mode": {
    "name": "ipython",
    "version": 3
   },
   "file_extension": ".py",
   "mimetype": "text/x-python",
   "name": "python",
   "nbconvert_exporter": "python",
   "pygments_lexer": "ipython3",
   "version": "3.9.5"
  },
  "papermill": {
   "default_parameters": {},
   "duration": 7136.714136,
   "end_time": "2021-11-21T11:51:07.362853",
   "environment_variables": {},
   "exception": null,
   "input_path": "__notebook__.ipynb",
   "output_path": "__notebook__.ipynb",
   "parameters": {},
   "start_time": "2021-11-21T09:52:10.648717",
   "version": "2.3.3"
  }
 },
 "nbformat": 4,
 "nbformat_minor": 5
}
