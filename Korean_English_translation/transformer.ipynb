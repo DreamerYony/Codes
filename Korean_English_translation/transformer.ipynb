{
 "cells": [
  {
   "cell_type": "code",
   "execution_count": 1,
   "id": "6bc32fa7",
   "metadata": {
    "_cell_guid": "99e16338-6100-4ceb-9b8c-e2d8f0cb105b",
    "_uuid": "e6c3a396-8134-460e-9097-2e697a19a9a3",
    "execution": {
     "iopub.execute_input": "2021-11-21T06:36:12.717622Z",
     "iopub.status.busy": "2021-11-21T06:36:12.716817Z",
     "iopub.status.idle": "2021-11-21T06:37:38.294111Z",
     "shell.execute_reply": "2021-11-21T06:37:38.293403Z",
     "shell.execute_reply.started": "2021-11-21T04:53:32.282841Z"
    },
    "jupyter": {
     "outputs_hidden": false
    },
    "papermill": {
     "duration": 85.61784,
     "end_time": "2021-11-21T06:37:38.294282",
     "exception": false,
     "start_time": "2021-11-21T06:36:12.676442",
     "status": "completed"
    },
    "tags": []
   },
   "outputs": [
    {
     "name": "stdout",
     "output_type": "stream",
     "text": [
      "Collecting torch==1.8.1\r\n",
      "  Downloading torch-1.8.1-cp37-cp37m-manylinux1_x86_64.whl (804.1 MB)\r\n",
      "\u001b[K     |████████████████████████████████| 804.1 MB 2.1 kB/s \r\n",
      "\u001b[?25hRequirement already satisfied: typing-extensions in /opt/conda/lib/python3.7/site-packages (from torch==1.8.1) (3.10.0.2)\r\n",
      "Requirement already satisfied: numpy in /opt/conda/lib/python3.7/site-packages (from torch==1.8.1) (1.19.5)\r\n",
      "Installing collected packages: torch\r\n",
      "  Attempting uninstall: torch\r\n",
      "    Found existing installation: torch 1.9.1\r\n",
      "    Uninstalling torch-1.9.1:\r\n",
      "      Successfully uninstalled torch-1.9.1\r\n",
      "Successfully installed torch-1.8.1\r\n",
      "\u001b[33mWARNING: Running pip as the 'root' user can result in broken permissions and conflicting behaviour with the system package manager. It is recommended to use a virtual environment instead: https://pip.pypa.io/warnings/venv\u001b[0m\r\n",
      "Collecting torchtext==0.9.1\r\n",
      "  Downloading torchtext-0.9.1-cp37-cp37m-manylinux1_x86_64.whl (7.1 MB)\r\n",
      "\u001b[K     |████████████████████████████████| 7.1 MB 4.0 MB/s \r\n",
      "\u001b[?25hRequirement already satisfied: torch==1.8.1 in /opt/conda/lib/python3.7/site-packages (from torchtext==0.9.1) (1.8.1)\r\n",
      "Requirement already satisfied: numpy in /opt/conda/lib/python3.7/site-packages (from torchtext==0.9.1) (1.19.5)\r\n",
      "Requirement already satisfied: tqdm in /opt/conda/lib/python3.7/site-packages (from torchtext==0.9.1) (4.62.3)\r\n",
      "Requirement already satisfied: requests in /opt/conda/lib/python3.7/site-packages (from torchtext==0.9.1) (2.25.1)\r\n",
      "Requirement already satisfied: typing-extensions in /opt/conda/lib/python3.7/site-packages (from torch==1.8.1->torchtext==0.9.1) (3.10.0.2)\r\n",
      "Requirement already satisfied: urllib3<1.27,>=1.21.1 in /opt/conda/lib/python3.7/site-packages (from requests->torchtext==0.9.1) (1.26.6)\r\n",
      "Requirement already satisfied: idna<3,>=2.5 in /opt/conda/lib/python3.7/site-packages (from requests->torchtext==0.9.1) (2.10)\r\n",
      "Requirement already satisfied: chardet<5,>=3.0.2 in /opt/conda/lib/python3.7/site-packages (from requests->torchtext==0.9.1) (4.0.0)\r\n",
      "Requirement already satisfied: certifi>=2017.4.17 in /opt/conda/lib/python3.7/site-packages (from requests->torchtext==0.9.1) (2021.10.8)\r\n",
      "Installing collected packages: torchtext\r\n",
      "  Attempting uninstall: torchtext\r\n",
      "    Found existing installation: torchtext 0.10.1\r\n",
      "    Uninstalling torchtext-0.10.1:\r\n",
      "      Successfully uninstalled torchtext-0.10.1\r\n",
      "Successfully installed torchtext-0.9.1\r\n",
      "\u001b[33mWARNING: Running pip as the 'root' user can result in broken permissions and conflicting behaviour with the system package manager. It is recommended to use a virtual environment instead: https://pip.pypa.io/warnings/venv\u001b[0m\r\n"
     ]
    }
   ],
   "source": [
    "!pip install torch==1.8.1\n",
    "!pip install torchtext==0.9.1"
   ]
  },
  {
   "cell_type": "code",
   "execution_count": 2,
   "id": "7d920be6",
   "metadata": {
    "execution": {
     "iopub.execute_input": "2021-11-21T06:37:38.867912Z",
     "iopub.status.busy": "2021-11-21T06:37:38.867084Z",
     "iopub.status.idle": "2021-11-21T06:37:40.584027Z",
     "shell.execute_reply": "2021-11-21T06:37:40.583394Z",
     "shell.execute_reply.started": "2021-11-21T04:55:12.895299Z"
    },
    "papermill": {
     "duration": 2.002084,
     "end_time": "2021-11-21T06:37:40.584164",
     "exception": false,
     "start_time": "2021-11-21T06:37:38.582080",
     "status": "completed"
    },
    "tags": []
   },
   "outputs": [],
   "source": [
    "import numpy as np\n",
    "import pandas as pd\n",
    "import seaborn as sns\n",
    "import matplotlib.pyplot as plt\n",
    "import matplotlib as mpl\n",
    "import matplotlib.ticker as ticker\n",
    "from numpy import array\n",
    "from nltk.tree import Tree\n",
    "import re\n",
    "\n",
    "import torch\n",
    "import torch.nn as nn\n",
    "import torch.optim as optim\n",
    "import torch.nn.functional as F\n",
    "import torchtext\n",
    "from torchtext.legacy import data\n",
    "from torchtext.legacy.data import Field\n",
    "from torchtext.legacy.data import TabularDataset, BucketIterator\n",
    "\n",
    "import random\n",
    "import math\n",
    "import time\n",
    "\n",
    "import warnings\n",
    "warnings.filterwarnings(action='ignore')"
   ]
  },
  {
   "cell_type": "code",
   "execution_count": 3,
   "id": "14288397",
   "metadata": {
    "execution": {
     "iopub.execute_input": "2021-11-21T06:37:41.202547Z",
     "iopub.status.busy": "2021-11-21T06:37:41.201889Z",
     "iopub.status.idle": "2021-11-21T06:37:43.466568Z",
     "shell.execute_reply": "2021-11-21T06:37:43.469533Z",
     "shell.execute_reply.started": "2021-11-21T04:55:14.971247Z"
    },
    "papermill": {
     "duration": 2.604771,
     "end_time": "2021-11-21T06:37:43.469818",
     "exception": false,
     "start_time": "2021-11-21T06:37:40.865047",
     "status": "completed"
    },
    "tags": []
   },
   "outputs": [],
   "source": [
    "# file processing\n",
    "en_file = open('../input/koenen/ko-en.en.parse.syn.txt','r', encoding='UTF8')\n",
    "english = en_file.readlines() \n",
    "\n",
    "ko_File = open('../input/koenko/ko-en.ko.parse.txt','r', encoding='UTF8')\n",
    "korean = ko_File.readlines()"
   ]
  },
  {
   "cell_type": "code",
   "execution_count": 4,
   "id": "9311ad4e",
   "metadata": {
    "execution": {
     "iopub.execute_input": "2021-11-21T06:37:44.272006Z",
     "iopub.status.busy": "2021-11-21T06:37:44.270549Z",
     "iopub.status.idle": "2021-11-21T06:37:44.272639Z",
     "shell.execute_reply": "2021-11-21T06:37:44.273053Z",
     "shell.execute_reply.started": "2021-11-21T04:55:16.464013Z"
    },
    "papermill": {
     "duration": 0.284097,
     "end_time": "2021-11-21T06:37:44.273201",
     "exception": false,
     "start_time": "2021-11-21T06:37:43.989104",
     "status": "completed"
    },
    "tags": []
   },
   "outputs": [],
   "source": [
    "# function to read raw text file\n",
    "def read_text(filename): \n",
    "    # open the file \n",
    "    file = open('../input/koenko/ko-en.ko.parse.txt', mode='rt', encoding='utf-8') \n",
    "        \n",
    "    # read all text \n",
    "    text = file.read() \n",
    "    file.close() \n",
    "    return text\n",
    "    \n",
    "# split text into sentences # 이 노트북에서는 형태소로 나뉜 자료로 사용했습니다.\n",
    "def to_lines(text): \n",
    "    sents = text.strip().split('\\n\\n')  # 한 문장 내 분리된 채 사용할 때\n",
    "    return sents\n",
    "\n",
    "def to_other_lines(text): \n",
    "    sents = text.strip().split('\\n\\n') \n",
    "    sents = [i.split('\\t') for i in sents]  #이거 입력하면 어절별로 처리 가능\n",
    "    return sents"
   ]
  },
  {
   "cell_type": "code",
   "execution_count": 5,
   "id": "f0cf5eb0",
   "metadata": {
    "execution": {
     "iopub.execute_input": "2021-11-21T06:37:44.833126Z",
     "iopub.status.busy": "2021-11-21T06:37:44.832130Z",
     "iopub.status.idle": "2021-11-21T06:37:45.490645Z",
     "shell.execute_reply": "2021-11-21T06:37:45.491070Z",
     "shell.execute_reply.started": "2021-11-21T04:55:16.480261Z"
    },
    "papermill": {
     "duration": 0.944357,
     "end_time": "2021-11-21T06:37:45.491224",
     "exception": false,
     "start_time": "2021-11-21T06:37:44.546867",
     "status": "completed"
    },
    "tags": []
   },
   "outputs": [
    {
     "data": {
      "text/html": [
       "<div>\n",
       "<style scoped>\n",
       "    .dataframe tbody tr th:only-of-type {\n",
       "        vertical-align: middle;\n",
       "    }\n",
       "\n",
       "    .dataframe tbody tr th {\n",
       "        vertical-align: top;\n",
       "    }\n",
       "\n",
       "    .dataframe thead th {\n",
       "        text-align: right;\n",
       "    }\n",
       "</style>\n",
       "<table border=\"1\" class=\"dataframe\">\n",
       "  <thead>\n",
       "    <tr style=\"text-align: right;\">\n",
       "      <th></th>\n",
       "      <th>read_lines</th>\n",
       "    </tr>\n",
       "  </thead>\n",
       "  <tbody>\n",
       "    <tr>\n",
       "      <th>0</th>\n",
       "      <td>&lt;id 1&gt;\\n&lt;sent 1&gt;\\n1\\t2\\tNP\\t777/SN\\n2\\t6\\tNP_SBJ\\t항공편/NNG|은/JX\\n3\\t4\\tNP\\t1/SN|시간/NNG\\n4\\t6\\tNP_AJT\\t동안/NNG\\n5\\t6\\tNP_AJT\\t지상/NNG|에/JKB\\n6\\t7\\tVP\\t머물/VV|게/EC\\n7\\t0\\tVP\\t되/VV|ㅂ니다/EF|./SF\\n&lt;/sent&gt;\\n&lt;/id&gt;</td>\n",
       "    </tr>\n",
       "    <tr>\n",
       "      <th>1</th>\n",
       "      <td>&lt;id 2&gt;\\n&lt;sent 1&gt;\\n1\\t2\\tNP\\t777/SN\\n2\\t6\\tNP_SBJ\\t항공편/NNG|은/JX\\n3\\t4\\tNP\\t3/SN|시간/NNG\\n4\\t6\\tNP_AJT\\t동안/NNG\\n5\\t6\\tNP_AJT\\t지상/NNG|에/JKB\\n6\\t0\\tVP\\t있/VV|겠/EP|습니다/EF|./SF\\n&lt;/sent&gt;\\n&lt;/id&gt;</td>\n",
       "    </tr>\n",
       "    <tr>\n",
       "      <th>2</th>\n",
       "      <td>&lt;id 3&gt;\\n&lt;sent 1&gt;\\n1\\t2\\tNP\\t1/SN|,/SP|000/SN|달러/NNB\\n2\\t3\\tNP_SBJ\\t여행자/NNG|수표/NNG|가/JKS\\n3\\t0\\tVP\\t필요/NNG|하/XSA|ㅂ니다/EF|./SF\\n&lt;/sent&gt;\\n&lt;/id&gt;</td>\n",
       "    </tr>\n",
       "    <tr>\n",
       "      <th>3</th>\n",
       "      <td>&lt;id 4&gt;\\n&lt;sent 1&gt;\\n1\\t3\\tNP_SBJ\\t1/SN|,/SP|250/SN|원/NNB|이/JKS\\n2\\t3\\tNP\\t공식/NNG\\n3\\t0\\tVNP\\t환율/NNG|이/VCP|ㅂ니다/EF|./SF\\n&lt;/sent&gt;\\n&lt;/id&gt;</td>\n",
       "    </tr>\n",
       "    <tr>\n",
       "      <th>4</th>\n",
       "      <td>&lt;id 5&gt;\\n&lt;sent 1&gt;\\n1\\t2\\tNP\\t100/SN|달러/NNB\\n2\\t3\\tNP_CNJ\\t3/SN|장/NNB|과/JC\\n3\\t5\\tNP_SBJ\\t나머지/NNG|는/JX\\n4\\t5\\tNP_AJT\\t20/SN|달러/NNB|권/XSN|으로/JKB\\n5\\t0\\tVP\\t주/VV|시/EP|ㅂ시오/EF|./SF\\n&lt;/sent&gt;\\n&lt;/id&gt;</td>\n",
       "    </tr>\n",
       "  </tbody>\n",
       "</table>\n",
       "</div>"
      ],
      "text/plain": [
       "                                                                                                                                                                                                  read_lines\n",
       "0  <id 1>\\n<sent 1>\\n1\\t2\\tNP\\t777/SN\\n2\\t6\\tNP_SBJ\\t항공편/NNG|은/JX\\n3\\t4\\tNP\\t1/SN|시간/NNG\\n4\\t6\\tNP_AJT\\t동안/NNG\\n5\\t6\\tNP_AJT\\t지상/NNG|에/JKB\\n6\\t7\\tVP\\t머물/VV|게/EC\\n7\\t0\\tVP\\t되/VV|ㅂ니다/EF|./SF\\n</sent>\\n</id>\n",
       "1                   <id 2>\\n<sent 1>\\n1\\t2\\tNP\\t777/SN\\n2\\t6\\tNP_SBJ\\t항공편/NNG|은/JX\\n3\\t4\\tNP\\t3/SN|시간/NNG\\n4\\t6\\tNP_AJT\\t동안/NNG\\n5\\t6\\tNP_AJT\\t지상/NNG|에/JKB\\n6\\t0\\tVP\\t있/VV|겠/EP|습니다/EF|./SF\\n</sent>\\n</id>\n",
       "2                                                                <id 3>\\n<sent 1>\\n1\\t2\\tNP\\t1/SN|,/SP|000/SN|달러/NNB\\n2\\t3\\tNP_SBJ\\t여행자/NNG|수표/NNG|가/JKS\\n3\\t0\\tVP\\t필요/NNG|하/XSA|ㅂ니다/EF|./SF\\n</sent>\\n</id>\n",
       "3                                                                        <id 4>\\n<sent 1>\\n1\\t3\\tNP_SBJ\\t1/SN|,/SP|250/SN|원/NNB|이/JKS\\n2\\t3\\tNP\\t공식/NNG\\n3\\t0\\tVNP\\t환율/NNG|이/VCP|ㅂ니다/EF|./SF\\n</sent>\\n</id>\n",
       "4             <id 5>\\n<sent 1>\\n1\\t2\\tNP\\t100/SN|달러/NNB\\n2\\t3\\tNP_CNJ\\t3/SN|장/NNB|과/JC\\n3\\t5\\tNP_SBJ\\t나머지/NNG|는/JX\\n4\\t5\\tNP_AJT\\t20/SN|달러/NNB|권/XSN|으로/JKB\\n5\\t0\\tVP\\t주/VV|시/EP|ㅂ시오/EF|./SF\\n</sent>\\n</id>"
      ]
     },
     "execution_count": 5,
     "metadata": {},
     "output_type": "execute_result"
    }
   ],
   "source": [
    "# 데이터프레임으로 만들기(한국어 문장)\n",
    "data = read_text(\"ko-en.ko.parse.txt\") \n",
    "ko_eng_lines = to_lines(data) \n",
    "ko_eng = pd.DataFrame(ko_eng_lines, columns = [\"read_lines\"])\n",
    "\n",
    "pd.set_option('display.max_colwidth', 250)\n",
    "ko_eng.head()"
   ]
  },
  {
   "cell_type": "code",
   "execution_count": 6,
   "id": "bb6761bb",
   "metadata": {
    "execution": {
     "iopub.execute_input": "2021-11-21T06:37:46.079642Z",
     "iopub.status.busy": "2021-11-21T06:37:46.069462Z",
     "iopub.status.idle": "2021-11-21T06:38:18.335675Z",
     "shell.execute_reply": "2021-11-21T06:38:18.336113Z",
     "shell.execute_reply.started": "2021-11-21T04:55:17.212039Z"
    },
    "papermill": {
     "duration": 32.568639,
     "end_time": "2021-11-21T06:38:18.336269",
     "exception": false,
     "start_time": "2021-11-21T06:37:45.767630",
     "status": "completed"
    },
    "tags": []
   },
   "outputs": [
    {
     "data": {
      "text/html": [
       "<div>\n",
       "<style scoped>\n",
       "    .dataframe tbody tr th:only-of-type {\n",
       "        vertical-align: middle;\n",
       "    }\n",
       "\n",
       "    .dataframe tbody tr th {\n",
       "        vertical-align: top;\n",
       "    }\n",
       "\n",
       "    .dataframe thead th {\n",
       "        text-align: right;\n",
       "    }\n",
       "</style>\n",
       "<table border=\"1\" class=\"dataframe\">\n",
       "  <thead>\n",
       "    <tr style=\"text-align: right;\">\n",
       "      <th></th>\n",
       "      <th>English_list</th>\n",
       "      <th>English_POS</th>\n",
       "    </tr>\n",
       "  </thead>\n",
       "  <tbody>\n",
       "    <tr>\n",
       "      <th>0</th>\n",
       "      <td>Flight 007 will stay on the ground for one hour .</td>\n",
       "      <td>NNP NNP MD VB IN DT NN IN CD NN .</td>\n",
       "    </tr>\n",
       "    <tr>\n",
       "      <th>1</th>\n",
       "      <td>Flight 017 will stay on the ground for three hours .</td>\n",
       "      <td>NNP NNP MD VB IN DT NN IN CD NNS .</td>\n",
       "    </tr>\n",
       "    <tr>\n",
       "      <th>2</th>\n",
       "      <td>I need 1,000 dollars in traveler 's checks .</td>\n",
       "      <td>PRP VBP CD NNS IN NN POS NNS .</td>\n",
       "    </tr>\n",
       "    <tr>\n",
       "      <th>3</th>\n",
       "      <td>The official exchange rate is around 1,250 Won .</td>\n",
       "      <td>DT JJ NN NN VBZ IN NNP NNP .</td>\n",
       "    </tr>\n",
       "    <tr>\n",
       "      <th>4</th>\n",
       "      <td>Please give me three hundred dollar bills and twenty dollar bills for the rest .</td>\n",
       "      <td>UH VB PRP CD CD NN NNS CC CD NN NNS IN DT NN .</td>\n",
       "    </tr>\n",
       "  </tbody>\n",
       "</table>\n",
       "</div>"
      ],
      "text/plain": [
       "                                                                        English_list  \\\n",
       "0                                 Flight 007 will stay on the ground for one hour .    \n",
       "1                              Flight 017 will stay on the ground for three hours .    \n",
       "2                                      I need 1,000 dollars in traveler 's checks .    \n",
       "3                                  The official exchange rate is around 1,250 Won .    \n",
       "4  Please give me three hundred dollar bills and twenty dollar bills for the rest .    \n",
       "\n",
       "                                       English_POS  \n",
       "0               NNP NNP MD VB IN DT NN IN CD NN .   \n",
       "1              NNP NNP MD VB IN DT NN IN CD NNS .   \n",
       "2                  PRP VBP CD NNS IN NN POS NNS .   \n",
       "3                    DT JJ NN NN VBZ IN NNP NNP .   \n",
       "4  UH VB PRP CD CD NN NNS CC CD NN NNS IN DT NN .   "
      ]
     },
     "execution_count": 6,
     "metadata": {},
     "output_type": "execute_result"
    }
   ],
   "source": [
    "# 데이터프레임으로 만들기(영어 문장)\n",
    "sentences = []\n",
    "for a in english:\n",
    "    first_list = []\n",
    "    seconde_list = []\n",
    "    t = Tree.fromstring(a)\n",
    "    t.pos()\n",
    "    for i in t.pos():\n",
    "        a,b = i\n",
    "        a += ' '\n",
    "        b += ' '\n",
    "        first_list.append(a)\n",
    "        seconde_list.append(b)\n",
    "        row = (first_list, seconde_list)\n",
    "    sentences.append((''.join(row[0]), ''.join(row[1])))\n",
    "    \n",
    "english_df = pd.DataFrame(sentences, columns = [\"English_list\", \"English_POS\"])\n",
    "english_df.head()"
   ]
  },
  {
   "cell_type": "code",
   "execution_count": 7,
   "id": "480f0076",
   "metadata": {
    "execution": {
     "iopub.execute_input": "2021-11-21T06:38:18.893530Z",
     "iopub.status.busy": "2021-11-21T06:38:18.892835Z",
     "iopub.status.idle": "2021-11-21T06:38:18.895782Z",
     "shell.execute_reply": "2021-11-21T06:38:18.895328Z",
     "shell.execute_reply.started": "2021-11-21T04:55:55.030352Z"
    },
    "papermill": {
     "duration": 0.288375,
     "end_time": "2021-11-21T06:38:18.895908",
     "exception": false,
     "start_time": "2021-11-21T06:38:18.607533",
     "status": "completed"
    },
    "tags": []
   },
   "outputs": [],
   "source": [
    "# 병렬 데이터를 만들기 위한 기본 전처리\n",
    "def basic_cleaning_ko(text):\n",
    "    text = re.sub(r'[A-Z0-9_]+\\t', '', text) # 탭과 결합된 문자 제거\n",
    "    text = re.sub(r'<id [0-9]+>', '', text) # 불필요한 글자 제거\n",
    "    text = re.sub(r'</id>', '', text)\n",
    "    text = re.sub(r'<sent [0-9]+>', '', text)\n",
    "    text = re.sub(r'</sent>', '', text)\n",
    "    text = re.sub(r'\\n', ' ', text) # 줄바꿈 공백으로 바꿔주기\n",
    "    text = re.sub(r'\\|', ' ', text) # vertical var도 공백으로 바꿔주기\n",
    "    text = re.findall('(.+?)/[A-Z]+\\s*', text) # 품사기호 앞에 있는 단어만 추출\n",
    "    return ' '.join(text)\n",
    "\n",
    "def basic_cleaning_en(text):\n",
    "    text = re.split('(\\d+)', text) # 숫자와 글자 분리\n",
    "    return ' '.join(text)"
   ]
  },
  {
   "cell_type": "code",
   "execution_count": 8,
   "id": "b9ea3bc3",
   "metadata": {
    "execution": {
     "iopub.execute_input": "2021-11-21T06:38:19.454567Z",
     "iopub.status.busy": "2021-11-21T06:38:19.453709Z",
     "iopub.status.idle": "2021-11-21T06:38:29.032776Z",
     "shell.execute_reply": "2021-11-21T06:38:29.032218Z",
     "shell.execute_reply.started": "2021-11-21T04:55:55.041736Z"
    },
    "papermill": {
     "duration": 9.863691,
     "end_time": "2021-11-21T06:38:29.032924",
     "exception": false,
     "start_time": "2021-11-21T06:38:19.169233",
     "status": "completed"
    },
    "tags": []
   },
   "outputs": [],
   "source": [
    "ko_eng[\"clean_Korean\"] = ko_eng[\"read_lines\"].apply(basic_cleaning_ko)\n",
    "english_df[\"clean_English\"] = english_df[\"English_list\"].apply(basic_cleaning_en)"
   ]
  },
  {
   "cell_type": "code",
   "execution_count": 9,
   "id": "6d405f4b",
   "metadata": {
    "execution": {
     "iopub.execute_input": "2021-11-21T06:38:29.585886Z",
     "iopub.status.busy": "2021-11-21T06:38:29.585020Z",
     "iopub.status.idle": "2021-11-21T06:38:29.606196Z",
     "shell.execute_reply": "2021-11-21T06:38:29.606648Z",
     "shell.execute_reply.started": "2021-11-21T04:56:06.648747Z"
    },
    "papermill": {
     "duration": 0.299372,
     "end_time": "2021-11-21T06:38:29.606800",
     "exception": false,
     "start_time": "2021-11-21T06:38:29.307428",
     "status": "completed"
    },
    "tags": []
   },
   "outputs": [
    {
     "data": {
      "text/html": [
       "<div>\n",
       "<style scoped>\n",
       "    .dataframe tbody tr th:only-of-type {\n",
       "        vertical-align: middle;\n",
       "    }\n",
       "\n",
       "    .dataframe tbody tr th {\n",
       "        vertical-align: top;\n",
       "    }\n",
       "\n",
       "    .dataframe thead th {\n",
       "        text-align: right;\n",
       "    }\n",
       "</style>\n",
       "<table border=\"1\" class=\"dataframe\">\n",
       "  <thead>\n",
       "    <tr style=\"text-align: right;\">\n",
       "      <th></th>\n",
       "      <th>clean_Korean</th>\n",
       "      <th>clean_English</th>\n",
       "    </tr>\n",
       "  </thead>\n",
       "  <tbody>\n",
       "    <tr>\n",
       "      <th>0</th>\n",
       "      <td>777 항공편 은 1 시간 동안 지상 에 머물 게 되 ㅂ니다 .</td>\n",
       "      <td>Flight  007  will stay on the ground for one hour .</td>\n",
       "    </tr>\n",
       "    <tr>\n",
       "      <th>1</th>\n",
       "      <td>777 항공편 은 3 시간 동안 지상 에 있 겠 습니다 .</td>\n",
       "      <td>Flight  017  will stay on the ground for three hours .</td>\n",
       "    </tr>\n",
       "    <tr>\n",
       "      <th>2</th>\n",
       "      <td>1 , 000 달러 여행자 수표 가 필요 하 ㅂ니다 .</td>\n",
       "      <td>I need  1 , 000  dollars in traveler 's checks .</td>\n",
       "    </tr>\n",
       "    <tr>\n",
       "      <th>3</th>\n",
       "      <td>1 , 250 원 이 공식 환율 이 ㅂ니다 .</td>\n",
       "      <td>The official exchange rate is around  1 , 250  Won .</td>\n",
       "    </tr>\n",
       "    <tr>\n",
       "      <th>4</th>\n",
       "      <td>100 달러 3 장 과 나머지 는 20 달러 권 으로 주 시 ㅂ시오 .</td>\n",
       "      <td>Please give me three hundred dollar bills and twenty dollar bills for the rest .</td>\n",
       "    </tr>\n",
       "    <tr>\n",
       "      <th>...</th>\n",
       "      <td>...</td>\n",
       "      <td>...</td>\n",
       "    </tr>\n",
       "    <tr>\n",
       "      <th>330969</th>\n",
       "      <td>저 의 주소 가 지방 으로 되 어 있 는데 , 서울 에서 여권 을 만들 ㄹ 수 있 나요 ?</td>\n",
       "      <td>Can I file my passport application in Seoul even if I do n't live in that area ?</td>\n",
       "    </tr>\n",
       "    <tr>\n",
       "      <th>330970</th>\n",
       "      <td>학교 친구 한 명 이 LA 에 있 어요 .</td>\n",
       "      <td>I have a school friend in Los Angeles .</td>\n",
       "    </tr>\n",
       "    <tr>\n",
       "      <th>330971</th>\n",
       "      <td>이것 ㄴ 얼마 이 에요 ?</td>\n",
       "      <td>How much is this ?</td>\n",
       "    </tr>\n",
       "    <tr>\n",
       "      <th>330972</th>\n",
       "      <td>저것 ㄴ 얼마 이 에요 ?</td>\n",
       "      <td>How much is that ?</td>\n",
       "    </tr>\n",
       "    <tr>\n",
       "      <th>330973</th>\n",
       "      <td>저것 은 얼마 이 에요 ?</td>\n",
       "      <td>How much is that ?</td>\n",
       "    </tr>\n",
       "  </tbody>\n",
       "</table>\n",
       "<p>330974 rows × 2 columns</p>\n",
       "</div>"
      ],
      "text/plain": [
       "                                                clean_Korean  \\\n",
       "0                        777 항공편 은 1 시간 동안 지상 에 머물 게 되 ㅂ니다 .   \n",
       "1                           777 항공편 은 3 시간 동안 지상 에 있 겠 습니다 .   \n",
       "2                             1 , 000 달러 여행자 수표 가 필요 하 ㅂ니다 .   \n",
       "3                                  1 , 250 원 이 공식 환율 이 ㅂ니다 .   \n",
       "4                    100 달러 3 장 과 나머지 는 20 달러 권 으로 주 시 ㅂ시오 .   \n",
       "...                                                      ...   \n",
       "330969    저 의 주소 가 지방 으로 되 어 있 는데 , 서울 에서 여권 을 만들 ㄹ 수 있 나요 ?   \n",
       "330970                               학교 친구 한 명 이 LA 에 있 어요 .   \n",
       "330971                                        이것 ㄴ 얼마 이 에요 ?   \n",
       "330972                                        저것 ㄴ 얼마 이 에요 ?   \n",
       "330973                                        저것 은 얼마 이 에요 ?   \n",
       "\n",
       "                                                                            clean_English  \n",
       "0                                    Flight  007  will stay on the ground for one hour .   \n",
       "1                                 Flight  017  will stay on the ground for three hours .   \n",
       "2                                       I need  1 , 000  dollars in traveler 's checks .   \n",
       "3                                   The official exchange rate is around  1 , 250  Won .   \n",
       "4       Please give me three hundred dollar bills and twenty dollar bills for the rest .   \n",
       "...                                                                                   ...  \n",
       "330969  Can I file my passport application in Seoul even if I do n't live in that area ?   \n",
       "330970                                           I have a school friend in Los Angeles .   \n",
       "330971                                                                How much is this ?   \n",
       "330972                                                                How much is that ?   \n",
       "330973                                                                How much is that ?   \n",
       "\n",
       "[330974 rows x 2 columns]"
      ]
     },
     "execution_count": 9,
     "metadata": {},
     "output_type": "execute_result"
    }
   ],
   "source": [
    "# 한국어-영어 병렬 데이터 만들기\n",
    "ko_trans =ko_eng[\"clean_Korean\"]\n",
    "en_trans = english_df[\"clean_English\"]\n",
    "final_df = pd.concat([ko_trans, en_trans], axis=1)\n",
    "final_df"
   ]
  },
  {
   "cell_type": "code",
   "execution_count": 10,
   "id": "04fe75a4",
   "metadata": {
    "execution": {
     "iopub.execute_input": "2021-11-21T06:38:30.163630Z",
     "iopub.status.busy": "2021-11-21T06:38:30.162708Z",
     "iopub.status.idle": "2021-11-21T06:38:30.164548Z",
     "shell.execute_reply": "2021-11-21T06:38:30.164957Z",
     "shell.execute_reply.started": "2021-11-21T04:56:06.684023Z"
    },
    "papermill": {
     "duration": 0.286403,
     "end_time": "2021-11-21T06:38:30.165091",
     "exception": false,
     "start_time": "2021-11-21T06:38:29.878688",
     "status": "completed"
    },
    "tags": []
   },
   "outputs": [],
   "source": [
    "# 토큰화 \n",
    "def tok_english(text): \n",
    "    text = text.lower() # 소문자 변환\n",
    "    text = text.replace(\"n't\", 'not') # 기본적인 축약형 수정\n",
    "    text = text.replace(\"'ve\", 'have')\n",
    "    text = text.replace(\"'m\", 'am')\n",
    "    text = text.replace(\"'s\", ' ')\n",
    "    text = text.replace(\"'ll\", 'will')\n",
    "    text = text.replace(\"'d\", 'would')    \n",
    "    #text = re.sub(r'[^\\w\\s]', '', text) # 구두점 제거\n",
    "    text = text.replace('  ', ' ') # 다중 공백 제거\n",
    "    text = text.replace('  ', ' ') # 두번\n",
    "    return ''.join(text).split() # 단어 분리\n",
    "\n",
    "def tok_korean(text):\n",
    "   # text = re.sub(r'[^\\w\\s]', '', text) # 구두점 제거 \n",
    "    text = text.replace('  ', ' ') # 다중 공백 제거\n",
    "    return ''.join(text).split() # 단어 분리"
   ]
  },
  {
   "cell_type": "code",
   "execution_count": 11,
   "id": "56f2d3df",
   "metadata": {
    "execution": {
     "iopub.execute_input": "2021-11-21T06:38:30.724464Z",
     "iopub.status.busy": "2021-11-21T06:38:30.723830Z",
     "iopub.status.idle": "2021-11-21T06:38:30.801382Z",
     "shell.execute_reply": "2021-11-21T06:38:30.800895Z",
     "shell.execute_reply.started": "2021-11-21T04:56:06.696650Z"
    },
    "papermill": {
     "duration": 0.365908,
     "end_time": "2021-11-21T06:38:30.801526",
     "exception": false,
     "start_time": "2021-11-21T06:38:30.435618",
     "status": "completed"
    },
    "tags": []
   },
   "outputs": [],
   "source": [
    "# devide into train and test set\n",
    "\n",
    "SEED = 42\n",
    "\n",
    "from sklearn.model_selection import train_test_split\n",
    "train_data, test_data = train_test_split(final_df, test_size=0.2, shuffle=True, random_state=SEED)"
   ]
  },
  {
   "cell_type": "code",
   "execution_count": 12,
   "id": "87563245",
   "metadata": {
    "execution": {
     "iopub.execute_input": "2021-11-21T06:38:31.370773Z",
     "iopub.status.busy": "2021-11-21T06:38:31.370140Z",
     "iopub.status.idle": "2021-11-21T06:38:31.372742Z",
     "shell.execute_reply": "2021-11-21T06:38:31.371247Z",
     "shell.execute_reply.started": "2021-11-21T04:56:06.780749Z"
    },
    "papermill": {
     "duration": 0.29321,
     "end_time": "2021-11-21T06:38:31.372865",
     "exception": false,
     "start_time": "2021-11-21T06:38:31.079655",
     "status": "completed"
    },
    "tags": []
   },
   "outputs": [
    {
     "name": "stdout",
     "output_type": "stream",
     "text": [
      "264779\n",
      "66195\n"
     ]
    }
   ],
   "source": [
    "print(len(train_data))\n",
    "print(len(test_data))"
   ]
  },
  {
   "cell_type": "code",
   "execution_count": 13,
   "id": "b862e622",
   "metadata": {
    "execution": {
     "iopub.execute_input": "2021-11-21T06:38:31.924794Z",
     "iopub.status.busy": "2021-11-21T06:38:31.923908Z",
     "iopub.status.idle": "2021-11-21T06:38:33.611567Z",
     "shell.execute_reply": "2021-11-21T06:38:33.612019Z",
     "shell.execute_reply.started": "2021-11-21T04:56:06.790974Z"
    },
    "papermill": {
     "duration": 1.969136,
     "end_time": "2021-11-21T06:38:33.612183",
     "exception": false,
     "start_time": "2021-11-21T06:38:31.643047",
     "status": "completed"
    },
    "tags": []
   },
   "outputs": [],
   "source": [
    "# save to csv file\n",
    "train_data.to_csv(\"train.csv\")\n",
    "test_data.to_csv(\"test.csv\")"
   ]
  },
  {
   "cell_type": "code",
   "execution_count": 14,
   "id": "57c9eeb9",
   "metadata": {
    "execution": {
     "iopub.execute_input": "2021-11-21T06:38:34.176024Z",
     "iopub.status.busy": "2021-11-21T06:38:34.175275Z",
     "iopub.status.idle": "2021-11-21T06:38:34.739691Z",
     "shell.execute_reply": "2021-11-21T06:38:34.739210Z",
     "shell.execute_reply.started": "2021-11-21T04:56:08.613990Z"
    },
    "papermill": {
     "duration": 0.850511,
     "end_time": "2021-11-21T06:38:34.739821",
     "exception": false,
     "start_time": "2021-11-21T06:38:33.889310",
     "status": "completed"
    },
    "tags": []
   },
   "outputs": [
    {
     "data": {
      "text/html": [
       "<div>\n",
       "<style scoped>\n",
       "    .dataframe tbody tr th:only-of-type {\n",
       "        vertical-align: middle;\n",
       "    }\n",
       "\n",
       "    .dataframe tbody tr th {\n",
       "        vertical-align: top;\n",
       "    }\n",
       "\n",
       "    .dataframe thead th {\n",
       "        text-align: right;\n",
       "    }\n",
       "</style>\n",
       "<table border=\"1\" class=\"dataframe\">\n",
       "  <thead>\n",
       "    <tr style=\"text-align: right;\">\n",
       "      <th></th>\n",
       "      <th>Unnamed: 0</th>\n",
       "      <th>clean_Korean</th>\n",
       "      <th>clean_English</th>\n",
       "    </tr>\n",
       "  </thead>\n",
       "  <tbody>\n",
       "    <tr>\n",
       "      <th>0</th>\n",
       "      <td>41455</td>\n",
       "      <td>이 전화 로 스위스 에 걸 ㄹ 수 있 습니까 ?</td>\n",
       "      <td>Can I call Switzerland with this telephone ?</td>\n",
       "    </tr>\n",
       "  </tbody>\n",
       "</table>\n",
       "</div>"
      ],
      "text/plain": [
       "   Unnamed: 0                  clean_Korean  \\\n",
       "0       41455    이 전화 로 스위스 에 걸 ㄹ 수 있 습니까 ?   \n",
       "\n",
       "                                   clean_English  \n",
       "0  Can I call Switzerland with this telephone ?   "
      ]
     },
     "execution_count": 14,
     "metadata": {},
     "output_type": "execute_result"
    }
   ],
   "source": [
    "train_reading = pd.read_csv(\"./train.csv\")\n",
    "train_reading.head(1)"
   ]
  },
  {
   "cell_type": "code",
   "execution_count": 15,
   "id": "e85a31c1",
   "metadata": {
    "execution": {
     "iopub.execute_input": "2021-11-21T06:38:35.320857Z",
     "iopub.status.busy": "2021-11-21T06:38:35.319471Z",
     "iopub.status.idle": "2021-11-21T06:38:35.323546Z",
     "shell.execute_reply": "2021-11-21T06:38:35.323089Z",
     "shell.execute_reply.started": "2021-11-21T04:56:09.232362Z"
    },
    "papermill": {
     "duration": 0.292152,
     "end_time": "2021-11-21T06:38:35.323675",
     "exception": false,
     "start_time": "2021-11-21T06:38:35.031523",
     "status": "completed"
    },
    "tags": []
   },
   "outputs": [],
   "source": [
    "SEED = 1234\n",
    "\n",
    "random.seed(SEED)\n",
    "np.random.seed(SEED)\n",
    "torch.manual_seed(SEED)\n",
    "torch.cuda.manual_seed(SEED)\n",
    "torch.backends.cudnn.deterministic = True"
   ]
  },
  {
   "cell_type": "code",
   "execution_count": 16,
   "id": "cbf65841",
   "metadata": {
    "execution": {
     "iopub.execute_input": "2021-11-21T06:38:35.924688Z",
     "iopub.status.busy": "2021-11-21T06:38:35.923815Z",
     "iopub.status.idle": "2021-11-21T06:38:35.927850Z",
     "shell.execute_reply": "2021-11-21T06:38:35.927354Z",
     "shell.execute_reply.started": "2021-11-21T04:56:09.246020Z"
    },
    "papermill": {
     "duration": 0.33169,
     "end_time": "2021-11-21T06:38:35.927976",
     "exception": false,
     "start_time": "2021-11-21T06:38:35.596286",
     "status": "completed"
    },
    "tags": []
   },
   "outputs": [],
   "source": [
    "device = torch.device('cuda' if torch.cuda.is_available() else 'cpu')"
   ]
  },
  {
   "cell_type": "markdown",
   "id": "b02955d2",
   "metadata": {
    "papermill": {
     "duration": 0.273836,
     "end_time": "2021-11-21T06:38:36.473573",
     "exception": false,
     "start_time": "2021-11-21T06:38:36.199737",
     "status": "completed"
    },
    "tags": []
   },
   "source": [
    "# Transformer"
   ]
  },
  {
   "cell_type": "code",
   "execution_count": 17,
   "id": "0022b57d",
   "metadata": {
    "execution": {
     "iopub.execute_input": "2021-11-21T06:38:37.041739Z",
     "iopub.status.busy": "2021-11-21T06:38:37.041044Z",
     "iopub.status.idle": "2021-11-21T06:38:37.043380Z",
     "shell.execute_reply": "2021-11-21T06:38:37.043796Z",
     "shell.execute_reply.started": "2021-11-21T04:56:09.307706Z"
    },
    "papermill": {
     "duration": 0.294227,
     "end_time": "2021-11-21T06:38:37.043947",
     "exception": false,
     "start_time": "2021-11-21T06:38:36.749720",
     "status": "completed"
    },
    "tags": []
   },
   "outputs": [],
   "source": [
    "import torch\n",
    "import torch.nn as nn\n",
    "import torch.optim as optim\n",
    "import torch.nn.functional as F\n",
    "import torchtext\n",
    "from torchtext.legacy import data\n",
    "from torchtext.legacy.data import Field\n",
    "from torchtext.legacy.data import TabularDataset, BucketIterator"
   ]
  },
  {
   "cell_type": "code",
   "execution_count": 18,
   "id": "0cdd4f80",
   "metadata": {
    "execution": {
     "iopub.execute_input": "2021-11-21T06:38:38.374433Z",
     "iopub.status.busy": "2021-11-21T06:38:38.373416Z",
     "iopub.status.idle": "2021-11-21T06:38:49.991710Z",
     "shell.execute_reply": "2021-11-21T06:38:49.991208Z",
     "shell.execute_reply.started": "2021-11-21T04:56:09.326651Z"
    },
    "papermill": {
     "duration": 12.673581,
     "end_time": "2021-11-21T06:38:49.991847",
     "exception": false,
     "start_time": "2021-11-21T06:38:37.318266",
     "status": "completed"
    },
    "tags": []
   },
   "outputs": [],
   "source": [
    "SRC = Field(tokenize = tok_korean, \n",
    "            init_token = '<sos>', \n",
    "            eos_token = '<eos>', \n",
    "            lower = True, \n",
    "            batch_first = True)\n",
    "\n",
    "TRG = Field(tokenize = tok_english, \n",
    "            init_token = '<sos>', \n",
    "            eos_token = '<eos>', \n",
    "            lower = True,\n",
    "            batch_first = True)\n",
    "\n",
    "Raw_datafields = [(\"Unnamed:0\", None), (\"src\", SRC), (\"trg\", TRG)]\n",
    "\n",
    "train_data = data.TabularDataset(\n",
    "        path='./train.csv',\n",
    "        format='csv',\n",
    "        skip_header=True, \n",
    "        fields=Raw_datafields) \n",
    "test_data = data.TabularDataset(\n",
    "        path='./test.csv',\n",
    "        format='csv',\n",
    "        skip_header=True,\n",
    "        fields=Raw_datafields)"
   ]
  },
  {
   "cell_type": "code",
   "execution_count": 19,
   "id": "e7ab9d51",
   "metadata": {
    "execution": {
     "iopub.execute_input": "2021-11-21T06:38:50.617334Z",
     "iopub.status.busy": "2021-11-21T06:38:50.600622Z",
     "iopub.status.idle": "2021-11-21T06:38:52.473994Z",
     "shell.execute_reply": "2021-11-21T06:38:52.473431Z",
     "shell.execute_reply.started": "2021-11-21T04:56:23.030309Z"
    },
    "papermill": {
     "duration": 2.202714,
     "end_time": "2021-11-21T06:38:52.474145",
     "exception": false,
     "start_time": "2021-11-21T06:38:50.271431",
     "status": "completed"
    },
    "tags": []
   },
   "outputs": [],
   "source": [
    "SRC.build_vocab(train_data, min_freq = 1)\n",
    "TRG.build_vocab(train_data, min_freq = 1)\n",
    "\n",
    "BATCH_SIZE = 64\n",
    "\n",
    "train_iterator, test_iterator = BucketIterator.splits(\n",
    "    (train_data, test_data), sort = False, repeat = False,\n",
    "    sort_within_batch =False,\n",
    "     batch_size = BATCH_SIZE,\n",
    "     device = device)"
   ]
  },
  {
   "cell_type": "code",
   "execution_count": 20,
   "id": "3cc2759b",
   "metadata": {
    "execution": {
     "iopub.execute_input": "2021-11-21T06:38:53.064792Z",
     "iopub.status.busy": "2021-11-21T06:38:53.063031Z",
     "iopub.status.idle": "2021-11-21T06:38:53.065405Z",
     "shell.execute_reply": "2021-11-21T06:38:53.065874Z",
     "shell.execute_reply.started": "2021-11-21T04:56:25.401593Z"
    },
    "papermill": {
     "duration": 0.310742,
     "end_time": "2021-11-21T06:38:53.066024",
     "exception": false,
     "start_time": "2021-11-21T06:38:52.755282",
     "status": "completed"
    },
    "tags": []
   },
   "outputs": [],
   "source": [
    "class Encoder(nn.Module):\n",
    "    def __init__(self, \n",
    "                 input_dim, \n",
    "                 hid_dim, \n",
    "                 n_layers, \n",
    "                 n_heads, \n",
    "                 pf_dim,\n",
    "                 dropout, \n",
    "                 device,\n",
    "                 max_length = 100):\n",
    "        super().__init__()\n",
    "\n",
    "        self.device = device        \n",
    "        self.tok_embedding = nn.Embedding(input_dim, hid_dim)\n",
    "        self.pos_embedding = nn.Embedding(max_length, hid_dim)\n",
    "        \n",
    "        self.layers = nn.ModuleList([EncoderLayer(hid_dim, \n",
    "                                                  n_heads, \n",
    "                                                  pf_dim,\n",
    "                                                  dropout, \n",
    "                                                  device) \n",
    "                                     for _ in range(n_layers)])\n",
    "        \n",
    "        self.dropout = nn.Dropout(dropout)        \n",
    "        self.scale = torch.sqrt(torch.FloatTensor([hid_dim])).to(device)\n",
    "        \n",
    "    def forward(self, src, src_mask):\n",
    "        \n",
    "        batch_size = src.shape[0]\n",
    "        src_len = src.shape[1]        \n",
    "        pos = torch.arange(0, src_len).unsqueeze(0).repeat(batch_size, 1).to(self.device)        \n",
    "        src = self.dropout((self.tok_embedding(src) * self.scale) + self.pos_embedding(pos))\n",
    "        \n",
    "        for layer in self.layers:\n",
    "            src = layer(src, src_mask)\n",
    "            \n",
    "        return src\n",
    "    \n",
    "class EncoderLayer(nn.Module):\n",
    "    def __init__(self, \n",
    "                 hid_dim, \n",
    "                 n_heads, \n",
    "                 pf_dim,  \n",
    "                 dropout, \n",
    "                 device):\n",
    "        super().__init__()\n",
    "        \n",
    "        self.self_attn_layer_norm = nn.LayerNorm(hid_dim)\n",
    "        self.ff_layer_norm = nn.LayerNorm(hid_dim)\n",
    "        self.self_attention = MultiHeadAttentionLayer(hid_dim, n_heads, dropout, device)\n",
    "        self.positionwise_feedforward = PositionwiseFeedforwardLayer(hid_dim, \n",
    "                                                                     pf_dim, \n",
    "                                                                     dropout)\n",
    "        self.dropout = nn.Dropout(dropout)\n",
    "        \n",
    "    def forward(self, src, src_mask):\n",
    "        \n",
    "        _src, _ = self.self_attention(src, src, src, src_mask)        \n",
    "        src = self.self_attn_layer_norm(src + self.dropout(_src))\n",
    "        _src = self.positionwise_feedforward(src)\n",
    "        src = self.ff_layer_norm(src + self.dropout(_src))\n",
    "        \n",
    "        return src\n",
    "    \n",
    "class MultiHeadAttentionLayer(nn.Module):\n",
    "    def __init__(self, hid_dim, n_heads, dropout, device):\n",
    "        super().__init__()\n",
    "        \n",
    "        assert hid_dim % n_heads == 0\n",
    "        \n",
    "        self.hid_dim = hid_dim\n",
    "        self.n_heads = n_heads\n",
    "        self.head_dim = hid_dim // n_heads\n",
    "        \n",
    "        self.fc_q = nn.Linear(hid_dim, hid_dim)\n",
    "        self.fc_k = nn.Linear(hid_dim, hid_dim)\n",
    "        self.fc_v = nn.Linear(hid_dim, hid_dim)\n",
    "        \n",
    "        self.fc_o = nn.Linear(hid_dim, hid_dim)        \n",
    "        self.dropout = nn.Dropout(dropout)        \n",
    "        self.scale = torch.sqrt(torch.FloatTensor([self.head_dim])).to(device)\n",
    "        \n",
    "    def forward(self, query, key, value, mask = None):\n",
    "        \n",
    "        batch_size = query.shape[0]\n",
    "                \n",
    "        Q = self.fc_q(query)\n",
    "        K = self.fc_k(key)\n",
    "        V = self.fc_v(value)\n",
    "                \n",
    "        Q = Q.view(batch_size, -1, self.n_heads, self.head_dim).permute(0, 2, 1, 3)\n",
    "        K = K.view(batch_size, -1, self.n_heads, self.head_dim).permute(0, 2, 1, 3)\n",
    "        V = V.view(batch_size, -1, self.n_heads, self.head_dim).permute(0, 2, 1, 3)\n",
    "                \n",
    "        energy = torch.matmul(Q, K.permute(0, 1, 3, 2)) / self.scale\n",
    "        \n",
    "        if mask is not None:\n",
    "            energy = energy.masked_fill(mask == 0, -1e10)\n",
    "        \n",
    "        attention = torch.softmax(energy, dim = -1)                \n",
    "        x = torch.matmul(self.dropout(attention), V)        \n",
    "        x = x.permute(0, 2, 1, 3).contiguous()        \n",
    "        x = x.view(batch_size, -1, self.hid_dim)        \n",
    "        x = self.fc_o(x)\n",
    "        \n",
    "        return x, attention\n",
    "    \n",
    "class PositionwiseFeedforwardLayer(nn.Module):\n",
    "    def __init__(self, hid_dim, pf_dim, dropout):\n",
    "        super().__init__()\n",
    "        \n",
    "        self.fc_1 = nn.Linear(hid_dim, pf_dim)\n",
    "        self.fc_2 = nn.Linear(pf_dim, hid_dim)\n",
    "        \n",
    "        self.dropout = nn.Dropout(dropout)\n",
    "        \n",
    "    def forward(self, x):\n",
    "        \n",
    "        x = self.dropout(torch.relu(self.fc_1(x)))        \n",
    "        x = self.fc_2(x)\n",
    "        \n",
    "        return x"
   ]
  },
  {
   "cell_type": "code",
   "execution_count": 21,
   "id": "6056b13c",
   "metadata": {
    "execution": {
     "iopub.execute_input": "2021-11-21T06:38:53.646113Z",
     "iopub.status.busy": "2021-11-21T06:38:53.645025Z",
     "iopub.status.idle": "2021-11-21T06:38:53.656538Z",
     "shell.execute_reply": "2021-11-21T06:38:53.656032Z",
     "shell.execute_reply.started": "2021-11-21T04:56:25.435578Z"
    },
    "papermill": {
     "duration": 0.314484,
     "end_time": "2021-11-21T06:38:53.656691",
     "exception": false,
     "start_time": "2021-11-21T06:38:53.342207",
     "status": "completed"
    },
    "tags": []
   },
   "outputs": [],
   "source": [
    "class Decoder(nn.Module):\n",
    "    def __init__(self, \n",
    "                 output_dim, \n",
    "                 hid_dim, \n",
    "                 n_layers, \n",
    "                 n_heads, \n",
    "                 pf_dim, \n",
    "                 dropout, \n",
    "                 device,\n",
    "                 max_length = 100):\n",
    "        super().__init__()\n",
    "        \n",
    "        self.device = device        \n",
    "        self.tok_embedding = nn.Embedding(output_dim, hid_dim)\n",
    "        self.pos_embedding = nn.Embedding(max_length, hid_dim)\n",
    "        \n",
    "        self.layers = nn.ModuleList([DecoderLayer(hid_dim, \n",
    "                                                  n_heads, \n",
    "                                                  pf_dim, \n",
    "                                                  dropout, \n",
    "                                                  device)\n",
    "                                     for _ in range(n_layers)])\n",
    "        \n",
    "        self.fc_out = nn.Linear(hid_dim, output_dim)        \n",
    "        self.dropout = nn.Dropout(dropout)        \n",
    "        self.scale = torch.sqrt(torch.FloatTensor([hid_dim])).to(device)\n",
    "        \n",
    "    def forward(self, trg, enc_src, trg_mask, src_mask):\n",
    "                \n",
    "        batch_size = trg.shape[0]\n",
    "        trg_len = trg.shape[1]        \n",
    "        pos = torch.arange(0, trg_len).unsqueeze(0).repeat(batch_size, 1).to(self.device)            \n",
    "        trg = self.dropout((self.tok_embedding(trg) * self.scale) + self.pos_embedding(pos))\n",
    "        \n",
    "        for layer in self.layers:\n",
    "            trg, attention = layer(trg, enc_src, trg_mask, src_mask)\n",
    "        \n",
    "        output = self.fc_out(trg)\n",
    "            \n",
    "        return output, attention\n",
    "    \n",
    "class DecoderLayer(nn.Module):\n",
    "    def __init__(self, \n",
    "                 hid_dim, \n",
    "                 n_heads, \n",
    "                 pf_dim, \n",
    "                 dropout, \n",
    "                 device):\n",
    "        super().__init__()\n",
    "        \n",
    "        self.self_attn_layer_norm = nn.LayerNorm(hid_dim)\n",
    "        self.enc_attn_layer_norm = nn.LayerNorm(hid_dim)\n",
    "        self.ff_layer_norm = nn.LayerNorm(hid_dim)\n",
    "        self.self_attention = MultiHeadAttentionLayer(hid_dim, n_heads, dropout, device)\n",
    "        self.encoder_attention = MultiHeadAttentionLayer(hid_dim, n_heads, dropout, device)\n",
    "        self.positionwise_feedforward = PositionwiseFeedforwardLayer(hid_dim, \n",
    "                                                                     pf_dim, \n",
    "                                                                     dropout)\n",
    "        self.dropout = nn.Dropout(dropout)\n",
    "        \n",
    "    def forward(self, trg, enc_src, trg_mask, src_mask):\n",
    "\n",
    "        _trg, _ = self.self_attention(trg, trg, trg, trg_mask)\n",
    "        trg = self.self_attn_layer_norm(trg + self.dropout(_trg))\n",
    "        _trg, attention = self.encoder_attention(trg, enc_src, enc_src, src_mask)\n",
    "        trg = self.enc_attn_layer_norm(trg + self.dropout(_trg))\n",
    "        _trg = self.positionwise_feedforward(trg)\n",
    "        trg = self.ff_layer_norm(trg + self.dropout(_trg))\n",
    "        \n",
    "        return trg, attention\n",
    "    \n",
    "class Seq2Seq(nn.Module):\n",
    "    def __init__(self, \n",
    "                 encoder, \n",
    "                 decoder, \n",
    "                 src_pad_idx, \n",
    "                 trg_pad_idx, \n",
    "                 device):\n",
    "        super().__init__()\n",
    "        \n",
    "        self.encoder = encoder\n",
    "        self.decoder = decoder\n",
    "        self.src_pad_idx = src_pad_idx\n",
    "        self.trg_pad_idx = trg_pad_idx\n",
    "        self.device = device\n",
    "        \n",
    "    def make_src_mask(self, src):\n",
    "        \n",
    "        src_mask = (src != self.src_pad_idx).unsqueeze(1).unsqueeze(2)\n",
    "\n",
    "        return src_mask\n",
    "    \n",
    "    def make_trg_mask(self, trg):\n",
    "        \n",
    "        trg_pad_mask = (trg != self.trg_pad_idx).unsqueeze(1).unsqueeze(2)        \n",
    "        trg_len = trg.shape[1]        \n",
    "        trg_sub_mask = torch.tril(torch.ones((trg_len, trg_len), device = self.device)).bool()            \n",
    "        trg_mask = trg_pad_mask & trg_sub_mask\n",
    "        \n",
    "        return trg_mask\n",
    "\n",
    "    def forward(self, src, trg):\n",
    "                \n",
    "        src_mask = self.make_src_mask(src)\n",
    "        trg_mask = self.make_trg_mask(trg)        \n",
    "        enc_src = self.encoder(src, src_mask)                \n",
    "        output, attention = self.decoder(trg, enc_src, trg_mask, src_mask)\n",
    "        \n",
    "        return output, attention"
   ]
  },
  {
   "cell_type": "code",
   "execution_count": 22,
   "id": "9c379e1f",
   "metadata": {
    "execution": {
     "iopub.execute_input": "2021-11-21T06:38:54.228794Z",
     "iopub.status.busy": "2021-11-21T06:38:54.228003Z",
     "iopub.status.idle": "2021-11-21T06:38:57.098082Z",
     "shell.execute_reply": "2021-11-21T06:38:57.098958Z",
     "shell.execute_reply.started": "2021-11-21T04:56:25.468817Z"
    },
    "papermill": {
     "duration": 3.159605,
     "end_time": "2021-11-21T06:38:57.099117",
     "exception": false,
     "start_time": "2021-11-21T06:38:53.939512",
     "status": "completed"
    },
    "tags": []
   },
   "outputs": [
    {
     "name": "stdout",
     "output_type": "stream",
     "text": [
      "The model has 25,107,521 trainable parameters\n"
     ]
    }
   ],
   "source": [
    "INPUT_DIM = len(SRC.vocab)\n",
    "OUTPUT_DIM = len(TRG.vocab)\n",
    "HID_DIM = 256\n",
    "ENC_LAYERS = 3\n",
    "DEC_LAYERS = 3\n",
    "ENC_HEADS = 8\n",
    "DEC_HEADS = 8\n",
    "ENC_PF_DIM = 512\n",
    "DEC_PF_DIM = 512\n",
    "ENC_DROPOUT = 0.1\n",
    "DEC_DROPOUT = 0.1\n",
    "\n",
    "enc = Encoder(INPUT_DIM, \n",
    "              HID_DIM, \n",
    "              ENC_LAYERS, \n",
    "              ENC_HEADS, \n",
    "              ENC_PF_DIM, \n",
    "              ENC_DROPOUT, \n",
    "              device)\n",
    "\n",
    "dec = Decoder(OUTPUT_DIM, \n",
    "              HID_DIM, \n",
    "              DEC_LAYERS, \n",
    "              DEC_HEADS, \n",
    "              DEC_PF_DIM, \n",
    "              DEC_DROPOUT, \n",
    "              device)\n",
    "\n",
    "SRC_PAD_IDX = SRC.vocab.stoi[SRC.pad_token]\n",
    "TRG_PAD_IDX = TRG.vocab.stoi[TRG.pad_token]\n",
    "\n",
    "model = Seq2Seq(enc, dec, SRC_PAD_IDX, TRG_PAD_IDX, device).to(device)\n",
    "\n",
    "def count_parameters(model):\n",
    "    return sum(p.numel() for p in model.parameters() if p.requires_grad)\n",
    "\n",
    "print(f'The model has {count_parameters(model):,} trainable parameters')"
   ]
  },
  {
   "cell_type": "code",
   "execution_count": 23,
   "id": "4203d923",
   "metadata": {
    "execution": {
     "iopub.execute_input": "2021-11-21T06:38:57.660320Z",
     "iopub.status.busy": "2021-11-21T06:38:57.659320Z",
     "iopub.status.idle": "2021-11-21T06:38:57.663034Z",
     "shell.execute_reply": "2021-11-21T06:38:57.662605Z",
     "shell.execute_reply.started": "2021-11-21T04:56:29.636729Z"
    },
    "papermill": {
     "duration": 0.28571,
     "end_time": "2021-11-21T06:38:57.663178",
     "exception": false,
     "start_time": "2021-11-21T06:38:57.377468",
     "status": "completed"
    },
    "tags": []
   },
   "outputs": [],
   "source": [
    "def initialize_weights(m):\n",
    "    if hasattr(m, 'weight') and m.weight.dim() > 1:\n",
    "        nn.init.xavier_uniform_(m.weight.data)\n",
    "        \n",
    "model.apply(initialize_weights);"
   ]
  },
  {
   "cell_type": "code",
   "execution_count": 24,
   "id": "a2facb4a",
   "metadata": {
    "execution": {
     "iopub.execute_input": "2021-11-21T06:38:58.259472Z",
     "iopub.status.busy": "2021-11-21T06:38:58.258520Z",
     "iopub.status.idle": "2021-11-21T06:38:58.260171Z",
     "shell.execute_reply": "2021-11-21T06:38:58.260608Z",
     "shell.execute_reply.started": "2021-11-21T04:56:29.650883Z"
    },
    "papermill": {
     "duration": 0.311296,
     "end_time": "2021-11-21T06:38:58.260754",
     "exception": false,
     "start_time": "2021-11-21T06:38:57.949458",
     "status": "completed"
    },
    "tags": []
   },
   "outputs": [],
   "source": [
    "LEARNING_RATE = 0.0005\n",
    "\n",
    "optimizer = torch.optim.Adam(model.parameters(), lr = LEARNING_RATE)\n",
    "\n",
    "criterion = nn.CrossEntropyLoss(ignore_index = TRG_PAD_IDX)"
   ]
  },
  {
   "cell_type": "code",
   "execution_count": 25,
   "id": "1f74eb86",
   "metadata": {
    "execution": {
     "iopub.execute_input": "2021-11-21T06:38:58.816647Z",
     "iopub.status.busy": "2021-11-21T06:38:58.815740Z",
     "iopub.status.idle": "2021-11-21T06:38:58.822621Z",
     "shell.execute_reply": "2021-11-21T06:38:58.822131Z",
     "shell.execute_reply.started": "2021-11-21T04:56:29.661599Z"
    },
    "papermill": {
     "duration": 0.291937,
     "end_time": "2021-11-21T06:38:58.822748",
     "exception": false,
     "start_time": "2021-11-21T06:38:58.530811",
     "status": "completed"
    },
    "tags": []
   },
   "outputs": [],
   "source": [
    "def train(model, iterator, optimizer, criterion, clip):\n",
    "    \n",
    "    model.train()    \n",
    "    epoch_loss = 0\n",
    "    \n",
    "    for i, batch in enumerate(iterator):\n",
    "        \n",
    "        src = batch.src\n",
    "        trg = batch.trg        \n",
    "        optimizer.zero_grad()        \n",
    "        output, _ = model(src, trg[:,:-1])                            \n",
    "        output_dim = output.shape[-1]            \n",
    "        output = output.contiguous().view(-1, output_dim)\n",
    "        trg = trg[:,1:].contiguous().view(-1)            \n",
    "        loss = criterion(output, trg)        \n",
    "        loss.backward()        \n",
    "        torch.nn.utils.clip_grad_norm_(model.parameters(), clip)        \n",
    "        optimizer.step()        \n",
    "        epoch_loss += loss.item()\n",
    "        \n",
    "    return epoch_loss / len(iterator)\n",
    "\n",
    "def evaluate(model, iterator, criterion):\n",
    "    \n",
    "    model.eval()    \n",
    "    epoch_loss = 0\n",
    "    \n",
    "    with torch.no_grad():\n",
    "    \n",
    "        for i, batch in enumerate(iterator):\n",
    "\n",
    "            src = batch.src\n",
    "            trg = batch.trg\n",
    "            output, _ = model(src, trg[:,:-1])            \n",
    "            output_dim = output.shape[-1]            \n",
    "            output = output.contiguous().view(-1, output_dim)\n",
    "            trg = trg[:,1:].contiguous().view(-1)            \n",
    "            loss = criterion(output, trg)\n",
    "            epoch_loss += loss.item()\n",
    "        \n",
    "    return epoch_loss / len(iterator)"
   ]
  },
  {
   "cell_type": "code",
   "execution_count": 26,
   "id": "5a4d37e5",
   "metadata": {
    "execution": {
     "iopub.execute_input": "2021-11-21T06:38:59.387184Z",
     "iopub.status.busy": "2021-11-21T06:38:59.386503Z",
     "iopub.status.idle": "2021-11-21T06:38:59.388103Z",
     "shell.execute_reply": "2021-11-21T06:38:59.387673Z",
     "shell.execute_reply.started": "2021-11-21T04:56:29.680166Z"
    },
    "papermill": {
     "duration": 0.290858,
     "end_time": "2021-11-21T06:38:59.388223",
     "exception": false,
     "start_time": "2021-11-21T06:38:59.097365",
     "status": "completed"
    },
    "tags": []
   },
   "outputs": [],
   "source": [
    "def epoch_time(start_time, end_time):\n",
    "    elapsed_time = end_time - start_time\n",
    "    elapsed_mins = int(elapsed_time / 60)\n",
    "    elapsed_secs = int(elapsed_time - (elapsed_mins * 60))\n",
    "    return elapsed_mins, elapsed_secs"
   ]
  },
  {
   "cell_type": "code",
   "execution_count": 27,
   "id": "236ef11e",
   "metadata": {
    "execution": {
     "iopub.execute_input": "2021-11-21T06:38:59.961042Z",
     "iopub.status.busy": "2021-11-21T06:38:59.960237Z",
     "iopub.status.idle": "2021-11-21T06:58:38.474055Z",
     "shell.execute_reply": "2021-11-21T06:58:38.474795Z",
     "shell.execute_reply.started": "2021-11-21T04:56:29.693899Z"
    },
    "papermill": {
     "duration": 1178.809341,
     "end_time": "2021-11-21T06:58:38.475026",
     "exception": false,
     "start_time": "2021-11-21T06:38:59.665685",
     "status": "completed"
    },
    "tags": []
   },
   "outputs": [
    {
     "name": "stdout",
     "output_type": "stream",
     "text": [
      "Epoch: 01 | Time: 3m 42s\n",
      "\tTrain Loss: 2.582 | Train PPL:  13.227\n",
      "\t Test. Loss: 1.760 |  Test. PPL:   5.814\n",
      "Epoch: 02 | Time: 3m 42s\n",
      "\tTrain Loss: 1.604 | Train PPL:   4.970\n",
      "\t Test. Loss: 1.453 |  Test. PPL:   4.278\n",
      "Epoch: 03 | Time: 3m 43s\n",
      "\tTrain Loss: 1.313 | Train PPL:   3.716\n",
      "\t Test. Loss: 1.323 |  Test. PPL:   3.756\n",
      "Epoch: 04 | Time: 3m 43s\n",
      "\tTrain Loss: 1.146 | Train PPL:   3.146\n",
      "\t Test. Loss: 1.254 |  Test. PPL:   3.506\n",
      "Epoch: 05 | Time: 3m 42s\n",
      "\tTrain Loss: 1.033 | Train PPL:   2.809\n",
      "\t Test. Loss: 1.207 |  Test. PPL:   3.343\n"
     ]
    }
   ],
   "source": [
    "N_EPOCHS = 5\n",
    "CLIP = 1\n",
    "\n",
    "best_valid_loss = float('inf')\n",
    "\n",
    "for epoch in range(N_EPOCHS):\n",
    "    \n",
    "    start_time = time.time()\n",
    "    \n",
    "    train_loss = train(model, train_iterator, optimizer, criterion, CLIP)\n",
    "    \n",
    "    end_time = time.time()\n",
    "    \n",
    "    epoch_mins, epoch_secs = epoch_time(start_time, end_time)\n",
    "    \n",
    "    test_loss = evaluate(model, test_iterator, criterion)\n",
    "    torch.save(model.state_dict(), 'tut6-model.pt')\n",
    "    \n",
    "    print(f'Epoch: {epoch+1:02} | Time: {epoch_mins}m {epoch_secs}s')\n",
    "    print(f'\\tTrain Loss: {train_loss:.3f} | Train PPL: {math.exp(train_loss):7.3f}')\n",
    "    print(f'\\t Test. Loss: {test_loss:.3f} |  Test. PPL: {math.exp(test_loss):7.3f}')"
   ]
  },
  {
   "cell_type": "markdown",
   "id": "34ab27c7",
   "metadata": {
    "papermill": {
     "duration": 0.27576,
     "end_time": "2021-11-21T06:58:39.036893",
     "exception": false,
     "start_time": "2021-11-21T06:58:38.761133",
     "status": "completed"
    },
    "tags": []
   },
   "source": [
    "# Inference"
   ]
  },
  {
   "cell_type": "code",
   "execution_count": 28,
   "id": "1a3d4b0f",
   "metadata": {
    "execution": {
     "iopub.execute_input": "2021-11-21T06:58:39.605576Z",
     "iopub.status.busy": "2021-11-21T06:58:39.604650Z",
     "iopub.status.idle": "2021-11-21T06:58:39.606520Z",
     "shell.execute_reply": "2021-11-21T06:58:39.607020Z",
     "shell.execute_reply.started": "2021-11-21T05:23:15.343500Z"
    },
    "papermill": {
     "duration": 0.291195,
     "end_time": "2021-11-21T06:58:39.607164",
     "exception": false,
     "start_time": "2021-11-21T06:58:39.315969",
     "status": "completed"
    },
    "tags": []
   },
   "outputs": [],
   "source": [
    "def translate_sentence(sentence, src_field, trg_field, model, device, max_len = 50):\n",
    "    \n",
    "    model.eval()\n",
    "        \n",
    "    if isinstance(sentence, str):\n",
    "        nlp = spacy.load('de_core_news_sm')\n",
    "        tokens = [token.text.lower() for token in nlp(sentence)]\n",
    "    else:\n",
    "        tokens = [token.lower() for token in sentence]\n",
    "\n",
    "    tokens = [src_field.init_token] + tokens + [src_field.eos_token]\n",
    "        \n",
    "    src_indexes = [src_field.vocab.stoi[token] for token in tokens]\n",
    "\n",
    "    src_tensor = torch.LongTensor(src_indexes).unsqueeze(0).to(device)\n",
    "    \n",
    "    src_mask = model.make_src_mask(src_tensor)\n",
    "    \n",
    "    with torch.no_grad():\n",
    "        enc_src = model.encoder(src_tensor, src_mask)\n",
    "\n",
    "    trg_indexes = [trg_field.vocab.stoi[trg_field.init_token]]\n",
    "\n",
    "    for i in range(max_len):\n",
    "\n",
    "        trg_tensor = torch.LongTensor(trg_indexes).unsqueeze(0).to(device)\n",
    "\n",
    "        trg_mask = model.make_trg_mask(trg_tensor)\n",
    "        \n",
    "        with torch.no_grad():\n",
    "            output, attention = model.decoder(trg_tensor, enc_src, trg_mask, src_mask)\n",
    "        \n",
    "        pred_token = output.argmax(2)[:,-1].item()\n",
    "        \n",
    "        trg_indexes.append(pred_token)\n",
    "\n",
    "        if pred_token == trg_field.vocab.stoi[trg_field.eos_token]:\n",
    "            break\n",
    "    \n",
    "    trg_tokens = [trg_field.vocab.itos[i] for i in trg_indexes]\n",
    "    \n",
    "    return trg_tokens[1:], attention"
   ]
  },
  {
   "cell_type": "markdown",
   "id": "391ecb92",
   "metadata": {
    "papermill": {
     "duration": 0.273733,
     "end_time": "2021-11-21T06:58:40.149302",
     "exception": false,
     "start_time": "2021-11-21T06:58:39.875569",
     "status": "completed"
    },
    "tags": []
   },
   "source": [
    "# Input data processing, inference"
   ]
  },
  {
   "cell_type": "code",
   "execution_count": 29,
   "id": "0c68ede6",
   "metadata": {
    "execution": {
     "iopub.execute_input": "2021-11-21T06:58:40.712050Z",
     "iopub.status.busy": "2021-11-21T06:58:40.711319Z",
     "iopub.status.idle": "2021-11-21T06:58:40.714846Z",
     "shell.execute_reply": "2021-11-21T06:58:40.714243Z",
     "shell.execute_reply.started": "2021-11-21T05:23:37.610779Z"
    },
    "papermill": {
     "duration": 0.292078,
     "end_time": "2021-11-21T06:58:40.715004",
     "exception": false,
     "start_time": "2021-11-21T06:58:40.422926",
     "status": "completed"
    },
    "tags": []
   },
   "outputs": [],
   "source": [
    "def basic_clean_ko(text):\n",
    "    text = re.split('(\\d+)', text) # 숫자와 글자 분리\n",
    "    return ' '.join(text)\n",
    "\n",
    "def sent_tok_korean(text):\n",
    "   # text = re.sub(r'[^\\w\\s]', '', text) # 구두점 제거 \n",
    "    text = text.replace('  ', ' ') # 다중 공백 제거\n",
    "    text = re.split('([가-힣]+[^\\w\\s])', text) # 구두점과 글자 분리    \n",
    "    return ''.join(text) # 단어 분리 "
   ]
  },
  {
   "cell_type": "code",
   "execution_count": 30,
   "id": "8a986b3b",
   "metadata": {
    "execution": {
     "iopub.execute_input": "2021-11-21T06:58:41.287712Z",
     "iopub.status.busy": "2021-11-21T06:58:41.275224Z",
     "iopub.status.idle": "2021-11-21T06:58:41.291177Z",
     "shell.execute_reply": "2021-11-21T06:58:41.290747Z",
     "shell.execute_reply.started": "2021-11-21T05:23:41.016824Z"
    },
    "papermill": {
     "duration": 0.301126,
     "end_time": "2021-11-21T06:58:41.291296",
     "exception": false,
     "start_time": "2021-11-21T06:58:40.990170",
     "status": "completed"
    },
    "tags": []
   },
   "outputs": [],
   "source": [
    "## 형태소 분석을 할 경우\n",
    "\n",
    "sen_list_morph = [\n",
    "'모든 액체 , 젤 , 에어로졸 등 은 1 커트 짜리 여닫이 투명 봉지 하나 에 넣 어야 하 ㅂ니다 .',\n",
    "'미안 하 지만 , 뒷쪽 아이 들 의 떠들 는 소리 가 커 어서 , 광화문 으로 가 아고 싶 은데 표 를 바꾸 어 주 시 겠 어요 ?',\n",
    "'은행 이 너무 멀 어서 안 되 겠 네요 . 현찰 이 필요 하면 돈 을 훔치 시 어요',\n",
    "'아무래도 분실 하 ㄴ 것 같 으니 분실 신고서 를 작성 하 아야 하 겠 습니다 . 사무실 로 같이 가 시 ㄹ 까요 ?',\n",
    "'부산 에서 코로나 확진자 가 급증 하 아서 병상 이 부족하 아 지자  확진자 20명 을 대구 로 이송하 ㄴ다 .',\n",
    "'변기 가 막히 었 습니다 .',\n",
    "'그 바지 좀 보이 어 주 시 ㅂ시오 . 이거 얼마 에 사 ㄹ 수 있 는 것 이 ㅂ니까 ?',\n",
    "'비 가 오 아서 백화점 으로 가지 말 고 두타 로 가 았 으면 좋 겠 습니다 .',\n",
    "'속 이 안 좋 을 때 는 죽 이나 미음 으로 아침 을 대신 하 ㅂ니다',\n",
    "'문 대통령 은 집단 이익 에서 벗어 나 아 라고 말 하 었 다 .',\n",
    "'이것 좀 먹어 보 ㄹ 몇 일 간 의 시간 을 주 시 어요 .',\n",
    "'이날 개미군단 은 외인 의 물량 을 모두 받 아 내 었 다 .',\n",
    "'통합 우승 의 목표 를 달성하 ㄴ NC 다이노스 나성범 이 메이저리그 진출 이라는 또 다른 꿈 을 향하 어 나아가 ㄴ다 .',\n",
    "'이번 구조 조정 이 제품 을 효과 적 으로 개발 하 고 판매 하 기 위하 ㄴ 회사 의 능력 강화 조처 이 ㅁ 을 이해 하 아 주 시 리라 생각 하 ㅂ니다 .',\n",
    "'요즘 이 프로그램 녹화 하 며 많은 걸 느끼 ㄴ다 '\n",
    "'배낭 여행 은 우리 들 이 어리었을 때 허용 되 지 않 으면 우울 하 아 하 ㄴ다'\n",
    "'그 소녀 는 단지 늑대 처럼 울부짖 을 수 있 을 뿐 이 었 다']\n",
    "\n",
    "# 데이터프레임으로 만들기\n",
    "sent_morph = pd.DataFrame(sen_list_morph, columns = [\"sentences\"])\n",
    "sent_morph[\"clean_Korean\"] = sent_morph[\"sentences\"].apply(basic_clean_ko)\n",
    "sent_morph[\"clean_Korean\"] = sent_morph[\"clean_Korean\"].apply(sent_tok_korean)\n",
    "sent_morph = sent_morph[\"clean_Korean\"]\n",
    "sent_morph.to_csv(\"sent_morph\")"
   ]
  },
  {
   "cell_type": "code",
   "execution_count": 31,
   "id": "9dbf06ae",
   "metadata": {
    "execution": {
     "iopub.execute_input": "2021-11-21T06:58:41.845409Z",
     "iopub.status.busy": "2021-11-21T06:58:41.844534Z",
     "iopub.status.idle": "2021-11-21T06:58:41.846378Z",
     "shell.execute_reply": "2021-11-21T06:58:41.846804Z",
     "shell.execute_reply.started": "2021-11-21T05:23:45.801581Z"
    },
    "papermill": {
     "duration": 0.286103,
     "end_time": "2021-11-21T06:58:41.846940",
     "exception": false,
     "start_time": "2021-11-21T06:58:41.560837",
     "status": "completed"
    },
    "tags": []
   },
   "outputs": [],
   "source": [
    "reading_sent = pd.read_csv(\"./sent_morph\")\n",
    "reading_sent[\"trg\"] = \"\" # 빈 컬럼 만들어주기"
   ]
  },
  {
   "cell_type": "code",
   "execution_count": 32,
   "id": "40e4fb1e",
   "metadata": {
    "execution": {
     "iopub.execute_input": "2021-11-21T06:58:42.452036Z",
     "iopub.status.busy": "2021-11-21T06:58:42.431613Z",
     "iopub.status.idle": "2021-11-21T06:58:44.229697Z",
     "shell.execute_reply": "2021-11-21T06:58:44.230135Z",
     "shell.execute_reply.started": "2021-11-21T05:23:49.539857Z"
    },
    "papermill": {
     "duration": 2.11477,
     "end_time": "2021-11-21T06:58:44.230302",
     "exception": false,
     "start_time": "2021-11-21T06:58:42.115532",
     "status": "completed"
    },
    "tags": []
   },
   "outputs": [],
   "source": [
    "Raw_datafields = [(\"Unnamed:0\", None), (\"src\", SRC), (\"trg\", TRG)]\n",
    "\n",
    "sent_data = data.TabularDataset(\n",
    "        path='./sent_morph',\n",
    "        format='csv',\n",
    "        skip_header=True, \n",
    "        fields=Raw_datafields) \n",
    "\n",
    "SRC.build_vocab(train_data, min_freq = 1)\n",
    "TRG.build_vocab(train_data, min_freq = 1)"
   ]
  },
  {
   "cell_type": "code",
   "execution_count": 33,
   "id": "8ddb59cd",
   "metadata": {
    "execution": {
     "iopub.execute_input": "2021-11-21T06:58:44.789168Z",
     "iopub.status.busy": "2021-11-21T06:58:44.788304Z",
     "iopub.status.idle": "2021-11-21T06:58:45.952655Z",
     "shell.execute_reply": "2021-11-21T06:58:45.952191Z",
     "shell.execute_reply.started": "2021-11-21T05:23:55.927538Z"
    },
    "papermill": {
     "duration": 1.446171,
     "end_time": "2021-11-21T06:58:45.952788",
     "exception": false,
     "start_time": "2021-11-21T06:58:44.506617",
     "status": "completed"
    },
    "tags": []
   },
   "outputs": [
    {
     "data": {
      "text/html": [
       "<div>\n",
       "<style scoped>\n",
       "    .dataframe tbody tr th:only-of-type {\n",
       "        vertical-align: middle;\n",
       "    }\n",
       "\n",
       "    .dataframe tbody tr th {\n",
       "        vertical-align: top;\n",
       "    }\n",
       "\n",
       "    .dataframe thead th {\n",
       "        text-align: right;\n",
       "    }\n",
       "</style>\n",
       "<table border=\"1\" class=\"dataframe\">\n",
       "  <thead>\n",
       "    <tr style=\"text-align: right;\">\n",
       "      <th></th>\n",
       "      <th>Unnamed: 0</th>\n",
       "      <th>clean_Korean</th>\n",
       "      <th>trg</th>\n",
       "    </tr>\n",
       "  </thead>\n",
       "  <tbody>\n",
       "    <tr>\n",
       "      <th>0</th>\n",
       "      <td>0</td>\n",
       "      <td>모든 액체 , 젤 , 에어로졸 등 은 1 커트 짜리 여닫이 투명 봉지 하나 에 넣 어야 하 ㅂ니다 .</td>\n",
       "      <td>we have to bring all liquids , quart-size , quart-size , quart-size , quart-size , single plastic bag , quart-size , zip-top , zip-top , zip-top , zip-top , zip-top , zip-top , zip-top , zip-top , plastic , plastic , plastic , plastic , zip-top ,...</td>\n",
       "    </tr>\n",
       "    <tr>\n",
       "      <th>1</th>\n",
       "      <td>1</td>\n",
       "      <td>미안 하 지만 , 뒷쪽 아이 들 의 떠들 는 소리 가 커 어서 , 광화문 으로 가 아고 싶 은데 표 를 바꾸 어 주 시 겠 어요 ?</td>\n",
       "      <td>sorry , but the noise from being cold . could you change my ticket to gwanghwamun ? i am trying to move to move to move to another breeze passing the passenger to crazy ? &lt;eos&gt;</td>\n",
       "    </tr>\n",
       "    <tr>\n",
       "      <th>2</th>\n",
       "      <td>2</td>\n",
       "      <td>은행 이 너무 멀 어서 안 되 겠 네요 . 현찰 이 필요 하면 돈 을 훔치 시 어요</td>\n",
       "      <td>the bank is too far to steal . i need a cash refund . &lt;eos&gt;</td>\n",
       "    </tr>\n",
       "    <tr>\n",
       "      <th>3</th>\n",
       "      <td>3</td>\n",
       "      <td>아무래도 분실 하 ㄴ 것 같 으니 분실 신고서 를 작성 하 아야 하 겠 습니다 . 사무실 로 같이 가 시 ㄹ 까요 ?</td>\n",
       "      <td>i think i have lost my report . would you mind checking out ? i am afraid i have to the office . &lt;eos&gt;</td>\n",
       "    </tr>\n",
       "    <tr>\n",
       "      <th>4</th>\n",
       "      <td>4</td>\n",
       "      <td>부산 에서 코로나 확진자 가 급증 하 아서 병상 이 부족하 아 지자 확진자 20 명 을 대구 로 이송하 ㄴ다 .</td>\n",
       "      <td>busan is a great skier with the pusan and fierce city hall and fierce will be bimonthly . &lt;eos&gt;</td>\n",
       "    </tr>\n",
       "    <tr>\n",
       "      <th>5</th>\n",
       "      <td>5</td>\n",
       "      <td>변기 가 막히 었 습니다 .</td>\n",
       "      <td>the toilet is clogged up . &lt;eos&gt;</td>\n",
       "    </tr>\n",
       "    <tr>\n",
       "      <th>6</th>\n",
       "      <td>6</td>\n",
       "      <td>그 바지 좀 보이 어 주 시 ㅂ시오 . 이거 얼마 에 사 ㄹ 수 있 는 것 이 ㅂ니까 ?</td>\n",
       "      <td>i would like to see them out . how much will it be ? &lt;eos&gt;</td>\n",
       "    </tr>\n",
       "    <tr>\n",
       "      <th>7</th>\n",
       "      <td>7</td>\n",
       "      <td>비 가 오 아서 백화점 으로 가지 말 고 두타 로 가 았 으면 좋 겠 습니다 .</td>\n",
       "      <td>i think we should go to the mall and go to the mall immediately . &lt;eos&gt;</td>\n",
       "    </tr>\n",
       "    <tr>\n",
       "      <th>8</th>\n",
       "      <td>8</td>\n",
       "      <td>속 이 안 좋 을 때 는 죽 이나 미음 으로 아침 을 대신 하 ㅂ니다</td>\n",
       "      <td>i feel frustrated because it tastes strange in sick with soup . &lt;eos&gt;</td>\n",
       "    </tr>\n",
       "    <tr>\n",
       "      <th>9</th>\n",
       "      <td>9</td>\n",
       "      <td>문 대통령 은 집단 이익 에서 벗어 나 아 라고 말 하 었 다 .</td>\n",
       "      <td>the door was made at the president . &lt;eos&gt;</td>\n",
       "    </tr>\n",
       "    <tr>\n",
       "      <th>10</th>\n",
       "      <td>10</td>\n",
       "      <td>이것 좀 먹어 보 ㄹ 몇 일 간 의 시간 을 주 시 어요 .</td>\n",
       "      <td>please give me some time to keep the cool off . &lt;eos&gt;</td>\n",
       "    </tr>\n",
       "    <tr>\n",
       "      <th>11</th>\n",
       "      <td>11</td>\n",
       "      <td>이날 개미군단 은 외인 의 물량 을 모두 받 아 내 었 다 .</td>\n",
       "      <td>the spring was paid all the bleeding . &lt;eos&gt;</td>\n",
       "    </tr>\n",
       "    <tr>\n",
       "      <th>12</th>\n",
       "      <td>12</td>\n",
       "      <td>통합 우승 의 목표 를 달성하 ㄴ NC 다이노스 나성범 이 메이저리그 진출 이라는 또 다른 꿈 을 향하 어 나아가 ㄴ다 .</td>\n",
       "      <td>edward allen harris and diane heidkrueger are the new enemy . &lt;eos&gt;</td>\n",
       "    </tr>\n",
       "    <tr>\n",
       "      <th>13</th>\n",
       "      <td>13</td>\n",
       "      <td>이번 구조 조정 이 제품 을 효과 적 으로 개발 하 고 판매 하 기 위하 ㄴ 회사 의 능력 강화 조처 이 ㅁ 을 이해 하 아 주 시 리라 생각 하 ㅂ니다 .</td>\n",
       "      <td>we will have to consider our products in this market to develop our market . &lt;eos&gt;</td>\n",
       "    </tr>\n",
       "    <tr>\n",
       "      <th>14</th>\n",
       "      <td>14</td>\n",
       "      <td>요즘 이 프로그램 녹화 하 며 많은 걸 느끼 ㄴ다 배낭 여행 은 우리 들 이 어리었을 때 허용 되 지 않 으면 우울 하 아 하 ㄴ다그 소녀 는 단지 늑대 처럼 울부짖 을 수 있 을 뿐 이 었 다</td>\n",
       "      <td>because we had a game of a game of a world since we had a look in the world since we were able to negotiate with the web site for the world , and found a woman of dairy － wool university of dairy － wool university of dairy in</td>\n",
       "    </tr>\n",
       "  </tbody>\n",
       "</table>\n",
       "</div>"
      ],
      "text/plain": [
       "    Unnamed: 0  \\\n",
       "0            0   \n",
       "1            1   \n",
       "2            2   \n",
       "3            3   \n",
       "4            4   \n",
       "5            5   \n",
       "6            6   \n",
       "7            7   \n",
       "8            8   \n",
       "9            9   \n",
       "10          10   \n",
       "11          11   \n",
       "12          12   \n",
       "13          13   \n",
       "14          14   \n",
       "\n",
       "                                                                                                    clean_Korean  \\\n",
       "0                                                       모든 액체 , 젤 , 에어로졸 등 은 1 커트 짜리 여닫이 투명 봉지 하나 에 넣 어야 하 ㅂ니다 .   \n",
       "1                                      미안 하 지만 , 뒷쪽 아이 들 의 떠들 는 소리 가 커 어서 , 광화문 으로 가 아고 싶 은데 표 를 바꾸 어 주 시 겠 어요 ?   \n",
       "2                                                                 은행 이 너무 멀 어서 안 되 겠 네요 . 현찰 이 필요 하면 돈 을 훔치 시 어요   \n",
       "3                                              아무래도 분실 하 ㄴ 것 같 으니 분실 신고서 를 작성 하 아야 하 겠 습니다 . 사무실 로 같이 가 시 ㄹ 까요 ?   \n",
       "4                                                 부산 에서 코로나 확진자 가 급증 하 아서 병상 이 부족하 아 지자 확진자 20 명 을 대구 로 이송하 ㄴ다 .   \n",
       "5                                                                                                변기 가 막히 었 습니다 .   \n",
       "6                                                              그 바지 좀 보이 어 주 시 ㅂ시오 . 이거 얼마 에 사 ㄹ 수 있 는 것 이 ㅂ니까 ?   \n",
       "7                                                                   비 가 오 아서 백화점 으로 가지 말 고 두타 로 가 았 으면 좋 겠 습니다 .   \n",
       "8                                                                         속 이 안 좋 을 때 는 죽 이나 미음 으로 아침 을 대신 하 ㅂ니다   \n",
       "9                                                                           문 대통령 은 집단 이익 에서 벗어 나 아 라고 말 하 었 다 .   \n",
       "10                                                                             이것 좀 먹어 보 ㄹ 몇 일 간 의 시간 을 주 시 어요 .   \n",
       "11                                                                            이날 개미군단 은 외인 의 물량 을 모두 받 아 내 었 다 .   \n",
       "12                                          통합 우승 의 목표 를 달성하 ㄴ NC 다이노스 나성범 이 메이저리그 진출 이라는 또 다른 꿈 을 향하 어 나아가 ㄴ다 .   \n",
       "13                       이번 구조 조정 이 제품 을 효과 적 으로 개발 하 고 판매 하 기 위하 ㄴ 회사 의 능력 강화 조처 이 ㅁ 을 이해 하 아 주 시 리라 생각 하 ㅂ니다 .   \n",
       "14  요즘 이 프로그램 녹화 하 며 많은 걸 느끼 ㄴ다 배낭 여행 은 우리 들 이 어리었을 때 허용 되 지 않 으면 우울 하 아 하 ㄴ다그 소녀 는 단지 늑대 처럼 울부짖 을 수 있 을 뿐 이 었 다   \n",
       "\n",
       "                                                                                                                                                                                                                                                          trg  \n",
       "0   we have to bring all liquids , quart-size , quart-size , quart-size , quart-size , single plastic bag , quart-size , zip-top , zip-top , zip-top , zip-top , zip-top , zip-top , zip-top , zip-top , plastic , plastic , plastic , plastic , zip-top ,...  \n",
       "1                                                                            sorry , but the noise from being cold . could you change my ticket to gwanghwamun ? i am trying to move to move to move to another breeze passing the passenger to crazy ? <eos>  \n",
       "2                                                                                                                                                                                                 the bank is too far to steal . i need a cash refund . <eos>  \n",
       "3                                                                                                                                                      i think i have lost my report . would you mind checking out ? i am afraid i have to the office . <eos>  \n",
       "4                                                                                                                                                             busan is a great skier with the pusan and fierce city hall and fierce will be bimonthly . <eos>  \n",
       "5                                                                                                                                                                                                                            the toilet is clogged up . <eos>  \n",
       "6                                                                                                                                                                                                  i would like to see them out . how much will it be ? <eos>  \n",
       "7                                                                                                                                                                                     i think we should go to the mall and go to the mall immediately . <eos>  \n",
       "8                                                                                                                                                                                       i feel frustrated because it tastes strange in sick with soup . <eos>  \n",
       "9                                                                                                                                                                                                                  the door was made at the president . <eos>  \n",
       "10                                                                                                                                                                                                      please give me some time to keep the cool off . <eos>  \n",
       "11                                                                                                                                                                                                               the spring was paid all the bleeding . <eos>  \n",
       "12                                                                                                                                                                                        edward allen harris and diane heidkrueger are the new enemy . <eos>  \n",
       "13                                                                                                                                                                         we will have to consider our products in this market to develop our market . <eos>  \n",
       "14                          because we had a game of a game of a world since we had a look in the world since we were able to negotiate with the web site for the world , and found a woman of dairy － wool university of dairy － wool university of dairy in  "
      ]
     },
     "execution_count": 33,
     "metadata": {},
     "output_type": "execute_result"
    }
   ],
   "source": [
    "pred_sent = []\n",
    "\n",
    "for i in range(len(sent_data)):\n",
    "    src = vars(sent_data[i])['src']\n",
    "    translation, attention = translate_sentence(src, SRC, TRG, model, device)\n",
    "    translation = ' '.join(translation)\n",
    "    pred_sent.append(translation)\n",
    "    \n",
    "pred = pd.DataFrame(pred_sent, columns = [\"pred_sentences\"])\n",
    "\n",
    "reading_sent[\"trg\"] = pred[\"pred_sentences\"]\n",
    "reading_sent"
   ]
  },
  {
   "cell_type": "code",
   "execution_count": 34,
   "id": "c6b3954a",
   "metadata": {
    "execution": {
     "iopub.execute_input": "2021-11-21T06:58:46.503805Z",
     "iopub.status.busy": "2021-11-21T06:58:46.502182Z",
     "iopub.status.idle": "2021-11-21T06:58:46.515516Z",
     "shell.execute_reply": "2021-11-21T06:58:46.515061Z",
     "shell.execute_reply.started": "2021-11-21T05:24:14.415993Z"
    },
    "papermill": {
     "duration": 0.290463,
     "end_time": "2021-11-21T06:58:46.515645",
     "exception": false,
     "start_time": "2021-11-21T06:58:46.225182",
     "status": "completed"
    },
    "tags": []
   },
   "outputs": [],
   "source": [
    "## 어절단위로 결합하여 할 경우\n",
    "\n",
    "sen_list_eojeol = [\n",
    "'모든 액체, 젤, 에어로졸 등은 1커트 짜리 여닫이 투명 봉지 하나에 넣어야 합니다.',\n",
    "'미안하지만 , 뒷쪽 아이들의 떠드는 소리가 커서 , 광화문으로 가고 싶은데 표를 바꾸어 주시겠어요?',\n",
    "'은행이 너무 멀어서 안되겠네요. 현찰이 필요하면 돈을 훔치세요',\n",
    "'아무래도 분실한 것 같으니 분실신고서를 작성해야 하겠습니다. 사무실로 같이 가실까요?',\n",
    "'부산에서 코로나 확진자가 급증해서 병상이 부족해지자  확진자 20명을 대구로 이송한다.',\n",
    "'변기가 막히었습니다 .',\n",
    "'그 바지 좀 보여주십시오. 이거 얼마에 살 수 있는 것입니까?',\n",
    "'비가 와서 백화점으로 가지 말고 두타로 갔으면 좋겠습니다 .',\n",
    "'속이 안좋을 때는 죽이나 미음으로 아침을 대신 합니다',\n",
    "'문 대통령은 집단이익에서 벗어나라고 말하였다.',\n",
    "'이것 좀 먹어 볼 몇 일 간의 시간을 주세요.',\n",
    "'이날 개미군단은 외인의 물량을 모두 받아내었다.',\n",
    "'통합 우승의 목표를 달성한 NC 다이노스 나성범이 메이저리그 진출이라는 또다른 꿈을 향해 나아간다.',\n",
    "'이번 구조 조정이 제품을 효과적으로 개발하고 판매하기 위한 회사의 능력 강화 조처임을 이해해 주시리라 생각합니다.',\n",
    "'요즘 이 프로그램 녹화하며 많은 걸 느낀다'\n",
    "'배낭 여행은 우리들이 어렸을 때 허용디지 않으면 우울 해 한다'\n",
    "'그 소녀는 단지 늑대처럼 울부짖을 수 있을 뿐이었다']\n",
    "sent_eojeol = pd.DataFrame(sen_list_eojeol, columns = [\"sentences\"])\n",
    "sent_eojeol[\"clean_Korean\"] = sent_eojeol[\"sentences\"].apply(basic_clean_ko)\n",
    "sent_eojeol[\"clean_Korean\"] = sent_eojeol[\"clean_Korean\"].apply(sent_tok_korean)\n",
    "sent_eojeol = sent_eojeol[\"clean_Korean\"]\n",
    "sent_eojeol.to_csv(\"sent_eojeol\")\n",
    "\n",
    "reading_sent2 = pd.read_csv(\"./sent_eojeol\")\n",
    "reading_sent2[\"trg\"] = \"\""
   ]
  },
  {
   "cell_type": "code",
   "execution_count": 35,
   "id": "6452568d",
   "metadata": {
    "execution": {
     "iopub.execute_input": "2021-11-21T06:58:47.066947Z",
     "iopub.status.busy": "2021-11-21T06:58:47.066122Z",
     "iopub.status.idle": "2021-11-21T06:58:49.132384Z",
     "shell.execute_reply": "2021-11-21T06:58:49.131865Z",
     "shell.execute_reply.started": "2021-11-21T05:24:16.623999Z"
    },
    "papermill": {
     "duration": 2.348427,
     "end_time": "2021-11-21T06:58:49.132537",
     "exception": false,
     "start_time": "2021-11-21T06:58:46.784110",
     "status": "completed"
    },
    "tags": []
   },
   "outputs": [],
   "source": [
    "Raw_datafields = [(\"Unnamed:0\", None), (\"src\", SRC), (\"trg\", TRG)]\n",
    "\n",
    "sent_data2 = data.TabularDataset(\n",
    "        path='./sent_eojeol',\n",
    "        format='csv',\n",
    "        skip_header=True, \n",
    "        fields=Raw_datafields) \n",
    "\n",
    "SRC.build_vocab(train_data, min_freq = 1)\n",
    "TRG.build_vocab(train_data, min_freq = 1)"
   ]
  },
  {
   "cell_type": "code",
   "execution_count": 36,
   "id": "d9319784",
   "metadata": {
    "execution": {
     "iopub.execute_input": "2021-11-21T06:58:49.742404Z",
     "iopub.status.busy": "2021-11-21T06:58:49.741548Z",
     "iopub.status.idle": "2021-11-21T06:58:50.534376Z",
     "shell.execute_reply": "2021-11-21T06:58:50.534928Z",
     "shell.execute_reply.started": "2021-11-21T05:24:18.821559Z"
    },
    "papermill": {
     "duration": 1.100838,
     "end_time": "2021-11-21T06:58:50.535155",
     "exception": false,
     "start_time": "2021-11-21T06:58:49.434317",
     "status": "completed"
    },
    "tags": []
   },
   "outputs": [
    {
     "data": {
      "text/html": [
       "<div>\n",
       "<style scoped>\n",
       "    .dataframe tbody tr th:only-of-type {\n",
       "        vertical-align: middle;\n",
       "    }\n",
       "\n",
       "    .dataframe tbody tr th {\n",
       "        vertical-align: top;\n",
       "    }\n",
       "\n",
       "    .dataframe thead th {\n",
       "        text-align: right;\n",
       "    }\n",
       "</style>\n",
       "<table border=\"1\" class=\"dataframe\">\n",
       "  <thead>\n",
       "    <tr style=\"text-align: right;\">\n",
       "      <th></th>\n",
       "      <th>Unnamed: 0</th>\n",
       "      <th>clean_Korean</th>\n",
       "      <th>trg</th>\n",
       "    </tr>\n",
       "  </thead>\n",
       "  <tbody>\n",
       "    <tr>\n",
       "      <th>0</th>\n",
       "      <td>0</td>\n",
       "      <td>모든 액체, 젤, 에어로졸 등은 1 커트 짜리 여닫이 투명 봉지 하나에 넣어야 합니다.</td>\n",
       "      <td>all the passengers are allowed to carry into the main distribution rights without a single room . &lt;eos&gt;</td>\n",
       "    </tr>\n",
       "    <tr>\n",
       "      <th>1</th>\n",
       "      <td>1</td>\n",
       "      <td>미안하지만 , 뒷쪽 아이들의 떠드는 소리가 커서 , 광화문으로 가고 싶은데 표를 바꾸어 주시겠어요?</td>\n",
       "      <td>minsok-chon is a king and fierce swim in the outdoor life and the dark , is the mice . &lt;eos&gt;</td>\n",
       "    </tr>\n",
       "    <tr>\n",
       "      <th>2</th>\n",
       "      <td>2</td>\n",
       "      <td>은행이 너무 멀어서 안되겠네요. 현찰이 필요하면 돈을 훔치세요</td>\n",
       "      <td>the dealer in the curve like a curve . &lt;eos&gt;</td>\n",
       "    </tr>\n",
       "    <tr>\n",
       "      <th>3</th>\n",
       "      <td>3</td>\n",
       "      <td>아무래도 분실한 것 같으니 분실신고서를 작성해야 하겠습니다. 사무실로 같이 가실까요?</td>\n",
       "      <td>i think the dealer will be improvised . &lt;eos&gt;</td>\n",
       "    </tr>\n",
       "    <tr>\n",
       "      <th>4</th>\n",
       "      <td>4</td>\n",
       "      <td>부산에서 코로나 확진자가 급증해서 병상이 부족해지자 확진자 20 명을 대구로 이송한다.</td>\n",
       "      <td>the border between dongho great resorts for the elderly . &lt;eos&gt;</td>\n",
       "    </tr>\n",
       "    <tr>\n",
       "      <th>5</th>\n",
       "      <td>5</td>\n",
       "      <td>변기가 막히었습니다 .</td>\n",
       "      <td>&lt;eos&gt;</td>\n",
       "    </tr>\n",
       "    <tr>\n",
       "      <th>6</th>\n",
       "      <td>6</td>\n",
       "      <td>그 바지 좀 보여주십시오. 이거 얼마에 살 수 있는 것입니까?</td>\n",
       "      <td>the trousers can get a prize . &lt;eos&gt;</td>\n",
       "    </tr>\n",
       "    <tr>\n",
       "      <th>7</th>\n",
       "      <td>7</td>\n",
       "      <td>비가 와서 백화점으로 가지 말고 두타로 갔으면 좋겠습니다 .</td>\n",
       "      <td>the eagles on the plane is falling apart . &lt;eos&gt;</td>\n",
       "    </tr>\n",
       "    <tr>\n",
       "      <th>8</th>\n",
       "      <td>8</td>\n",
       "      <td>속이 안좋을 때는 죽이나 미음으로 아침을 대신 합니다</td>\n",
       "      <td>the dealer in second-hand shed gill . &lt;eos&gt;</td>\n",
       "    </tr>\n",
       "    <tr>\n",
       "      <th>9</th>\n",
       "      <td>9</td>\n",
       "      <td>문 대통령은 집단이익에서 벗어나라고 말하였다.</td>\n",
       "      <td>the door is on the subway . &lt;eos&gt;</td>\n",
       "    </tr>\n",
       "    <tr>\n",
       "      <th>10</th>\n",
       "      <td>10</td>\n",
       "      <td>이것 좀 먹어 볼 몇 일 간의 시간을 주세요.</td>\n",
       "      <td>how many pieces of painting are there in jennifer ? &lt;eos&gt;</td>\n",
       "    </tr>\n",
       "    <tr>\n",
       "      <th>11</th>\n",
       "      <td>11</td>\n",
       "      <td>이날 개미군단은 외인의 물량을 모두 받아내었다.</td>\n",
       "      <td>unbelievable . &lt;eos&gt;</td>\n",
       "    </tr>\n",
       "    <tr>\n",
       "      <th>12</th>\n",
       "      <td>12</td>\n",
       "      <td>통합 우승의 목표를 달성한 NC 다이노스 나성범이 메이저리그 진출이라는 또다른 꿈을 향해 나아간다.</td>\n",
       "      <td>the hill garden with autumnal tints . &lt;eos&gt;</td>\n",
       "    </tr>\n",
       "    <tr>\n",
       "      <th>13</th>\n",
       "      <td>13</td>\n",
       "      <td>이번 구조 조정이 제품을 효과적으로 개발하고 판매하기 위한 회사의 능력 강화 조처임을 이해해 주시리라 생각합니다.</td>\n",
       "      <td>the expressways , from the dark to the rank and strengthening local mistakes in the peninsula . &lt;eos&gt;</td>\n",
       "    </tr>\n",
       "    <tr>\n",
       "      <th>14</th>\n",
       "      <td>14</td>\n",
       "      <td>요즘 이 프로그램 녹화하며 많은 걸 느낀다배낭 여행은 우리들이 어렸을 때 허용디지 않으면 우울 해 한다그 소녀는 단지 늑대처럼 울부짖을 수 있을 뿐이었다</td>\n",
       "      <td>the guggenheim university in a bath is a bath for the elderly , so i can get a gasket if there a gasket in birmingham the birmingham . &lt;eos&gt;</td>\n",
       "    </tr>\n",
       "  </tbody>\n",
       "</table>\n",
       "</div>"
      ],
      "text/plain": [
       "    Unnamed: 0  \\\n",
       "0            0   \n",
       "1            1   \n",
       "2            2   \n",
       "3            3   \n",
       "4            4   \n",
       "5            5   \n",
       "6            6   \n",
       "7            7   \n",
       "8            8   \n",
       "9            9   \n",
       "10          10   \n",
       "11          11   \n",
       "12          12   \n",
       "13          13   \n",
       "14          14   \n",
       "\n",
       "                                                                             clean_Korean  \\\n",
       "0                                        모든 액체, 젤, 에어로졸 등은 1 커트 짜리 여닫이 투명 봉지 하나에 넣어야 합니다.   \n",
       "1                                 미안하지만 , 뒷쪽 아이들의 떠드는 소리가 커서 , 광화문으로 가고 싶은데 표를 바꾸어 주시겠어요?   \n",
       "2                                                      은행이 너무 멀어서 안되겠네요. 현찰이 필요하면 돈을 훔치세요   \n",
       "3                                         아무래도 분실한 것 같으니 분실신고서를 작성해야 하겠습니다. 사무실로 같이 가실까요?   \n",
       "4                                        부산에서 코로나 확진자가 급증해서 병상이 부족해지자 확진자 20 명을 대구로 이송한다.   \n",
       "5                                                                            변기가 막히었습니다 .   \n",
       "6                                                      그 바지 좀 보여주십시오. 이거 얼마에 살 수 있는 것입니까?   \n",
       "7                                                       비가 와서 백화점으로 가지 말고 두타로 갔으면 좋겠습니다 .   \n",
       "8                                                           속이 안좋을 때는 죽이나 미음으로 아침을 대신 합니다   \n",
       "9                                                               문 대통령은 집단이익에서 벗어나라고 말하였다.   \n",
       "10                                                              이것 좀 먹어 볼 몇 일 간의 시간을 주세요.   \n",
       "11                                                             이날 개미군단은 외인의 물량을 모두 받아내었다.   \n",
       "12                                통합 우승의 목표를 달성한 NC 다이노스 나성범이 메이저리그 진출이라는 또다른 꿈을 향해 나아간다.   \n",
       "13                        이번 구조 조정이 제품을 효과적으로 개발하고 판매하기 위한 회사의 능력 강화 조처임을 이해해 주시리라 생각합니다.   \n",
       "14  요즘 이 프로그램 녹화하며 많은 걸 느낀다배낭 여행은 우리들이 어렸을 때 허용디지 않으면 우울 해 한다그 소녀는 단지 늑대처럼 울부짖을 수 있을 뿐이었다   \n",
       "\n",
       "                                                                                                                                             trg  \n",
       "0                                        all the passengers are allowed to carry into the main distribution rights without a single room . <eos>  \n",
       "1                                                   minsok-chon is a king and fierce swim in the outdoor life and the dark , is the mice . <eos>  \n",
       "2                                                                                                   the dealer in the curve like a curve . <eos>  \n",
       "3                                                                                                  i think the dealer will be improvised . <eos>  \n",
       "4                                                                                the border between dongho great resorts for the elderly . <eos>  \n",
       "5                                                                                                                                          <eos>  \n",
       "6                                                                                                           the trousers can get a prize . <eos>  \n",
       "7                                                                                               the eagles on the plane is falling apart . <eos>  \n",
       "8                                                                                                    the dealer in second-hand shed gill . <eos>  \n",
       "9                                                                                                              the door is on the subway . <eos>  \n",
       "10                                                                                     how many pieces of painting are there in jennifer ? <eos>  \n",
       "11                                                                                                                          unbelievable . <eos>  \n",
       "12                                                                                                   the hill garden with autumnal tints . <eos>  \n",
       "13                                         the expressways , from the dark to the rank and strengthening local mistakes in the peninsula . <eos>  \n",
       "14  the guggenheim university in a bath is a bath for the elderly , so i can get a gasket if there a gasket in birmingham the birmingham . <eos>  "
      ]
     },
     "execution_count": 36,
     "metadata": {},
     "output_type": "execute_result"
    }
   ],
   "source": [
    "pred_sent = []\n",
    "\n",
    "for i in range(len(sent_data2)):\n",
    "    src = vars(sent_data2[i])['src']\n",
    "    translation, attention = translate_sentence(src, SRC, TRG, model, device)\n",
    "    translation = ' '.join(translation)\n",
    "    pred_sent.append(translation)\n",
    "    \n",
    "pred = pd.DataFrame(pred_sent, columns = [\"pred_sentences\"])\n",
    "\n",
    "reading_sent2[\"trg\"] = pred[\"pred_sentences\"]\n",
    "reading_sent2"
   ]
  },
  {
   "cell_type": "code",
   "execution_count": 37,
   "id": "8b2932ea",
   "metadata": {
    "execution": {
     "iopub.execute_input": "2021-11-21T06:58:51.099036Z",
     "iopub.status.busy": "2021-11-21T06:58:51.098066Z",
     "iopub.status.idle": "2021-11-21T06:58:51.100669Z",
     "shell.execute_reply": "2021-11-21T06:58:51.101114Z",
     "shell.execute_reply.started": "2021-11-21T05:28:24.933793Z"
    },
    "papermill": {
     "duration": 0.2858,
     "end_time": "2021-11-21T06:58:51.101270",
     "exception": false,
     "start_time": "2021-11-21T06:58:50.815470",
     "status": "completed"
    },
    "tags": []
   },
   "outputs": [],
   "source": [
    "from torchtext.data.metrics import bleu_score\n",
    "\n",
    "def calculate_bleu(data, src_field, trg_field, model, device, max_len = 50):\n",
    "    \n",
    "    trgs = []\n",
    "    pred_trgs = []\n",
    "    \n",
    "    for datum in data:\n",
    "        \n",
    "        src = vars(datum)['src']\n",
    "        trg = vars(datum)['trg']\n",
    "        \n",
    "        pred_trg, _ = translate_sentence(src, src_field, trg_field, model, device, max_len)\n",
    "        \n",
    "        #cut off <eos> token\n",
    "        pred_trg = pred_trg[:-1]\n",
    "        \n",
    "        pred_trgs.append(pred_trg)\n",
    "        trgs.append([trg])\n",
    "        \n",
    "    return bleu_score(pred_trgs, trgs)"
   ]
  },
  {
   "cell_type": "code",
   "execution_count": 38,
   "id": "83ee8a08",
   "metadata": {
    "execution": {
     "iopub.execute_input": "2021-11-21T06:58:51.654387Z",
     "iopub.status.busy": "2021-11-21T06:58:51.653502Z",
     "iopub.status.idle": "2021-11-21T07:38:12.026401Z",
     "shell.execute_reply": "2021-11-21T07:38:12.026967Z",
     "shell.execute_reply.started": "2021-11-21T05:28:35.084976Z"
    },
    "papermill": {
     "duration": 2360.655032,
     "end_time": "2021-11-21T07:38:12.027148",
     "exception": false,
     "start_time": "2021-11-21T06:58:51.372116",
     "status": "completed"
    },
    "tags": []
   },
   "outputs": [
    {
     "name": "stdout",
     "output_type": "stream",
     "text": [
      "BLEU score = 43.39\n"
     ]
    }
   ],
   "source": [
    "bleu_score = calculate_bleu(test_data, SRC, TRG, model, device)\n",
    "\n",
    "print(f'BLEU score = {bleu_score*100:.2f}')"
   ]
  },
  {
   "cell_type": "markdown",
   "id": "efb98255",
   "metadata": {
    "papermill": {
     "duration": 0.276719,
     "end_time": "2021-11-21T07:38:12.576845",
     "exception": false,
     "start_time": "2021-11-21T07:38:12.300126",
     "status": "completed"
    },
    "tags": []
   },
   "source": [
    "# 정리\n",
    "\n",
    "BATCH_SIZE = 64\n",
    "\n",
    "N-epoch : 5\n",
    "\n",
    "Train_PPL : 2.809\n",
    "\n",
    "Test_PPL : 3.343\n",
    "\n",
    "BLEU score : 43.39"
   ]
  },
  {
   "cell_type": "code",
   "execution_count": null,
   "id": "45e73454",
   "metadata": {},
   "outputs": [],
   "source": []
  }
 ],
 "metadata": {
  "kernelspec": {
   "display_name": "Python 3",
   "language": "python",
   "name": "python3"
  },
  "language_info": {
   "codemirror_mode": {
    "name": "ipython",
    "version": 3
   },
   "file_extension": ".py",
   "mimetype": "text/x-python",
   "name": "python",
   "nbconvert_exporter": "python",
   "pygments_lexer": "ipython3",
   "version": "3.9.5"
  },
  "papermill": {
   "default_parameters": {},
   "duration": 3730.039021,
   "end_time": "2021-11-21T07:38:15.279751",
   "environment_variables": {},
   "exception": null,
   "input_path": "__notebook__.ipynb",
   "output_path": "__notebook__.ipynb",
   "parameters": {},
   "start_time": "2021-11-21T06:36:05.240730",
   "version": "2.3.3"
  }
 },
 "nbformat": 4,
 "nbformat_minor": 5
}
