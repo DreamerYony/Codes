{
 "cells": [
  {
   "cell_type": "code",
   "execution_count": 1,
   "metadata": {
    "colab": {
     "base_uri": "https://localhost:8080/"
    },
    "id": "mphxcJmJnQhG",
    "outputId": "491fe42e-2f56-4f81-981f-9e9ec63b7076"
   },
   "outputs": [
    {
     "name": "stdout",
     "output_type": "stream",
     "text": [
      "Requirement already satisfied: transformers in /usr/local/lib/python3.7/dist-packages (4.12.5)\n",
      "Requirement already satisfied: requests in /usr/local/lib/python3.7/dist-packages (from transformers) (2.23.0)\n",
      "Requirement already satisfied: tokenizers<0.11,>=0.10.1 in /usr/local/lib/python3.7/dist-packages (from transformers) (0.10.3)\n",
      "Requirement already satisfied: numpy>=1.17 in /usr/local/lib/python3.7/dist-packages (from transformers) (1.19.5)\n",
      "Requirement already satisfied: pyyaml>=5.1 in /usr/local/lib/python3.7/dist-packages (from transformers) (6.0)\n",
      "Requirement already satisfied: tqdm>=4.27 in /usr/local/lib/python3.7/dist-packages (from transformers) (4.62.3)\n",
      "Requirement already satisfied: huggingface-hub<1.0,>=0.1.0 in /usr/local/lib/python3.7/dist-packages (from transformers) (0.2.1)\n",
      "Requirement already satisfied: importlib-metadata in /usr/local/lib/python3.7/dist-packages (from transformers) (4.8.2)\n",
      "Requirement already satisfied: filelock in /usr/local/lib/python3.7/dist-packages (from transformers) (3.4.0)\n",
      "Requirement already satisfied: packaging>=20.0 in /usr/local/lib/python3.7/dist-packages (from transformers) (21.3)\n",
      "Requirement already satisfied: sacremoses in /usr/local/lib/python3.7/dist-packages (from transformers) (0.0.46)\n",
      "Requirement already satisfied: regex!=2019.12.17 in /usr/local/lib/python3.7/dist-packages (from transformers) (2019.12.20)\n",
      "Requirement already satisfied: typing-extensions>=3.7.4.3 in /usr/local/lib/python3.7/dist-packages (from huggingface-hub<1.0,>=0.1.0->transformers) (3.10.0.2)\n",
      "Requirement already satisfied: pyparsing!=3.0.5,>=2.0.2 in /usr/local/lib/python3.7/dist-packages (from packaging>=20.0->transformers) (3.0.6)\n",
      "Requirement already satisfied: zipp>=0.5 in /usr/local/lib/python3.7/dist-packages (from importlib-metadata->transformers) (3.6.0)\n",
      "Requirement already satisfied: certifi>=2017.4.17 in /usr/local/lib/python3.7/dist-packages (from requests->transformers) (2021.10.8)\n",
      "Requirement already satisfied: urllib3!=1.25.0,!=1.25.1,<1.26,>=1.21.1 in /usr/local/lib/python3.7/dist-packages (from requests->transformers) (1.24.3)\n",
      "Requirement already satisfied: chardet<4,>=3.0.2 in /usr/local/lib/python3.7/dist-packages (from requests->transformers) (3.0.4)\n",
      "Requirement already satisfied: idna<3,>=2.5 in /usr/local/lib/python3.7/dist-packages (from requests->transformers) (2.10)\n",
      "Requirement already satisfied: click in /usr/local/lib/python3.7/dist-packages (from sacremoses->transformers) (7.1.2)\n",
      "Requirement already satisfied: joblib in /usr/local/lib/python3.7/dist-packages (from sacremoses->transformers) (1.1.0)\n",
      "Requirement already satisfied: six in /usr/local/lib/python3.7/dist-packages (from sacremoses->transformers) (1.15.0)\n"
     ]
    }
   ],
   "source": [
    "!pip install transformers"
   ]
  },
  {
   "cell_type": "code",
   "execution_count": 2,
   "metadata": {
    "id": "QoRJikVCnZrU"
   },
   "outputs": [],
   "source": [
    "import random\n",
    "import torch\n",
    "import numpy as np\n",
    "import pandas as pd\n",
    "from tqdm import tqdm\n",
    "from torch.utils.data import TensorDataset, DataLoader, RandomSampler, SequentialSampler\n",
    "from transformers import AutoTokenizer, AutoModelForSequenceClassification, AdamW"
   ]
  },
  {
   "cell_type": "code",
   "execution_count": 3,
   "metadata": {
    "colab": {
     "base_uri": "https://localhost:8080/"
    },
    "id": "-BTKJRlqnuMI",
    "outputId": "2ef13ec9-eda3-479e-be3f-ac4e6b2aa9ba"
   },
   "outputs": [
    {
     "name": "stderr",
     "output_type": "stream",
     "text": [
      "Some weights of the model checkpoint at klue/roberta-base were not used when initializing RobertaForSequenceClassification: ['lm_head.decoder.bias', 'lm_head.bias', 'lm_head.decoder.weight', 'lm_head.dense.bias', 'lm_head.layer_norm.bias', 'lm_head.layer_norm.weight', 'lm_head.dense.weight']\n",
      "- This IS expected if you are initializing RobertaForSequenceClassification from the checkpoint of a model trained on another task or with another architecture (e.g. initializing a BertForSequenceClassification model from a BertForPreTraining model).\n",
      "- This IS NOT expected if you are initializing RobertaForSequenceClassification from the checkpoint of a model that you expect to be exactly identical (initializing a BertForSequenceClassification model from a BertForSequenceClassification model).\n",
      "Some weights of RobertaForSequenceClassification were not initialized from the model checkpoint at klue/roberta-base and are newly initialized: ['classifier.out_proj.bias', 'classifier.out_proj.weight', 'classifier.dense.weight', 'classifier.dense.bias']\n",
      "You should probably TRAIN this model on a down-stream task to be able to use it for predictions and inference.\n"
     ]
    }
   ],
   "source": [
    "model = AutoModelForSequenceClassification.from_pretrained(\"klue/roberta-base\")\n",
    "tokenizer = AutoTokenizer.from_pretrained(\"klue/roberta-base\")"
   ]
  },
  {
   "cell_type": "code",
   "execution_count": 4,
   "metadata": {
    "id": "ZLO2ciEuoM8A"
   },
   "outputs": [],
   "source": [
    "device = torch.device(\"cuda\" if torch.cuda.is_available() else \"cpu\")\n",
    "random.seed(24)\n",
    "np.random.seed(24)\n",
    "torch.manual_seed(24)\n",
    "model.to(device) \n",
    "learning_rate = 1e-5\n",
    "optimizer = AdamW(model.parameters(), lr=learning_rate, eps=1e-5)"
   ]
  },
  {
   "cell_type": "code",
   "execution_count": 5,
   "metadata": {
    "id": "AkiNZrc2oQ5q"
   },
   "outputs": [],
   "source": [
    "def encode_data(tokenizer, candi_seconds, candi_firsts, max_length):\n",
    "    \n",
    "    input_ids = []\n",
    "    attention_masks = []\n",
    "\n",
    "    for candi_second, candi_first in zip(candi_seconds, candi_firsts):\n",
    "        encoded_data = tokenizer.encode_plus(candi_second, candi_first, \n",
    "                                             max_length=max_length, \n",
    "                                             pad_to_max_length=True, \n",
    "                                             truncation_strategy=\"longest_first\")\n",
    "        encoded_pair = encoded_data[\"input_ids\"]\n",
    "        attention_mask = encoded_data[\"attention_mask\"]\n",
    "\n",
    "        input_ids.append(encoded_pair)\n",
    "        attention_masks.append(attention_mask)\n",
    "\n",
    "    return np.array(input_ids), np.array(attention_masks)"
   ]
  },
  {
   "cell_type": "code",
   "execution_count": 6,
   "metadata": {
    "colab": {
     "base_uri": "https://localhost:8080/"
    },
    "id": "bu_cj1XAoYok",
    "outputId": "be64fea6-d04f-4fbb-fbee-f267af9d9779"
   },
   "outputs": [
    {
     "name": "stdout",
     "output_type": "stream",
     "text": [
      "Drive already mounted at /content/drive; to attempt to forcibly remount, call drive.mount(\"/content/drive\", force_remount=True).\n"
     ]
    }
   ],
   "source": [
    "from google.colab import drive\n",
    "drive.mount('/content/drive')"
   ]
  },
  {
   "cell_type": "code",
   "execution_count": 7,
   "metadata": {
    "colab": {
     "base_uri": "https://localhost:8080/",
     "height": 206
    },
    "id": "eV6bZwMCoglQ",
    "outputId": "985d9146-e0b5-45f6-fb83-63e06503be1f"
   },
   "outputs": [
    {
     "data": {
      "text/html": [
       "<div>\n",
       "<style scoped>\n",
       "    .dataframe tbody tr th:only-of-type {\n",
       "        vertical-align: middle;\n",
       "    }\n",
       "\n",
       "    .dataframe tbody tr th {\n",
       "        vertical-align: top;\n",
       "    }\n",
       "\n",
       "    .dataframe thead th {\n",
       "        text-align: right;\n",
       "    }\n",
       "</style>\n",
       "<table border=\"1\" class=\"dataframe\">\n",
       "  <thead>\n",
       "    <tr style=\"text-align: right;\">\n",
       "      <th></th>\n",
       "      <th>ID</th>\n",
       "      <th>sentence</th>\n",
       "      <th>question</th>\n",
       "      <th>candi_first</th>\n",
       "      <th>candi_second</th>\n",
       "      <th>answer</th>\n",
       "    </tr>\n",
       "  </thead>\n",
       "  <tbody>\n",
       "    <tr>\n",
       "      <th>0</th>\n",
       "      <td>1</td>\n",
       "      <td>이퀄라이저로 저음 음역대 소리 크기를 키웠다.</td>\n",
       "      <td>결과</td>\n",
       "      <td>베이스 소리가 잘 들리게 되었다.</td>\n",
       "      <td>베이스 소리가 들리지 않게 되었다.</td>\n",
       "      <td>1</td>\n",
       "    </tr>\n",
       "    <tr>\n",
       "      <th>1</th>\n",
       "      <td>2</td>\n",
       "      <td>음료에 초콜렛 시럽을 넣었다.</td>\n",
       "      <td>결과</td>\n",
       "      <td>음료수가 더 달아졌다.</td>\n",
       "      <td>음료수가 차가워졌다.</td>\n",
       "      <td>1</td>\n",
       "    </tr>\n",
       "    <tr>\n",
       "      <th>2</th>\n",
       "      <td>3</td>\n",
       "      <td>남자는 휴대폰을 호수에 빠뜨렸다.</td>\n",
       "      <td>결과</td>\n",
       "      <td>휴대폰이 업그레이드 되었다.</td>\n",
       "      <td>휴대폰이 고장났다.</td>\n",
       "      <td>2</td>\n",
       "    </tr>\n",
       "    <tr>\n",
       "      <th>3</th>\n",
       "      <td>4</td>\n",
       "      <td>옆 집 사람이 이사를 나갔다.</td>\n",
       "      <td>원인</td>\n",
       "      <td>옆 집 사람은 계약이 완료되었다.</td>\n",
       "      <td>옆 집 사람은 계약을 연장했다.</td>\n",
       "      <td>1</td>\n",
       "    </tr>\n",
       "    <tr>\n",
       "      <th>4</th>\n",
       "      <td>5</td>\n",
       "      <td>문을 밀었다.</td>\n",
       "      <td>결과</td>\n",
       "      <td>문이 잠겼다.</td>\n",
       "      <td>문이 열렸다.</td>\n",
       "      <td>2</td>\n",
       "    </tr>\n",
       "  </tbody>\n",
       "</table>\n",
       "</div>"
      ],
      "text/plain": [
       "   ID                   sentence  ...         candi_second answer\n",
       "0   1  이퀄라이저로 저음 음역대 소리 크기를 키웠다.  ...  베이스 소리가 들리지 않게 되었다.      1\n",
       "1   2           음료에 초콜렛 시럽을 넣었다.  ...          음료수가 차가워졌다.      1\n",
       "2   3         남자는 휴대폰을 호수에 빠뜨렸다.  ...           휴대폰이 고장났다.      2\n",
       "3   4           옆 집 사람이 이사를 나갔다.  ...    옆 집 사람은 계약을 연장했다.      1\n",
       "4   5                    문을 밀었다.  ...              문이 열렸다.      2\n",
       "\n",
       "[5 rows x 6 columns]"
      ]
     },
     "execution_count": 7,
     "metadata": {},
     "output_type": "execute_result"
    }
   ],
   "source": [
    "train_data_df = pd.read_csv(\"/content/drive/MyDrive/Final project/인과관계_추론/SKT_COPA_Train.tsv\", delimiter='\\t')\n",
    "dev_data_df = pd.read_csv(\"/content/drive/MyDrive/Final project/인과관계_추론/SKT_COPA_Dev.tsv\", delimiter='\\t')\n",
    "\n",
    "train_data_df.columns = [\"ID\", \"sentence\", \"question\", \"candi_first\", \"candi_second\", \"answer\"]\n",
    "dev_data_df.columns = [\"ID\", \"sentence\", \"question\", \"candi_first\", \"candi_second\", \"answer\"]\n",
    "\n",
    "train_data_df.head()"
   ]
  },
  {
   "cell_type": "code",
   "execution_count": 8,
   "metadata": {
    "colab": {
     "base_uri": "https://localhost:8080/"
    },
    "id": "ZhUAk1XAo57A",
    "outputId": "5bd916ec-00c0-4597-a43e-0e6a5d4bbdbd"
   },
   "outputs": [
    {
     "name": "stdout",
     "output_type": "stream",
     "text": [
      "3080\n",
      "500\n"
     ]
    }
   ],
   "source": [
    "print(len(train_data_df))\n",
    "print(len(dev_data_df))"
   ]
  },
  {
   "cell_type": "code",
   "execution_count": 9,
   "metadata": {
    "id": "2kubqrm9pQgo"
   },
   "outputs": [],
   "source": [
    "train_data_df[\"answer\"] = train_data_df[\"answer\"].replace([1], 0)\n",
    "train_data_df[\"answer\"] = train_data_df[\"answer\"].replace([2], 1)\n",
    "\n",
    "dev_data_df[\"answer\"] = dev_data_df[\"answer\"].replace([1], 0)\n",
    "dev_data_df[\"answer\"] = dev_data_df[\"answer\"].replace([2], 1)"
   ]
  },
  {
   "cell_type": "code",
   "execution_count": 10,
   "metadata": {
    "id": "W4dkzXv6pmvg"
   },
   "outputs": [],
   "source": [
    "import re\n",
    "\n",
    "def make_cause(document):\n",
    "    document = document.replace(\"원인\", \"왜냐면\") # 문장을 이어주기 위해\n",
    "    document = document.replace(\"결과\", \"그래서\") # 문장을 이어주기 위해\n",
    "    return document\n",
    "\n",
    "def cleaning(document):\n",
    "    document = re.sub(r\"[^0-9a-zA-Zㄱ-ㅎ | 가-힣]+\", \"\", document) # 한글, 영어, 숫자만 남김  \n",
    "    return document"
   ]
  },
  {
   "cell_type": "code",
   "execution_count": 11,
   "metadata": {
    "id": "Z2uXRPyapr8o"
   },
   "outputs": [],
   "source": [
    "train_data_df[\"question\"] = train_data_df[\"question\"].apply(make_cause)\n",
    "train_data_df[\"candi_first\"] = train_data_df[\"question\"] + \" \" + train_data_df[\"candi_first\"]\n",
    "train_data_df[\"candi_second\"] = train_data_df[\"question\"] + \" \" + train_data_df[\"candi_second\"]\n",
    "train_data_df[\"candi_first\"] = train_data_df[\"sentence\"] + \" \" + train_data_df[\"candi_first\"]\n",
    "train_data_df[\"candi_second\"] = train_data_df[\"sentence\"] + \" \" + train_data_df[\"candi_second\"]\n",
    "\n",
    "\n",
    "dev_data_df[\"question\"] = dev_data_df[\"question\"].apply(make_cause)\n",
    "dev_data_df[\"candi_first\"] = dev_data_df[\"question\"] + \" \" + dev_data_df[\"candi_first\"]\n",
    "dev_data_df[\"candi_second\"] = dev_data_df[\"question\"] + \" \" + dev_data_df[\"candi_second\"]\n",
    "dev_data_df[\"candi_first\"] = dev_data_df[\"sentence\"] + \" \" + dev_data_df[\"candi_first\"]\n",
    "dev_data_df[\"candi_second\"] = dev_data_df[\"sentence\"] + \" \" + dev_data_df[\"candi_second\"]\n"
   ]
  },
  {
   "cell_type": "code",
   "execution_count": 12,
   "metadata": {
    "id": "kj84jdrjry8s"
   },
   "outputs": [],
   "source": [
    "train_data_df = train_data_df.drop([\"sentence\", \"question\"], axis=1)\n",
    "dev_data_df = dev_data_df.drop([\"sentence\", \"question\"], axis=1)"
   ]
  },
  {
   "cell_type": "code",
   "execution_count": 13,
   "metadata": {
    "colab": {
     "base_uri": "https://localhost:8080/",
     "height": 493
    },
    "id": "rBh0HKRlqWQJ",
    "outputId": "49826a48-66da-46e7-a22a-6f35ac1508d2"
   },
   "outputs": [
    {
     "data": {
      "text/html": [
       "<div>\n",
       "<style scoped>\n",
       "    .dataframe tbody tr th:only-of-type {\n",
       "        vertical-align: middle;\n",
       "    }\n",
       "\n",
       "    .dataframe tbody tr th {\n",
       "        vertical-align: top;\n",
       "    }\n",
       "\n",
       "    .dataframe thead th {\n",
       "        text-align: right;\n",
       "    }\n",
       "</style>\n",
       "<table border=\"1\" class=\"dataframe\">\n",
       "  <thead>\n",
       "    <tr style=\"text-align: right;\">\n",
       "      <th></th>\n",
       "      <th>ID</th>\n",
       "      <th>candi_first</th>\n",
       "      <th>candi_second</th>\n",
       "      <th>answer</th>\n",
       "    </tr>\n",
       "  </thead>\n",
       "  <tbody>\n",
       "    <tr>\n",
       "      <th>0</th>\n",
       "      <td>1</td>\n",
       "      <td>이퀄라이저로 저음 음역대 소리 크기를 키웠다. 그래서 베이스 소리가 잘 들리게 되었다.</td>\n",
       "      <td>이퀄라이저로 저음 음역대 소리 크기를 키웠다. 그래서 베이스 소리가 들리지 않게 되었다.</td>\n",
       "      <td>0</td>\n",
       "    </tr>\n",
       "    <tr>\n",
       "      <th>1</th>\n",
       "      <td>2</td>\n",
       "      <td>음료에 초콜렛 시럽을 넣었다. 그래서 음료수가 더 달아졌다.</td>\n",
       "      <td>음료에 초콜렛 시럽을 넣었다. 그래서 음료수가 차가워졌다.</td>\n",
       "      <td>0</td>\n",
       "    </tr>\n",
       "    <tr>\n",
       "      <th>2</th>\n",
       "      <td>3</td>\n",
       "      <td>남자는 휴대폰을 호수에 빠뜨렸다. 그래서 휴대폰이 업그레이드 되었다.</td>\n",
       "      <td>남자는 휴대폰을 호수에 빠뜨렸다. 그래서 휴대폰이 고장났다.</td>\n",
       "      <td>1</td>\n",
       "    </tr>\n",
       "    <tr>\n",
       "      <th>3</th>\n",
       "      <td>4</td>\n",
       "      <td>옆 집 사람이 이사를 나갔다. 왜냐면 옆 집 사람은 계약이 완료되었다.</td>\n",
       "      <td>옆 집 사람이 이사를 나갔다. 왜냐면 옆 집 사람은 계약을 연장했다.</td>\n",
       "      <td>0</td>\n",
       "    </tr>\n",
       "    <tr>\n",
       "      <th>4</th>\n",
       "      <td>5</td>\n",
       "      <td>문을 밀었다. 그래서 문이 잠겼다.</td>\n",
       "      <td>문을 밀었다. 그래서 문이 열렸다.</td>\n",
       "      <td>1</td>\n",
       "    </tr>\n",
       "    <tr>\n",
       "      <th>...</th>\n",
       "      <td>...</td>\n",
       "      <td>...</td>\n",
       "      <td>...</td>\n",
       "      <td>...</td>\n",
       "    </tr>\n",
       "    <tr>\n",
       "      <th>3075</th>\n",
       "      <td>3076</td>\n",
       "      <td>계약직으로 일하던 남성은 퇴사했다. 왜냐면 계약을 연장했다.</td>\n",
       "      <td>계약직으로 일하던 남성은 퇴사했다. 왜냐면 계약이 종료되었다.</td>\n",
       "      <td>1</td>\n",
       "    </tr>\n",
       "    <tr>\n",
       "      <th>3076</th>\n",
       "      <td>3077</td>\n",
       "      <td>목이 마르다. 왜냐면 물을 마시지 못했다.</td>\n",
       "      <td>목이 마르다. 왜냐면 텀블러를 샀다.</td>\n",
       "      <td>0</td>\n",
       "    </tr>\n",
       "    <tr>\n",
       "      <th>3077</th>\n",
       "      <td>3078</td>\n",
       "      <td>노래를 오랫동안 불렀다. 그래서 목이 아프다.</td>\n",
       "      <td>노래를 오랫동안 불렀다. 그래서 노래방이 폐업했다.</td>\n",
       "      <td>0</td>\n",
       "    </tr>\n",
       "    <tr>\n",
       "      <th>3078</th>\n",
       "      <td>3079</td>\n",
       "      <td>사람들이 일제히 함성을 지른다. 왜냐면 우리나라 축구팀이 골을 넣었다.</td>\n",
       "      <td>사람들이 일제히 함성을 지른다. 왜냐면 우리나라 축구팀이 경기에서 패배했다.</td>\n",
       "      <td>1</td>\n",
       "    </tr>\n",
       "    <tr>\n",
       "      <th>3079</th>\n",
       "      <td>3080</td>\n",
       "      <td>가수의 목이 쉬었다. 왜냐면 가수가 3시간 동안 춤을 추었다.</td>\n",
       "      <td>가수의 목이 쉬었다. 왜냐면 가수가 3시간 동안 노래를 불렀다.</td>\n",
       "      <td>1</td>\n",
       "    </tr>\n",
       "  </tbody>\n",
       "</table>\n",
       "<p>3080 rows × 4 columns</p>\n",
       "</div>"
      ],
      "text/plain": [
       "        ID  ... answer\n",
       "0        1  ...      0\n",
       "1        2  ...      0\n",
       "2        3  ...      1\n",
       "3        4  ...      0\n",
       "4        5  ...      1\n",
       "...    ...  ...    ...\n",
       "3075  3076  ...      1\n",
       "3076  3077  ...      0\n",
       "3077  3078  ...      0\n",
       "3078  3079  ...      1\n",
       "3079  3080  ...      1\n",
       "\n",
       "[3080 rows x 4 columns]"
      ]
     },
     "execution_count": 13,
     "metadata": {},
     "output_type": "execute_result"
    }
   ],
   "source": [
    "train_data_df"
   ]
  },
  {
   "cell_type": "code",
   "execution_count": 14,
   "metadata": {
    "id": "IdZgnxJTqFjC"
   },
   "outputs": [],
   "source": [
    "candi_firsts_train = train_data_df.candi_first.values\n",
    "candi_seconds_train = train_data_df.candi_second.values\n",
    "answers_train = train_data_df.answer.values.astype(int)\n",
    "\n",
    "candi_firsts_dev = dev_data_df.candi_first.values\n",
    "candi_seconds_dev = dev_data_df.candi_second.values\n",
    "answers_dev = dev_data_df.answer.values.astype(int)"
   ]
  },
  {
   "cell_type": "code",
   "execution_count": 15,
   "metadata": {
    "colab": {
     "base_uri": "https://localhost:8080/"
    },
    "id": "g9wwEfp9tIBQ",
    "outputId": "2cc39fb5-c0c1-42a0-b1c1-aca9842a0e37"
   },
   "outputs": [
    {
     "name": "stderr",
     "output_type": "stream",
     "text": [
      "Truncation was not explicitly activated but `max_length` is provided a specific value, please use `truncation=True` to explicitly truncate examples to max length. Defaulting to 'longest_first' truncation strategy. If you encode pairs of sequences (GLUE-style) with the tokenizer you can select this strategy more precisely by providing a specific strategy to `truncation`.\n",
      "/usr/local/lib/python3.7/dist-packages/transformers/tokenization_utils_base.py:2218: FutureWarning: The `pad_to_max_length` argument is deprecated and will be removed in a future version, use `padding=True` or `padding='longest'` to pad to the longest sequence in the batch, or use `padding='max_length'` to pad to a max length. In this case, you can give a specific length with `max_length` (e.g. `max_length=45`) or leave max_length to None to pad to the maximal input size of the model (e.g. 512 for Bert).\n",
      "  FutureWarning,\n"
     ]
    }
   ],
   "source": [
    "# Encoding data\n",
    "max_seq_length = 512\n",
    "input_ids_train, attention_masks_train = encode_data(tokenizer, candi_seconds_train, candi_firsts_train, max_seq_length)\n",
    "input_ids_dev, attention_masks_dev = encode_data(tokenizer, candi_seconds_dev, candi_firsts_dev, max_seq_length)\n",
    "\n",
    "train_features = (input_ids_train, attention_masks_train, answers_train)\n",
    "dev_features = (input_ids_dev, attention_masks_dev, answers_dev)"
   ]
  },
  {
   "cell_type": "code",
   "execution_count": 16,
   "metadata": {
    "id": "D_LGkIJftMQb"
   },
   "outputs": [],
   "source": [
    "# Building Dataloaders\n",
    "batch_size = 8\n",
    "\n",
    "train_features_tensors = [torch.tensor(feature, dtype=torch.long) for feature in train_features]\n",
    "dev_features_tensors = [torch.tensor(feature, dtype=torch.long) for feature in dev_features]\n",
    "\n",
    "train_dataset = TensorDataset(*train_features_tensors)\n",
    "dev_dataset = TensorDataset(*dev_features_tensors)\n",
    "\n",
    "train_sampler = RandomSampler(train_dataset)\n",
    "dev_sampler = SequentialSampler(dev_dataset)\n",
    "\n",
    "train_dataloader = DataLoader(train_dataset, sampler=train_sampler, batch_size=batch_size)\n",
    "dev_dataloader = DataLoader(dev_dataset, sampler=dev_sampler, batch_size=batch_size)"
   ]
  },
  {
   "cell_type": "code",
   "execution_count": 17,
   "metadata": {
    "colab": {
     "base_uri": "https://localhost:8080/"
    },
    "id": "jQvSHCF5tP60",
    "outputId": "fab9c87b-e833-4da5-cf93-2551408de7c0"
   },
   "outputs": [
    {
     "name": "stderr",
     "output_type": "stream",
     "text": [
      "Epoch: 100%|██████████| 7/7 [21:55<00:00, 187.92s/it]\n"
     ]
    }
   ],
   "source": [
    "epochs = 7\n",
    "grad_acc_steps = 1\n",
    "train_loss_values = []\n",
    "dev_acc_values = []\n",
    "\n",
    "for _ in tqdm(range(epochs), desc=\"Epoch\"):\n",
    "\n",
    "  # Training\n",
    "    epoch_train_loss = 0 # Cumulative loss\n",
    "    model.train()\n",
    "    model.zero_grad()\n",
    "\n",
    "    for step, batch in enumerate(train_dataloader):\n",
    "\n",
    "        input_ids = batch[0].to(device)\n",
    "        attention_masks = batch[1].to(device)\n",
    "        labels = batch[2].to(device)     \n",
    "\n",
    "        outputs = model(input_ids, token_type_ids=None, attention_mask=attention_masks, labels=labels)\n",
    "\n",
    "        loss = outputs[0]\n",
    "        loss = loss / grad_acc_steps\n",
    "        epoch_train_loss += loss.item()\n",
    "\n",
    "        loss.backward()\n",
    "      \n",
    "        if (step+1) % grad_acc_steps == 0: # Gradient accumulation is over\n",
    "            torch.nn.utils.clip_grad_norm_(model.parameters(), 1.0) # Clipping gradients\n",
    "            optimizer.step()\n",
    "            model.zero_grad()\n",
    "\n",
    "    epoch_train_loss = epoch_train_loss / len(train_dataloader)          \n",
    "    train_loss_values.append(epoch_train_loss)\n",
    "\n",
    "    # Evaluation\n",
    "    epoch_dev_accuracy = 0 # Cumulative accuracy\n",
    "    model.eval()\n",
    "\n",
    "    for batch in dev_dataloader:\n",
    "    \n",
    "        input_ids = batch[0].to(device)\n",
    "        attention_masks = batch[1].to(device)\n",
    "        labels = batch[2]\n",
    "                \n",
    "        with torch.no_grad():        \n",
    "            outputs = model(input_ids, token_type_ids=None, attention_mask=attention_masks)\n",
    "                    \n",
    "        logits = outputs[0]\n",
    "        logits = logits.detach().cpu().numpy()\n",
    "    \n",
    "        predictions = np.argmax(logits, axis=1).flatten()\n",
    "        labels = labels.numpy().flatten()\n",
    "    \n",
    "        epoch_dev_accuracy += np.sum(predictions == labels) / len(labels)\n",
    "\n",
    "    epoch_dev_accuracy = epoch_dev_accuracy / len(dev_dataloader)\n",
    "    dev_acc_values.append(epoch_dev_accuracy)"
   ]
  },
  {
   "cell_type": "code",
   "execution_count": 18,
   "metadata": {
    "colab": {
     "base_uri": "https://localhost:8080/"
    },
    "id": "BUx_4RCRtZyX",
    "outputId": "55c6e155-54fd-49ee-bef7-23f0f3a218ac"
   },
   "outputs": [
    {
     "data": {
      "text/plain": [
       "[0.6968698525583589,\n",
       " 0.6940919006025636,\n",
       " 0.6253150709263691,\n",
       " 0.403342001304611,\n",
       " 0.23861945753723576,\n",
       " 0.1393673797059417,\n",
       " 0.08371571081663276]"
      ]
     },
     "execution_count": 18,
     "metadata": {},
     "output_type": "execute_result"
    }
   ],
   "source": [
    "train_loss_values"
   ]
  },
  {
   "cell_type": "code",
   "execution_count": 19,
   "metadata": {
    "colab": {
     "base_uri": "https://localhost:8080/"
    },
    "id": "3PqN-DestZj7",
    "outputId": "cc816672-2fe6-4255-8d4b-6c09ccfe4a52"
   },
   "outputs": [
    {
     "data": {
      "text/plain": [
       "[0.498015873015873,\n",
       " 0.498015873015873,\n",
       " 0.7242063492063492,\n",
       " 0.8015873015873016,\n",
       " 0.7599206349206349,\n",
       " 0.8154761904761905,\n",
       " 0.8095238095238095]"
      ]
     },
     "execution_count": 19,
     "metadata": {},
     "output_type": "execute_result"
    }
   ],
   "source": [
    "dev_acc_values"
   ]
  },
  {
   "cell_type": "code",
   "execution_count": 20,
   "metadata": {
    "colab": {
     "base_uri": "https://localhost:8080/",
     "height": 301
    },
    "id": "CbxCe55EtH0f",
    "outputId": "9733b447-c7c7-4c5f-b754-14742687d9d7"
   },
   "outputs": [
    {
     "data": {
      "image/png": "[encoded data removed]",
      "text/plain": [
       "<Figure size 432x288 with 1 Axes>"
      ]
     },
     "metadata": {},
     "output_type": "display_data"
    }
   ],
   "source": [
    "import seaborn as sns\n",
    "import matplotlib.pyplot as plt\n",
    "\n",
    "sns.set()\n",
    "\n",
    "plt.plot(train_loss_values, label=\"train_loss\")\n",
    "\n",
    "plt.xlabel(\"Epoch\")\n",
    "plt.ylabel(\"Loss\")\n",
    "plt.title(\"Training Loss\")\n",
    "plt.legend()\n",
    "plt.show()"
   ]
  },
  {
   "cell_type": "code",
   "execution_count": 21,
   "metadata": {
    "colab": {
     "base_uri": "https://localhost:8080/",
     "height": 301
    },
    "id": "YwjITsaatHem",
    "outputId": "7db106ae-7402-41dd-c505-a13668f7011e"
   },
   "outputs": [
    {
     "data": {
      "image/png": "[encoded data removed]",
      "text/plain": [
       "<Figure size 432x288 with 1 Axes>"
      ]
     },
     "metadata": {},
     "output_type": "display_data"
    }
   ],
   "source": [
    "plt.plot(dev_acc_values, label=\"dev_acc\")\n",
    "\n",
    "plt.xlabel(\"Epoch\")\n",
    "plt.ylabel(\"Accuracy\")\n",
    "plt.title(\"Evaluation Accuracy\")\n",
    "plt.legend()\n",
    "plt.show()"
   ]
  },
  {
   "cell_type": "code",
   "execution_count": 21,
   "metadata": {
    "id": "QAbM170F1Xa0"
   },
   "outputs": [],
   "source": []
  }
 ],
 "metadata": {
  "accelerator": "GPU",
  "colab": {
   "collapsed_sections": [],
   "machine_shape": "hm",
   "name": "Roberta_인과관계",
   "provenance": []
  },
  "kernelspec": {
   "display_name": "Python 3",
   "language": "python",
   "name": "python3"
  },
  "language_info": {
   "codemirror_mode": {
    "name": "ipython",
    "version": 3
   },
   "file_extension": ".py",
   "mimetype": "text/x-python",
   "name": "python",
   "nbconvert_exporter": "python",
   "pygments_lexer": "ipython3",
   "version": "3.9.5"
  }
 },
 "nbformat": 4,
 "nbformat_minor": 1
}
