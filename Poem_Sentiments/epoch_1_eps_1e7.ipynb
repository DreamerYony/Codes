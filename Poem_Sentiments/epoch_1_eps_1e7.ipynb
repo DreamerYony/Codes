{
 "cells": [
  {
   "cell_type": "code",
   "execution_count": 1,
   "metadata": {
    "colab": {
     "base_uri": "https://localhost:8080/"
    },
    "id": "SEDNEzk7ZrSW",
    "outputId": "95c3a0ef-5d65-492f-c293-0e5ce79e13e1"
   },
   "outputs": [
    {
     "name": "stdout",
     "output_type": "stream",
     "text": [
      "Looking in indexes: https://pypi.org/simple, https://us-python.pkg.dev/colab-wheels/public/simple/\n",
      "Requirement already satisfied: transformers in /usr/local/lib/python3.8/dist-packages (4.25.1)\n",
      "Requirement already satisfied: regex!=2019.12.17 in /usr/local/lib/python3.8/dist-packages (from transformers) (2022.6.2)\n",
      "Requirement already satisfied: huggingface-hub<1.0,>=0.10.0 in /usr/local/lib/python3.8/dist-packages (from transformers) (0.11.1)\n",
      "Requirement already satisfied: requests in /usr/local/lib/python3.8/dist-packages (from transformers) (2.25.1)\n",
      "Requirement already satisfied: tqdm>=4.27 in /usr/local/lib/python3.8/dist-packages (from transformers) (4.64.1)\n",
      "Requirement already satisfied: filelock in /usr/local/lib/python3.8/dist-packages (from transformers) (3.9.0)\n",
      "Requirement already satisfied: packaging>=20.0 in /usr/local/lib/python3.8/dist-packages (from transformers) (21.3)\n",
      "Requirement already satisfied: pyyaml>=5.1 in /usr/local/lib/python3.8/dist-packages (from transformers) (6.0)\n",
      "Requirement already satisfied: numpy>=1.17 in /usr/local/lib/python3.8/dist-packages (from transformers) (1.21.6)\n",
      "Requirement already satisfied: tokenizers!=0.11.3,<0.14,>=0.11.1 in /usr/local/lib/python3.8/dist-packages (from transformers) (0.13.2)\n",
      "Requirement already satisfied: typing-extensions>=3.7.4.3 in /usr/local/lib/python3.8/dist-packages (from huggingface-hub<1.0,>=0.10.0->transformers) (4.4.0)\n",
      "Requirement already satisfied: pyparsing!=3.0.5,>=2.0.2 in /usr/local/lib/python3.8/dist-packages (from packaging>=20.0->transformers) (3.0.9)\n",
      "Requirement already satisfied: urllib3<1.27,>=1.21.1 in /usr/local/lib/python3.8/dist-packages (from requests->transformers) (1.24.3)\n",
      "Requirement already satisfied: certifi>=2017.4.17 in /usr/local/lib/python3.8/dist-packages (from requests->transformers) (2022.12.7)\n",
      "Requirement already satisfied: idna<3,>=2.5 in /usr/local/lib/python3.8/dist-packages (from requests->transformers) (2.10)\n",
      "Requirement already satisfied: chardet<5,>=3.0.2 in /usr/local/lib/python3.8/dist-packages (from requests->transformers) (4.0.0)\n"
     ]
    }
   ],
   "source": [
    "!pip install transformers"
   ]
  },
  {
   "cell_type": "code",
   "execution_count": 2,
   "metadata": {
    "execution": {
     "iopub.execute_input": "2022-01-12T03:36:46.284293Z",
     "iopub.status.busy": "2022-01-12T03:36:46.283910Z",
     "iopub.status.idle": "2022-01-12T03:36:49.030052Z",
     "shell.execute_reply": "2022-01-12T03:36:49.029005Z",
     "shell.execute_reply.started": "2022-01-12T03:36:46.284213Z"
    },
    "id": "MrwNl135ZNyS"
   },
   "outputs": [],
   "source": [
    "import numpy as np\n",
    "import pandas as pd\n",
    "import seaborn as sns\n",
    "from pylab import rcParams\n",
    "import matplotlib.pyplot as plt\n",
    "from matplotlib import rc\n",
    "import transformers\n",
    "from transformers import BertModel, BertTokenizer, BertForSequenceClassification\n",
    "from transformers import AutoModelForSequenceClassification, AutoModel, AutoTokenizer\n",
    "from transformers import AdamW, get_linear_schedule_with_warmup\n",
    "from collections import defaultdict\n",
    "import torch\n",
    "import os\n",
    "import logging\n",
    "import torch.nn as nn\n",
    "import torch.nn.functional as F\n",
    "import torch.optim as optim\n",
    "from torch.utils.data import Dataset, DataLoader\n",
    "from sklearn.model_selection import train_test_split\n",
    "from textwrap import wrap\n",
    "import warnings\n",
    "warnings.simplefilter(action='ignore', category=FutureWarning)\n",
    "\n",
    "RANDOM_SEED = 42"
   ]
  },
  {
   "cell_type": "code",
   "execution_count": 3,
   "metadata": {
    "execution": {
     "iopub.execute_input": "2022-01-12T03:36:49.033016Z",
     "iopub.status.busy": "2022-01-12T03:36:49.032449Z",
     "iopub.status.idle": "2022-01-12T03:36:49.037609Z",
     "shell.execute_reply": "2022-01-12T03:36:49.036687Z",
     "shell.execute_reply.started": "2022-01-12T03:36:49.032976Z"
    },
    "id": "5BE7I8e_ZNyU"
   },
   "outputs": [],
   "source": [
    "from transformers import Adafactor"
   ]
  },
  {
   "cell_type": "code",
   "execution_count": 4,
   "metadata": {
    "execution": {
     "iopub.execute_input": "2022-01-12T03:36:49.049549Z",
     "iopub.status.busy": "2022-01-12T03:36:49.049130Z",
     "iopub.status.idle": "2022-01-12T03:36:49.056259Z",
     "shell.execute_reply": "2022-01-12T03:36:49.055404Z",
     "shell.execute_reply.started": "2022-01-12T03:36:49.049511Z"
    },
    "id": "vfN-6_dPZNyV"
   },
   "outputs": [],
   "source": [
    "#!pip install https://github.com/kpu/kenlm/archive/master.zip"
   ]
  },
  {
   "cell_type": "code",
   "execution_count": 5,
   "metadata": {
    "execution": {
     "iopub.execute_input": "2022-01-12T03:36:49.057677Z",
     "iopub.status.busy": "2022-01-12T03:36:49.057396Z",
     "iopub.status.idle": "2022-01-12T03:36:49.065873Z",
     "shell.execute_reply": "2022-01-12T03:36:49.065030Z",
     "shell.execute_reply.started": "2022-01-12T03:36:49.057653Z"
    },
    "id": "HgpJ-UgdZNyV"
   },
   "outputs": [],
   "source": [
    "#!wget https://thunlp.oss-cn-qingdao.aliyuncs.com/BERT_CCPoem_v1.zip"
   ]
  },
  {
   "cell_type": "code",
   "execution_count": 6,
   "metadata": {
    "execution": {
     "iopub.execute_input": "2022-01-12T03:36:49.067777Z",
     "iopub.status.busy": "2022-01-12T03:36:49.067252Z",
     "iopub.status.idle": "2022-01-12T03:36:49.074988Z",
     "shell.execute_reply": "2022-01-12T03:36:49.074176Z",
     "shell.execute_reply.started": "2022-01-12T03:36:49.067738Z"
    },
    "id": "8P2NvCARZNyV"
   },
   "outputs": [],
   "source": [
    "#!unzip BERT_CCPoem_v1.zip"
   ]
  },
  {
   "cell_type": "code",
   "execution_count": 7,
   "metadata": {
    "colab": {
     "base_uri": "https://localhost:8080/"
    },
    "id": "rqoReKayZQOT",
    "outputId": "1fdd87f6-8341-4778-b6c8-3de5cbdad732"
   },
   "outputs": [
    {
     "name": "stdout",
     "output_type": "stream",
     "text": [
      "Drive already mounted at /content/drive; to attempt to forcibly remount, call drive.mount(\"/content/drive\", force_remount=True).\n"
     ]
    }
   ],
   "source": [
    "from google.colab import drive\n",
    "drive.mount('/content/drive')"
   ]
  },
  {
   "cell_type": "code",
   "execution_count": 8,
   "metadata": {
    "colab": {
     "base_uri": "https://localhost:8080/",
     "height": 250
    },
    "execution": {
     "iopub.execute_input": "2022-01-12T03:36:49.076671Z",
     "iopub.status.busy": "2022-01-12T03:36:49.076296Z",
     "iopub.status.idle": "2022-01-12T03:36:49.122530Z",
     "shell.execute_reply": "2022-01-12T03:36:49.121537Z",
     "shell.execute_reply.started": "2022-01-12T03:36:49.076633Z"
    },
    "id": "WE1HlZ3kZNyW",
    "outputId": "92d878f0-af64-4099-9fc9-d8f76e796e47"
   },
   "outputs": [
    {
     "data": {
      "text/html": [
       "\n",
       "  <div id=\"df-61cb59a8-99d8-431b-bd42-ddd935a38613\">\n",
       "    <div class=\"colab-df-container\">\n",
       "      <div>\n",
       "<style scoped>\n",
       "    .dataframe tbody tr th:only-of-type {\n",
       "        vertical-align: middle;\n",
       "    }\n",
       "\n",
       "    .dataframe tbody tr th {\n",
       "        vertical-align: top;\n",
       "    }\n",
       "\n",
       "    .dataframe thead th {\n",
       "        text-align: right;\n",
       "    }\n",
       "</style>\n",
       "<table border=\"1\" class=\"dataframe\">\n",
       "  <thead>\n",
       "    <tr style=\"text-align: right;\">\n",
       "      <th></th>\n",
       "      <th>poet</th>\n",
       "      <th>poem</th>\n",
       "      <th>dynasty</th>\n",
       "      <th>sentiments</th>\n",
       "      <th>title</th>\n",
       "    </tr>\n",
       "  </thead>\n",
       "  <tbody>\n",
       "    <tr>\n",
       "      <th>0</th>\n",
       "      <td>王寂</td>\n",
       "      <td>吾爱吾庐事事幽|此生随分得优游|穷冬夜话蒲团暖|长夏朝眠竹簟秋</td>\n",
       "      <td>金</td>\n",
       "      <td>{'holistic': '3', 'line1': '3', 'line2': '3', ...</td>\n",
       "      <td>易足斋</td>\n",
       "    </tr>\n",
       "    <tr>\n",
       "      <th>1</th>\n",
       "      <td>王安石</td>\n",
       "      <td>淮圃新阴百亩凉|分甘每得助秋尝|张公大谷虽云美|谁肯苞苴出晋阳</td>\n",
       "      <td>宋</td>\n",
       "      <td>{'holistic': '3', 'line1': '3', 'line2': '3', ...</td>\n",
       "      <td>耿天騭惠梨次韵奉酬三首</td>\n",
       "    </tr>\n",
       "    <tr>\n",
       "      <th>2</th>\n",
       "      <td>陆游</td>\n",
       "      <td>白发无情日日生|散愁聊复作山行|幽禽似欲嘲衰病|故学禅房杵药声</td>\n",
       "      <td>宋</td>\n",
       "      <td>{'holistic': '2', 'line1': '2', 'line2': '2', ...</td>\n",
       "      <td>捣药鸟</td>\n",
       "    </tr>\n",
       "    <tr>\n",
       "      <th>3</th>\n",
       "      <td>王绂</td>\n",
       "      <td>堂前慈竹翠婆娑|堂上慈亲鬓已皤|歴尽氷霜当雨露|诸縁应见锦绷多</td>\n",
       "      <td>明</td>\n",
       "      <td>{'holistic': '3', 'line1': '4', 'line2': '2', ...</td>\n",
       "      <td>写竹于慈节堂巻</td>\n",
       "    </tr>\n",
       "    <tr>\n",
       "      <th>4</th>\n",
       "      <td>刘克庄</td>\n",
       "      <td>津吏难绳束|滩船易覆翻|能除一方害|不忝二刘孙</td>\n",
       "      <td>宋</td>\n",
       "      <td>{'holistic': '3', 'line1': '3', 'line2': '2', ...</td>\n",
       "      <td>送勋侄之官嵢峡五言五首</td>\n",
       "    </tr>\n",
       "  </tbody>\n",
       "</table>\n",
       "</div>\n",
       "      <button class=\"colab-df-convert\" onclick=\"convertToInteractive('df-61cb59a8-99d8-431b-bd42-ddd935a38613')\"\n",
       "              title=\"Convert this dataframe to an interactive table.\"\n",
       "              style=\"display:none;\">\n",
       "        \n",
       "  <svg xmlns=\"http://www.w3.org/2000/svg\" height=\"24px\"viewBox=\"0 0 24 24\"\n",
       "       width=\"24px\">\n",
       "    <path d=\"M0 0h24v24H0V0z\" fill=\"none\"/>\n",
       "    <path d=\"M18.56 5.44l.94 2.06.94-2.06 2.06-.94-2.06-.94-.94-2.06-.94 2.06-2.06.94zm-11 1L8.5 8.5l.94-2.06 2.06-.94-2.06-.94L8.5 2.5l-.94 2.06-2.06.94zm10 10l.94 2.06.94-2.06 2.06-.94-2.06-.94-.94-2.06-.94 2.06-2.06.94z\"/><path d=\"M17.41 7.96l-1.37-1.37c-.4-.4-.92-.59-1.43-.59-.52 0-1.04.2-1.43.59L10.3 9.45l-7.72 7.72c-.78.78-.78 2.05 0 2.83L4 21.41c.39.39.9.59 1.41.59.51 0 1.02-.2 1.41-.59l7.78-7.78 2.81-2.81c.8-.78.8-2.07 0-2.86zM5.41 20L4 18.59l7.72-7.72 1.47 1.35L5.41 20z\"/>\n",
       "  </svg>\n",
       "      </button>\n",
       "      \n",
       "  <style>\n",
       "    .colab-df-container {\n",
       "      display:flex;\n",
       "      flex-wrap:wrap;\n",
       "      gap: 12px;\n",
       "    }\n",
       "\n",
       "    .colab-df-convert {\n",
       "      background-color: #E8F0FE;\n",
       "      border: none;\n",
       "      border-radius: 50%;\n",
       "      cursor: pointer;\n",
       "      display: none;\n",
       "      fill: #1967D2;\n",
       "      height: 32px;\n",
       "      padding: 0 0 0 0;\n",
       "      width: 32px;\n",
       "    }\n",
       "\n",
       "    .colab-df-convert:hover {\n",
       "      background-color: #E2EBFA;\n",
       "      box-shadow: 0px 1px 2px rgba(60, 64, 67, 0.3), 0px 1px 3px 1px rgba(60, 64, 67, 0.15);\n",
       "      fill: #174EA6;\n",
       "    }\n",
       "\n",
       "    [theme=dark] .colab-df-convert {\n",
       "      background-color: #3B4455;\n",
       "      fill: #D2E3FC;\n",
       "    }\n",
       "\n",
       "    [theme=dark] .colab-df-convert:hover {\n",
       "      background-color: #434B5C;\n",
       "      box-shadow: 0px 1px 3px 1px rgba(0, 0, 0, 0.15);\n",
       "      filter: drop-shadow(0px 1px 2px rgba(0, 0, 0, 0.3));\n",
       "      fill: #FFFFFF;\n",
       "    }\n",
       "  </style>\n",
       "\n",
       "      <script>\n",
       "        const buttonEl =\n",
       "          document.querySelector('#df-61cb59a8-99d8-431b-bd42-ddd935a38613 button.colab-df-convert');\n",
       "        buttonEl.style.display =\n",
       "          google.colab.kernel.accessAllowed ? 'block' : 'none';\n",
       "\n",
       "        async function convertToInteractive(key) {\n",
       "          const element = document.querySelector('#df-61cb59a8-99d8-431b-bd42-ddd935a38613');\n",
       "          const dataTable =\n",
       "            await google.colab.kernel.invokeFunction('convertToInteractive',\n",
       "                                                     [key], {});\n",
       "          if (!dataTable) return;\n",
       "\n",
       "          const docLinkHtml = 'Like what you see? Visit the ' +\n",
       "            '<a target=\"_blank\" href=https://colab.research.google.com/notebooks/data_table.ipynb>data table notebook</a>'\n",
       "            + ' to learn more about interactive tables.';\n",
       "          element.innerHTML = '';\n",
       "          dataTable['output_type'] = 'display_data';\n",
       "          await google.colab.output.renderOutput(dataTable, element);\n",
       "          const docLink = document.createElement('div');\n",
       "          docLink.innerHTML = docLinkHtml;\n",
       "          element.appendChild(docLink);\n",
       "        }\n",
       "      </script>\n",
       "    </div>\n",
       "  </div>\n",
       "  "
      ],
      "text/plain": [
       "  poet                             poem dynasty  \\\n",
       "0   王寂  吾爱吾庐事事幽|此生随分得优游|穷冬夜话蒲团暖|长夏朝眠竹簟秋       金   \n",
       "1  王安石  淮圃新阴百亩凉|分甘每得助秋尝|张公大谷虽云美|谁肯苞苴出晋阳       宋   \n",
       "2   陆游  白发无情日日生|散愁聊复作山行|幽禽似欲嘲衰病|故学禅房杵药声       宋   \n",
       "3   王绂  堂前慈竹翠婆娑|堂上慈亲鬓已皤|歴尽氷霜当雨露|诸縁应见锦绷多       明   \n",
       "4  刘克庄          津吏难绳束|滩船易覆翻|能除一方害|不忝二刘孙       宋   \n",
       "\n",
       "                                          sentiments        title  \n",
       "0  {'holistic': '3', 'line1': '3', 'line2': '3', ...          易足斋  \n",
       "1  {'holistic': '3', 'line1': '3', 'line2': '3', ...  耿天騭惠梨次韵奉酬三首  \n",
       "2  {'holistic': '2', 'line1': '2', 'line2': '2', ...          捣药鸟  \n",
       "3  {'holistic': '3', 'line1': '4', 'line2': '2', ...      写竹于慈节堂巻  \n",
       "4  {'holistic': '3', 'line1': '3', 'line2': '2', ...  送勋侄之官嵢峡五言五首  "
      ]
     },
     "execution_count": 8,
     "metadata": {},
     "output_type": "execute_result"
    }
   ],
   "source": [
    "senti_all = pd.read_csv(\"/content/drive/MyDrive/senti_all.csv\")\n",
    "senti_all.head()"
   ]
  },
  {
   "cell_type": "code",
   "execution_count": 9,
   "metadata": {
    "colab": {
     "base_uri": "https://localhost:8080/",
     "height": 156
    },
    "execution": {
     "iopub.execute_input": "2022-01-12T03:36:49.124501Z",
     "iopub.status.busy": "2022-01-12T03:36:49.124111Z",
     "iopub.status.idle": "2022-01-12T03:36:49.154650Z",
     "shell.execute_reply": "2022-01-12T03:36:49.153719Z",
     "shell.execute_reply.started": "2022-01-12T03:36:49.124467Z"
    },
    "id": "ZCGD7YliZNyW",
    "outputId": "50ed2937-5059-4789-9876-df55870c77c3"
   },
   "outputs": [
    {
     "data": {
      "text/html": [
       "\n",
       "  <div id=\"df-4cad14ad-ad66-44d4-ac1a-e9d9f559868c\">\n",
       "    <div class=\"colab-df-container\">\n",
       "      <div>\n",
       "<style scoped>\n",
       "    .dataframe tbody tr th:only-of-type {\n",
       "        vertical-align: middle;\n",
       "    }\n",
       "\n",
       "    .dataframe tbody tr th {\n",
       "        vertical-align: top;\n",
       "    }\n",
       "\n",
       "    .dataframe thead th {\n",
       "        text-align: right;\n",
       "    }\n",
       "</style>\n",
       "<table border=\"1\" class=\"dataframe\">\n",
       "  <thead>\n",
       "    <tr style=\"text-align: right;\">\n",
       "      <th></th>\n",
       "      <th>poet</th>\n",
       "      <th>poem</th>\n",
       "      <th>dynasty</th>\n",
       "      <th>sentiments</th>\n",
       "      <th>title</th>\n",
       "    </tr>\n",
       "  </thead>\n",
       "  <tbody>\n",
       "    <tr>\n",
       "      <th>11</th>\n",
       "      <td>朱淑真</td>\n",
       "      <td>起来不喜匀红粉|强把菱花照病容|腰瘦故知闲事恼|泪多只为别情浓</td>\n",
       "      <td>宋</td>\n",
       "      <td>{'holistic': '1', 'line1': '3', 'line2': '2', ...</td>\n",
       "      <td>睡起二首</td>\n",
       "    </tr>\n",
       "    <tr>\n",
       "      <th>17</th>\n",
       "      <td>王夫之</td>\n",
       "      <td>枯木难消只赋心|散愁长欲寄知音|调孤雌霓休文句|哭碎灵床子敬琴</td>\n",
       "      <td>明</td>\n",
       "      <td>{'holistic': '1', 'line1': '2', 'line2': '1', ...</td>\n",
       "      <td>哭欧阳三弟叔敬沈湘六首</td>\n",
       "    </tr>\n",
       "  </tbody>\n",
       "</table>\n",
       "</div>\n",
       "      <button class=\"colab-df-convert\" onclick=\"convertToInteractive('df-4cad14ad-ad66-44d4-ac1a-e9d9f559868c')\"\n",
       "              title=\"Convert this dataframe to an interactive table.\"\n",
       "              style=\"display:none;\">\n",
       "        \n",
       "  <svg xmlns=\"http://www.w3.org/2000/svg\" height=\"24px\"viewBox=\"0 0 24 24\"\n",
       "       width=\"24px\">\n",
       "    <path d=\"M0 0h24v24H0V0z\" fill=\"none\"/>\n",
       "    <path d=\"M18.56 5.44l.94 2.06.94-2.06 2.06-.94-2.06-.94-.94-2.06-.94 2.06-2.06.94zm-11 1L8.5 8.5l.94-2.06 2.06-.94-2.06-.94L8.5 2.5l-.94 2.06-2.06.94zm10 10l.94 2.06.94-2.06 2.06-.94-2.06-.94-.94-2.06-.94 2.06-2.06.94z\"/><path d=\"M17.41 7.96l-1.37-1.37c-.4-.4-.92-.59-1.43-.59-.52 0-1.04.2-1.43.59L10.3 9.45l-7.72 7.72c-.78.78-.78 2.05 0 2.83L4 21.41c.39.39.9.59 1.41.59.51 0 1.02-.2 1.41-.59l7.78-7.78 2.81-2.81c.8-.78.8-2.07 0-2.86zM5.41 20L4 18.59l7.72-7.72 1.47 1.35L5.41 20z\"/>\n",
       "  </svg>\n",
       "      </button>\n",
       "      \n",
       "  <style>\n",
       "    .colab-df-container {\n",
       "      display:flex;\n",
       "      flex-wrap:wrap;\n",
       "      gap: 12px;\n",
       "    }\n",
       "\n",
       "    .colab-df-convert {\n",
       "      background-color: #E8F0FE;\n",
       "      border: none;\n",
       "      border-radius: 50%;\n",
       "      cursor: pointer;\n",
       "      display: none;\n",
       "      fill: #1967D2;\n",
       "      height: 32px;\n",
       "      padding: 0 0 0 0;\n",
       "      width: 32px;\n",
       "    }\n",
       "\n",
       "    .colab-df-convert:hover {\n",
       "      background-color: #E2EBFA;\n",
       "      box-shadow: 0px 1px 2px rgba(60, 64, 67, 0.3), 0px 1px 3px 1px rgba(60, 64, 67, 0.15);\n",
       "      fill: #174EA6;\n",
       "    }\n",
       "\n",
       "    [theme=dark] .colab-df-convert {\n",
       "      background-color: #3B4455;\n",
       "      fill: #D2E3FC;\n",
       "    }\n",
       "\n",
       "    [theme=dark] .colab-df-convert:hover {\n",
       "      background-color: #434B5C;\n",
       "      box-shadow: 0px 1px 3px 1px rgba(0, 0, 0, 0.15);\n",
       "      filter: drop-shadow(0px 1px 2px rgba(0, 0, 0, 0.3));\n",
       "      fill: #FFFFFF;\n",
       "    }\n",
       "  </style>\n",
       "\n",
       "      <script>\n",
       "        const buttonEl =\n",
       "          document.querySelector('#df-4cad14ad-ad66-44d4-ac1a-e9d9f559868c button.colab-df-convert');\n",
       "        buttonEl.style.display =\n",
       "          google.colab.kernel.accessAllowed ? 'block' : 'none';\n",
       "\n",
       "        async function convertToInteractive(key) {\n",
       "          const element = document.querySelector('#df-4cad14ad-ad66-44d4-ac1a-e9d9f559868c');\n",
       "          const dataTable =\n",
       "            await google.colab.kernel.invokeFunction('convertToInteractive',\n",
       "                                                     [key], {});\n",
       "          if (!dataTable) return;\n",
       "\n",
       "          const docLinkHtml = 'Like what you see? Visit the ' +\n",
       "            '<a target=\"_blank\" href=https://colab.research.google.com/notebooks/data_table.ipynb>data table notebook</a>'\n",
       "            + ' to learn more about interactive tables.';\n",
       "          element.innerHTML = '';\n",
       "          dataTable['output_type'] = 'display_data';\n",
       "          await google.colab.output.renderOutput(dataTable, element);\n",
       "          const docLink = document.createElement('div');\n",
       "          docLink.innerHTML = docLinkHtml;\n",
       "          element.appendChild(docLink);\n",
       "        }\n",
       "      </script>\n",
       "    </div>\n",
       "  </div>\n",
       "  "
      ],
      "text/plain": [
       "   poet                             poem dynasty  \\\n",
       "11  朱淑真  起来不喜匀红粉|强把菱花照病容|腰瘦故知闲事恼|泪多只为别情浓       宋   \n",
       "17  王夫之  枯木难消只赋心|散愁长欲寄知音|调孤雌霓休文句|哭碎灵床子敬琴       明   \n",
       "\n",
       "                                           sentiments        title  \n",
       "11  {'holistic': '1', 'line1': '3', 'line2': '2', ...         睡起二首  \n",
       "17  {'holistic': '1', 'line1': '2', 'line2': '1', ...  哭欧阳三弟叔敬沈湘六首  "
      ]
     },
     "execution_count": 9,
     "metadata": {},
     "output_type": "execute_result"
    }
   ],
   "source": [
    "scoreone =  senti_all[senti_all[\"sentiments\"].str.contains(\"'holistic': '1'\")]\n",
    "scoretwo =  senti_all[senti_all[\"sentiments\"].str.contains(\"'holistic': '2'\")]\n",
    "scorethree = senti_all[senti_all[\"sentiments\"].str.contains(\"'holistic': '3'\")]\n",
    "scorefour =  senti_all[senti_all[\"sentiments\"].str.contains(\"'holistic': '4'\")]\n",
    "scorefive =  senti_all[senti_all[\"sentiments\"].str.contains(\"'holistic': '5'\")]\n",
    "scoreone.head(2)"
   ]
  },
  {
   "cell_type": "code",
   "execution_count": 10,
   "metadata": {
    "colab": {
     "base_uri": "https://localhost:8080/",
     "height": 112
    },
    "execution": {
     "iopub.execute_input": "2022-01-12T03:36:49.157835Z",
     "iopub.status.busy": "2022-01-12T03:36:49.157576Z",
     "iopub.status.idle": "2022-01-12T03:36:49.178179Z",
     "shell.execute_reply": "2022-01-12T03:36:49.177318Z",
     "shell.execute_reply.started": "2022-01-12T03:36:49.157809Z"
    },
    "id": "k0K8k_6_ZNyX",
    "outputId": "2e0db545-1aef-41cc-dad0-5304a9262cc4"
   },
   "outputs": [
    {
     "data": {
      "text/html": [
       "\n",
       "  <div id=\"df-bba1f67f-9453-4242-99f8-d7487fd1d989\">\n",
       "    <div class=\"colab-df-container\">\n",
       "      <div>\n",
       "<style scoped>\n",
       "    .dataframe tbody tr th:only-of-type {\n",
       "        vertical-align: middle;\n",
       "    }\n",
       "\n",
       "    .dataframe tbody tr th {\n",
       "        vertical-align: top;\n",
       "    }\n",
       "\n",
       "    .dataframe thead th {\n",
       "        text-align: right;\n",
       "    }\n",
       "</style>\n",
       "<table border=\"1\" class=\"dataframe\">\n",
       "  <thead>\n",
       "    <tr style=\"text-align: right;\">\n",
       "      <th></th>\n",
       "      <th>poet</th>\n",
       "      <th>poem</th>\n",
       "      <th>dynasty</th>\n",
       "      <th>sentiments</th>\n",
       "      <th>title</th>\n",
       "    </tr>\n",
       "  </thead>\n",
       "  <tbody>\n",
       "    <tr>\n",
       "      <th>11</th>\n",
       "      <td>朱淑真</td>\n",
       "      <td>起来不喜匀红粉|强把菱花照病容|腰瘦故知闲事恼|泪多只为别情浓</td>\n",
       "      <td>宋</td>\n",
       "      <td>0</td>\n",
       "      <td>睡起二首</td>\n",
       "    </tr>\n",
       "    <tr>\n",
       "      <th>17</th>\n",
       "      <td>王夫之</td>\n",
       "      <td>枯木难消只赋心|散愁长欲寄知音|调孤雌霓休文句|哭碎灵床子敬琴</td>\n",
       "      <td>明</td>\n",
       "      <td>0</td>\n",
       "      <td>哭欧阳三弟叔敬沈湘六首</td>\n",
       "    </tr>\n",
       "  </tbody>\n",
       "</table>\n",
       "</div>\n",
       "      <button class=\"colab-df-convert\" onclick=\"convertToInteractive('df-bba1f67f-9453-4242-99f8-d7487fd1d989')\"\n",
       "              title=\"Convert this dataframe to an interactive table.\"\n",
       "              style=\"display:none;\">\n",
       "        \n",
       "  <svg xmlns=\"http://www.w3.org/2000/svg\" height=\"24px\"viewBox=\"0 0 24 24\"\n",
       "       width=\"24px\">\n",
       "    <path d=\"M0 0h24v24H0V0z\" fill=\"none\"/>\n",
       "    <path d=\"M18.56 5.44l.94 2.06.94-2.06 2.06-.94-2.06-.94-.94-2.06-.94 2.06-2.06.94zm-11 1L8.5 8.5l.94-2.06 2.06-.94-2.06-.94L8.5 2.5l-.94 2.06-2.06.94zm10 10l.94 2.06.94-2.06 2.06-.94-2.06-.94-.94-2.06-.94 2.06-2.06.94z\"/><path d=\"M17.41 7.96l-1.37-1.37c-.4-.4-.92-.59-1.43-.59-.52 0-1.04.2-1.43.59L10.3 9.45l-7.72 7.72c-.78.78-.78 2.05 0 2.83L4 21.41c.39.39.9.59 1.41.59.51 0 1.02-.2 1.41-.59l7.78-7.78 2.81-2.81c.8-.78.8-2.07 0-2.86zM5.41 20L4 18.59l7.72-7.72 1.47 1.35L5.41 20z\"/>\n",
       "  </svg>\n",
       "      </button>\n",
       "      \n",
       "  <style>\n",
       "    .colab-df-container {\n",
       "      display:flex;\n",
       "      flex-wrap:wrap;\n",
       "      gap: 12px;\n",
       "    }\n",
       "\n",
       "    .colab-df-convert {\n",
       "      background-color: #E8F0FE;\n",
       "      border: none;\n",
       "      border-radius: 50%;\n",
       "      cursor: pointer;\n",
       "      display: none;\n",
       "      fill: #1967D2;\n",
       "      height: 32px;\n",
       "      padding: 0 0 0 0;\n",
       "      width: 32px;\n",
       "    }\n",
       "\n",
       "    .colab-df-convert:hover {\n",
       "      background-color: #E2EBFA;\n",
       "      box-shadow: 0px 1px 2px rgba(60, 64, 67, 0.3), 0px 1px 3px 1px rgba(60, 64, 67, 0.15);\n",
       "      fill: #174EA6;\n",
       "    }\n",
       "\n",
       "    [theme=dark] .colab-df-convert {\n",
       "      background-color: #3B4455;\n",
       "      fill: #D2E3FC;\n",
       "    }\n",
       "\n",
       "    [theme=dark] .colab-df-convert:hover {\n",
       "      background-color: #434B5C;\n",
       "      box-shadow: 0px 1px 3px 1px rgba(0, 0, 0, 0.15);\n",
       "      filter: drop-shadow(0px 1px 2px rgba(0, 0, 0, 0.3));\n",
       "      fill: #FFFFFF;\n",
       "    }\n",
       "  </style>\n",
       "\n",
       "      <script>\n",
       "        const buttonEl =\n",
       "          document.querySelector('#df-bba1f67f-9453-4242-99f8-d7487fd1d989 button.colab-df-convert');\n",
       "        buttonEl.style.display =\n",
       "          google.colab.kernel.accessAllowed ? 'block' : 'none';\n",
       "\n",
       "        async function convertToInteractive(key) {\n",
       "          const element = document.querySelector('#df-bba1f67f-9453-4242-99f8-d7487fd1d989');\n",
       "          const dataTable =\n",
       "            await google.colab.kernel.invokeFunction('convertToInteractive',\n",
       "                                                     [key], {});\n",
       "          if (!dataTable) return;\n",
       "\n",
       "          const docLinkHtml = 'Like what you see? Visit the ' +\n",
       "            '<a target=\"_blank\" href=https://colab.research.google.com/notebooks/data_table.ipynb>data table notebook</a>'\n",
       "            + ' to learn more about interactive tables.';\n",
       "          element.innerHTML = '';\n",
       "          dataTable['output_type'] = 'display_data';\n",
       "          await google.colab.output.renderOutput(dataTable, element);\n",
       "          const docLink = document.createElement('div');\n",
       "          docLink.innerHTML = docLinkHtml;\n",
       "          element.appendChild(docLink);\n",
       "        }\n",
       "      </script>\n",
       "    </div>\n",
       "  </div>\n",
       "  "
      ],
      "text/plain": [
       "   poet                             poem dynasty sentiments        title\n",
       "11  朱淑真  起来不喜匀红粉|强把菱花照病容|腰瘦故知闲事恼|泪多只为别情浓       宋          0         睡起二首\n",
       "17  王夫之  枯木难消只赋心|散愁长欲寄知音|调孤雌霓休文句|哭碎灵床子敬琴       明          0  哭欧阳三弟叔敬沈湘六首"
      ]
     },
     "execution_count": 10,
     "metadata": {},
     "output_type": "execute_result"
    }
   ],
   "source": [
    "pd.set_option('mode.chained_assignment',  None)\n",
    "scoreone['sentiments'] = scoreone['sentiments'].map('0'.format)\n",
    "scoretwo['sentiments'] = scoretwo['sentiments'].map('0'.format)\n",
    "scorethree['sentiments'] = scorethree['sentiments'].map('1'.format)\n",
    "scorefour['sentiments'] = scorefour['sentiments'].map('2'.format)\n",
    "scorefive['sentiments'] = scorefive['sentiments'].map('2'.format)\n",
    "senti_all = pd.concat([scoreone, scoretwo, scorethree, scorefour, scorefive])\n",
    "\n",
    "senti_all.head(2)"
   ]
  },
  {
   "cell_type": "code",
   "execution_count": 11,
   "metadata": {
    "colab": {
     "base_uri": "https://localhost:8080/",
     "height": 112
    },
    "execution": {
     "iopub.execute_input": "2022-01-12T03:36:49.181063Z",
     "iopub.status.busy": "2022-01-12T03:36:49.180541Z",
     "iopub.status.idle": "2022-01-12T03:36:49.195984Z",
     "shell.execute_reply": "2022-01-12T03:36:49.195247Z",
     "shell.execute_reply.started": "2022-01-12T03:36:49.181026Z"
    },
    "id": "gm9dgAWxZNyX",
    "outputId": "fd0487e4-cc65-49b0-f069-9b996be13e85"
   },
   "outputs": [
    {
     "data": {
      "text/html": [
       "\n",
       "  <div id=\"df-78cd3259-46d4-4540-93b4-14ebf1677717\">\n",
       "    <div class=\"colab-df-container\">\n",
       "      <div>\n",
       "<style scoped>\n",
       "    .dataframe tbody tr th:only-of-type {\n",
       "        vertical-align: middle;\n",
       "    }\n",
       "\n",
       "    .dataframe tbody tr th {\n",
       "        vertical-align: top;\n",
       "    }\n",
       "\n",
       "    .dataframe thead th {\n",
       "        text-align: right;\n",
       "    }\n",
       "</style>\n",
       "<table border=\"1\" class=\"dataframe\">\n",
       "  <thead>\n",
       "    <tr style=\"text-align: right;\">\n",
       "      <th></th>\n",
       "      <th>poet</th>\n",
       "      <th>poem</th>\n",
       "      <th>dynasty</th>\n",
       "      <th>sentiments</th>\n",
       "      <th>title</th>\n",
       "    </tr>\n",
       "  </thead>\n",
       "  <tbody>\n",
       "    <tr>\n",
       "      <th>0</th>\n",
       "      <td>元好问</td>\n",
       "      <td>燕语莺啼百啭新|长廊寂寂不逢人|东君去作谁家客|花柳无情各自春</td>\n",
       "      <td>元</td>\n",
       "      <td>0</td>\n",
       "      <td>杂著二首</td>\n",
       "    </tr>\n",
       "    <tr>\n",
       "      <th>1</th>\n",
       "      <td>夏竦</td>\n",
       "      <td>浴兰袭祉良辰启|握纪无为圣道尊|舄奕嘉祥充九禁|冲融和气徧干门</td>\n",
       "      <td>宋</td>\n",
       "      <td>2</td>\n",
       "      <td>御阁端午帖子</td>\n",
       "    </tr>\n",
       "  </tbody>\n",
       "</table>\n",
       "</div>\n",
       "      <button class=\"colab-df-convert\" onclick=\"convertToInteractive('df-78cd3259-46d4-4540-93b4-14ebf1677717')\"\n",
       "              title=\"Convert this dataframe to an interactive table.\"\n",
       "              style=\"display:none;\">\n",
       "        \n",
       "  <svg xmlns=\"http://www.w3.org/2000/svg\" height=\"24px\"viewBox=\"0 0 24 24\"\n",
       "       width=\"24px\">\n",
       "    <path d=\"M0 0h24v24H0V0z\" fill=\"none\"/>\n",
       "    <path d=\"M18.56 5.44l.94 2.06.94-2.06 2.06-.94-2.06-.94-.94-2.06-.94 2.06-2.06.94zm-11 1L8.5 8.5l.94-2.06 2.06-.94-2.06-.94L8.5 2.5l-.94 2.06-2.06.94zm10 10l.94 2.06.94-2.06 2.06-.94-2.06-.94-.94-2.06-.94 2.06-2.06.94z\"/><path d=\"M17.41 7.96l-1.37-1.37c-.4-.4-.92-.59-1.43-.59-.52 0-1.04.2-1.43.59L10.3 9.45l-7.72 7.72c-.78.78-.78 2.05 0 2.83L4 21.41c.39.39.9.59 1.41.59.51 0 1.02-.2 1.41-.59l7.78-7.78 2.81-2.81c.8-.78.8-2.07 0-2.86zM5.41 20L4 18.59l7.72-7.72 1.47 1.35L5.41 20z\"/>\n",
       "  </svg>\n",
       "      </button>\n",
       "      \n",
       "  <style>\n",
       "    .colab-df-container {\n",
       "      display:flex;\n",
       "      flex-wrap:wrap;\n",
       "      gap: 12px;\n",
       "    }\n",
       "\n",
       "    .colab-df-convert {\n",
       "      background-color: #E8F0FE;\n",
       "      border: none;\n",
       "      border-radius: 50%;\n",
       "      cursor: pointer;\n",
       "      display: none;\n",
       "      fill: #1967D2;\n",
       "      height: 32px;\n",
       "      padding: 0 0 0 0;\n",
       "      width: 32px;\n",
       "    }\n",
       "\n",
       "    .colab-df-convert:hover {\n",
       "      background-color: #E2EBFA;\n",
       "      box-shadow: 0px 1px 2px rgba(60, 64, 67, 0.3), 0px 1px 3px 1px rgba(60, 64, 67, 0.15);\n",
       "      fill: #174EA6;\n",
       "    }\n",
       "\n",
       "    [theme=dark] .colab-df-convert {\n",
       "      background-color: #3B4455;\n",
       "      fill: #D2E3FC;\n",
       "    }\n",
       "\n",
       "    [theme=dark] .colab-df-convert:hover {\n",
       "      background-color: #434B5C;\n",
       "      box-shadow: 0px 1px 3px 1px rgba(0, 0, 0, 0.15);\n",
       "      filter: drop-shadow(0px 1px 2px rgba(0, 0, 0, 0.3));\n",
       "      fill: #FFFFFF;\n",
       "    }\n",
       "  </style>\n",
       "\n",
       "      <script>\n",
       "        const buttonEl =\n",
       "          document.querySelector('#df-78cd3259-46d4-4540-93b4-14ebf1677717 button.colab-df-convert');\n",
       "        buttonEl.style.display =\n",
       "          google.colab.kernel.accessAllowed ? 'block' : 'none';\n",
       "\n",
       "        async function convertToInteractive(key) {\n",
       "          const element = document.querySelector('#df-78cd3259-46d4-4540-93b4-14ebf1677717');\n",
       "          const dataTable =\n",
       "            await google.colab.kernel.invokeFunction('convertToInteractive',\n",
       "                                                     [key], {});\n",
       "          if (!dataTable) return;\n",
       "\n",
       "          const docLinkHtml = 'Like what you see? Visit the ' +\n",
       "            '<a target=\"_blank\" href=https://colab.research.google.com/notebooks/data_table.ipynb>data table notebook</a>'\n",
       "            + ' to learn more about interactive tables.';\n",
       "          element.innerHTML = '';\n",
       "          dataTable['output_type'] = 'display_data';\n",
       "          await google.colab.output.renderOutput(dataTable, element);\n",
       "          const docLink = document.createElement('div');\n",
       "          docLink.innerHTML = docLinkHtml;\n",
       "          element.appendChild(docLink);\n",
       "        }\n",
       "      </script>\n",
       "    </div>\n",
       "  </div>\n",
       "  "
      ],
      "text/plain": [
       "  poet                             poem dynasty sentiments   title\n",
       "0  元好问  燕语莺啼百啭新|长廊寂寂不逢人|东君去作谁家客|花柳无情各自春       元          0    杂著二首\n",
       "1   夏竦  浴兰袭祉良辰启|握纪无为圣道尊|舄奕嘉祥充九禁|冲融和气徧干门       宋          2  御阁端午帖子"
      ]
     },
     "execution_count": 11,
     "metadata": {},
     "output_type": "execute_result"
    }
   ],
   "source": [
    "senti_all = senti_all.sample(frac=1).reset_index(drop=True)\n",
    "senti_all.head(2)"
   ]
  },
  {
   "cell_type": "code",
   "execution_count": 12,
   "metadata": {
    "colab": {
     "base_uri": "https://localhost:8080/"
    },
    "execution": {
     "iopub.execute_input": "2022-01-12T03:36:49.197481Z",
     "iopub.status.busy": "2022-01-12T03:36:49.197129Z",
     "iopub.status.idle": "2022-01-12T03:36:49.205291Z",
     "shell.execute_reply": "2022-01-12T03:36:49.204375Z",
     "shell.execute_reply.started": "2022-01-12T03:36:49.197439Z"
    },
    "id": "XgTW9euTZNyY",
    "outputId": "1d2e4ea1-503f-4fea-f828-34aef00e2c32"
   },
   "outputs": [
    {
     "data": {
      "text/plain": [
       "2    1917\n",
       "0    1755\n",
       "1    1328\n",
       "Name: sentiments, dtype: int64"
      ]
     },
     "execution_count": 12,
     "metadata": {},
     "output_type": "execute_result"
    }
   ],
   "source": [
    "count = pd.value_counts(senti_all['sentiments'])\n",
    "count"
   ]
  },
  {
   "cell_type": "code",
   "execution_count": 13,
   "metadata": {
    "colab": {
     "base_uri": "https://localhost:8080/",
     "height": 206
    },
    "execution": {
     "iopub.execute_input": "2022-01-12T03:36:49.207271Z",
     "iopub.status.busy": "2022-01-12T03:36:49.206660Z",
     "iopub.status.idle": "2022-01-12T03:36:49.228189Z",
     "shell.execute_reply": "2022-01-12T03:36:49.227166Z",
     "shell.execute_reply.started": "2022-01-12T03:36:49.207237Z"
    },
    "id": "bN7WnpUTZNyY",
    "outputId": "753bdea4-a8e2-44b2-b6e7-46c73dcd101e"
   },
   "outputs": [
    {
     "data": {
      "text/html": [
       "\n",
       "  <div id=\"df-f28c9b09-cfb8-4531-ac88-ba99d4d8d764\">\n",
       "    <div class=\"colab-df-container\">\n",
       "      <div>\n",
       "<style scoped>\n",
       "    .dataframe tbody tr th:only-of-type {\n",
       "        vertical-align: middle;\n",
       "    }\n",
       "\n",
       "    .dataframe tbody tr th {\n",
       "        vertical-align: top;\n",
       "    }\n",
       "\n",
       "    .dataframe thead th {\n",
       "        text-align: right;\n",
       "    }\n",
       "</style>\n",
       "<table border=\"1\" class=\"dataframe\">\n",
       "  <thead>\n",
       "    <tr style=\"text-align: right;\">\n",
       "      <th></th>\n",
       "      <th>poet</th>\n",
       "      <th>poem</th>\n",
       "      <th>dynasty</th>\n",
       "      <th>sentiments</th>\n",
       "      <th>title</th>\n",
       "    </tr>\n",
       "  </thead>\n",
       "  <tbody>\n",
       "    <tr>\n",
       "      <th>0</th>\n",
       "      <td>元好问</td>\n",
       "      <td>燕语莺啼百啭新长廊寂寂不逢人东君去作谁家客花柳无情各自春</td>\n",
       "      <td>元</td>\n",
       "      <td>0</td>\n",
       "      <td>杂著二首</td>\n",
       "    </tr>\n",
       "    <tr>\n",
       "      <th>1</th>\n",
       "      <td>夏竦</td>\n",
       "      <td>浴兰袭祉良辰启握纪无为圣道尊舄奕嘉祥充九禁冲融和气徧干门</td>\n",
       "      <td>宋</td>\n",
       "      <td>2</td>\n",
       "      <td>御阁端午帖子</td>\n",
       "    </tr>\n",
       "    <tr>\n",
       "      <th>2</th>\n",
       "      <td>司马光</td>\n",
       "      <td>灵台无事日休休安乐由来不外求细雨寒风宜独坐暖天佳景即闲游</td>\n",
       "      <td>宋</td>\n",
       "      <td>2</td>\n",
       "      <td>和邵尧夫安乐窝中职事吟</td>\n",
       "    </tr>\n",
       "    <tr>\n",
       "      <th>3</th>\n",
       "      <td>宋祁</td>\n",
       "      <td>七里城南路斋祠宿下房远烟晨燎地斜日夕牲场</td>\n",
       "      <td>宋</td>\n",
       "      <td>2</td>\n",
       "      <td>南郊祠所上章摄事二首</td>\n",
       "    </tr>\n",
       "    <tr>\n",
       "      <th>4</th>\n",
       "      <td>葛胜仲</td>\n",
       "      <td>味佳端可供羮梜韵胜尤宜荐酒螺自笑痴人饕口腹不求新竹透林多</td>\n",
       "      <td>宋</td>\n",
       "      <td>2</td>\n",
       "      <td>烹笋</td>\n",
       "    </tr>\n",
       "  </tbody>\n",
       "</table>\n",
       "</div>\n",
       "      <button class=\"colab-df-convert\" onclick=\"convertToInteractive('df-f28c9b09-cfb8-4531-ac88-ba99d4d8d764')\"\n",
       "              title=\"Convert this dataframe to an interactive table.\"\n",
       "              style=\"display:none;\">\n",
       "        \n",
       "  <svg xmlns=\"http://www.w3.org/2000/svg\" height=\"24px\"viewBox=\"0 0 24 24\"\n",
       "       width=\"24px\">\n",
       "    <path d=\"M0 0h24v24H0V0z\" fill=\"none\"/>\n",
       "    <path d=\"M18.56 5.44l.94 2.06.94-2.06 2.06-.94-2.06-.94-.94-2.06-.94 2.06-2.06.94zm-11 1L8.5 8.5l.94-2.06 2.06-.94-2.06-.94L8.5 2.5l-.94 2.06-2.06.94zm10 10l.94 2.06.94-2.06 2.06-.94-2.06-.94-.94-2.06-.94 2.06-2.06.94z\"/><path d=\"M17.41 7.96l-1.37-1.37c-.4-.4-.92-.59-1.43-.59-.52 0-1.04.2-1.43.59L10.3 9.45l-7.72 7.72c-.78.78-.78 2.05 0 2.83L4 21.41c.39.39.9.59 1.41.59.51 0 1.02-.2 1.41-.59l7.78-7.78 2.81-2.81c.8-.78.8-2.07 0-2.86zM5.41 20L4 18.59l7.72-7.72 1.47 1.35L5.41 20z\"/>\n",
       "  </svg>\n",
       "      </button>\n",
       "      \n",
       "  <style>\n",
       "    .colab-df-container {\n",
       "      display:flex;\n",
       "      flex-wrap:wrap;\n",
       "      gap: 12px;\n",
       "    }\n",
       "\n",
       "    .colab-df-convert {\n",
       "      background-color: #E8F0FE;\n",
       "      border: none;\n",
       "      border-radius: 50%;\n",
       "      cursor: pointer;\n",
       "      display: none;\n",
       "      fill: #1967D2;\n",
       "      height: 32px;\n",
       "      padding: 0 0 0 0;\n",
       "      width: 32px;\n",
       "    }\n",
       "\n",
       "    .colab-df-convert:hover {\n",
       "      background-color: #E2EBFA;\n",
       "      box-shadow: 0px 1px 2px rgba(60, 64, 67, 0.3), 0px 1px 3px 1px rgba(60, 64, 67, 0.15);\n",
       "      fill: #174EA6;\n",
       "    }\n",
       "\n",
       "    [theme=dark] .colab-df-convert {\n",
       "      background-color: #3B4455;\n",
       "      fill: #D2E3FC;\n",
       "    }\n",
       "\n",
       "    [theme=dark] .colab-df-convert:hover {\n",
       "      background-color: #434B5C;\n",
       "      box-shadow: 0px 1px 3px 1px rgba(0, 0, 0, 0.15);\n",
       "      filter: drop-shadow(0px 1px 2px rgba(0, 0, 0, 0.3));\n",
       "      fill: #FFFFFF;\n",
       "    }\n",
       "  </style>\n",
       "\n",
       "      <script>\n",
       "        const buttonEl =\n",
       "          document.querySelector('#df-f28c9b09-cfb8-4531-ac88-ba99d4d8d764 button.colab-df-convert');\n",
       "        buttonEl.style.display =\n",
       "          google.colab.kernel.accessAllowed ? 'block' : 'none';\n",
       "\n",
       "        async function convertToInteractive(key) {\n",
       "          const element = document.querySelector('#df-f28c9b09-cfb8-4531-ac88-ba99d4d8d764');\n",
       "          const dataTable =\n",
       "            await google.colab.kernel.invokeFunction('convertToInteractive',\n",
       "                                                     [key], {});\n",
       "          if (!dataTable) return;\n",
       "\n",
       "          const docLinkHtml = 'Like what you see? Visit the ' +\n",
       "            '<a target=\"_blank\" href=https://colab.research.google.com/notebooks/data_table.ipynb>data table notebook</a>'\n",
       "            + ' to learn more about interactive tables.';\n",
       "          element.innerHTML = '';\n",
       "          dataTable['output_type'] = 'display_data';\n",
       "          await google.colab.output.renderOutput(dataTable, element);\n",
       "          const docLink = document.createElement('div');\n",
       "          docLink.innerHTML = docLinkHtml;\n",
       "          element.appendChild(docLink);\n",
       "        }\n",
       "      </script>\n",
       "    </div>\n",
       "  </div>\n",
       "  "
      ],
      "text/plain": [
       "  poet                          poem dynasty sentiments        title\n",
       "0  元好问  燕语莺啼百啭新长廊寂寂不逢人东君去作谁家客花柳无情各自春       元          0         杂著二首\n",
       "1   夏竦  浴兰袭祉良辰启握纪无为圣道尊舄奕嘉祥充九禁冲融和气徧干门       宋          2       御阁端午帖子\n",
       "2  司马光  灵台无事日休休安乐由来不外求细雨寒风宜独坐暖天佳景即闲游       宋          2  和邵尧夫安乐窝中职事吟\n",
       "3   宋祁          七里城南路斋祠宿下房远烟晨燎地斜日夕牲场       宋          2   南郊祠所上章摄事二首\n",
       "4  葛胜仲  味佳端可供羮梜韵胜尤宜荐酒螺自笑痴人饕口腹不求新竹透林多       宋          2           烹笋"
      ]
     },
     "execution_count": 13,
     "metadata": {},
     "output_type": "execute_result"
    }
   ],
   "source": [
    "senti_all[\"poem\"] = senti_all[\"poem\"].str.replace(pat=r'[|]', repl=r'', regex=True)\n",
    "senti_all.head()"
   ]
  },
  {
   "cell_type": "code",
   "execution_count": 14,
   "metadata": {
    "execution": {
     "iopub.execute_input": "2022-01-12T03:36:49.230185Z",
     "iopub.status.busy": "2022-01-12T03:36:49.229835Z",
     "iopub.status.idle": "2022-01-12T03:36:49.236672Z",
     "shell.execute_reply": "2022-01-12T03:36:49.235855Z",
     "shell.execute_reply.started": "2022-01-12T03:36:49.230151Z"
    },
    "id": "jN6wzf0VZNyY"
   },
   "outputs": [],
   "source": [
    "# 전처리 조절\n",
    "def text_process(text):\n",
    "    words = list(text)    \n",
    "    return words"
   ]
  },
  {
   "cell_type": "code",
   "execution_count": 15,
   "metadata": {
    "colab": {
     "base_uri": "https://localhost:8080/",
     "height": 190
    },
    "execution": {
     "iopub.execute_input": "2022-01-12T03:36:49.238516Z",
     "iopub.status.busy": "2022-01-12T03:36:49.238148Z",
     "iopub.status.idle": "2022-01-12T03:36:49.267944Z",
     "shell.execute_reply": "2022-01-12T03:36:49.266965Z",
     "shell.execute_reply.started": "2022-01-12T03:36:49.238463Z"
    },
    "id": "vNyf2cEhZNyY",
    "outputId": "1f42d380-d3fa-4183-a149-894cc073eb4a"
   },
   "outputs": [
    {
     "data": {
      "text/html": [
       "\n",
       "  <div id=\"df-3ec108c6-39ec-4020-9784-5b19c8626fd2\">\n",
       "    <div class=\"colab-df-container\">\n",
       "      <div>\n",
       "<style scoped>\n",
       "    .dataframe tbody tr th:only-of-type {\n",
       "        vertical-align: middle;\n",
       "    }\n",
       "\n",
       "    .dataframe tbody tr th {\n",
       "        vertical-align: top;\n",
       "    }\n",
       "\n",
       "    .dataframe thead th {\n",
       "        text-align: right;\n",
       "    }\n",
       "</style>\n",
       "<table border=\"1\" class=\"dataframe\">\n",
       "  <thead>\n",
       "    <tr style=\"text-align: right;\">\n",
       "      <th></th>\n",
       "      <th>poet</th>\n",
       "      <th>poem</th>\n",
       "      <th>dynasty</th>\n",
       "      <th>sentiments</th>\n",
       "      <th>title</th>\n",
       "      <th>tokens</th>\n",
       "    </tr>\n",
       "  </thead>\n",
       "  <tbody>\n",
       "    <tr>\n",
       "      <th>0</th>\n",
       "      <td>元好问</td>\n",
       "      <td>燕语莺啼百啭新长廊寂寂不逢人东君去作谁家客花柳无情各自春</td>\n",
       "      <td>元</td>\n",
       "      <td>0</td>\n",
       "      <td>杂著二首</td>\n",
       "      <td>[燕, 语, 莺, 啼, 百, 啭, 新, 长, 廊, 寂, 寂, 不, 逢, 人, 东, ...</td>\n",
       "    </tr>\n",
       "    <tr>\n",
       "      <th>1</th>\n",
       "      <td>夏竦</td>\n",
       "      <td>浴兰袭祉良辰启握纪无为圣道尊舄奕嘉祥充九禁冲融和气徧干门</td>\n",
       "      <td>宋</td>\n",
       "      <td>2</td>\n",
       "      <td>御阁端午帖子</td>\n",
       "      <td>[浴, 兰, 袭, 祉, 良, 辰, 启, 握, 纪, 无, 为, 圣, 道, 尊, 舄, ...</td>\n",
       "    </tr>\n",
       "  </tbody>\n",
       "</table>\n",
       "</div>\n",
       "      <button class=\"colab-df-convert\" onclick=\"convertToInteractive('df-3ec108c6-39ec-4020-9784-5b19c8626fd2')\"\n",
       "              title=\"Convert this dataframe to an interactive table.\"\n",
       "              style=\"display:none;\">\n",
       "        \n",
       "  <svg xmlns=\"http://www.w3.org/2000/svg\" height=\"24px\"viewBox=\"0 0 24 24\"\n",
       "       width=\"24px\">\n",
       "    <path d=\"M0 0h24v24H0V0z\" fill=\"none\"/>\n",
       "    <path d=\"M18.56 5.44l.94 2.06.94-2.06 2.06-.94-2.06-.94-.94-2.06-.94 2.06-2.06.94zm-11 1L8.5 8.5l.94-2.06 2.06-.94-2.06-.94L8.5 2.5l-.94 2.06-2.06.94zm10 10l.94 2.06.94-2.06 2.06-.94-2.06-.94-.94-2.06-.94 2.06-2.06.94z\"/><path d=\"M17.41 7.96l-1.37-1.37c-.4-.4-.92-.59-1.43-.59-.52 0-1.04.2-1.43.59L10.3 9.45l-7.72 7.72c-.78.78-.78 2.05 0 2.83L4 21.41c.39.39.9.59 1.41.59.51 0 1.02-.2 1.41-.59l7.78-7.78 2.81-2.81c.8-.78.8-2.07 0-2.86zM5.41 20L4 18.59l7.72-7.72 1.47 1.35L5.41 20z\"/>\n",
       "  </svg>\n",
       "      </button>\n",
       "      \n",
       "  <style>\n",
       "    .colab-df-container {\n",
       "      display:flex;\n",
       "      flex-wrap:wrap;\n",
       "      gap: 12px;\n",
       "    }\n",
       "\n",
       "    .colab-df-convert {\n",
       "      background-color: #E8F0FE;\n",
       "      border: none;\n",
       "      border-radius: 50%;\n",
       "      cursor: pointer;\n",
       "      display: none;\n",
       "      fill: #1967D2;\n",
       "      height: 32px;\n",
       "      padding: 0 0 0 0;\n",
       "      width: 32px;\n",
       "    }\n",
       "\n",
       "    .colab-df-convert:hover {\n",
       "      background-color: #E2EBFA;\n",
       "      box-shadow: 0px 1px 2px rgba(60, 64, 67, 0.3), 0px 1px 3px 1px rgba(60, 64, 67, 0.15);\n",
       "      fill: #174EA6;\n",
       "    }\n",
       "\n",
       "    [theme=dark] .colab-df-convert {\n",
       "      background-color: #3B4455;\n",
       "      fill: #D2E3FC;\n",
       "    }\n",
       "\n",
       "    [theme=dark] .colab-df-convert:hover {\n",
       "      background-color: #434B5C;\n",
       "      box-shadow: 0px 1px 3px 1px rgba(0, 0, 0, 0.15);\n",
       "      filter: drop-shadow(0px 1px 2px rgba(0, 0, 0, 0.3));\n",
       "      fill: #FFFFFF;\n",
       "    }\n",
       "  </style>\n",
       "\n",
       "      <script>\n",
       "        const buttonEl =\n",
       "          document.querySelector('#df-3ec108c6-39ec-4020-9784-5b19c8626fd2 button.colab-df-convert');\n",
       "        buttonEl.style.display =\n",
       "          google.colab.kernel.accessAllowed ? 'block' : 'none';\n",
       "\n",
       "        async function convertToInteractive(key) {\n",
       "          const element = document.querySelector('#df-3ec108c6-39ec-4020-9784-5b19c8626fd2');\n",
       "          const dataTable =\n",
       "            await google.colab.kernel.invokeFunction('convertToInteractive',\n",
       "                                                     [key], {});\n",
       "          if (!dataTable) return;\n",
       "\n",
       "          const docLinkHtml = 'Like what you see? Visit the ' +\n",
       "            '<a target=\"_blank\" href=https://colab.research.google.com/notebooks/data_table.ipynb>data table notebook</a>'\n",
       "            + ' to learn more about interactive tables.';\n",
       "          element.innerHTML = '';\n",
       "          dataTable['output_type'] = 'display_data';\n",
       "          await google.colab.output.renderOutput(dataTable, element);\n",
       "          const docLink = document.createElement('div');\n",
       "          docLink.innerHTML = docLinkHtml;\n",
       "          element.appendChild(docLink);\n",
       "        }\n",
       "      </script>\n",
       "    </div>\n",
       "  </div>\n",
       "  "
      ],
      "text/plain": [
       "  poet                          poem dynasty sentiments   title  \\\n",
       "0  元好问  燕语莺啼百啭新长廊寂寂不逢人东君去作谁家客花柳无情各自春       元          0    杂著二首   \n",
       "1   夏竦  浴兰袭祉良辰启握纪无为圣道尊舄奕嘉祥充九禁冲融和气徧干门       宋          2  御阁端午帖子   \n",
       "\n",
       "                                              tokens  \n",
       "0  [燕, 语, 莺, 啼, 百, 啭, 新, 长, 廊, 寂, 寂, 不, 逢, 人, 东, ...  \n",
       "1  [浴, 兰, 袭, 祉, 良, 辰, 启, 握, 纪, 无, 为, 圣, 道, 尊, 舄, ...  "
      ]
     },
     "execution_count": 15,
     "metadata": {},
     "output_type": "execute_result"
    }
   ],
   "source": [
    "senti_all['tokens'] = senti_all['poem'].apply(text_process)\n",
    "senti_all.head(2)"
   ]
  },
  {
   "cell_type": "code",
   "execution_count": 16,
   "metadata": {
    "colab": {
     "base_uri": "https://localhost:8080/",
     "height": 190
    },
    "execution": {
     "iopub.execute_input": "2022-01-12T03:36:49.269801Z",
     "iopub.status.busy": "2022-01-12T03:36:49.269427Z",
     "iopub.status.idle": "2022-01-12T03:36:49.303892Z",
     "shell.execute_reply": "2022-01-12T03:36:49.303177Z",
     "shell.execute_reply.started": "2022-01-12T03:36:49.269767Z"
    },
    "id": "dJGq5Sf8ZNyZ",
    "outputId": "5e1b7e8b-b051-4d6d-a129-af00a150443c"
   },
   "outputs": [
    {
     "data": {
      "text/html": [
       "\n",
       "  <div id=\"df-6535ad6a-9201-4ef4-8963-47185cc0f242\">\n",
       "    <div class=\"colab-df-container\">\n",
       "      <div>\n",
       "<style scoped>\n",
       "    .dataframe tbody tr th:only-of-type {\n",
       "        vertical-align: middle;\n",
       "    }\n",
       "\n",
       "    .dataframe tbody tr th {\n",
       "        vertical-align: top;\n",
       "    }\n",
       "\n",
       "    .dataframe thead th {\n",
       "        text-align: right;\n",
       "    }\n",
       "</style>\n",
       "<table border=\"1\" class=\"dataframe\">\n",
       "  <thead>\n",
       "    <tr style=\"text-align: right;\">\n",
       "      <th></th>\n",
       "      <th>poet</th>\n",
       "      <th>poem</th>\n",
       "      <th>dynasty</th>\n",
       "      <th>sentiments</th>\n",
       "      <th>title</th>\n",
       "      <th>tokens</th>\n",
       "      <th>final_tokens</th>\n",
       "    </tr>\n",
       "  </thead>\n",
       "  <tbody>\n",
       "    <tr>\n",
       "      <th>0</th>\n",
       "      <td>元好问</td>\n",
       "      <td>燕语莺啼百啭新长廊寂寂不逢人东君去作谁家客花柳无情各自春</td>\n",
       "      <td>元</td>\n",
       "      <td>0</td>\n",
       "      <td>杂著二首</td>\n",
       "      <td>[燕, 语, 莺, 啼, 百, 啭, 新, 长, 廊, 寂, 寂, 不, 逢, 人, 东, ...</td>\n",
       "      <td>燕语莺啼百啭新长廊寂寂不逢人东君去作谁家客花柳无情各自春</td>\n",
       "    </tr>\n",
       "    <tr>\n",
       "      <th>1</th>\n",
       "      <td>夏竦</td>\n",
       "      <td>浴兰袭祉良辰启握纪无为圣道尊舄奕嘉祥充九禁冲融和气徧干门</td>\n",
       "      <td>宋</td>\n",
       "      <td>2</td>\n",
       "      <td>御阁端午帖子</td>\n",
       "      <td>[浴, 兰, 袭, 祉, 良, 辰, 启, 握, 纪, 无, 为, 圣, 道, 尊, 舄, ...</td>\n",
       "      <td>浴兰袭祉良辰启握纪无为圣道尊舄奕嘉祥充九禁冲融和气徧干门</td>\n",
       "    </tr>\n",
       "  </tbody>\n",
       "</table>\n",
       "</div>\n",
       "      <button class=\"colab-df-convert\" onclick=\"convertToInteractive('df-6535ad6a-9201-4ef4-8963-47185cc0f242')\"\n",
       "              title=\"Convert this dataframe to an interactive table.\"\n",
       "              style=\"display:none;\">\n",
       "        \n",
       "  <svg xmlns=\"http://www.w3.org/2000/svg\" height=\"24px\"viewBox=\"0 0 24 24\"\n",
       "       width=\"24px\">\n",
       "    <path d=\"M0 0h24v24H0V0z\" fill=\"none\"/>\n",
       "    <path d=\"M18.56 5.44l.94 2.06.94-2.06 2.06-.94-2.06-.94-.94-2.06-.94 2.06-2.06.94zm-11 1L8.5 8.5l.94-2.06 2.06-.94-2.06-.94L8.5 2.5l-.94 2.06-2.06.94zm10 10l.94 2.06.94-2.06 2.06-.94-2.06-.94-.94-2.06-.94 2.06-2.06.94z\"/><path d=\"M17.41 7.96l-1.37-1.37c-.4-.4-.92-.59-1.43-.59-.52 0-1.04.2-1.43.59L10.3 9.45l-7.72 7.72c-.78.78-.78 2.05 0 2.83L4 21.41c.39.39.9.59 1.41.59.51 0 1.02-.2 1.41-.59l7.78-7.78 2.81-2.81c.8-.78.8-2.07 0-2.86zM5.41 20L4 18.59l7.72-7.72 1.47 1.35L5.41 20z\"/>\n",
       "  </svg>\n",
       "      </button>\n",
       "      \n",
       "  <style>\n",
       "    .colab-df-container {\n",
       "      display:flex;\n",
       "      flex-wrap:wrap;\n",
       "      gap: 12px;\n",
       "    }\n",
       "\n",
       "    .colab-df-convert {\n",
       "      background-color: #E8F0FE;\n",
       "      border: none;\n",
       "      border-radius: 50%;\n",
       "      cursor: pointer;\n",
       "      display: none;\n",
       "      fill: #1967D2;\n",
       "      height: 32px;\n",
       "      padding: 0 0 0 0;\n",
       "      width: 32px;\n",
       "    }\n",
       "\n",
       "    .colab-df-convert:hover {\n",
       "      background-color: #E2EBFA;\n",
       "      box-shadow: 0px 1px 2px rgba(60, 64, 67, 0.3), 0px 1px 3px 1px rgba(60, 64, 67, 0.15);\n",
       "      fill: #174EA6;\n",
       "    }\n",
       "\n",
       "    [theme=dark] .colab-df-convert {\n",
       "      background-color: #3B4455;\n",
       "      fill: #D2E3FC;\n",
       "    }\n",
       "\n",
       "    [theme=dark] .colab-df-convert:hover {\n",
       "      background-color: #434B5C;\n",
       "      box-shadow: 0px 1px 3px 1px rgba(0, 0, 0, 0.15);\n",
       "      filter: drop-shadow(0px 1px 2px rgba(0, 0, 0, 0.3));\n",
       "      fill: #FFFFFF;\n",
       "    }\n",
       "  </style>\n",
       "\n",
       "      <script>\n",
       "        const buttonEl =\n",
       "          document.querySelector('#df-6535ad6a-9201-4ef4-8963-47185cc0f242 button.colab-df-convert');\n",
       "        buttonEl.style.display =\n",
       "          google.colab.kernel.accessAllowed ? 'block' : 'none';\n",
       "\n",
       "        async function convertToInteractive(key) {\n",
       "          const element = document.querySelector('#df-6535ad6a-9201-4ef4-8963-47185cc0f242');\n",
       "          const dataTable =\n",
       "            await google.colab.kernel.invokeFunction('convertToInteractive',\n",
       "                                                     [key], {});\n",
       "          if (!dataTable) return;\n",
       "\n",
       "          const docLinkHtml = 'Like what you see? Visit the ' +\n",
       "            '<a target=\"_blank\" href=https://colab.research.google.com/notebooks/data_table.ipynb>data table notebook</a>'\n",
       "            + ' to learn more about interactive tables.';\n",
       "          element.innerHTML = '';\n",
       "          dataTable['output_type'] = 'display_data';\n",
       "          await google.colab.output.renderOutput(dataTable, element);\n",
       "          const docLink = document.createElement('div');\n",
       "          docLink.innerHTML = docLinkHtml;\n",
       "          element.appendChild(docLink);\n",
       "        }\n",
       "      </script>\n",
       "    </div>\n",
       "  </div>\n",
       "  "
      ],
      "text/plain": [
       "  poet                          poem dynasty sentiments   title  \\\n",
       "0  元好问  燕语莺啼百啭新长廊寂寂不逢人东君去作谁家客花柳无情各自春       元          0    杂著二首   \n",
       "1   夏竦  浴兰袭祉良辰启握纪无为圣道尊舄奕嘉祥充九禁冲融和气徧干门       宋          2  御阁端午帖子   \n",
       "\n",
       "                                              tokens  \\\n",
       "0  [燕, 语, 莺, 啼, 百, 啭, 新, 长, 廊, 寂, 寂, 不, 逢, 人, 东, ...   \n",
       "1  [浴, 兰, 袭, 祉, 良, 辰, 启, 握, 纪, 无, 为, 圣, 道, 尊, 舄, ...   \n",
       "\n",
       "                   final_tokens  \n",
       "0  燕语莺啼百啭新长廊寂寂不逢人东君去作谁家客花柳无情各自春  \n",
       "1  浴兰袭祉良辰启握纪无为圣道尊舄奕嘉祥充九禁冲融和气徧干门  "
      ]
     },
     "execution_count": 16,
     "metadata": {},
     "output_type": "execute_result"
    }
   ],
   "source": [
    "senti_all['final_tokens'] = [''.join(map(str, l)) for l in senti_all['tokens']] #''사이를 붙임.\n",
    "senti_all.head(2)"
   ]
  },
  {
   "cell_type": "code",
   "execution_count": 17,
   "metadata": {
    "colab": {
     "base_uri": "https://localhost:8080/",
     "height": 291
    },
    "execution": {
     "iopub.execute_input": "2022-01-12T03:36:49.305433Z",
     "iopub.status.busy": "2022-01-12T03:36:49.305082Z",
     "iopub.status.idle": "2022-01-12T03:36:49.324805Z",
     "shell.execute_reply": "2022-01-12T03:36:49.323871Z",
     "shell.execute_reply.started": "2022-01-12T03:36:49.305399Z"
    },
    "id": "2apFBMMoZNyZ",
    "outputId": "d28a8347-0940-4e31-fdcf-7af9d7de35f3"
   },
   "outputs": [
    {
     "data": {
      "text/html": [
       "\n",
       "  <div id=\"df-0c4a6937-be49-4181-b5f5-d35540155351\">\n",
       "    <div class=\"colab-df-container\">\n",
       "      <div>\n",
       "<style scoped>\n",
       "    .dataframe tbody tr th:only-of-type {\n",
       "        vertical-align: middle;\n",
       "    }\n",
       "\n",
       "    .dataframe tbody tr th {\n",
       "        vertical-align: top;\n",
       "    }\n",
       "\n",
       "    .dataframe thead th {\n",
       "        text-align: right;\n",
       "    }\n",
       "</style>\n",
       "<table border=\"1\" class=\"dataframe\">\n",
       "  <thead>\n",
       "    <tr style=\"text-align: right;\">\n",
       "      <th></th>\n",
       "      <th>poet</th>\n",
       "      <th>poem</th>\n",
       "      <th>dynasty</th>\n",
       "      <th>sentiments</th>\n",
       "      <th>title</th>\n",
       "      <th>tokens</th>\n",
       "      <th>final_tokens</th>\n",
       "      <th>Length</th>\n",
       "    </tr>\n",
       "  </thead>\n",
       "  <tbody>\n",
       "    <tr>\n",
       "      <th>0</th>\n",
       "      <td>元好问</td>\n",
       "      <td>燕语莺啼百啭新长廊寂寂不逢人东君去作谁家客花柳无情各自春</td>\n",
       "      <td>元</td>\n",
       "      <td>0</td>\n",
       "      <td>杂著二首</td>\n",
       "      <td>[燕, 语, 莺, 啼, 百, 啭, 新, 长, 廊, 寂, 寂, 不, 逢, 人, 东, ...</td>\n",
       "      <td>燕语莺啼百啭新长廊寂寂不逢人东君去作谁家客花柳无情各自春</td>\n",
       "      <td>28</td>\n",
       "    </tr>\n",
       "    <tr>\n",
       "      <th>1</th>\n",
       "      <td>夏竦</td>\n",
       "      <td>浴兰袭祉良辰启握纪无为圣道尊舄奕嘉祥充九禁冲融和气徧干门</td>\n",
       "      <td>宋</td>\n",
       "      <td>2</td>\n",
       "      <td>御阁端午帖子</td>\n",
       "      <td>[浴, 兰, 袭, 祉, 良, 辰, 启, 握, 纪, 无, 为, 圣, 道, 尊, 舄, ...</td>\n",
       "      <td>浴兰袭祉良辰启握纪无为圣道尊舄奕嘉祥充九禁冲融和气徧干门</td>\n",
       "      <td>28</td>\n",
       "    </tr>\n",
       "    <tr>\n",
       "      <th>2</th>\n",
       "      <td>司马光</td>\n",
       "      <td>灵台无事日休休安乐由来不外求细雨寒风宜独坐暖天佳景即闲游</td>\n",
       "      <td>宋</td>\n",
       "      <td>2</td>\n",
       "      <td>和邵尧夫安乐窝中职事吟</td>\n",
       "      <td>[灵, 台, 无, 事, 日, 休, 休, 安, 乐, 由, 来, 不, 外, 求, 细, ...</td>\n",
       "      <td>灵台无事日休休安乐由来不外求细雨寒风宜独坐暖天佳景即闲游</td>\n",
       "      <td>28</td>\n",
       "    </tr>\n",
       "  </tbody>\n",
       "</table>\n",
       "</div>\n",
       "      <button class=\"colab-df-convert\" onclick=\"convertToInteractive('df-0c4a6937-be49-4181-b5f5-d35540155351')\"\n",
       "              title=\"Convert this dataframe to an interactive table.\"\n",
       "              style=\"display:none;\">\n",
       "        \n",
       "  <svg xmlns=\"http://www.w3.org/2000/svg\" height=\"24px\"viewBox=\"0 0 24 24\"\n",
       "       width=\"24px\">\n",
       "    <path d=\"M0 0h24v24H0V0z\" fill=\"none\"/>\n",
       "    <path d=\"M18.56 5.44l.94 2.06.94-2.06 2.06-.94-2.06-.94-.94-2.06-.94 2.06-2.06.94zm-11 1L8.5 8.5l.94-2.06 2.06-.94-2.06-.94L8.5 2.5l-.94 2.06-2.06.94zm10 10l.94 2.06.94-2.06 2.06-.94-2.06-.94-.94-2.06-.94 2.06-2.06.94z\"/><path d=\"M17.41 7.96l-1.37-1.37c-.4-.4-.92-.59-1.43-.59-.52 0-1.04.2-1.43.59L10.3 9.45l-7.72 7.72c-.78.78-.78 2.05 0 2.83L4 21.41c.39.39.9.59 1.41.59.51 0 1.02-.2 1.41-.59l7.78-7.78 2.81-2.81c.8-.78.8-2.07 0-2.86zM5.41 20L4 18.59l7.72-7.72 1.47 1.35L5.41 20z\"/>\n",
       "  </svg>\n",
       "      </button>\n",
       "      \n",
       "  <style>\n",
       "    .colab-df-container {\n",
       "      display:flex;\n",
       "      flex-wrap:wrap;\n",
       "      gap: 12px;\n",
       "    }\n",
       "\n",
       "    .colab-df-convert {\n",
       "      background-color: #E8F0FE;\n",
       "      border: none;\n",
       "      border-radius: 50%;\n",
       "      cursor: pointer;\n",
       "      display: none;\n",
       "      fill: #1967D2;\n",
       "      height: 32px;\n",
       "      padding: 0 0 0 0;\n",
       "      width: 32px;\n",
       "    }\n",
       "\n",
       "    .colab-df-convert:hover {\n",
       "      background-color: #E2EBFA;\n",
       "      box-shadow: 0px 1px 2px rgba(60, 64, 67, 0.3), 0px 1px 3px 1px rgba(60, 64, 67, 0.15);\n",
       "      fill: #174EA6;\n",
       "    }\n",
       "\n",
       "    [theme=dark] .colab-df-convert {\n",
       "      background-color: #3B4455;\n",
       "      fill: #D2E3FC;\n",
       "    }\n",
       "\n",
       "    [theme=dark] .colab-df-convert:hover {\n",
       "      background-color: #434B5C;\n",
       "      box-shadow: 0px 1px 3px 1px rgba(0, 0, 0, 0.15);\n",
       "      filter: drop-shadow(0px 1px 2px rgba(0, 0, 0, 0.3));\n",
       "      fill: #FFFFFF;\n",
       "    }\n",
       "  </style>\n",
       "\n",
       "      <script>\n",
       "        const buttonEl =\n",
       "          document.querySelector('#df-0c4a6937-be49-4181-b5f5-d35540155351 button.colab-df-convert');\n",
       "        buttonEl.style.display =\n",
       "          google.colab.kernel.accessAllowed ? 'block' : 'none';\n",
       "\n",
       "        async function convertToInteractive(key) {\n",
       "          const element = document.querySelector('#df-0c4a6937-be49-4181-b5f5-d35540155351');\n",
       "          const dataTable =\n",
       "            await google.colab.kernel.invokeFunction('convertToInteractive',\n",
       "                                                     [key], {});\n",
       "          if (!dataTable) return;\n",
       "\n",
       "          const docLinkHtml = 'Like what you see? Visit the ' +\n",
       "            '<a target=\"_blank\" href=https://colab.research.google.com/notebooks/data_table.ipynb>data table notebook</a>'\n",
       "            + ' to learn more about interactive tables.';\n",
       "          element.innerHTML = '';\n",
       "          dataTable['output_type'] = 'display_data';\n",
       "          await google.colab.output.renderOutput(dataTable, element);\n",
       "          const docLink = document.createElement('div');\n",
       "          docLink.innerHTML = docLinkHtml;\n",
       "          element.appendChild(docLink);\n",
       "        }\n",
       "      </script>\n",
       "    </div>\n",
       "  </div>\n",
       "  "
      ],
      "text/plain": [
       "  poet                          poem dynasty sentiments        title  \\\n",
       "0  元好问  燕语莺啼百啭新长廊寂寂不逢人东君去作谁家客花柳无情各自春       元          0         杂著二首   \n",
       "1   夏竦  浴兰袭祉良辰启握纪无为圣道尊舄奕嘉祥充九禁冲融和气徧干门       宋          2       御阁端午帖子   \n",
       "2  司马光  灵台无事日休休安乐由来不外求细雨寒风宜独坐暖天佳景即闲游       宋          2  和邵尧夫安乐窝中职事吟   \n",
       "\n",
       "                                              tokens  \\\n",
       "0  [燕, 语, 莺, 啼, 百, 啭, 新, 长, 廊, 寂, 寂, 不, 逢, 人, 东, ...   \n",
       "1  [浴, 兰, 袭, 祉, 良, 辰, 启, 握, 纪, 无, 为, 圣, 道, 尊, 舄, ...   \n",
       "2  [灵, 台, 无, 事, 日, 休, 休, 安, 乐, 由, 来, 不, 外, 求, 细, ...   \n",
       "\n",
       "                   final_tokens  Length  \n",
       "0  燕语莺啼百啭新长廊寂寂不逢人东君去作谁家客花柳无情各自春      28  \n",
       "1  浴兰袭祉良辰启握纪无为圣道尊舄奕嘉祥充九禁冲融和气徧干门      28  \n",
       "2  灵台无事日休休安乐由来不外求细雨寒风宜独坐暖天佳景即闲游      28  "
      ]
     },
     "execution_count": 17,
     "metadata": {},
     "output_type": "execute_result"
    }
   ],
   "source": [
    "senti_all[\"Length\"]=senti_all[\"poem\"].apply(len)\n",
    "senti_all.head(3)"
   ]
  },
  {
   "cell_type": "code",
   "execution_count": 18,
   "metadata": {
    "colab": {
     "base_uri": "https://localhost:8080/",
     "height": 225
    },
    "execution": {
     "iopub.execute_input": "2022-01-12T03:36:49.326779Z",
     "iopub.status.busy": "2022-01-12T03:36:49.326265Z",
     "iopub.status.idle": "2022-01-12T03:36:49.340121Z",
     "shell.execute_reply": "2022-01-12T03:36:49.339323Z",
     "shell.execute_reply.started": "2022-01-12T03:36:49.326735Z"
    },
    "id": "NHxQ7B7sZNyZ",
    "outputId": "40846931-3481-4c3c-a6a7-0d48ada9271a"
   },
   "outputs": [
    {
     "data": {
      "text/html": [
       "\n",
       "  <div id=\"df-fd378c33-4706-447f-852b-0f738da92037\">\n",
       "    <div class=\"colab-df-container\">\n",
       "      <div>\n",
       "<style scoped>\n",
       "    .dataframe tbody tr th:only-of-type {\n",
       "        vertical-align: middle;\n",
       "    }\n",
       "\n",
       "    .dataframe tbody tr th {\n",
       "        vertical-align: top;\n",
       "    }\n",
       "\n",
       "    .dataframe thead th {\n",
       "        text-align: right;\n",
       "    }\n",
       "</style>\n",
       "<table border=\"1\" class=\"dataframe\">\n",
       "  <thead>\n",
       "    <tr style=\"text-align: right;\">\n",
       "      <th></th>\n",
       "      <th>poet</th>\n",
       "      <th>poem</th>\n",
       "      <th>dynasty</th>\n",
       "      <th>sentiments</th>\n",
       "      <th>title</th>\n",
       "      <th>tokens</th>\n",
       "      <th>final_tokens</th>\n",
       "      <th>Length</th>\n",
       "    </tr>\n",
       "  </thead>\n",
       "  <tbody>\n",
       "    <tr>\n",
       "      <th>0</th>\n",
       "      <td>元好问</td>\n",
       "      <td>燕语莺啼百啭新长廊寂寂不逢人东君去作谁家客花柳无情各自春</td>\n",
       "      <td>元</td>\n",
       "      <td>0</td>\n",
       "      <td>杂著二首</td>\n",
       "      <td>[燕, 语, 莺, 啼, 百, 啭, 新, 长, 廊, 寂, 寂, 不, 逢, 人, 东, ...</td>\n",
       "      <td>燕语莺啼百啭新长廊寂寂不逢人东君去作谁家客花柳无情各自春</td>\n",
       "      <td>28</td>\n",
       "    </tr>\n",
       "    <tr>\n",
       "      <th>1</th>\n",
       "      <td>夏竦</td>\n",
       "      <td>浴兰袭祉良辰启握纪无为圣道尊舄奕嘉祥充九禁冲融和气徧干门</td>\n",
       "      <td>宋</td>\n",
       "      <td>2</td>\n",
       "      <td>御阁端午帖子</td>\n",
       "      <td>[浴, 兰, 袭, 祉, 良, 辰, 启, 握, 纪, 无, 为, 圣, 道, 尊, 舄, ...</td>\n",
       "      <td>浴兰袭祉良辰启握纪无为圣道尊舄奕嘉祥充九禁冲融和气徧干门</td>\n",
       "      <td>28</td>\n",
       "    </tr>\n",
       "  </tbody>\n",
       "</table>\n",
       "</div>\n",
       "      <button class=\"colab-df-convert\" onclick=\"convertToInteractive('df-fd378c33-4706-447f-852b-0f738da92037')\"\n",
       "              title=\"Convert this dataframe to an interactive table.\"\n",
       "              style=\"display:none;\">\n",
       "        \n",
       "  <svg xmlns=\"http://www.w3.org/2000/svg\" height=\"24px\"viewBox=\"0 0 24 24\"\n",
       "       width=\"24px\">\n",
       "    <path d=\"M0 0h24v24H0V0z\" fill=\"none\"/>\n",
       "    <path d=\"M18.56 5.44l.94 2.06.94-2.06 2.06-.94-2.06-.94-.94-2.06-.94 2.06-2.06.94zm-11 1L8.5 8.5l.94-2.06 2.06-.94-2.06-.94L8.5 2.5l-.94 2.06-2.06.94zm10 10l.94 2.06.94-2.06 2.06-.94-2.06-.94-.94-2.06-.94 2.06-2.06.94z\"/><path d=\"M17.41 7.96l-1.37-1.37c-.4-.4-.92-.59-1.43-.59-.52 0-1.04.2-1.43.59L10.3 9.45l-7.72 7.72c-.78.78-.78 2.05 0 2.83L4 21.41c.39.39.9.59 1.41.59.51 0 1.02-.2 1.41-.59l7.78-7.78 2.81-2.81c.8-.78.8-2.07 0-2.86zM5.41 20L4 18.59l7.72-7.72 1.47 1.35L5.41 20z\"/>\n",
       "  </svg>\n",
       "      </button>\n",
       "      \n",
       "  <style>\n",
       "    .colab-df-container {\n",
       "      display:flex;\n",
       "      flex-wrap:wrap;\n",
       "      gap: 12px;\n",
       "    }\n",
       "\n",
       "    .colab-df-convert {\n",
       "      background-color: #E8F0FE;\n",
       "      border: none;\n",
       "      border-radius: 50%;\n",
       "      cursor: pointer;\n",
       "      display: none;\n",
       "      fill: #1967D2;\n",
       "      height: 32px;\n",
       "      padding: 0 0 0 0;\n",
       "      width: 32px;\n",
       "    }\n",
       "\n",
       "    .colab-df-convert:hover {\n",
       "      background-color: #E2EBFA;\n",
       "      box-shadow: 0px 1px 2px rgba(60, 64, 67, 0.3), 0px 1px 3px 1px rgba(60, 64, 67, 0.15);\n",
       "      fill: #174EA6;\n",
       "    }\n",
       "\n",
       "    [theme=dark] .colab-df-convert {\n",
       "      background-color: #3B4455;\n",
       "      fill: #D2E3FC;\n",
       "    }\n",
       "\n",
       "    [theme=dark] .colab-df-convert:hover {\n",
       "      background-color: #434B5C;\n",
       "      box-shadow: 0px 1px 3px 1px rgba(0, 0, 0, 0.15);\n",
       "      filter: drop-shadow(0px 1px 2px rgba(0, 0, 0, 0.3));\n",
       "      fill: #FFFFFF;\n",
       "    }\n",
       "  </style>\n",
       "\n",
       "      <script>\n",
       "        const buttonEl =\n",
       "          document.querySelector('#df-fd378c33-4706-447f-852b-0f738da92037 button.colab-df-convert');\n",
       "        buttonEl.style.display =\n",
       "          google.colab.kernel.accessAllowed ? 'block' : 'none';\n",
       "\n",
       "        async function convertToInteractive(key) {\n",
       "          const element = document.querySelector('#df-fd378c33-4706-447f-852b-0f738da92037');\n",
       "          const dataTable =\n",
       "            await google.colab.kernel.invokeFunction('convertToInteractive',\n",
       "                                                     [key], {});\n",
       "          if (!dataTable) return;\n",
       "\n",
       "          const docLinkHtml = 'Like what you see? Visit the ' +\n",
       "            '<a target=\"_blank\" href=https://colab.research.google.com/notebooks/data_table.ipynb>data table notebook</a>'\n",
       "            + ' to learn more about interactive tables.';\n",
       "          element.innerHTML = '';\n",
       "          dataTable['output_type'] = 'display_data';\n",
       "          await google.colab.output.renderOutput(dataTable, element);\n",
       "          const docLink = document.createElement('div');\n",
       "          docLink.innerHTML = docLinkHtml;\n",
       "          element.appendChild(docLink);\n",
       "        }\n",
       "      </script>\n",
       "    </div>\n",
       "  </div>\n",
       "  "
      ],
      "text/plain": [
       "  poet                          poem dynasty sentiments   title  \\\n",
       "0  元好问  燕语莺啼百啭新长廊寂寂不逢人东君去作谁家客花柳无情各自春       元          0    杂著二首   \n",
       "1   夏竦  浴兰袭祉良辰启握纪无为圣道尊舄奕嘉祥充九禁冲融和气徧干门       宋          2  御阁端午帖子   \n",
       "\n",
       "                                              tokens  \\\n",
       "0  [燕, 语, 莺, 啼, 百, 啭, 新, 长, 廊, 寂, 寂, 不, 逢, 人, 东, ...   \n",
       "1  [浴, 兰, 袭, 祉, 良, 辰, 启, 握, 纪, 无, 为, 圣, 道, 尊, 舄, ...   \n",
       "\n",
       "                   final_tokens  Length  \n",
       "0  燕语莺啼百啭新长廊寂寂不逢人东君去作谁家客花柳无情各自春      28  \n",
       "1  浴兰袭祉良辰启握纪无为圣道尊舄奕嘉祥充九禁冲融和气徧干门      28  "
      ]
     },
     "execution_count": 18,
     "metadata": {},
     "output_type": "execute_result"
    }
   ],
   "source": [
    "df = senti_all\n",
    "df.head(2)"
   ]
  },
  {
   "cell_type": "code",
   "execution_count": 19,
   "metadata": {
    "execution": {
     "iopub.execute_input": "2022-01-12T03:36:49.342092Z",
     "iopub.status.busy": "2022-01-12T03:36:49.341549Z",
     "iopub.status.idle": "2022-01-12T03:36:49.352401Z",
     "shell.execute_reply": "2022-01-12T03:36:49.351498Z",
     "shell.execute_reply.started": "2022-01-12T03:36:49.342055Z"
    },
    "id": "Ke9hjuPmZNyZ"
   },
   "outputs": [],
   "source": [
    "df = df.astype({'sentiments': 'int'})"
   ]
  },
  {
   "cell_type": "code",
   "execution_count": 20,
   "metadata": {
    "execution": {
     "iopub.execute_input": "2022-01-12T03:36:49.355212Z",
     "iopub.status.busy": "2022-01-12T03:36:49.354974Z",
     "iopub.status.idle": "2022-01-12T03:36:54.042532Z",
     "shell.execute_reply": "2022-01-12T03:36:54.041636Z",
     "shell.execute_reply.started": "2022-01-12T03:36:49.355189Z"
    },
    "id": "TXZrIkfrZNyZ"
   },
   "outputs": [],
   "source": [
    "BATCH_SIZE = 16\n",
    "model_name = \"hfl/chinese-roberta-wwm-ext\"\n",
    "tokenizer = AutoTokenizer.from_pretrained(model_name)"
   ]
  },
  {
   "cell_type": "code",
   "execution_count": 21,
   "metadata": {
    "execution": {
     "iopub.execute_input": "2022-01-12T03:36:54.044150Z",
     "iopub.status.busy": "2022-01-12T03:36:54.043816Z",
     "iopub.status.idle": "2022-01-12T03:36:54.047548Z",
     "shell.execute_reply": "2022-01-12T03:36:54.046712Z",
     "shell.execute_reply.started": "2022-01-12T03:36:54.044114Z"
    },
    "id": "huuDw8x1ZNya"
   },
   "outputs": [],
   "source": [
    "sample_txt = '吾爱吾庐事事幽，此生随分得优 游穷冬夜话蒲团。暖长夏朝眠竹簟秋.'"
   ]
  },
  {
   "cell_type": "code",
   "execution_count": 22,
   "metadata": {
    "colab": {
     "base_uri": "https://localhost:8080/"
    },
    "execution": {
     "iopub.execute_input": "2022-01-12T03:36:54.049410Z",
     "iopub.status.busy": "2022-01-12T03:36:54.048910Z",
     "iopub.status.idle": "2022-01-12T03:36:54.062081Z",
     "shell.execute_reply": "2022-01-12T03:36:54.061004Z",
     "shell.execute_reply.started": "2022-01-12T03:36:54.049373Z"
    },
    "id": "bUa2k4UVZNya",
    "outputId": "930ab917-2bf2-4ad6-e70a-3702c4a9366f"
   },
   "outputs": [
    {
     "name": "stdout",
     "output_type": "stream",
     "text": [
      " Sentence: 吾爱吾庐事事幽，此生随分得优 游穷冬夜话蒲团。暖长夏朝眠竹簟秋.\n",
      "   Tokens: ['吾', '爱', '吾', '庐', '事', '事', '幽', '，', '此', '生', '随', '分', '得', '优', '游', '穷', '冬', '夜', '话', '蒲', '团', '。', '暖', '长', '夏', '朝', '眠', '竹', '[UNK]', '秋', '.']\n",
      "Token IDs: [1434, 4263, 1434, 2416, 752, 752, 2406, 8024, 3634, 4495, 7390, 1146, 2533, 831, 3952, 4956, 1100, 1915, 6413, 5891, 1730, 511, 3265, 7270, 1909, 3308, 4697, 5001, 100, 4904, 119]\n"
     ]
    }
   ],
   "source": [
    "tokens = tokenizer.tokenize(sample_txt)\n",
    "token_ids = tokenizer.convert_tokens_to_ids(tokens)\n",
    "print(f' Sentence: {sample_txt}')\n",
    "print(f'   Tokens: {tokens}')\n",
    "print(f'Token IDs: {token_ids}')"
   ]
  },
  {
   "cell_type": "code",
   "execution_count": 23,
   "metadata": {
    "colab": {
     "base_uri": "https://localhost:8080/"
    },
    "execution": {
     "iopub.execute_input": "2022-01-12T03:36:54.064207Z",
     "iopub.status.busy": "2022-01-12T03:36:54.063557Z",
     "iopub.status.idle": "2022-01-12T03:36:54.073465Z",
     "shell.execute_reply": "2022-01-12T03:36:54.072529Z",
     "shell.execute_reply.started": "2022-01-12T03:36:54.064170Z"
    },
    "id": "_OrRlgFUZNya",
    "outputId": "94c2fe77-ae45-46bd-cb01-cbcbe0d3b6bb"
   },
   "outputs": [
    {
     "data": {
      "text/plain": [
       "('[SEP]', 102)"
      ]
     },
     "execution_count": 23,
     "metadata": {},
     "output_type": "execute_result"
    }
   ],
   "source": [
    "tokenizer.sep_token, tokenizer.sep_token_id   # 토큰 번호 확인 "
   ]
  },
  {
   "cell_type": "code",
   "execution_count": 24,
   "metadata": {
    "colab": {
     "base_uri": "https://localhost:8080/"
    },
    "execution": {
     "iopub.execute_input": "2022-01-12T03:36:54.075494Z",
     "iopub.status.busy": "2022-01-12T03:36:54.074845Z",
     "iopub.status.idle": "2022-01-12T03:36:54.082498Z",
     "shell.execute_reply": "2022-01-12T03:36:54.081576Z",
     "shell.execute_reply.started": "2022-01-12T03:36:54.075457Z"
    },
    "id": "7on0C4bXZNya",
    "outputId": "0c158afe-0fe5-4885-84fe-7158c61686a0"
   },
   "outputs": [
    {
     "data": {
      "text/plain": [
       "('[CLS]', 101)"
      ]
     },
     "execution_count": 24,
     "metadata": {},
     "output_type": "execute_result"
    }
   ],
   "source": [
    "tokenizer.cls_token, tokenizer.cls_token_id"
   ]
  },
  {
   "cell_type": "code",
   "execution_count": 25,
   "metadata": {
    "colab": {
     "base_uri": "https://localhost:8080/"
    },
    "execution": {
     "iopub.execute_input": "2022-01-12T03:36:54.084493Z",
     "iopub.status.busy": "2022-01-12T03:36:54.084165Z",
     "iopub.status.idle": "2022-01-12T03:36:54.091434Z",
     "shell.execute_reply": "2022-01-12T03:36:54.090110Z",
     "shell.execute_reply.started": "2022-01-12T03:36:54.084468Z"
    },
    "id": "t4UPUmIRZNya",
    "outputId": "144cdad1-3786-41b9-ffbd-dd7d5fab3912"
   },
   "outputs": [
    {
     "data": {
      "text/plain": [
       "('[PAD]', 0)"
      ]
     },
     "execution_count": 25,
     "metadata": {},
     "output_type": "execute_result"
    }
   ],
   "source": [
    "tokenizer.pad_token, tokenizer.pad_token_id"
   ]
  },
  {
   "cell_type": "code",
   "execution_count": 26,
   "metadata": {
    "colab": {
     "base_uri": "https://localhost:8080/"
    },
    "execution": {
     "iopub.execute_input": "2022-01-12T03:36:54.093145Z",
     "iopub.status.busy": "2022-01-12T03:36:54.092774Z",
     "iopub.status.idle": "2022-01-12T03:36:54.100431Z",
     "shell.execute_reply": "2022-01-12T03:36:54.099356Z",
     "shell.execute_reply.started": "2022-01-12T03:36:54.093108Z"
    },
    "id": "7992AW1UZNyb",
    "outputId": "130db73b-b668-4739-cd54-69d0a648e2c1"
   },
   "outputs": [
    {
     "data": {
      "text/plain": [
       "('[UNK]', 100)"
      ]
     },
     "execution_count": 26,
     "metadata": {},
     "output_type": "execute_result"
    }
   ],
   "source": [
    "tokenizer.unk_token, tokenizer.unk_token_id"
   ]
  },
  {
   "cell_type": "code",
   "execution_count": 27,
   "metadata": {
    "colab": {
     "base_uri": "https://localhost:8080/"
    },
    "execution": {
     "iopub.execute_input": "2022-01-12T03:36:54.102491Z",
     "iopub.status.busy": "2022-01-12T03:36:54.101880Z",
     "iopub.status.idle": "2022-01-12T03:36:54.111682Z",
     "shell.execute_reply": "2022-01-12T03:36:54.110502Z",
     "shell.execute_reply.started": "2022-01-12T03:36:54.102454Z"
    },
    "id": "T0h1Uy5oZNyb",
    "outputId": "1ae0ef92-0d1f-49bc-9ab9-31cb4e9d0897"
   },
   "outputs": [
    {
     "data": {
      "text/plain": [
       "dict_keys(['input_ids', 'attention_mask'])"
      ]
     },
     "execution_count": 27,
     "metadata": {},
     "output_type": "execute_result"
    }
   ],
   "source": [
    "encoding = tokenizer.encode_plus(\n",
    "  sample_txt,\n",
    "  max_length=128,\n",
    "  truncation=True,\n",
    "  add_special_tokens=True, # Add '[CLS]' and '[SEP]'\n",
    "  return_token_type_ids=False,\n",
    "  pad_to_max_length=True,\n",
    "  return_attention_mask=True,\n",
    "  return_tensors='pt',  # Return PyTorch tensors\n",
    ")\n",
    "\n",
    "encoding.keys()"
   ]
  },
  {
   "cell_type": "code",
   "execution_count": 28,
   "metadata": {
    "colab": {
     "base_uri": "https://localhost:8080/"
    },
    "execution": {
     "iopub.execute_input": "2022-01-12T03:36:54.116620Z",
     "iopub.status.busy": "2022-01-12T03:36:54.116345Z",
     "iopub.status.idle": "2022-01-12T03:36:54.127955Z",
     "shell.execute_reply": "2022-01-12T03:36:54.127009Z",
     "shell.execute_reply.started": "2022-01-12T03:36:54.116596Z"
    },
    "id": "6vlPPX1HZNyb",
    "outputId": "3ce96509-b635-4df9-ccb8-4dbb79f7fa54"
   },
   "outputs": [
    {
     "name": "stdout",
     "output_type": "stream",
     "text": [
      "128\n"
     ]
    },
    {
     "data": {
      "text/plain": [
       "tensor([ 101, 1434, 4263, 1434, 2416,  752,  752, 2406, 8024, 3634, 4495, 7390,\n",
       "        1146, 2533,  831, 3952, 4956, 1100, 1915, 6413, 5891, 1730,  511, 3265,\n",
       "        7270, 1909, 3308, 4697, 5001,  100, 4904,  119,  102,    0,    0,    0,\n",
       "           0,    0,    0,    0,    0,    0,    0,    0,    0,    0,    0,    0,\n",
       "           0,    0,    0,    0,    0,    0,    0,    0,    0,    0,    0,    0,\n",
       "           0,    0,    0,    0,    0,    0,    0,    0,    0,    0,    0,    0,\n",
       "           0,    0,    0,    0,    0,    0,    0,    0,    0,    0,    0,    0,\n",
       "           0,    0,    0,    0,    0,    0,    0,    0,    0,    0,    0,    0,\n",
       "           0,    0,    0,    0,    0,    0,    0,    0,    0,    0,    0,    0,\n",
       "           0,    0,    0,    0,    0,    0,    0,    0,    0,    0,    0,    0,\n",
       "           0,    0,    0,    0,    0,    0,    0,    0])"
      ]
     },
     "execution_count": 28,
     "metadata": {},
     "output_type": "execute_result"
    }
   ],
   "source": [
    "print(len(encoding['input_ids'][0]))\n",
    "encoding['input_ids'][0]"
   ]
  },
  {
   "cell_type": "code",
   "execution_count": 29,
   "metadata": {
    "colab": {
     "base_uri": "https://localhost:8080/"
    },
    "execution": {
     "iopub.execute_input": "2022-01-12T03:36:54.130700Z",
     "iopub.status.busy": "2022-01-12T03:36:54.130070Z",
     "iopub.status.idle": "2022-01-12T03:36:54.140282Z",
     "shell.execute_reply": "2022-01-12T03:36:54.139413Z",
     "shell.execute_reply.started": "2022-01-12T03:36:54.130658Z"
    },
    "id": "QgZa5vPRZNyb",
    "outputId": "c880d11d-3d06-432f-ed01-4efcbe7fd579"
   },
   "outputs": [
    {
     "name": "stdout",
     "output_type": "stream",
     "text": [
      "128\n"
     ]
    },
    {
     "data": {
      "text/plain": [
       "tensor([[1, 1, 1, 1, 1, 1, 1, 1, 1, 1, 1, 1, 1, 1, 1, 1, 1, 1, 1, 1, 1, 1, 1, 1,\n",
       "         1, 1, 1, 1, 1, 1, 1, 1, 1, 0, 0, 0, 0, 0, 0, 0, 0, 0, 0, 0, 0, 0, 0, 0,\n",
       "         0, 0, 0, 0, 0, 0, 0, 0, 0, 0, 0, 0, 0, 0, 0, 0, 0, 0, 0, 0, 0, 0, 0, 0,\n",
       "         0, 0, 0, 0, 0, 0, 0, 0, 0, 0, 0, 0, 0, 0, 0, 0, 0, 0, 0, 0, 0, 0, 0, 0,\n",
       "         0, 0, 0, 0, 0, 0, 0, 0, 0, 0, 0, 0, 0, 0, 0, 0, 0, 0, 0, 0, 0, 0, 0, 0,\n",
       "         0, 0, 0, 0, 0, 0, 0, 0]])"
      ]
     },
     "execution_count": 29,
     "metadata": {},
     "output_type": "execute_result"
    }
   ],
   "source": [
    "print(len(encoding['attention_mask'][0]))\n",
    "encoding['attention_mask']"
   ]
  },
  {
   "cell_type": "code",
   "execution_count": 30,
   "metadata": {
    "colab": {
     "base_uri": "https://localhost:8080/"
    },
    "execution": {
     "iopub.execute_input": "2022-01-12T03:36:54.141935Z",
     "iopub.status.busy": "2022-01-12T03:36:54.141453Z",
     "iopub.status.idle": "2022-01-12T03:36:54.154436Z",
     "shell.execute_reply": "2022-01-12T03:36:54.153554Z",
     "shell.execute_reply.started": "2022-01-12T03:36:54.141899Z"
    },
    "id": "C-oHu4MpZNyb",
    "outputId": "74a949a8-f9ec-4452-a2fb-f9deb19d175d"
   },
   "outputs": [
    {
     "data": {
      "text/plain": [
       "['[CLS]',\n",
       " '吾',\n",
       " '爱',\n",
       " '吾',\n",
       " '庐',\n",
       " '事',\n",
       " '事',\n",
       " '幽',\n",
       " '，',\n",
       " '此',\n",
       " '生',\n",
       " '随',\n",
       " '分',\n",
       " '得',\n",
       " '优',\n",
       " '游',\n",
       " '穷',\n",
       " '冬',\n",
       " '夜',\n",
       " '话',\n",
       " '蒲',\n",
       " '团',\n",
       " '。',\n",
       " '暖',\n",
       " '长',\n",
       " '夏',\n",
       " '朝',\n",
       " '眠',\n",
       " '竹',\n",
       " '[UNK]',\n",
       " '秋',\n",
       " '.',\n",
       " '[SEP]',\n",
       " '[PAD]',\n",
       " '[PAD]',\n",
       " '[PAD]',\n",
       " '[PAD]',\n",
       " '[PAD]',\n",
       " '[PAD]',\n",
       " '[PAD]',\n",
       " '[PAD]',\n",
       " '[PAD]',\n",
       " '[PAD]',\n",
       " '[PAD]',\n",
       " '[PAD]',\n",
       " '[PAD]',\n",
       " '[PAD]',\n",
       " '[PAD]',\n",
       " '[PAD]',\n",
       " '[PAD]',\n",
       " '[PAD]',\n",
       " '[PAD]',\n",
       " '[PAD]',\n",
       " '[PAD]',\n",
       " '[PAD]',\n",
       " '[PAD]',\n",
       " '[PAD]',\n",
       " '[PAD]',\n",
       " '[PAD]',\n",
       " '[PAD]',\n",
       " '[PAD]',\n",
       " '[PAD]',\n",
       " '[PAD]',\n",
       " '[PAD]',\n",
       " '[PAD]',\n",
       " '[PAD]',\n",
       " '[PAD]',\n",
       " '[PAD]',\n",
       " '[PAD]',\n",
       " '[PAD]',\n",
       " '[PAD]',\n",
       " '[PAD]',\n",
       " '[PAD]',\n",
       " '[PAD]',\n",
       " '[PAD]',\n",
       " '[PAD]',\n",
       " '[PAD]',\n",
       " '[PAD]',\n",
       " '[PAD]',\n",
       " '[PAD]',\n",
       " '[PAD]',\n",
       " '[PAD]',\n",
       " '[PAD]',\n",
       " '[PAD]',\n",
       " '[PAD]',\n",
       " '[PAD]',\n",
       " '[PAD]',\n",
       " '[PAD]',\n",
       " '[PAD]',\n",
       " '[PAD]',\n",
       " '[PAD]',\n",
       " '[PAD]',\n",
       " '[PAD]',\n",
       " '[PAD]',\n",
       " '[PAD]',\n",
       " '[PAD]',\n",
       " '[PAD]',\n",
       " '[PAD]',\n",
       " '[PAD]',\n",
       " '[PAD]',\n",
       " '[PAD]',\n",
       " '[PAD]',\n",
       " '[PAD]',\n",
       " '[PAD]',\n",
       " '[PAD]',\n",
       " '[PAD]',\n",
       " '[PAD]',\n",
       " '[PAD]',\n",
       " '[PAD]',\n",
       " '[PAD]',\n",
       " '[PAD]',\n",
       " '[PAD]',\n",
       " '[PAD]',\n",
       " '[PAD]',\n",
       " '[PAD]',\n",
       " '[PAD]',\n",
       " '[PAD]',\n",
       " '[PAD]',\n",
       " '[PAD]',\n",
       " '[PAD]',\n",
       " '[PAD]',\n",
       " '[PAD]',\n",
       " '[PAD]',\n",
       " '[PAD]',\n",
       " '[PAD]',\n",
       " '[PAD]',\n",
       " '[PAD]',\n",
       " '[PAD]']"
      ]
     },
     "execution_count": 30,
     "metadata": {},
     "output_type": "execute_result"
    }
   ],
   "source": [
    "tokenizer.convert_ids_to_tokens(encoding['input_ids'][0])"
   ]
  },
  {
   "cell_type": "code",
   "execution_count": 31,
   "metadata": {
    "colab": {
     "base_uri": "https://localhost:8080/"
    },
    "execution": {
     "iopub.execute_input": "2022-01-12T03:36:54.156086Z",
     "iopub.status.busy": "2022-01-12T03:36:54.155569Z",
     "iopub.status.idle": "2022-01-12T03:36:56.234612Z",
     "shell.execute_reply": "2022-01-12T03:36:56.233770Z",
     "shell.execute_reply.started": "2022-01-12T03:36:54.156050Z"
    },
    "id": "w-LS15WpZNyb",
    "outputId": "f607209a-3682-4a66-d7cf-2ebd15d3df99"
   },
   "outputs": [
    {
     "name": "stderr",
     "output_type": "stream",
     "text": [
      "Truncation was not explicitly activated but `max_length` is provided a specific value, please use `truncation=True` to explicitly truncate examples to max length. Defaulting to 'longest_first' truncation strategy. If you encode pairs of sequences (GLUE-style) with the tokenizer you can select this strategy more precisely by providing a specific strategy to `truncation`.\n"
     ]
    }
   ],
   "source": [
    "token_lens = []\n",
    "for txt in df.final_tokens:\n",
    "    tokens = tokenizer.encode(txt, max_length=128)\n",
    "    token_lens.append(len(tokens))"
   ]
  },
  {
   "cell_type": "code",
   "execution_count": 32,
   "metadata": {
    "colab": {
     "base_uri": "https://localhost:8080/",
     "height": 279
    },
    "execution": {
     "iopub.execute_input": "2022-01-12T03:36:56.236279Z",
     "iopub.status.busy": "2022-01-12T03:36:56.235879Z",
     "iopub.status.idle": "2022-01-12T03:36:56.408399Z",
     "shell.execute_reply": "2022-01-12T03:36:56.407594Z",
     "shell.execute_reply.started": "2022-01-12T03:36:56.236241Z"
    },
    "id": "9-Gy3lnPZNyb",
    "outputId": "cb91b13f-9415-46d7-fc51-f4a61a9e1e94"
   },
   "outputs": [
    {
     "data": {
      "image/png": "[encoded data removed]",
      "text/plain": [
       "<Figure size 432x288 with 1 Axes>"
      ]
     },
     "metadata": {
      "needs_background": "light"
     },
     "output_type": "display_data"
    }
   ],
   "source": [
    "sns.histplot(token_lens)\n",
    "plt.xlim([0, 40]);\n",
    "plt.xlabel('Token count')\n",
    "plt.show();"
   ]
  },
  {
   "cell_type": "code",
   "execution_count": 33,
   "metadata": {
    "id": "Z1BIKXVQpTLx"
   },
   "outputs": [],
   "source": [
    "import random\n",
    "torch.manual_seed(RANDOM_SEED)\n",
    "torch.cuda.manual_seed(RANDOM_SEED)\n",
    "torch.cuda.manual_seed_all(RANDOM_SEED) # if use multi-GPU\n",
    "torch.backends.cudnn.deterministic = True\n",
    "torch.backends.cudnn.benchmark = False\n",
    "np.random.seed(RANDOM_SEED)\n",
    "random.seed(RANDOM_SEED)"
   ]
  },
  {
   "cell_type": "code",
   "execution_count": 34,
   "metadata": {
    "execution": {
     "iopub.execute_input": "2022-01-12T03:36:56.410162Z",
     "iopub.status.busy": "2022-01-12T03:36:56.409706Z",
     "iopub.status.idle": "2022-01-12T03:36:56.414325Z",
     "shell.execute_reply": "2022-01-12T03:36:56.413304Z",
     "shell.execute_reply.started": "2022-01-12T03:36:56.410120Z"
    },
    "id": "1aI13Zr8ZNyb"
   },
   "outputs": [],
   "source": [
    "MAX_LEN = 128"
   ]
  },
  {
   "cell_type": "code",
   "execution_count": 35,
   "metadata": {
    "execution": {
     "iopub.execute_input": "2022-01-12T03:36:56.416295Z",
     "iopub.status.busy": "2022-01-12T03:36:56.415718Z",
     "iopub.status.idle": "2022-01-12T03:36:56.425366Z",
     "shell.execute_reply": "2022-01-12T03:36:56.424520Z",
     "shell.execute_reply.started": "2022-01-12T03:36:56.416259Z"
    },
    "id": "y5Fzrg3yZNyb"
   },
   "outputs": [],
   "source": [
    "class GPReviewDataset(Dataset):\n",
    "    \n",
    "    def __init__(self, review, target, tokenizer, max_len):\n",
    "        self.review = review\n",
    "        self.target = target\n",
    "        self.tokenizer = tokenizer\n",
    "        self.max_len = max_len\n",
    "        \n",
    "    def __len__(self):\n",
    "        return len(self.review)\n",
    "    \n",
    "    def __getitem__(self, item):\n",
    "        review = str(self.review[item])\n",
    "\n",
    "        encoding = self.tokenizer.encode_plus(\n",
    "            review,\n",
    "            add_special_tokens=True,\n",
    "            max_length=self.max_len,\n",
    "            truncation = True,\n",
    "            return_token_type_ids=False,\n",
    "            pad_to_max_length=True,\n",
    "            return_attention_mask=True,\n",
    "            return_tensors='pt',\n",
    "        )\n",
    "        return {\n",
    "          'review_text': review,\n",
    "          'input_ids': encoding['input_ids'].flatten(),\n",
    "          'attention_mask': encoding['attention_mask'].flatten(),\n",
    "          'targets': torch.tensor(self.target[item], dtype=torch.long)\n",
    "        }"
   ]
  },
  {
   "cell_type": "code",
   "execution_count": 36,
   "metadata": {
    "execution": {
     "iopub.execute_input": "2022-01-12T03:36:56.427004Z",
     "iopub.status.busy": "2022-01-12T03:36:56.426640Z",
     "iopub.status.idle": "2022-01-12T03:36:56.439968Z",
     "shell.execute_reply": "2022-01-12T03:36:56.439133Z",
     "shell.execute_reply.started": "2022-01-12T03:36:56.426967Z"
    },
    "id": "0l5OEzQsZNyc"
   },
   "outputs": [],
   "source": [
    "df_train, df_val = train_test_split(\n",
    "  df,\n",
    "  test_size=0.1,\n",
    "  random_state=RANDOM_SEED\n",
    ")"
   ]
  },
  {
   "cell_type": "code",
   "execution_count": 37,
   "metadata": {
    "colab": {
     "base_uri": "https://localhost:8080/"
    },
    "execution": {
     "iopub.execute_input": "2022-01-12T03:36:56.442079Z",
     "iopub.status.busy": "2022-01-12T03:36:56.441280Z",
     "iopub.status.idle": "2022-01-12T03:36:56.449246Z",
     "shell.execute_reply": "2022-01-12T03:36:56.448250Z",
     "shell.execute_reply.started": "2022-01-12T03:36:56.442037Z"
    },
    "id": "P3p2RZTgZNyc",
    "outputId": "efea3391-efc4-47e7-d340-a897eb655663"
   },
   "outputs": [
    {
     "data": {
      "text/plain": [
       "((4500, 8), (500, 8))"
      ]
     },
     "execution_count": 37,
     "metadata": {},
     "output_type": "execute_result"
    }
   ],
   "source": [
    "df_train.shape, df_val.shape,# df_test.shape"
   ]
  },
  {
   "cell_type": "code",
   "execution_count": 38,
   "metadata": {
    "execution": {
     "iopub.execute_input": "2022-01-12T03:36:56.451594Z",
     "iopub.status.busy": "2022-01-12T03:36:56.450970Z",
     "iopub.status.idle": "2022-01-12T03:36:56.457077Z",
     "shell.execute_reply": "2022-01-12T03:36:56.456286Z",
     "shell.execute_reply.started": "2022-01-12T03:36:56.451555Z"
    },
    "id": "qFyzXDqOZNyc"
   },
   "outputs": [],
   "source": [
    "def create_data_loader(df, tokenizer, max_len, batch_size):\n",
    "    ds = GPReviewDataset(\n",
    "      review=df.final_tokens.to_numpy(),\n",
    "      target=df.sentiments.to_numpy(),\n",
    "      tokenizer=tokenizer,\n",
    "      max_len=max_len\n",
    "    )\n",
    "    return DataLoader(\n",
    "      ds,\n",
    "      batch_size=batch_size,\n",
    "      num_workers=4\n",
    "    )"
   ]
  },
  {
   "cell_type": "code",
   "execution_count": 39,
   "metadata": {
    "colab": {
     "base_uri": "https://localhost:8080/"
    },
    "execution": {
     "iopub.execute_input": "2022-01-12T03:36:56.459294Z",
     "iopub.status.busy": "2022-01-12T03:36:56.458653Z",
     "iopub.status.idle": "2022-01-12T03:36:56.466195Z",
     "shell.execute_reply": "2022-01-12T03:36:56.465477Z",
     "shell.execute_reply.started": "2022-01-12T03:36:56.459257Z"
    },
    "id": "WuUYYtvcZNyc",
    "outputId": "846d5dd5-ba3e-47cf-9811-93faddb5638c"
   },
   "outputs": [
    {
     "name": "stderr",
     "output_type": "stream",
     "text": [
      "/usr/local/lib/python3.8/dist-packages/torch/utils/data/dataloader.py:554: UserWarning: This DataLoader will create 4 worker processes in total. Our suggested max number of worker in current system is 2, which is smaller than what this DataLoader is going to create. Please be aware that excessive worker creation might get DataLoader running slow or even freeze, lower the worker number to avoid potential slowness/freeze if necessary.\n",
      "  warnings.warn(_create_warning_msg(\n"
     ]
    }
   ],
   "source": [
    "BATCH_SIZE = BATCH_SIZE\n",
    "train_data_loader = create_data_loader(df_train, tokenizer, MAX_LEN, BATCH_SIZE)\n",
    "val_data_loader = create_data_loader(df_val, tokenizer, MAX_LEN, BATCH_SIZE)\n",
    "#test_data_loader = create_data_loader(df_test, tokenizer, MAX_LEN, BATCH_SIZE)"
   ]
  },
  {
   "cell_type": "code",
   "execution_count": 40,
   "metadata": {
    "colab": {
     "base_uri": "https://localhost:8080/"
    },
    "execution": {
     "iopub.execute_input": "2022-01-12T03:36:56.468123Z",
     "iopub.status.busy": "2022-01-12T03:36:56.467539Z",
     "iopub.status.idle": "2022-01-12T03:36:56.654414Z",
     "shell.execute_reply": "2022-01-12T03:36:56.653567Z",
     "shell.execute_reply.started": "2022-01-12T03:36:56.468030Z"
    },
    "id": "ph513XHJZNyc",
    "outputId": "f98af863-17b1-44ea-d465-9998f0d9759c"
   },
   "outputs": [
    {
     "data": {
      "text/plain": [
       "dict_keys(['review_text', 'input_ids', 'attention_mask', 'targets'])"
      ]
     },
     "execution_count": 40,
     "metadata": {},
     "output_type": "execute_result"
    }
   ],
   "source": [
    "data = next(iter(train_data_loader))\n",
    "data.keys()"
   ]
  },
  {
   "cell_type": "code",
   "execution_count": 41,
   "metadata": {
    "colab": {
     "base_uri": "https://localhost:8080/"
    },
    "execution": {
     "iopub.execute_input": "2022-01-12T03:36:56.656345Z",
     "iopub.status.busy": "2022-01-12T03:36:56.655969Z",
     "iopub.status.idle": "2022-01-12T03:36:56.662293Z",
     "shell.execute_reply": "2022-01-12T03:36:56.661296Z",
     "shell.execute_reply.started": "2022-01-12T03:36:56.656289Z"
    },
    "id": "kwLUeXsQZNyc",
    "outputId": "34ebf74a-e7cd-4abe-c4ef-df9cc3270f0e"
   },
   "outputs": [
    {
     "name": "stdout",
     "output_type": "stream",
     "text": [
      "torch.Size([16, 128])\n",
      "torch.Size([16, 128])\n",
      "torch.Size([16])\n"
     ]
    }
   ],
   "source": [
    "print(data['input_ids'].shape)\n",
    "print(data['attention_mask'].shape)\n",
    "print(data['targets'].shape)"
   ]
  },
  {
   "cell_type": "code",
   "execution_count": 42,
   "metadata": {
    "colab": {
     "base_uri": "https://localhost:8080/"
    },
    "execution": {
     "iopub.execute_input": "2022-01-12T03:36:56.664546Z",
     "iopub.status.busy": "2022-01-12T03:36:56.663865Z",
     "iopub.status.idle": "2022-01-12T03:36:59.780974Z",
     "shell.execute_reply": "2022-01-12T03:36:59.780201Z",
     "shell.execute_reply.started": "2022-01-12T03:36:56.664506Z"
    },
    "id": "-cKP0_wRZNyc",
    "outputId": "fd603f31-ea68-41a0-9ddb-134e2598721a"
   },
   "outputs": [
    {
     "name": "stderr",
     "output_type": "stream",
     "text": [
      "Some weights of the model checkpoint at hfl/chinese-roberta-wwm-ext were not used when initializing BertModel: ['cls.predictions.decoder.weight', 'cls.seq_relationship.bias', 'cls.predictions.transform.dense.weight', 'cls.predictions.bias', 'cls.predictions.transform.LayerNorm.bias', 'cls.predictions.transform.dense.bias', 'cls.seq_relationship.weight', 'cls.predictions.transform.LayerNorm.weight']\n",
      "- This IS expected if you are initializing BertModel from the checkpoint of a model trained on another task or with another architecture (e.g. initializing a BertForSequenceClassification model from a BertForPreTraining model).\n",
      "- This IS NOT expected if you are initializing BertModel from the checkpoint of a model that you expect to be exactly identical (initializing a BertForSequenceClassification model from a BertForSequenceClassification model).\n"
     ]
    }
   ],
   "source": [
    "bert_model = AutoModel.from_pretrained(model_name)"
   ]
  },
  {
   "cell_type": "code",
   "execution_count": 43,
   "metadata": {
    "execution": {
     "iopub.execute_input": "2022-01-12T03:36:59.782714Z",
     "iopub.status.busy": "2022-01-12T03:36:59.782311Z",
     "iopub.status.idle": "2022-01-12T03:37:00.359810Z",
     "shell.execute_reply": "2022-01-12T03:37:00.358913Z",
     "shell.execute_reply.started": "2022-01-12T03:36:59.782677Z"
    },
    "id": "rG3BBf-NZNyd"
   },
   "outputs": [],
   "source": [
    "last_hidden_state, pooled_output = bert_model(\n",
    "    input_ids=encoding['input_ids'], \n",
    "    attention_mask=encoding['attention_mask'],\n",
    "    return_dict = False \n",
    "    #we can pass an additional kwarg return_dict = False \n",
    "    #when we call the bert_model() to get an actual tensor that \n",
    "    #corresponds to the last_hidden_state\n",
    ")"
   ]
  },
  {
   "cell_type": "code",
   "execution_count": 44,
   "metadata": {
    "colab": {
     "base_uri": "https://localhost:8080/"
    },
    "execution": {
     "iopub.execute_input": "2022-01-12T03:37:00.361463Z",
     "iopub.status.busy": "2022-01-12T03:37:00.361082Z",
     "iopub.status.idle": "2022-01-12T03:37:00.369970Z",
     "shell.execute_reply": "2022-01-12T03:37:00.368852Z",
     "shell.execute_reply.started": "2022-01-12T03:37:00.361428Z"
    },
    "id": "DMdlMUGaZNyd",
    "outputId": "9b5ba68d-31c2-4a11-e2fb-ebf7773f19d1"
   },
   "outputs": [
    {
     "data": {
      "text/plain": [
       "torch.Size([1, 128, 768])"
      ]
     },
     "execution_count": 44,
     "metadata": {},
     "output_type": "execute_result"
    }
   ],
   "source": [
    "last_hidden_state.shape"
   ]
  },
  {
   "cell_type": "code",
   "execution_count": 45,
   "metadata": {
    "colab": {
     "base_uri": "https://localhost:8080/"
    },
    "execution": {
     "iopub.execute_input": "2022-01-12T03:37:00.371943Z",
     "iopub.status.busy": "2022-01-12T03:37:00.371581Z",
     "iopub.status.idle": "2022-01-12T03:37:00.378104Z",
     "shell.execute_reply": "2022-01-12T03:37:00.377183Z",
     "shell.execute_reply.started": "2022-01-12T03:37:00.371905Z"
    },
    "id": "amxhYv35ZNyd",
    "outputId": "f438bd22-e21d-4f5c-d228-5466604c1fda"
   },
   "outputs": [
    {
     "data": {
      "text/plain": [
       "torch.Size([1, 768])"
      ]
     },
     "execution_count": 45,
     "metadata": {},
     "output_type": "execute_result"
    }
   ],
   "source": [
    "pooled_output.shape"
   ]
  },
  {
   "cell_type": "code",
   "execution_count": 46,
   "metadata": {
    "colab": {
     "base_uri": "https://localhost:8080/"
    },
    "execution": {
     "iopub.execute_input": "2022-01-12T03:37:00.380450Z",
     "iopub.status.busy": "2022-01-12T03:37:00.379806Z",
     "iopub.status.idle": "2022-01-12T03:37:00.387286Z",
     "shell.execute_reply": "2022-01-12T03:37:00.386269Z",
     "shell.execute_reply.started": "2022-01-12T03:37:00.380412Z"
    },
    "id": "tg-15H1UZNyd",
    "outputId": "59660391-91ab-46eb-c757-9f9d9c2982b5"
   },
   "outputs": [
    {
     "data": {
      "text/plain": [
       "768"
      ]
     },
     "execution_count": 46,
     "metadata": {},
     "output_type": "execute_result"
    }
   ],
   "source": [
    "bert_model.config.hidden_size"
   ]
  },
  {
   "cell_type": "code",
   "execution_count": 47,
   "metadata": {
    "execution": {
     "iopub.execute_input": "2022-01-12T03:37:00.389376Z",
     "iopub.status.busy": "2022-01-12T03:37:00.388696Z",
     "iopub.status.idle": "2022-01-12T03:37:00.396942Z",
     "shell.execute_reply": "2022-01-12T03:37:00.396139Z",
     "shell.execute_reply.started": "2022-01-12T03:37:00.389319Z"
    },
    "id": "8TyPDhQcZNyd"
   },
   "outputs": [],
   "source": [
    "class SentimentClassifier(nn.Module):\n",
    "    \n",
    "    def __init__(self, n_classes):\n",
    "        super(SentimentClassifier, self).__init__()\n",
    "        self.bert = BertModel.from_pretrained(model_name)\n",
    "        self.drop = nn.Dropout(p=0.3)\n",
    "        self.out = nn.Linear(self.bert.config.hidden_size, n_classes)\n",
    "    \n",
    "    def forward(self, input_ids, attention_mask):\n",
    "        _, pooled_output = self.bert(\n",
    "          input_ids=input_ids,\n",
    "          attention_mask=attention_mask,\n",
    "          return_dict=False\n",
    "        )\n",
    "        output = self.drop(pooled_output)\n",
    "        return self.out(output)"
   ]
  },
  {
   "cell_type": "code",
   "execution_count": 48,
   "metadata": {
    "execution": {
     "iopub.execute_input": "2022-01-12T03:37:00.398837Z",
     "iopub.status.busy": "2022-01-12T03:37:00.398277Z",
     "iopub.status.idle": "2022-01-12T03:37:00.433081Z",
     "shell.execute_reply": "2022-01-12T03:37:00.432306Z",
     "shell.execute_reply.started": "2022-01-12T03:37:00.398800Z"
    },
    "id": "FQc7y7VsZNyd"
   },
   "outputs": [],
   "source": [
    "device = torch.device(\"cuda\" if torch.cuda.is_available() else \"cpu\")"
   ]
  },
  {
   "cell_type": "code",
   "execution_count": 49,
   "metadata": {
    "execution": {
     "iopub.execute_input": "2022-01-12T03:37:00.436371Z",
     "iopub.status.busy": "2022-01-12T03:37:00.436091Z",
     "iopub.status.idle": "2022-01-12T03:37:00.442099Z",
     "shell.execute_reply": "2022-01-12T03:37:00.441277Z",
     "shell.execute_reply.started": "2022-01-12T03:37:00.436310Z"
    },
    "id": "UjyCJCdRZNyd"
   },
   "outputs": [],
   "source": [
    "class_names = ['negative', 'neutral', 'positive']"
   ]
  },
  {
   "cell_type": "code",
   "execution_count": 50,
   "metadata": {
    "colab": {
     "base_uri": "https://localhost:8080/"
    },
    "execution": {
     "iopub.execute_input": "2022-01-12T03:37:00.444100Z",
     "iopub.status.busy": "2022-01-12T03:37:00.443528Z",
     "iopub.status.idle": "2022-01-12T03:37:06.122470Z",
     "shell.execute_reply": "2022-01-12T03:37:06.121585Z",
     "shell.execute_reply.started": "2022-01-12T03:37:00.444038Z"
    },
    "id": "bI1U-vKMZNyd",
    "outputId": "cbe6556c-3320-409d-a2ec-d3f240052e90"
   },
   "outputs": [
    {
     "name": "stderr",
     "output_type": "stream",
     "text": [
      "Some weights of the model checkpoint at hfl/chinese-roberta-wwm-ext were not used when initializing BertModel: ['cls.predictions.decoder.weight', 'cls.seq_relationship.bias', 'cls.predictions.transform.dense.weight', 'cls.predictions.bias', 'cls.predictions.transform.LayerNorm.bias', 'cls.predictions.transform.dense.bias', 'cls.seq_relationship.weight', 'cls.predictions.transform.LayerNorm.weight']\n",
      "- This IS expected if you are initializing BertModel from the checkpoint of a model trained on another task or with another architecture (e.g. initializing a BertForSequenceClassification model from a BertForPreTraining model).\n",
      "- This IS NOT expected if you are initializing BertModel from the checkpoint of a model that you expect to be exactly identical (initializing a BertForSequenceClassification model from a BertForSequenceClassification model).\n"
     ]
    }
   ],
   "source": [
    "model = SentimentClassifier(len(class_names))\n",
    "model = model.to(device)"
   ]
  },
  {
   "cell_type": "code",
   "execution_count": 51,
   "metadata": {
    "execution": {
     "iopub.execute_input": "2022-01-12T03:37:06.124085Z",
     "iopub.status.busy": "2022-01-12T03:37:06.123758Z",
     "iopub.status.idle": "2022-01-12T03:37:06.128014Z",
     "shell.execute_reply": "2022-01-12T03:37:06.127168Z",
     "shell.execute_reply.started": "2022-01-12T03:37:06.124051Z"
    },
    "id": "jVHzo5qDZNyd"
   },
   "outputs": [],
   "source": [
    "input_ids = data['input_ids'].to(device)\n",
    "attention_mask = data['attention_mask'].to(device)"
   ]
  },
  {
   "cell_type": "code",
   "execution_count": 52,
   "metadata": {
    "colab": {
     "base_uri": "https://localhost:8080/"
    },
    "execution": {
     "iopub.execute_input": "2022-01-12T03:37:06.129900Z",
     "iopub.status.busy": "2022-01-12T03:37:06.129497Z",
     "iopub.status.idle": "2022-01-12T03:37:06.147118Z",
     "shell.execute_reply": "2022-01-12T03:37:06.146227Z",
     "shell.execute_reply.started": "2022-01-12T03:37:06.129862Z"
    },
    "id": "1zIUrvYfZNyd",
    "outputId": "bfd5601f-e138-46d1-d4d3-595a33d568c9"
   },
   "outputs": [
    {
     "name": "stdout",
     "output_type": "stream",
     "text": [
      "torch.Size([16, 128])\n",
      "torch.Size([16, 128])\n"
     ]
    }
   ],
   "source": [
    "print(input_ids.shape) # batch size x seq length\n",
    "print(attention_mask.shape) # batch size x seq length"
   ]
  },
  {
   "cell_type": "code",
   "execution_count": 53,
   "metadata": {
    "colab": {
     "base_uri": "https://localhost:8080/"
    },
    "execution": {
     "iopub.execute_input": "2022-01-12T03:37:06.148891Z",
     "iopub.status.busy": "2022-01-12T03:37:06.148287Z",
     "iopub.status.idle": "2022-01-12T03:37:06.497049Z",
     "shell.execute_reply": "2022-01-12T03:37:06.496168Z",
     "shell.execute_reply.started": "2022-01-12T03:37:06.148856Z"
    },
    "id": "oFmvdDEgZNye",
    "outputId": "80b83f28-39f8-47af-9dfe-62a5b137c121"
   },
   "outputs": [
    {
     "data": {
      "text/plain": [
       "tensor([[0.4049, 0.1948, 0.4003],\n",
       "        [0.2624, 0.4579, 0.2796],\n",
       "        [0.2886, 0.4439, 0.2675],\n",
       "        [0.4452, 0.4400, 0.1148],\n",
       "        [0.6136, 0.2857, 0.1008],\n",
       "        [0.3339, 0.4292, 0.2369],\n",
       "        [0.3180, 0.3735, 0.3085],\n",
       "        [0.5438, 0.3571, 0.0991],\n",
       "        [0.3285, 0.4488, 0.2227],\n",
       "        [0.3627, 0.3410, 0.2963],\n",
       "        [0.4688, 0.3544, 0.1768],\n",
       "        [0.4829, 0.2529, 0.2642],\n",
       "        [0.5884, 0.2763, 0.1353],\n",
       "        [0.6413, 0.2595, 0.0993],\n",
       "        [0.5495, 0.2535, 0.1970],\n",
       "        [0.4271, 0.3155, 0.2573]], device='cuda:0', grad_fn=<SoftmaxBackward0>)"
      ]
     },
     "execution_count": 53,
     "metadata": {},
     "output_type": "execute_result"
    }
   ],
   "source": [
    "F.softmax(model(input_ids, attention_mask), dim=1)"
   ]
  },
  {
   "cell_type": "code",
   "execution_count": 54,
   "metadata": {
    "id": "-hPD_WJTVuM0"
   },
   "outputs": [],
   "source": [
    "from sklearn.model_selection import GridSearchCV\n",
    "\n",
    "grid_values = {'lr': [1e-4, 1e-5, 1e-6, 2e-5, 3e-3],\n",
    "               'eps': [1e-7, 1e-8, 1e-9, 1e-10, 1e-11],\n",
    "               'EPOCHS' : [1,2]\n",
    "              }"
   ]
  },
  {
   "cell_type": "code",
   "execution_count": 55,
   "metadata": {
    "execution": {
     "iopub.execute_input": "2022-01-12T03:37:06.498832Z",
     "iopub.status.busy": "2022-01-12T03:37:06.498460Z",
     "iopub.status.idle": "2022-01-12T03:37:06.512151Z",
     "shell.execute_reply": "2022-01-12T03:37:06.511276Z",
     "shell.execute_reply.started": "2022-01-12T03:37:06.498795Z"
    },
    "id": "a3MSUQEQZNye"
   },
   "outputs": [],
   "source": [
    "EPOCHS = 1\n",
    "optimizer = AdamW(model.parameters(), lr=1e-5, \n",
    "                  correct_bias=False, eps=1e-7)\n",
    "\n",
    "total_steps = len(train_data_loader) * EPOCHS\n",
    "scheduler = get_linear_schedule_with_warmup(\n",
    "  optimizer,\n",
    "  num_warmup_steps=0,\n",
    "  num_training_steps=total_steps\n",
    ")\n",
    "loss_fn = nn.CrossEntropyLoss().to(device)"
   ]
  },
  {
   "cell_type": "code",
   "execution_count": 56,
   "metadata": {
    "execution": {
     "iopub.execute_input": "2022-01-12T03:37:06.513907Z",
     "iopub.status.busy": "2022-01-12T03:37:06.513412Z",
     "iopub.status.idle": "2022-01-12T03:37:06.522910Z",
     "shell.execute_reply": "2022-01-12T03:37:06.521974Z",
     "shell.execute_reply.started": "2022-01-12T03:37:06.513869Z"
    },
    "id": "pE4IpDsqZNye"
   },
   "outputs": [],
   "source": [
    "def train_epoch(\n",
    "    model,\n",
    "    data_loader,\n",
    "    loss_fn,\n",
    "    optimizer,\n",
    "    device,\n",
    "    scheduler,\n",
    "    n_examples,\n",
    "    accumulation_steps=1, # 이 부분 숫자 변경. 기본 batch size가 8이라면 accumulation_steps를 4로 바꿔주면 batch size가 32가 되는 것과 같음.\n",
    "):\n",
    "    model = model.train()\n",
    "        \n",
    "    losses = []\n",
    "    correct_predictions = 0\n",
    "    optimizer.zero_grad()\n",
    "\n",
    "    for i, (d) in enumerate(data_loader):\n",
    "        input_ids = d[\"input_ids\"].to(device)\n",
    "        attention_mask = d[\"attention_mask\"].to(device)\n",
    "        targets = d[\"targets\"].to(device)\n",
    "        \n",
    "        outputs = model(\n",
    "          input_ids=input_ids,\n",
    "          attention_mask=attention_mask\n",
    "        )\n",
    "        \n",
    "        _, preds = torch.max(outputs, dim=1)\n",
    "        loss = loss_fn(outputs, targets)\n",
    "        correct_predictions += torch.sum(preds == targets)\n",
    "        losses.append(loss.item())\n",
    "        \n",
    "        loss = loss / accumulation_steps \n",
    "        loss.backward()\n",
    "        nn.utils.clip_grad_norm_(model.parameters(), max_norm=1.0)\n",
    "\n",
    "        if (i+1) % accumulation_steps == 0:\n",
    "          optimizer.step()\n",
    "          scheduler.step()\n",
    "          optimizer.zero_grad()\n",
    "    \n",
    "    return correct_predictions.double() / n_examples, np.mean(losses)"
   ]
  },
  {
   "cell_type": "code",
   "execution_count": 57,
   "metadata": {
    "execution": {
     "iopub.execute_input": "2022-01-12T03:37:06.526037Z",
     "iopub.status.busy": "2022-01-12T03:37:06.524041Z",
     "iopub.status.idle": "2022-01-12T03:37:06.535032Z",
     "shell.execute_reply": "2022-01-12T03:37:06.534234Z",
     "shell.execute_reply.started": "2022-01-12T03:37:06.526005Z"
    },
    "id": "Tq4wjtrNZNye"
   },
   "outputs": [],
   "source": [
    "def eval_model(model, data_loader, loss_fn, device, n_examples):\n",
    "    model = model.eval()\n",
    "    \n",
    "    losses = []\n",
    "    correct_predictions = 0\n",
    "    \n",
    "    with torch.no_grad():\n",
    "        for d in data_loader:\n",
    "            input_ids = d[\"input_ids\"].to(device)\n",
    "            attention_mask = d[\"attention_mask\"].to(device)\n",
    "            targets = d[\"targets\"].to(device)\n",
    "            outputs = model(\n",
    "                input_ids=input_ids,\n",
    "                attention_mask=attention_mask\n",
    "            )\n",
    "            _, preds = torch.max(outputs, dim=1)\n",
    "            loss = loss_fn(outputs, targets)\n",
    "            correct_predictions += torch.sum(preds == targets)\n",
    "            losses.append(loss.item())\n",
    "            \n",
    "        return correct_predictions.double() / n_examples, np.mean(losses)"
   ]
  },
  {
   "cell_type": "code",
   "execution_count": 58,
   "metadata": {
    "colab": {
     "base_uri": "https://localhost:8080/"
    },
    "execution": {
     "iopub.execute_input": "2022-01-12T03:37:06.536297Z",
     "iopub.status.busy": "2022-01-12T03:37:06.536044Z",
     "iopub.status.idle": "2022-01-12T03:44:53.241407Z",
     "shell.execute_reply": "2022-01-12T03:44:53.240241Z",
     "shell.execute_reply.started": "2022-01-12T03:37:06.536270Z"
    },
    "id": "5LC7MOoqZNye",
    "outputId": "198d3907-95e0-4a00-d780-025f51e8ed76"
   },
   "outputs": [
    {
     "name": "stdout",
     "output_type": "stream",
     "text": [
      "Epoch 1/1\n",
      "----------\n",
      "Train loss 0.8331527946688605 accuracy 0.6168888888888889\n",
      "Val   loss 0.6941744554787874 accuracy 0.728\n",
      "\n",
      "CPU times: user 1min 4s, sys: 24.8 s, total: 1min 29s\n",
      "Wall time: 1min 37s\n"
     ]
    }
   ],
   "source": [
    "%%time\n",
    "history = defaultdict(list)\n",
    "best_accuracy = 0\n",
    "for epoch in range(EPOCHS):\n",
    "    print(f'Epoch {epoch + 1}/{EPOCHS}')\n",
    "    print('-' * 10)\n",
    "    train_acc, train_loss = train_epoch(\n",
    "        model,\n",
    "        train_data_loader,\n",
    "        loss_fn,\n",
    "        optimizer,\n",
    "        device,\n",
    "        scheduler,\n",
    "        len(df_train)\n",
    "    )\n",
    "    print(f'Train loss {train_loss} accuracy {train_acc}')\n",
    "    \n",
    "    val_acc, val_loss = eval_model(\n",
    "        model,\n",
    "        val_data_loader,\n",
    "        loss_fn,\n",
    "        device,\n",
    "        len(df_val)\n",
    "    )\n",
    "    print(f'Val   loss {val_loss} accuracy {val_acc}')\n",
    "    print()\n",
    "    \n",
    "    history['train_acc'].append(train_acc)\n",
    "    history['train_loss'].append(train_loss)\n",
    "    history['val_acc'].append(val_acc)\n",
    "    history['val_loss'].append(val_loss)\n",
    "    \n",
    "    if val_acc > best_accuracy:\n",
    "        torch.save(model.state_dict(), 'best_model_state.bin')\n",
    "        best_accuracy = val_acc   # val loss가 늘어나기 시작하면 오버피팅 발생. 그래서 val acc가 떨어짐. Train loss는 원래 특정 값까지는 계속 떨어짐."
   ]
  },
  {
   "cell_type": "markdown",
   "metadata": {},
   "source": [
    "# 나의 데이터에 적용"
   ]
  },
  {
   "cell_type": "code",
   "execution_count": 59,
   "metadata": {
    "colab": {
     "base_uri": "https://localhost:8080/",
     "height": 275
    },
    "id": "LEnHXaBzZNye",
    "outputId": "4ed6bb95-3ab5-4c98-f738-247ae028faf9"
   },
   "outputs": [
    {
     "data": {
      "text/html": [
       "\n",
       "  <div id=\"df-f6cc47d0-e522-4397-a427-7b36a5c80741\">\n",
       "    <div class=\"colab-df-container\">\n",
       "      <div>\n",
       "<style scoped>\n",
       "    .dataframe tbody tr th:only-of-type {\n",
       "        vertical-align: middle;\n",
       "    }\n",
       "\n",
       "    .dataframe tbody tr th {\n",
       "        vertical-align: top;\n",
       "    }\n",
       "\n",
       "    .dataframe thead th {\n",
       "        text-align: right;\n",
       "    }\n",
       "</style>\n",
       "<table border=\"1\" class=\"dataframe\">\n",
       "  <thead>\n",
       "    <tr style=\"text-align: right;\">\n",
       "      <th></th>\n",
       "      <th>number</th>\n",
       "      <th>place</th>\n",
       "      <th>send</th>\n",
       "      <th>odate</th>\n",
       "      <th>rdate</th>\n",
       "      <th>types</th>\n",
       "      <th>ow</th>\n",
       "      <th>ot</th>\n",
       "      <th>oc</th>\n",
       "      <th>rw1</th>\n",
       "      <th>...</th>\n",
       "      <th>rc5</th>\n",
       "      <th>rw6</th>\n",
       "      <th>rt6</th>\n",
       "      <th>rc6</th>\n",
       "      <th>rw7</th>\n",
       "      <th>rt7</th>\n",
       "      <th>rc7</th>\n",
       "      <th>rw8</th>\n",
       "      <th>rt8</th>\n",
       "      <th>rc8</th>\n",
       "    </tr>\n",
       "  </thead>\n",
       "  <tbody>\n",
       "    <tr>\n",
       "      <th>0</th>\n",
       "      <td>1.0</td>\n",
       "      <td>개봉</td>\n",
       "      <td>NaN</td>\n",
       "      <td>1059.0</td>\n",
       "      <td>NaN</td>\n",
       "      <td>1.0</td>\n",
       "      <td>蘇轍</td>\n",
       "      <td>山胡</td>\n",
       "      <td>山胡拥苍毳，两耳白茸茸。野树啼终日，黔山深几重。啄溪探细石，噪虎上孤峰。被执应多恨，筠笼仅不容。</td>\n",
       "      <td>蘇軾</td>\n",
       "      <td>...</td>\n",
       "      <td>NaN</td>\n",
       "      <td>NaN</td>\n",
       "      <td>NaN</td>\n",
       "      <td>NaN</td>\n",
       "      <td>NaN</td>\n",
       "      <td>NaN</td>\n",
       "      <td>NaN</td>\n",
       "      <td>NaN</td>\n",
       "      <td>NaN</td>\n",
       "      <td>NaN</td>\n",
       "    </tr>\n",
       "  </tbody>\n",
       "</table>\n",
       "<p>1 rows × 33 columns</p>\n",
       "</div>\n",
       "      <button class=\"colab-df-convert\" onclick=\"convertToInteractive('df-f6cc47d0-e522-4397-a427-7b36a5c80741')\"\n",
       "              title=\"Convert this dataframe to an interactive table.\"\n",
       "              style=\"display:none;\">\n",
       "        \n",
       "  <svg xmlns=\"http://www.w3.org/2000/svg\" height=\"24px\"viewBox=\"0 0 24 24\"\n",
       "       width=\"24px\">\n",
       "    <path d=\"M0 0h24v24H0V0z\" fill=\"none\"/>\n",
       "    <path d=\"M18.56 5.44l.94 2.06.94-2.06 2.06-.94-2.06-.94-.94-2.06-.94 2.06-2.06.94zm-11 1L8.5 8.5l.94-2.06 2.06-.94-2.06-.94L8.5 2.5l-.94 2.06-2.06.94zm10 10l.94 2.06.94-2.06 2.06-.94-2.06-.94-.94-2.06-.94 2.06-2.06.94z\"/><path d=\"M17.41 7.96l-1.37-1.37c-.4-.4-.92-.59-1.43-.59-.52 0-1.04.2-1.43.59L10.3 9.45l-7.72 7.72c-.78.78-.78 2.05 0 2.83L4 21.41c.39.39.9.59 1.41.59.51 0 1.02-.2 1.41-.59l7.78-7.78 2.81-2.81c.8-.78.8-2.07 0-2.86zM5.41 20L4 18.59l7.72-7.72 1.47 1.35L5.41 20z\"/>\n",
       "  </svg>\n",
       "      </button>\n",
       "      \n",
       "  <style>\n",
       "    .colab-df-container {\n",
       "      display:flex;\n",
       "      flex-wrap:wrap;\n",
       "      gap: 12px;\n",
       "    }\n",
       "\n",
       "    .colab-df-convert {\n",
       "      background-color: #E8F0FE;\n",
       "      border: none;\n",
       "      border-radius: 50%;\n",
       "      cursor: pointer;\n",
       "      display: none;\n",
       "      fill: #1967D2;\n",
       "      height: 32px;\n",
       "      padding: 0 0 0 0;\n",
       "      width: 32px;\n",
       "    }\n",
       "\n",
       "    .colab-df-convert:hover {\n",
       "      background-color: #E2EBFA;\n",
       "      box-shadow: 0px 1px 2px rgba(60, 64, 67, 0.3), 0px 1px 3px 1px rgba(60, 64, 67, 0.15);\n",
       "      fill: #174EA6;\n",
       "    }\n",
       "\n",
       "    [theme=dark] .colab-df-convert {\n",
       "      background-color: #3B4455;\n",
       "      fill: #D2E3FC;\n",
       "    }\n",
       "\n",
       "    [theme=dark] .colab-df-convert:hover {\n",
       "      background-color: #434B5C;\n",
       "      box-shadow: 0px 1px 3px 1px rgba(0, 0, 0, 0.15);\n",
       "      filter: drop-shadow(0px 1px 2px rgba(0, 0, 0, 0.3));\n",
       "      fill: #FFFFFF;\n",
       "    }\n",
       "  </style>\n",
       "\n",
       "      <script>\n",
       "        const buttonEl =\n",
       "          document.querySelector('#df-f6cc47d0-e522-4397-a427-7b36a5c80741 button.colab-df-convert');\n",
       "        buttonEl.style.display =\n",
       "          google.colab.kernel.accessAllowed ? 'block' : 'none';\n",
       "\n",
       "        async function convertToInteractive(key) {\n",
       "          const element = document.querySelector('#df-f6cc47d0-e522-4397-a427-7b36a5c80741');\n",
       "          const dataTable =\n",
       "            await google.colab.kernel.invokeFunction('convertToInteractive',\n",
       "                                                     [key], {});\n",
       "          if (!dataTable) return;\n",
       "\n",
       "          const docLinkHtml = 'Like what you see? Visit the ' +\n",
       "            '<a target=\"_blank\" href=https://colab.research.google.com/notebooks/data_table.ipynb>data table notebook</a>'\n",
       "            + ' to learn more about interactive tables.';\n",
       "          element.innerHTML = '';\n",
       "          dataTable['output_type'] = 'display_data';\n",
       "          await google.colab.output.renderOutput(dataTable, element);\n",
       "          const docLink = document.createElement('div');\n",
       "          docLink.innerHTML = docLinkHtml;\n",
       "          element.appendChild(docLink);\n",
       "        }\n",
       "      </script>\n",
       "    </div>\n",
       "  </div>\n",
       "  "
      ],
      "text/plain": [
       "   number place send   odate rdate  types  ow  ot  \\\n",
       "0     1.0    개봉  NaN  1059.0   NaN    1.0  蘇轍  山胡   \n",
       "\n",
       "                                                 oc rw1  ...  rc5  rw6  rt6  \\\n",
       "0  山胡拥苍毳，两耳白茸茸。野树啼终日，黔山深几重。啄溪探细石，噪虎上孤峰。被执应多恨，筠笼仅不容。  蘇軾  ...  NaN  NaN  NaN   \n",
       "\n",
       "   rc6  rw7  rt7  rc7  rw8  rt8  rc8  \n",
       "0  NaN  NaN  NaN  NaN  NaN  NaN  NaN  \n",
       "\n",
       "[1 rows x 33 columns]"
      ]
     },
     "execution_count": 59,
     "metadata": {},
     "output_type": "execute_result"
    }
   ],
   "source": [
    "test = pd.read_csv(\"/content/drive/MyDrive/mydata6.csv\")\n",
    "test.head(1)"
   ]
  },
  {
   "cell_type": "code",
   "execution_count": 60,
   "metadata": {
    "id": "dfNSLN-TNwE4"
   },
   "outputs": [],
   "source": [
    "test_oc = test[[\"oc\"]].dropna(axis=0)\n",
    "test_rc1 = test[[\"rc1\"]].dropna(axis=0)\n",
    "test_rc2 = test[[\"rc2\"]].dropna(axis=0)\n",
    "test_rc3 = test[[\"rc3\"]].dropna(axis=0)\n",
    "test_rc4 = test[[\"rc4\"]].dropna(axis=0)\n",
    "test_rc5 = test[[\"rc5\"]].dropna(axis=0)\n",
    "test_rc6 = test[[\"rc6\"]].dropna(axis=0)\n",
    "test_rc7 = test[[\"rc7\"]].dropna(axis=0)\n",
    "test_rc8 = test[[\"rc8\"]].dropna(axis=0)"
   ]
  },
  {
   "cell_type": "code",
   "execution_count": 61,
   "metadata": {
    "id": "4wiVIEQRNvyx"
   },
   "outputs": [],
   "source": [
    "test_oc.columns = ['contents']\n",
    "test_rc1.columns = ['contents']\n",
    "test_rc2.columns = ['contents']\n",
    "test_rc3.columns = ['contents']\n",
    "test_rc4.columns = ['contents']\n",
    "test_rc5.columns = ['contents']\n",
    "test_rc6.columns = ['contents']\n",
    "test_rc7.columns = ['contents']\n",
    "test_rc8.columns = ['contents']"
   ]
  },
  {
   "cell_type": "code",
   "execution_count": 62,
   "metadata": {
    "colab": {
     "base_uri": "https://localhost:8080/",
     "height": 80
    },
    "id": "ssBB5bK9NvoB",
    "outputId": "bdbb56db-b912-40ce-9b05-cfbdaeb3eb23"
   },
   "outputs": [
    {
     "data": {
      "text/html": [
       "\n",
       "  <div id=\"df-cb9a008a-5954-494a-ab42-7d4cf6fca41b\">\n",
       "    <div class=\"colab-df-container\">\n",
       "      <div>\n",
       "<style scoped>\n",
       "    .dataframe tbody tr th:only-of-type {\n",
       "        vertical-align: middle;\n",
       "    }\n",
       "\n",
       "    .dataframe tbody tr th {\n",
       "        vertical-align: top;\n",
       "    }\n",
       "\n",
       "    .dataframe thead th {\n",
       "        text-align: right;\n",
       "    }\n",
       "</style>\n",
       "<table border=\"1\" class=\"dataframe\">\n",
       "  <thead>\n",
       "    <tr style=\"text-align: right;\">\n",
       "      <th></th>\n",
       "      <th>poem</th>\n",
       "      <th>sentiments</th>\n",
       "    </tr>\n",
       "  </thead>\n",
       "  <tbody>\n",
       "    <tr>\n",
       "      <th>0</th>\n",
       "      <td>山胡拥苍毳，两耳白茸茸。野树啼终日，黔山深几重。啄溪探细石，噪虎上孤峰。被执应多恨，筠笼仅不容。</td>\n",
       "      <td></td>\n",
       "    </tr>\n",
       "  </tbody>\n",
       "</table>\n",
       "</div>\n",
       "      <button class=\"colab-df-convert\" onclick=\"convertToInteractive('df-cb9a008a-5954-494a-ab42-7d4cf6fca41b')\"\n",
       "              title=\"Convert this dataframe to an interactive table.\"\n",
       "              style=\"display:none;\">\n",
       "        \n",
       "  <svg xmlns=\"http://www.w3.org/2000/svg\" height=\"24px\"viewBox=\"0 0 24 24\"\n",
       "       width=\"24px\">\n",
       "    <path d=\"M0 0h24v24H0V0z\" fill=\"none\"/>\n",
       "    <path d=\"M18.56 5.44l.94 2.06.94-2.06 2.06-.94-2.06-.94-.94-2.06-.94 2.06-2.06.94zm-11 1L8.5 8.5l.94-2.06 2.06-.94-2.06-.94L8.5 2.5l-.94 2.06-2.06.94zm10 10l.94 2.06.94-2.06 2.06-.94-2.06-.94-.94-2.06-.94 2.06-2.06.94z\"/><path d=\"M17.41 7.96l-1.37-1.37c-.4-.4-.92-.59-1.43-.59-.52 0-1.04.2-1.43.59L10.3 9.45l-7.72 7.72c-.78.78-.78 2.05 0 2.83L4 21.41c.39.39.9.59 1.41.59.51 0 1.02-.2 1.41-.59l7.78-7.78 2.81-2.81c.8-.78.8-2.07 0-2.86zM5.41 20L4 18.59l7.72-7.72 1.47 1.35L5.41 20z\"/>\n",
       "  </svg>\n",
       "      </button>\n",
       "      \n",
       "  <style>\n",
       "    .colab-df-container {\n",
       "      display:flex;\n",
       "      flex-wrap:wrap;\n",
       "      gap: 12px;\n",
       "    }\n",
       "\n",
       "    .colab-df-convert {\n",
       "      background-color: #E8F0FE;\n",
       "      border: none;\n",
       "      border-radius: 50%;\n",
       "      cursor: pointer;\n",
       "      display: none;\n",
       "      fill: #1967D2;\n",
       "      height: 32px;\n",
       "      padding: 0 0 0 0;\n",
       "      width: 32px;\n",
       "    }\n",
       "\n",
       "    .colab-df-convert:hover {\n",
       "      background-color: #E2EBFA;\n",
       "      box-shadow: 0px 1px 2px rgba(60, 64, 67, 0.3), 0px 1px 3px 1px rgba(60, 64, 67, 0.15);\n",
       "      fill: #174EA6;\n",
       "    }\n",
       "\n",
       "    [theme=dark] .colab-df-convert {\n",
       "      background-color: #3B4455;\n",
       "      fill: #D2E3FC;\n",
       "    }\n",
       "\n",
       "    [theme=dark] .colab-df-convert:hover {\n",
       "      background-color: #434B5C;\n",
       "      box-shadow: 0px 1px 3px 1px rgba(0, 0, 0, 0.15);\n",
       "      filter: drop-shadow(0px 1px 2px rgba(0, 0, 0, 0.3));\n",
       "      fill: #FFFFFF;\n",
       "    }\n",
       "  </style>\n",
       "\n",
       "      <script>\n",
       "        const buttonEl =\n",
       "          document.querySelector('#df-cb9a008a-5954-494a-ab42-7d4cf6fca41b button.colab-df-convert');\n",
       "        buttonEl.style.display =\n",
       "          google.colab.kernel.accessAllowed ? 'block' : 'none';\n",
       "\n",
       "        async function convertToInteractive(key) {\n",
       "          const element = document.querySelector('#df-cb9a008a-5954-494a-ab42-7d4cf6fca41b');\n",
       "          const dataTable =\n",
       "            await google.colab.kernel.invokeFunction('convertToInteractive',\n",
       "                                                     [key], {});\n",
       "          if (!dataTable) return;\n",
       "\n",
       "          const docLinkHtml = 'Like what you see? Visit the ' +\n",
       "            '<a target=\"_blank\" href=https://colab.research.google.com/notebooks/data_table.ipynb>data table notebook</a>'\n",
       "            + ' to learn more about interactive tables.';\n",
       "          element.innerHTML = '';\n",
       "          dataTable['output_type'] = 'display_data';\n",
       "          await google.colab.output.renderOutput(dataTable, element);\n",
       "          const docLink = document.createElement('div');\n",
       "          docLink.innerHTML = docLinkHtml;\n",
       "          element.appendChild(docLink);\n",
       "        }\n",
       "      </script>\n",
       "    </div>\n",
       "  </div>\n",
       "  "
      ],
      "text/plain": [
       "                                               poem sentiments\n",
       "0  山胡拥苍毳，两耳白茸茸。野树啼终日，黔山深几重。啄溪探细石，噪虎上孤峰。被执应多恨，筠笼仅不容。           "
      ]
     },
     "execution_count": 62,
     "metadata": {},
     "output_type": "execute_result"
    }
   ],
   "source": [
    "test = pd.concat([test_oc, test_rc1, test_rc2,test_rc3, test_rc4,\n",
    "                   test_rc5, test_rc6, test_rc7, test_rc8], ignore_index = True)\n",
    "test.columns = ['poem']\n",
    "test[\"sentiments\"] = \"\"\n",
    "test.head(1)"
   ]
  },
  {
   "cell_type": "code",
   "execution_count": 63,
   "metadata": {
    "colab": {
     "base_uri": "https://localhost:8080/",
     "height": 239
    },
    "id": "C6ScJXxGWfgi",
    "outputId": "094ad70b-01a9-44d7-d030-a0cd1ce65b9e"
   },
   "outputs": [
    {
     "data": {
      "text/html": [
       "\n",
       "  <div id=\"df-33444a49-cdaa-4195-a53b-3d99977ff3c8\">\n",
       "    <div class=\"colab-df-container\">\n",
       "      <div>\n",
       "<style scoped>\n",
       "    .dataframe tbody tr th:only-of-type {\n",
       "        vertical-align: middle;\n",
       "    }\n",
       "\n",
       "    .dataframe tbody tr th {\n",
       "        vertical-align: top;\n",
       "    }\n",
       "\n",
       "    .dataframe thead th {\n",
       "        text-align: right;\n",
       "    }\n",
       "</style>\n",
       "<table border=\"1\" class=\"dataframe\">\n",
       "  <thead>\n",
       "    <tr style=\"text-align: right;\">\n",
       "      <th></th>\n",
       "      <th>poem</th>\n",
       "      <th>sentiments</th>\n",
       "      <th>final_tokens</th>\n",
       "    </tr>\n",
       "  </thead>\n",
       "  <tbody>\n",
       "    <tr>\n",
       "      <th>0</th>\n",
       "      <td>山胡拥苍毳，两耳白茸茸。野树啼终日，黔山深几重。啄溪探细石，噪虎上孤峰。被执应多恨，筠笼仅不容。</td>\n",
       "      <td></td>\n",
       "      <td>山胡拥苍毳两耳白茸茸野树啼终日黔山深几重啄溪探细石噪虎上孤峰被执应多恨筠笼仅不容</td>\n",
       "    </tr>\n",
       "    <tr>\n",
       "      <th>1</th>\n",
       "      <td>水官骑苍龙，龙行欲上天。手攀时且住，浩若乘风船。不知几何长，足尾犹在渊。下有二从臣，左右乘鱼...</td>\n",
       "      <td></td>\n",
       "      <td>水官骑苍龙龙行欲上天手攀时且住浩若乘风船不知几何长足尾犹在渊下有二从臣左右乘鱼鼋矍铄相顾视风...</td>\n",
       "    </tr>\n",
       "    <tr>\n",
       "      <th>2</th>\n",
       "      <td>相携话别郑原上，共道长途怕雪泥。归骑还寻大梁陌，行人已渡古崤西。曾为县吏民知否，旧宿僧房壁共...</td>\n",
       "      <td></td>\n",
       "      <td>相携话别郑原上共道长途怕雪泥归骑还寻大梁陌行人已渡古崤西曾为县吏民知否旧宿僧房壁共题遥想独游...</td>\n",
       "    </tr>\n",
       "  </tbody>\n",
       "</table>\n",
       "</div>\n",
       "      <button class=\"colab-df-convert\" onclick=\"convertToInteractive('df-33444a49-cdaa-4195-a53b-3d99977ff3c8')\"\n",
       "              title=\"Convert this dataframe to an interactive table.\"\n",
       "              style=\"display:none;\">\n",
       "        \n",
       "  <svg xmlns=\"http://www.w3.org/2000/svg\" height=\"24px\"viewBox=\"0 0 24 24\"\n",
       "       width=\"24px\">\n",
       "    <path d=\"M0 0h24v24H0V0z\" fill=\"none\"/>\n",
       "    <path d=\"M18.56 5.44l.94 2.06.94-2.06 2.06-.94-2.06-.94-.94-2.06-.94 2.06-2.06.94zm-11 1L8.5 8.5l.94-2.06 2.06-.94-2.06-.94L8.5 2.5l-.94 2.06-2.06.94zm10 10l.94 2.06.94-2.06 2.06-.94-2.06-.94-.94-2.06-.94 2.06-2.06.94z\"/><path d=\"M17.41 7.96l-1.37-1.37c-.4-.4-.92-.59-1.43-.59-.52 0-1.04.2-1.43.59L10.3 9.45l-7.72 7.72c-.78.78-.78 2.05 0 2.83L4 21.41c.39.39.9.59 1.41.59.51 0 1.02-.2 1.41-.59l7.78-7.78 2.81-2.81c.8-.78.8-2.07 0-2.86zM5.41 20L4 18.59l7.72-7.72 1.47 1.35L5.41 20z\"/>\n",
       "  </svg>\n",
       "      </button>\n",
       "      \n",
       "  <style>\n",
       "    .colab-df-container {\n",
       "      display:flex;\n",
       "      flex-wrap:wrap;\n",
       "      gap: 12px;\n",
       "    }\n",
       "\n",
       "    .colab-df-convert {\n",
       "      background-color: #E8F0FE;\n",
       "      border: none;\n",
       "      border-radius: 50%;\n",
       "      cursor: pointer;\n",
       "      display: none;\n",
       "      fill: #1967D2;\n",
       "      height: 32px;\n",
       "      padding: 0 0 0 0;\n",
       "      width: 32px;\n",
       "    }\n",
       "\n",
       "    .colab-df-convert:hover {\n",
       "      background-color: #E2EBFA;\n",
       "      box-shadow: 0px 1px 2px rgba(60, 64, 67, 0.3), 0px 1px 3px 1px rgba(60, 64, 67, 0.15);\n",
       "      fill: #174EA6;\n",
       "    }\n",
       "\n",
       "    [theme=dark] .colab-df-convert {\n",
       "      background-color: #3B4455;\n",
       "      fill: #D2E3FC;\n",
       "    }\n",
       "\n",
       "    [theme=dark] .colab-df-convert:hover {\n",
       "      background-color: #434B5C;\n",
       "      box-shadow: 0px 1px 3px 1px rgba(0, 0, 0, 0.15);\n",
       "      filter: drop-shadow(0px 1px 2px rgba(0, 0, 0, 0.3));\n",
       "      fill: #FFFFFF;\n",
       "    }\n",
       "  </style>\n",
       "\n",
       "      <script>\n",
       "        const buttonEl =\n",
       "          document.querySelector('#df-33444a49-cdaa-4195-a53b-3d99977ff3c8 button.colab-df-convert');\n",
       "        buttonEl.style.display =\n",
       "          google.colab.kernel.accessAllowed ? 'block' : 'none';\n",
       "\n",
       "        async function convertToInteractive(key) {\n",
       "          const element = document.querySelector('#df-33444a49-cdaa-4195-a53b-3d99977ff3c8');\n",
       "          const dataTable =\n",
       "            await google.colab.kernel.invokeFunction('convertToInteractive',\n",
       "                                                     [key], {});\n",
       "          if (!dataTable) return;\n",
       "\n",
       "          const docLinkHtml = 'Like what you see? Visit the ' +\n",
       "            '<a target=\"_blank\" href=https://colab.research.google.com/notebooks/data_table.ipynb>data table notebook</a>'\n",
       "            + ' to learn more about interactive tables.';\n",
       "          element.innerHTML = '';\n",
       "          dataTable['output_type'] = 'display_data';\n",
       "          await google.colab.output.renderOutput(dataTable, element);\n",
       "          const docLink = document.createElement('div');\n",
       "          docLink.innerHTML = docLinkHtml;\n",
       "          element.appendChild(docLink);\n",
       "        }\n",
       "      </script>\n",
       "    </div>\n",
       "  </div>\n",
       "  "
      ],
      "text/plain": [
       "                                                poem sentiments  \\\n",
       "0   山胡拥苍毳，两耳白茸茸。野树啼终日，黔山深几重。啄溪探细石，噪虎上孤峰。被执应多恨，筠笼仅不容。              \n",
       "1  水官骑苍龙，龙行欲上天。手攀时且住，浩若乘风船。不知几何长，足尾犹在渊。下有二从臣，左右乘鱼...              \n",
       "2  相携话别郑原上，共道长途怕雪泥。归骑还寻大梁陌，行人已渡古崤西。曾为县吏民知否，旧宿僧房壁共...              \n",
       "\n",
       "                                        final_tokens  \n",
       "0           山胡拥苍毳两耳白茸茸野树啼终日黔山深几重啄溪探细石噪虎上孤峰被执应多恨筠笼仅不容  \n",
       "1  水官骑苍龙龙行欲上天手攀时且住浩若乘风船不知几何长足尾犹在渊下有二从臣左右乘鱼鼋矍铄相顾视风...  \n",
       "2  相携话别郑原上共道长途怕雪泥归骑还寻大梁陌行人已渡古崤西曾为县吏民知否旧宿僧房壁共题遥想独游...  "
      ]
     },
     "execution_count": 63,
     "metadata": {},
     "output_type": "execute_result"
    }
   ],
   "source": [
    "test[\"final_tokens\"] = test[\"poem\"].str.replace(pat=r'[，。]', repl=r'', regex=True)\n",
    "test.head(3)"
   ]
  },
  {
   "cell_type": "code",
   "execution_count": 64,
   "metadata": {
    "colab": {
     "base_uri": "https://localhost:8080/"
    },
    "id": "LvKS8UXl0oSL",
    "outputId": "318fde5f-c113-450a-c608-75b5f0d5e12e"
   },
   "outputs": [
    {
     "name": "stdout",
     "output_type": "stream",
     "text": [
      "text: 山胡拥苍毳两耳白茸茸野树啼终日黔山深几重啄溪探细石噪虎上孤峰被执应多恨筠笼仅不容\n",
      "Sentiment  : negative\n",
      "text: 终日锁筠笼回头惜翠茸谁知声㗲㗲亦自意重重夜宿烟生浦朝鸣日上峰故巢何足恋鹰隼岂能容\n",
      "Sentiment  : negative\n"
     ]
    }
   ],
   "source": [
    "review_text1 = \"山胡拥苍毳两耳白茸茸野树啼终日黔山深几重啄溪探细石噪虎上孤峰被执应多恨筠笼仅不容\"\n",
    "\n",
    "encoded_review = tokenizer.encode_plus(\n",
    "  review_text1,\n",
    "  max_length=MAX_LEN,\n",
    "  add_special_tokens=True,\n",
    "  return_token_type_ids=False,\n",
    "  pad_to_max_length=True,\n",
    "  return_attention_mask=True,\n",
    "  return_tensors='pt',\n",
    ")\n",
    "\n",
    "input_ids = encoded_review['input_ids'].to(device)\n",
    "attention_mask = encoded_review['attention_mask'].to(device)\n",
    "output = model(input_ids, attention_mask)\n",
    "_, prediction = torch.max(output, dim=1)\n",
    "print(f'text: {review_text1}')\n",
    "print(f'Sentiment  : {class_names[prediction]}')\n",
    "\n",
    "review_text2 = \"终日锁筠笼回头惜翠茸谁知声㗲㗲亦自意重重夜宿烟生浦朝鸣日上峰故巢何足恋鹰隼岂能容\"\n",
    "\n",
    "encoded_review = tokenizer.encode_plus(\n",
    "  review_text2,\n",
    "  max_length=MAX_LEN,\n",
    "  add_special_tokens=True,\n",
    "  return_token_type_ids=False,\n",
    "  pad_to_max_length=True,\n",
    "  return_attention_mask=True,\n",
    "  return_tensors='pt',\n",
    ")\n",
    "\n",
    "input_ids = encoded_review['input_ids'].to(device)\n",
    "attention_mask = encoded_review['attention_mask'].to(device)\n",
    "output = model(input_ids, attention_mask)\n",
    "_, prediction = torch.max(output, dim=1)\n",
    "print(f'text: {review_text2}')\n",
    "print(f'Sentiment  : {class_names[prediction]}')"
   ]
  },
  {
   "cell_type": "code",
   "execution_count": 65,
   "metadata": {
    "id": "ml22aU_EXprG"
   },
   "outputs": [],
   "source": [
    "def predict_class(text):\n",
    "  encoded_review = tokenizer.encode_plus(\n",
    "    text,\n",
    "    max_length=MAX_LEN,\n",
    "    add_special_tokens=True,\n",
    "    return_token_type_ids=False,\n",
    "    pad_to_max_length=True,\n",
    "    return_attention_mask=True,\n",
    "    return_tensors='pt',\n",
    "  )\n",
    "\n",
    "  input_ids = encoded_review['input_ids'].to(device)\n",
    "  attention_mask = encoded_review['attention_mask'].to(device)\n",
    "  output = model(input_ids, attention_mask)\n",
    "  _, prediction = torch.max(output, dim=1)\n",
    "  return prediction"
   ]
  },
  {
   "cell_type": "code",
   "execution_count": 66,
   "metadata": {
    "id": "gayKQmYiZBB2"
   },
   "outputs": [],
   "source": [
    "predicts = []\n",
    "\n",
    "for i in range(len(test)):\n",
    "    max_preds = predict_class(test[\"final_tokens\"][i])\n",
    "    predicts.append(int(max_preds))"
   ]
  },
  {
   "cell_type": "code",
   "execution_count": 67,
   "metadata": {
    "colab": {
     "base_uri": "https://localhost:8080/"
    },
    "id": "1Q8E_V4xZK8U",
    "outputId": "0bc8793b-a267-451a-9395-51f730fead85"
   },
   "outputs": [
    {
     "data": {
      "text/plain": [
       "1008"
      ]
     },
     "execution_count": 67,
     "metadata": {},
     "output_type": "execute_result"
    }
   ],
   "source": [
    "len(predicts)"
   ]
  },
  {
   "cell_type": "code",
   "execution_count": 68,
   "metadata": {
    "colab": {
     "base_uri": "https://localhost:8080/",
     "height": 641
    },
    "id": "icq0zsqJbcAd",
    "outputId": "c0d1bae2-918c-4560-b938-ac54be4b9b82"
   },
   "outputs": [
    {
     "data": {
      "text/html": [
       "\n",
       "  <div id=\"df-c0beeb0e-35b4-4506-9215-9ad0d34d516f\">\n",
       "    <div class=\"colab-df-container\">\n",
       "      <div>\n",
       "<style scoped>\n",
       "    .dataframe tbody tr th:only-of-type {\n",
       "        vertical-align: middle;\n",
       "    }\n",
       "\n",
       "    .dataframe tbody tr th {\n",
       "        vertical-align: top;\n",
       "    }\n",
       "\n",
       "    .dataframe thead th {\n",
       "        text-align: right;\n",
       "    }\n",
       "</style>\n",
       "<table border=\"1\" class=\"dataframe\">\n",
       "  <thead>\n",
       "    <tr style=\"text-align: right;\">\n",
       "      <th></th>\n",
       "      <th>poem</th>\n",
       "      <th>sentiments</th>\n",
       "      <th>final_tokens</th>\n",
       "    </tr>\n",
       "  </thead>\n",
       "  <tbody>\n",
       "    <tr>\n",
       "      <th>0</th>\n",
       "      <td>山胡拥苍毳，两耳白茸茸。野树啼终日，黔山深几重。啄溪探细石，噪虎上孤峰。被执应多恨，筠笼仅不容。</td>\n",
       "      <td>0</td>\n",
       "      <td>山胡拥苍毳两耳白茸茸野树啼终日黔山深几重啄溪探细石噪虎上孤峰被执应多恨筠笼仅不容</td>\n",
       "    </tr>\n",
       "    <tr>\n",
       "      <th>1</th>\n",
       "      <td>水官骑苍龙，龙行欲上天。手攀时且住，浩若乘风船。不知几何长，足尾犹在渊。下有二从臣，左右乘鱼...</td>\n",
       "      <td>1</td>\n",
       "      <td>水官骑苍龙龙行欲上天手攀时且住浩若乘风船不知几何长足尾犹在渊下有二从臣左右乘鱼鼋矍铄相顾视风...</td>\n",
       "    </tr>\n",
       "    <tr>\n",
       "      <th>2</th>\n",
       "      <td>相携话别郑原上，共道长途怕雪泥。归骑还寻大梁陌，行人已渡古崤西。曾为县吏民知否，旧宿僧房壁共...</td>\n",
       "      <td>0</td>\n",
       "      <td>相携话别郑原上共道长途怕雪泥归骑还寻大梁陌行人已渡古崤西曾为县吏民知否旧宿僧房壁共题遥想独游...</td>\n",
       "    </tr>\n",
       "    <tr>\n",
       "      <th>3</th>\n",
       "      <td>朝廷入忘返，山林往不还。念无高世姿，聊处可否间。筑基仿崔巍，鞭石轻险艰。群玉相磊落，万峰正孱...</td>\n",
       "      <td>0</td>\n",
       "      <td>朝廷入忘返山林往不还念无高世姿聊处可否间筑基仿崔巍鞭石轻险艰群玉相磊落万峰正孱颜种树亦苍苍激...</td>\n",
       "    </tr>\n",
       "    <tr>\n",
       "      <th>4</th>\n",
       "      <td>一岁不复居，一日安足惜。人心畏增年，对酒语终夕。夜长书室幽，灯烛明照席。盘飧杂梁楚，羊炙错鱼...</td>\n",
       "      <td>1</td>\n",
       "      <td>一岁不复居一日安足惜人心畏增年对酒语终夕夜长书室幽灯烛明照席盘飧杂梁楚羊炙错鱼腊庖人馔鸡兔家...</td>\n",
       "    </tr>\n",
       "    <tr>\n",
       "      <th>...</th>\n",
       "      <td>...</td>\n",
       "      <td>...</td>\n",
       "      <td>...</td>\n",
       "    </tr>\n",
       "    <tr>\n",
       "      <th>1003</th>\n",
       "      <td>雪堂蜜酒花作醅，教蜂使酿花自栽。堂前雪落蜂正蛰，恨蜂不采西山梅。漫浪饮处空有迹，无酒可沃胸崔...</td>\n",
       "      <td>1</td>\n",
       "      <td>雪堂蜜酒花作醅教蜂使酿花自栽堂前雪落蜂正蛰恨蜂不采西山梅漫浪饮处空有迹无酒可沃胸崔嵬不知几唤...</td>\n",
       "    </tr>\n",
       "    <tr>\n",
       "      <th>1004</th>\n",
       "      <td>于阗花骢龙八尺，看云不受络头丝。西河骢作蒲萄锦，双瞳夹镜耳卓锥。长楸落日试天步，知有四极无由...</td>\n",
       "      <td>1</td>\n",
       "      <td>于阗花骢龙八尺看云不受络头丝西河骢作蒲萄锦双瞳夹镜耳卓锥长楸落日试天步知有四极无由驰电行山立...</td>\n",
       "    </tr>\n",
       "    <tr>\n",
       "      <th>1005</th>\n",
       "      <td>风从落帆休，天与大江平。僧坊昼亦静，钟磬寒逾清。淹留属暇日，植杖数连甍。颇与幽子逢，煮茗当酒...</td>\n",
       "      <td>2</td>\n",
       "      <td>风从落帆休天与大江平僧坊昼亦静钟磬寒逾清淹留属暇日植杖数连甍颇与幽子逢煮茗当酒倾携手霜木末朱...</td>\n",
       "    </tr>\n",
       "    <tr>\n",
       "      <th>1006</th>\n",
       "      <td>朱颜发过如春醅，胸中梨枣初未栽。丹砂未易扫白发，赤松却欲参黄梅。寒溪本自远公社，白莲翠竹依崔...</td>\n",
       "      <td>1</td>\n",
       "      <td>朱颜发过如春醅胸中梨枣初未栽丹砂未易扫白发赤松却欲参黄梅寒溪本自远公社白莲翠竹依崔嵬当时石泉...</td>\n",
       "    </tr>\n",
       "    <tr>\n",
       "      <th>1007</th>\n",
       "      <td>北舟揽黄氏，楚楚不自平。故步聊低回，新月微风清。蛙声语莫下，泡涌浮修甍。何在超世游，翳路情难...</td>\n",
       "      <td>0</td>\n",
       "      <td>北舟揽黄氏楚楚不自平故步聊低回新月微风清蛙声语莫下泡涌浮修甍何在超世游翳路情难倾西堂梦不到春...</td>\n",
       "    </tr>\n",
       "  </tbody>\n",
       "</table>\n",
       "<p>1008 rows × 3 columns</p>\n",
       "</div>\n",
       "      <button class=\"colab-df-convert\" onclick=\"convertToInteractive('df-c0beeb0e-35b4-4506-9215-9ad0d34d516f')\"\n",
       "              title=\"Convert this dataframe to an interactive table.\"\n",
       "              style=\"display:none;\">\n",
       "        \n",
       "  <svg xmlns=\"http://www.w3.org/2000/svg\" height=\"24px\"viewBox=\"0 0 24 24\"\n",
       "       width=\"24px\">\n",
       "    <path d=\"M0 0h24v24H0V0z\" fill=\"none\"/>\n",
       "    <path d=\"M18.56 5.44l.94 2.06.94-2.06 2.06-.94-2.06-.94-.94-2.06-.94 2.06-2.06.94zm-11 1L8.5 8.5l.94-2.06 2.06-.94-2.06-.94L8.5 2.5l-.94 2.06-2.06.94zm10 10l.94 2.06.94-2.06 2.06-.94-2.06-.94-.94-2.06-.94 2.06-2.06.94z\"/><path d=\"M17.41 7.96l-1.37-1.37c-.4-.4-.92-.59-1.43-.59-.52 0-1.04.2-1.43.59L10.3 9.45l-7.72 7.72c-.78.78-.78 2.05 0 2.83L4 21.41c.39.39.9.59 1.41.59.51 0 1.02-.2 1.41-.59l7.78-7.78 2.81-2.81c.8-.78.8-2.07 0-2.86zM5.41 20L4 18.59l7.72-7.72 1.47 1.35L5.41 20z\"/>\n",
       "  </svg>\n",
       "      </button>\n",
       "      \n",
       "  <style>\n",
       "    .colab-df-container {\n",
       "      display:flex;\n",
       "      flex-wrap:wrap;\n",
       "      gap: 12px;\n",
       "    }\n",
       "\n",
       "    .colab-df-convert {\n",
       "      background-color: #E8F0FE;\n",
       "      border: none;\n",
       "      border-radius: 50%;\n",
       "      cursor: pointer;\n",
       "      display: none;\n",
       "      fill: #1967D2;\n",
       "      height: 32px;\n",
       "      padding: 0 0 0 0;\n",
       "      width: 32px;\n",
       "    }\n",
       "\n",
       "    .colab-df-convert:hover {\n",
       "      background-color: #E2EBFA;\n",
       "      box-shadow: 0px 1px 2px rgba(60, 64, 67, 0.3), 0px 1px 3px 1px rgba(60, 64, 67, 0.15);\n",
       "      fill: #174EA6;\n",
       "    }\n",
       "\n",
       "    [theme=dark] .colab-df-convert {\n",
       "      background-color: #3B4455;\n",
       "      fill: #D2E3FC;\n",
       "    }\n",
       "\n",
       "    [theme=dark] .colab-df-convert:hover {\n",
       "      background-color: #434B5C;\n",
       "      box-shadow: 0px 1px 3px 1px rgba(0, 0, 0, 0.15);\n",
       "      filter: drop-shadow(0px 1px 2px rgba(0, 0, 0, 0.3));\n",
       "      fill: #FFFFFF;\n",
       "    }\n",
       "  </style>\n",
       "\n",
       "      <script>\n",
       "        const buttonEl =\n",
       "          document.querySelector('#df-c0beeb0e-35b4-4506-9215-9ad0d34d516f button.colab-df-convert');\n",
       "        buttonEl.style.display =\n",
       "          google.colab.kernel.accessAllowed ? 'block' : 'none';\n",
       "\n",
       "        async function convertToInteractive(key) {\n",
       "          const element = document.querySelector('#df-c0beeb0e-35b4-4506-9215-9ad0d34d516f');\n",
       "          const dataTable =\n",
       "            await google.colab.kernel.invokeFunction('convertToInteractive',\n",
       "                                                     [key], {});\n",
       "          if (!dataTable) return;\n",
       "\n",
       "          const docLinkHtml = 'Like what you see? Visit the ' +\n",
       "            '<a target=\"_blank\" href=https://colab.research.google.com/notebooks/data_table.ipynb>data table notebook</a>'\n",
       "            + ' to learn more about interactive tables.';\n",
       "          element.innerHTML = '';\n",
       "          dataTable['output_type'] = 'display_data';\n",
       "          await google.colab.output.renderOutput(dataTable, element);\n",
       "          const docLink = document.createElement('div');\n",
       "          docLink.innerHTML = docLinkHtml;\n",
       "          element.appendChild(docLink);\n",
       "        }\n",
       "      </script>\n",
       "    </div>\n",
       "  </div>\n",
       "  "
      ],
      "text/plain": [
       "                                                   poem  sentiments  \\\n",
       "0      山胡拥苍毳，两耳白茸茸。野树啼终日，黔山深几重。啄溪探细石，噪虎上孤峰。被执应多恨，筠笼仅不容。           0   \n",
       "1     水官骑苍龙，龙行欲上天。手攀时且住，浩若乘风船。不知几何长，足尾犹在渊。下有二从臣，左右乘鱼...           1   \n",
       "2     相携话别郑原上，共道长途怕雪泥。归骑还寻大梁陌，行人已渡古崤西。曾为县吏民知否，旧宿僧房壁共...           0   \n",
       "3     朝廷入忘返，山林往不还。念无高世姿，聊处可否间。筑基仿崔巍，鞭石轻险艰。群玉相磊落，万峰正孱...           0   \n",
       "4     一岁不复居，一日安足惜。人心畏增年，对酒语终夕。夜长书室幽，灯烛明照席。盘飧杂梁楚，羊炙错鱼...           1   \n",
       "...                                                 ...         ...   \n",
       "1003  雪堂蜜酒花作醅，教蜂使酿花自栽。堂前雪落蜂正蛰，恨蜂不采西山梅。漫浪饮处空有迹，无酒可沃胸崔...           1   \n",
       "1004  于阗花骢龙八尺，看云不受络头丝。西河骢作蒲萄锦，双瞳夹镜耳卓锥。长楸落日试天步，知有四极无由...           1   \n",
       "1005  风从落帆休，天与大江平。僧坊昼亦静，钟磬寒逾清。淹留属暇日，植杖数连甍。颇与幽子逢，煮茗当酒...           2   \n",
       "1006  朱颜发过如春醅，胸中梨枣初未栽。丹砂未易扫白发，赤松却欲参黄梅。寒溪本自远公社，白莲翠竹依崔...           1   \n",
       "1007  北舟揽黄氏，楚楚不自平。故步聊低回，新月微风清。蛙声语莫下，泡涌浮修甍。何在超世游，翳路情难...           0   \n",
       "\n",
       "                                           final_tokens  \n",
       "0              山胡拥苍毳两耳白茸茸野树啼终日黔山深几重啄溪探细石噪虎上孤峰被执应多恨筠笼仅不容  \n",
       "1     水官骑苍龙龙行欲上天手攀时且住浩若乘风船不知几何长足尾犹在渊下有二从臣左右乘鱼鼋矍铄相顾视风...  \n",
       "2     相携话别郑原上共道长途怕雪泥归骑还寻大梁陌行人已渡古崤西曾为县吏民知否旧宿僧房壁共题遥想独游...  \n",
       "3     朝廷入忘返山林往不还念无高世姿聊处可否间筑基仿崔巍鞭石轻险艰群玉相磊落万峰正孱颜种树亦苍苍激...  \n",
       "4     一岁不复居一日安足惜人心畏增年对酒语终夕夜长书室幽灯烛明照席盘飧杂梁楚羊炙错鱼腊庖人馔鸡兔家...  \n",
       "...                                                 ...  \n",
       "1003  雪堂蜜酒花作醅教蜂使酿花自栽堂前雪落蜂正蛰恨蜂不采西山梅漫浪饮处空有迹无酒可沃胸崔嵬不知几唤...  \n",
       "1004  于阗花骢龙八尺看云不受络头丝西河骢作蒲萄锦双瞳夹镜耳卓锥长楸落日试天步知有四极无由驰电行山立...  \n",
       "1005  风从落帆休天与大江平僧坊昼亦静钟磬寒逾清淹留属暇日植杖数连甍颇与幽子逢煮茗当酒倾携手霜木末朱...  \n",
       "1006  朱颜发过如春醅胸中梨枣初未栽丹砂未易扫白发赤松却欲参黄梅寒溪本自远公社白莲翠竹依崔嵬当时石泉...  \n",
       "1007  北舟揽黄氏楚楚不自平故步聊低回新月微风清蛙声语莫下泡涌浮修甍何在超世游翳路情难倾西堂梦不到春...  \n",
       "\n",
       "[1008 rows x 3 columns]"
      ]
     },
     "execution_count": 68,
     "metadata": {},
     "output_type": "execute_result"
    }
   ],
   "source": [
    "input_predictions = pd.DataFrame(predicts) # 예측한 토픽을 데이터프레임으로 만들어 붙이기\n",
    "input_predictions.columns = [\"sentiments\"]\n",
    "test[\"sentiments\"] = input_predictions[\"sentiments\"] # 정답으로 가정하고 데이터프레임에 붙여넣기\n",
    "test"
   ]
  },
  {
   "cell_type": "code",
   "execution_count": 69,
   "metadata": {
    "colab": {
     "base_uri": "https://localhost:8080/"
    },
    "id": "NuhFxkcwbva0",
    "outputId": "388a340f-2979-48da-e72c-441deeb34ce6"
   },
   "outputs": [
    {
     "data": {
      "text/plain": [
       "1    412\n",
       "0    298\n",
       "2    298\n",
       "Name: sentiments, dtype: int64"
      ]
     },
     "execution_count": 69,
     "metadata": {},
     "output_type": "execute_result"
    }
   ],
   "source": [
    "test[\"sentiments\"].value_counts()"
   ]
  },
  {
   "cell_type": "code",
   "execution_count": 70,
   "metadata": {
    "id": "OAiKp_f7cVry"
   },
   "outputs": [],
   "source": [
    "test.to_csv(\"bert-base.csv\")"
   ]
  }
 ],
 "metadata": {
  "accelerator": "GPU",
  "colab": {
   "machine_shape": "hm",
   "provenance": []
  },
  "gpuClass": "standard",
  "kernelspec": {
   "display_name": "Python 3",
   "language": "python",
   "name": "python3"
  },
  "language_info": {
   "codemirror_mode": {
    "name": "ipython",
    "version": 3
   },
   "file_extension": ".py",
   "mimetype": "text/x-python",
   "name": "python",
   "nbconvert_exporter": "python",
   "pygments_lexer": "ipython3",
   "version": "3.9.5"
  }
 },
 "nbformat": 4,
 "nbformat_minor": 1
}
