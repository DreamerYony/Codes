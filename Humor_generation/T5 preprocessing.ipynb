{
 "cells": [
  {
   "attachments": {},
   "cell_type": "markdown",
   "metadata": {},
   "source": [
    "# Import"
   ]
  },
  {
   "cell_type": "code",
   "execution_count": 1,
   "metadata": {},
   "outputs": [],
   "source": [
    "import math\n",
    "import random\n",
    "import pandas as pd\n",
    "from nltk.corpus import stopwords\n",
    "from nltk.tokenize import word_tokenize \n",
    "from spellchecker import SpellChecker\n",
    "\n",
    "stop_words = set(stopwords.words('english')) "
   ]
  },
  {
   "attachments": {},
   "cell_type": "markdown",
   "metadata": {},
   "source": [
    "# 단어 교체(Word Replacement)"
   ]
  },
  {
   "cell_type": "code",
   "execution_count": 2,
   "metadata": {},
   "outputs": [
    {
     "ename": "NameError",
     "evalue": "name 'get_similar_syllable' is not defined",
     "output_type": "error",
     "traceback": [
      "\u001b[0;31m---------------------------------------------------------------------------\u001b[0m",
      "\u001b[0;31mNameError\u001b[0m                                 Traceback (most recent call last)",
      "\u001b[0;32m<ipython-input-2-a79f14bf3c62>\u001b[0m in \u001b[0;36m<module>\u001b[0;34m\u001b[0m\n\u001b[1;32m     29\u001b[0m             \u001b[0mcnt\u001b[0m \u001b[0;34m+=\u001b[0m \u001b[0;36m1\u001b[0m\u001b[0;34m\u001b[0m\u001b[0;34m\u001b[0m\u001b[0m\n\u001b[1;32m     30\u001b[0m \u001b[0;34m\u001b[0m\u001b[0m\n\u001b[0;32m---> 31\u001b[0;31m \u001b[0mget_similar_syllable\u001b[0m\u001b[0;34m(\u001b[0m\u001b[0msentence\u001b[0m\u001b[0;34m)\u001b[0m\u001b[0;34m\u001b[0m\u001b[0;34m\u001b[0m\u001b[0m\n\u001b[0m",
      "\u001b[0;31mNameError\u001b[0m: name 'get_similar_syllable' is not defined"
     ]
    }
   ],
   "source": [
    "spell = SpellChecker()\n",
    "\n",
    "\n",
    "def get_word_replacement(sentence):\n",
    "    cnt = 0\n",
    "    candidate_word = {}\n",
    "    while True:\n",
    "        for origin_word in word_tokenize(sentence):\n",
    "            if origin_word not in stop_words:\n",
    "                word = origin_word\n",
    "                # find those words that may be misspelled\n",
    "                word = word.replace(word[random.randrange(0,len(word))], '')\n",
    "                word_dict = {}\n",
    "\n",
    "                candid = spell.candidates(word)\n",
    "                if candid:\n",
    "                    # Get a list of `likely` options\n",
    "                    for cand in candid:\n",
    "                        word_dict[cand] = spell.word_usage_frequency(cand)\n",
    "                    likely = min(word_dict.items())\n",
    "                    candidate_word[likely[0]] = (likely[1], origin_word)\n",
    "\n",
    "        if candidate_word:\n",
    "            minimum = min(candidate_word)\n",
    "            return sentence.replace(candidate_word[minimum][1], minimum)\n",
    "        else:\n",
    "            if cnt >= 3:\n",
    "                return sentence\n",
    "            cnt += 1\n",
    "\n",
    "get_similar_syllable(sentence)"
   ]
  },
  {
   "attachments": {},
   "cell_type": "markdown",
   "metadata": {},
   "source": [
    "# 유사 발음(Similar Sound)"
   ]
  },
  {
   "cell_type": "code",
   "execution_count": 3,
   "metadata": {},
   "outputs": [
    {
     "data": {
      "text/plain": [
       "'The darke Knight'"
      ]
     },
     "execution_count": 3,
     "metadata": {},
     "output_type": "execute_result"
    }
   ],
   "source": [
    "from SoundsLike.SoundsLike import Search\n",
    "\"\"\"\n",
    "Takes a search term, searches its pronunciation,\n",
    "and returns a list of end-rhyming words in CMU Dict.\n",
    "End-rhyming words are defined as sharing the same phones from the last stressed syllable on.\n",
    "Optional arguments include:\n",
    "    match_syllables (bool):\n",
    "        If True, returns only words with the same number of syllables as Search_Term.\n",
    "        If unspecified, defaults to match_syllables=False.\n",
    "    match_alpha (bool):\n",
    "        If True, returns only words with the same first letter as Search_Term.\n",
    "        If unspecified, defaults to match_alpha=False.\n",
    "\"\"\"\n",
    "#sentence = \"the lion king\"\n",
    "sentence = \"The Dark Knight\"\n",
    "def get_similar_sound(sentence):\n",
    "    candidate_word = {}\n",
    "    m_candidate_word = {}\n",
    "    for word in word_tokenize(sentence):\n",
    "        sim_words = []\n",
    "        if word not in stop_words:\n",
    "            try:\n",
    "                sim_words = Search.endRhymes(word, match_syllables=True, match_alpha=True, generate=False)\n",
    "                random.shuffle(sim_words)\n",
    "                if sim_words:\n",
    "                    for sim_word in sim_words:\n",
    "                        if sim_word.lower() != word.lower():\n",
    "                            m_candidate_word[word] = sim_word.lower()\n",
    "            except:\n",
    "                pass\n",
    "            \n",
    "            else:\n",
    "                try:\n",
    "                    sim_words = Search.endRhymes(word, match_syllables=True, match_alpha=False, generate=False)\n",
    "                    sim_word = sim_words[random.randrange(0, len(sim_words))]\n",
    "                    candidate_word[word] = sim_word\n",
    "                except:\n",
    "                    pass\n",
    "                \n",
    "    if m_candidate_word:\n",
    "        for mcw in m_candidate_word.keys():\n",
    "            return sentence.replace(mcw, m_candidate_word[mcw])\n",
    "    elif candidate_word:\n",
    "        for cw in candidate_word.keys():\n",
    "            return sentence.replace(cw, candidate_word[cw])\n",
    "    else:\n",
    "        return sentence\n",
    "get_similar_sound(sentence)\n"
   ]
  },
  {
   "attachments": {},
   "cell_type": "markdown",
   "metadata": {},
   "source": [
    "# 유사 음절(Similar Syllable)"
   ]
  },
  {
   "cell_type": "code",
   "execution_count": 4,
   "metadata": {},
   "outputs": [
    {
     "data": {
      "text/plain": [
       "'The darke Knight'"
      ]
     },
     "execution_count": 4,
     "metadata": {},
     "output_type": "execute_result"
    }
   ],
   "source": [
    "from Phyme import Phyme\n",
    "\n",
    "ph = Phyme()\n",
    "\n",
    "sentence = \"The Dark Knight\"\n",
    "#sentence = \"captain america\"\n",
    "def get_similar_syllable(sentence):\n",
    "    candidate_word = {}\n",
    "    for word in word_tokenize(sentence):\n",
    "        # find rhymes with the same vowels and some of the same consonants, with some swapped out for other consonants. FACTOR -> FASTER\n",
    "        try:\n",
    "            rhymes = ph.get_substitution_rhymes(word)\n",
    "            for rhyme in rhymes.items():\n",
    "                for r in rhyme[1]:\n",
    "                    if word.lower() in r.lower():\n",
    "                        if word.lower() not in stop_words and word.lower() != r.lower():\n",
    "                            candidate_word[word] = r\n",
    "        except:\n",
    "            pass\n",
    "    \n",
    "    if candidate_word:\n",
    "        for cw in candidate_word.keys():\n",
    "            return sentence.replace(cw, candidate_word[cw])\n",
    "    else:\n",
    "        return sentence\n",
    "get_similar_syllable(sentence)\n"
   ]
  },
  {
   "attachments": {},
   "cell_type": "markdown",
   "metadata": {},
   "source": [
    "# Data Preprocessing"
   ]
  },
  {
   "cell_type": "code",
   "execution_count": 5,
   "metadata": {},
   "outputs": [
    {
     "data": {
      "text/html": [
       "<div>\n",
       "<style scoped>\n",
       "    .dataframe tbody tr th:only-of-type {\n",
       "        vertical-align: middle;\n",
       "    }\n",
       "\n",
       "    .dataframe tbody tr th {\n",
       "        vertical-align: top;\n",
       "    }\n",
       "\n",
       "    .dataframe thead th {\n",
       "        text-align: right;\n",
       "    }\n",
       "</style>\n",
       "<table border=\"1\" class=\"dataframe\">\n",
       "  <thead>\n",
       "    <tr style=\"text-align: right;\">\n",
       "      <th></th>\n",
       "      <th>movie title</th>\n",
       "      <th>votes</th>\n",
       "    </tr>\n",
       "  </thead>\n",
       "  <tbody>\n",
       "    <tr>\n",
       "      <th>329</th>\n",
       "      <td>The Shawshank Redemption</td>\n",
       "      <td>1965648</td>\n",
       "    </tr>\n",
       "    <tr>\n",
       "      <th>758</th>\n",
       "      <td>The Dark Knight</td>\n",
       "      <td>1937000</td>\n",
       "    </tr>\n",
       "    <tr>\n",
       "      <th>1105</th>\n",
       "      <td>Inception</td>\n",
       "      <td>1720760</td>\n",
       "    </tr>\n",
       "    <tr>\n",
       "      <th>1027</th>\n",
       "      <td>Fight Club</td>\n",
       "      <td>1575298</td>\n",
       "    </tr>\n",
       "    <tr>\n",
       "      <th>580</th>\n",
       "      <td>Pulp Fiction</td>\n",
       "      <td>1536659</td>\n",
       "    </tr>\n",
       "  </tbody>\n",
       "</table>\n",
       "</div>"
      ],
      "text/plain": [
       "                   movie title    votes\n",
       "329   The Shawshank Redemption  1965648\n",
       "758            The Dark Knight  1937000\n",
       "1105                 Inception  1720760\n",
       "1027                Fight Club  1575298\n",
       "580               Pulp Fiction  1536659"
      ]
     },
     "execution_count": 5,
     "metadata": {},
     "output_type": "execute_result"
    }
   ],
   "source": [
    "#df = pd.read_csv(\"/home/synpjh/dayeon/dayeon4/humor_titles.csv\")\n",
    "df = pd.read_csv(\"/home/synpjh/dayeon/dayeon4/popular_movie_titles.csv\")\n",
    "df = df.sort_values(by=['votes'], ascending=False)\n",
    "df.head()"
   ]
  },
  {
   "cell_type": "code",
   "execution_count": 18,
   "metadata": {},
   "outputs": [],
   "source": [
    "def get_humor_title(f, col):\n",
    "    humor_title = []\n",
    "    cnt = 0\n",
    "    for i in range(len(df)):   \n",
    "\n",
    "        if col.iloc[i].lower() != f(col.iloc[i]).lower():\n",
    "            humor_title.append( (col.iloc[i], f(col.iloc[i])) )\n",
    "            cnt += 1\n",
    "        if cnt >= 63:\n",
    "            return humor_title\n",
    "    return humor_title"
   ]
  },
  {
   "cell_type": "code",
   "execution_count": 23,
   "metadata": {},
   "outputs": [
    {
     "data": {
      "text/plain": [
       "[('The Shawshank Redemption', 'The sawshank Redemption'),\n",
       " ('The Dark Knight', 'The darke Knight'),\n",
       " ('Fight Club', 'fright Club'),\n",
       " ('Pulp Fiction', 'Pulp friction'),\n",
       " ('Forrest Gump', 'Forrest gumpp'),\n",
       " ('The Lord of the Rings: The Fellowship of the Ring',\n",
       "  \"The Lord of the ring's: The Fellowship of the Ring\"),\n",
       " ('The Lord of the Rings: The Return of the King',\n",
       "  \"The Lord of the ring's: The Return of the King\"),\n",
       " ('The Godfather', 'The grandfather'),\n",
       " ('Game of Thrones', 'Aim of Thrones'),\n",
       " ('The Dark Knight Rises', 'The darke Knight Rises'),\n",
       " ('The Lord of the Rings: The Two Towers',\n",
       "  \"The Lord of the ring's: The Two Towers\"),\n",
       " ('Gladiator', 'generator'),\n",
       " ('Batman Begins', 'bethann Begins'),\n",
       " ('Breaking Bad', 'baking Bad'),\n",
       " ('Star Wars: Episode IV - A New Hope', 'spahr Wars: Episode IV - A New Hope'),\n",
       " ('The Silence of the Lambs', \"The Silence of the lamb's\"),\n",
       " ('Saving Private Ryan', 'shaving Private Ryan'),\n",
       " (\"Schindler's List\", \"shindler's List\"),\n",
       " ('Avatar', 'alcazar'),\n",
       " ('Star Wars: Episode V - The Empire Strikes Back',\n",
       "  'saar Wars: Episode V - The Empire Strikes Back'),\n",
       " ('Memento', 'Sarmento'),\n",
       " ('The Wolf of Wall Street', 'The wulf of Wall Street'),\n",
       " ('American Beauty', 'American bootie'),\n",
       " ('Shutter Island', 'schutter Island'),\n",
       " ('The Green Mile', 'The glean Mile'),\n",
       " ('The Godfather: Part II', 'The grandfather: Part II'),\n",
       " ('Pirates of the Caribbean: The Curse of the Black Pearl',\n",
       "  \"pirate's of the Caribbean: The Curse of the Black Pearl\"),\n",
       " ('V for Vendetta', 'v. for v.endetta'),\n",
       " ('Titanic', 'tympanic'),\n",
       " ('Back to the Future', 'brakke to the Future'),\n",
       " ('Léon: The Professional', 'Léon: The processional'),\n",
       " ('The Usual Suspects', \"The Usual suspects'\"),\n",
       " ('Terminator 2', 'telestrator 2'),\n",
       " ('Guardians of the Galaxy', \"guardian's of the Galaxy\"),\n",
       " ('Kill Bill: Vol. 1', 'knill Bill: Vol. 1'),\n",
       " ('Finding Nemo', 'Blinding Nemo'),\n",
       " ('Star Wars: Episode VI - Return of the Jedi',\n",
       "  'saar Wars: Episode VI - Return of the Jedi'),\n",
       " ('The Sixth Sense', 'The Sixth spence'),\n",
       " ('Iron Man', 'Iron manne'),\n",
       " ('Up', 'upp'),\n",
       " ('The Truman Show', 'The tooman Show'),\n",
       " (\"One Flew Over the Cuckoo's Nest\", \"One flue Over the Cuckoo's Nest\"),\n",
       " ('Eternal Sunshine of the Spotless Mind',\n",
       "  'external Sunshine of the Spotless Mind'),\n",
       " ('Reservoir Dogs', 'registrar Dogs'),\n",
       " ('The Lion King', 'The lyon King'),\n",
       " ('The Hunger Games', \"The Hunger game's\"),\n",
       " ('Raiders of the Lost Ark', \"raiders' of the Lost Ark\"),\n",
       " ('Star Wars: The Force Awakens', 'schar Wars: The Force Awakens'),\n",
       " ('The Walking Dead', 'The Walking dredd'),\n",
       " ('Toy Story', 'toye Story'),\n",
       " ('Jurassic Park', 'Jurassic parc'),\n",
       " ('The Shining', 'The signing'),\n",
       " ('A Beautiful Mind', 'ae Beautiful Mind'),\n",
       " ('No Country for Old Men', 'noe Country for Old Men'),\n",
       " ('Mad Max: Fury Road', 'madd Max: Fury Road'),\n",
       " ('Slumdog Millionaire', 'Slumdog microware'),\n",
       " ('Gone Girl', 'gawne Girl'),\n",
       " ('Sin City', 'shin City'),\n",
       " ('The Hobbit: An Unexpected Journey', 'The Hobbit: An unelected Journey'),\n",
       " ('Monsters, Inc.', 'Monsters, ink.'),\n",
       " ('The Terminator', 'The telustrator'),\n",
       " ('Snatch', 'scratch'),\n",
       " ('Die Hard', 'dry Hard')]"
      ]
     },
     "execution_count": 23,
     "metadata": {},
     "output_type": "execute_result"
    }
   ],
   "source": [
    "ssd = get_humor_title(get_similar_sound, df['movie title'])\n",
    "ssd"
   ]
  },
  {
   "cell_type": "code",
   "execution_count": 24,
   "metadata": {},
   "outputs": [
    {
     "data": {
      "text/plain": [
       "[('The Shawshank Redemption', 'The sawshank Redemption'),\n",
       " ('The Dark Knight', 'The darke Knight'),\n",
       " ('Fight Club', 'fright Club'),\n",
       " ('Pulp Fiction', 'Pulp friction'),\n",
       " ('Forrest Gump', 'Forrest gumpp'),\n",
       " ('The Lord of the Rings: The Fellowship of the Ring',\n",
       "  \"The Lord of the ring's: The Fellowship of the Ring\"),\n",
       " ('The Lord of the Rings: The Return of the King',\n",
       "  \"The Lord of the ring's: The Return of the King\"),\n",
       " ('The Godfather', 'The grandfather'),\n",
       " ('Game of Thrones', 'Aim of Thrones'),\n",
       " ('The Dark Knight Rises', 'The darke Knight Rises'),\n",
       " ('The Lord of the Rings: The Two Towers',\n",
       "  \"The Lord of the ring's: The Two Towers\"),\n",
       " ('Gladiator', 'generator'),\n",
       " ('Batman Begins', 'bethann Begins'),\n",
       " ('Breaking Bad', 'baking Bad'),\n",
       " ('Star Wars: Episode IV - A New Hope', 'spahr Wars: Episode IV - A New Hope'),\n",
       " ('The Silence of the Lambs', \"The Silence of the lamb's\")]"
      ]
     },
     "execution_count": 24,
     "metadata": {},
     "output_type": "execute_result"
    }
   ],
   "source": [
    "ssd16 = ssd[:16]\n",
    "ssd16"
   ]
  },
  {
   "cell_type": "code",
   "execution_count": 25,
   "metadata": {},
   "outputs": [
    {
     "data": {
      "text/plain": [
       "[('The Shawshank Redemption', 'The sawshank Redemption'),\n",
       " ('The Dark Knight', 'The darke Knight'),\n",
       " ('Fight Club', 'fright Club'),\n",
       " ('Pulp Fiction', 'Pulp friction'),\n",
       " ('Forrest Gump', 'Forrest gumpp'),\n",
       " ('The Lord of the Rings: The Fellowship of the Ring',\n",
       "  \"The Lord of the ring's: The Fellowship of the Ring\"),\n",
       " ('The Lord of the Rings: The Return of the King',\n",
       "  \"The Lord of the ring's: The Return of the King\"),\n",
       " ('The Godfather', 'The grandfather'),\n",
       " ('Game of Thrones', 'Aim of Thrones'),\n",
       " ('The Dark Knight Rises', 'The darke Knight Rises'),\n",
       " ('The Lord of the Rings: The Two Towers',\n",
       "  \"The Lord of the ring's: The Two Towers\"),\n",
       " ('Gladiator', 'generator'),\n",
       " ('Batman Begins', 'bethann Begins'),\n",
       " ('Breaking Bad', 'baking Bad'),\n",
       " ('Star Wars: Episode IV - A New Hope', 'spahr Wars: Episode IV - A New Hope'),\n",
       " ('The Silence of the Lambs', \"The Silence of the lamb's\"),\n",
       " ('Saving Private Ryan', 'shaving Private Ryan'),\n",
       " (\"Schindler's List\", \"shindler's List\"),\n",
       " ('Avatar', 'alcazar'),\n",
       " ('Star Wars: Episode V - The Empire Strikes Back',\n",
       "  'saar Wars: Episode V - The Empire Strikes Back'),\n",
       " ('Memento', 'Sarmento'),\n",
       " ('The Wolf of Wall Street', 'The wulf of Wall Street'),\n",
       " ('American Beauty', 'American bootie'),\n",
       " ('Shutter Island', 'schutter Island'),\n",
       " ('The Green Mile', 'The glean Mile'),\n",
       " ('The Godfather: Part II', 'The grandfather: Part II'),\n",
       " ('Pirates of the Caribbean: The Curse of the Black Pearl',\n",
       "  \"pirate's of the Caribbean: The Curse of the Black Pearl\"),\n",
       " ('V for Vendetta', 'v. for v.endetta'),\n",
       " ('Titanic', 'tympanic'),\n",
       " ('Back to the Future', 'brakke to the Future'),\n",
       " ('Léon: The Professional', 'Léon: The processional'),\n",
       " ('The Usual Suspects', \"The Usual suspects'\")]"
      ]
     },
     "execution_count": 25,
     "metadata": {},
     "output_type": "execute_result"
    }
   ],
   "source": [
    "ssd32 = ssd[:32]\n",
    "ssd32"
   ]
  },
  {
   "cell_type": "code",
   "execution_count": 26,
   "metadata": {},
   "outputs": [
    {
     "data": {
      "text/plain": [
       "[('The Shawshank Redemption', 'The sawshank Redemption'),\n",
       " ('The Dark Knight', 'The darke Knight'),\n",
       " ('Fight Club', 'fright Club'),\n",
       " ('Pulp Fiction', 'Pulp friction'),\n",
       " ('Forrest Gump', 'Forrest gumpp'),\n",
       " ('The Lord of the Rings: The Fellowship of the Ring',\n",
       "  \"The Lord of the ring's: The Fellowship of the Ring\"),\n",
       " ('The Lord of the Rings: The Return of the King',\n",
       "  \"The Lord of the ring's: The Return of the King\"),\n",
       " ('The Godfather', 'The grandfather'),\n",
       " ('Game of Thrones', 'Aim of Thrones'),\n",
       " ('The Dark Knight Rises', 'The darke Knight Rises'),\n",
       " ('The Lord of the Rings: The Two Towers',\n",
       "  \"The Lord of the ring's: The Two Towers\"),\n",
       " ('Gladiator', 'generator'),\n",
       " ('Batman Begins', 'bethann Begins'),\n",
       " ('Breaking Bad', 'baking Bad'),\n",
       " ('Star Wars: Episode IV - A New Hope', 'spahr Wars: Episode IV - A New Hope'),\n",
       " ('The Silence of the Lambs', \"The Silence of the lamb's\"),\n",
       " ('Saving Private Ryan', 'shaving Private Ryan'),\n",
       " (\"Schindler's List\", \"shindler's List\"),\n",
       " ('Avatar', 'alcazar'),\n",
       " ('Star Wars: Episode V - The Empire Strikes Back',\n",
       "  'saar Wars: Episode V - The Empire Strikes Back'),\n",
       " ('Memento', 'Sarmento'),\n",
       " ('The Wolf of Wall Street', 'The wulf of Wall Street'),\n",
       " ('American Beauty', 'American bootie'),\n",
       " ('Shutter Island', 'schutter Island'),\n",
       " ('The Green Mile', 'The glean Mile'),\n",
       " ('The Godfather: Part II', 'The grandfather: Part II'),\n",
       " ('Pirates of the Caribbean: The Curse of the Black Pearl',\n",
       "  \"pirate's of the Caribbean: The Curse of the Black Pearl\"),\n",
       " ('V for Vendetta', 'v. for v.endetta'),\n",
       " ('Titanic', 'tympanic'),\n",
       " ('Back to the Future', 'brakke to the Future'),\n",
       " ('Léon: The Professional', 'Léon: The processional'),\n",
       " ('The Usual Suspects', \"The Usual suspects'\"),\n",
       " ('Terminator 2', 'telestrator 2'),\n",
       " ('Guardians of the Galaxy', \"guardian's of the Galaxy\"),\n",
       " ('Kill Bill: Vol. 1', 'knill Bill: Vol. 1'),\n",
       " ('Finding Nemo', 'Blinding Nemo'),\n",
       " ('Star Wars: Episode VI - Return of the Jedi',\n",
       "  'saar Wars: Episode VI - Return of the Jedi'),\n",
       " ('The Sixth Sense', 'The Sixth spence'),\n",
       " ('Iron Man', 'Iron manne'),\n",
       " ('Up', 'upp'),\n",
       " ('The Truman Show', 'The tooman Show'),\n",
       " (\"One Flew Over the Cuckoo's Nest\", \"One flue Over the Cuckoo's Nest\"),\n",
       " ('Eternal Sunshine of the Spotless Mind',\n",
       "  'external Sunshine of the Spotless Mind'),\n",
       " ('Reservoir Dogs', 'registrar Dogs'),\n",
       " ('The Lion King', 'The lyon King'),\n",
       " ('The Hunger Games', \"The Hunger game's\"),\n",
       " ('Raiders of the Lost Ark', \"raiders' of the Lost Ark\"),\n",
       " ('Star Wars: The Force Awakens', 'schar Wars: The Force Awakens'),\n",
       " ('The Walking Dead', 'The Walking dredd'),\n",
       " ('Toy Story', 'toye Story'),\n",
       " ('Jurassic Park', 'Jurassic parc'),\n",
       " ('The Shining', 'The signing'),\n",
       " ('A Beautiful Mind', 'ae Beautiful Mind'),\n",
       " ('No Country for Old Men', 'noe Country for Old Men'),\n",
       " ('Mad Max: Fury Road', 'madd Max: Fury Road'),\n",
       " ('Slumdog Millionaire', 'Slumdog microware'),\n",
       " ('Gone Girl', 'gawne Girl'),\n",
       " ('Sin City', 'shin City'),\n",
       " ('The Hobbit: An Unexpected Journey', 'The Hobbit: An unelected Journey'),\n",
       " ('Monsters, Inc.', 'Monsters, ink.'),\n",
       " ('The Terminator', 'The telustrator'),\n",
       " ('Snatch', 'scratch'),\n",
       " ('Die Hard', 'dry Hard')]"
      ]
     },
     "execution_count": 26,
     "metadata": {},
     "output_type": "execute_result"
    }
   ],
   "source": [
    "ssd64 = ssd[:64]\n",
    "ssd64"
   ]
  },
  {
   "cell_type": "code",
   "execution_count": 27,
   "metadata": {},
   "outputs": [
    {
     "data": {
      "text/plain": [
       "[('The Dark Knight', 'The darke Knight'),\n",
       " ('Fight Club', 'Fight clubb'),\n",
       " ('Pulp Fiction', 'Pulp nonfiction'),\n",
       " ('Forrest Gump', 'Forrest gumpp'),\n",
       " ('The Lord of the Rings: The Fellowship of the Ring',\n",
       "  'The Lord of the springs(1): The Fellowship of the Ring'),\n",
       " ('The Lord of the Rings: The Return of the King',\n",
       "  'The Lord of the springs(1): The Return of the King'),\n",
       " ('Game of Thrones', 'postgame of Thrones'),\n",
       " ('The Dark Knight Rises', 'The darke Knight Rises'),\n",
       " ('The Lord of the Rings: The Two Towers',\n",
       "  'The Lord of the springs(1): The Two Towers'),\n",
       " ('Breaking Bad', 'Breaking shabad'),\n",
       " ('Star Wars: Episode IV - A New Hope',\n",
       "  'superstar Wars: Episode IV - A New Hope'),\n",
       " ('The Silence of the Lambs', \"The Silence of the lambs'\"),\n",
       " ('Saving Private Ryan', 'Saving Private obryan'),\n",
       " (\"Schindler's List\", \"Schindlero'shell List\"),\n",
       " ('Star Wars: Episode V - The Empire Strikes Back',\n",
       "  'superstar Wars: Episode V - The Empire Strikes Back'),\n",
       " ('The Wolf of Wall Street', 'The dewolfe of Wall Street'),\n",
       " ('American Beauty', 'african-american Beauty'),\n",
       " ('Shutter Island', 'Shutter rhode-island'),\n",
       " ('The Green Mile', 'The pilgreen Mile'),\n",
       " ('The Godfather: Part II', 'The Godfather: impart II'),\n",
       " ('Pirates of the Caribbean: The Curse of the Black Pearl',\n",
       "  'Pirates of the Caribbean: The Curse of the Black pearle'),\n",
       " ('V for Vendetta', 'irve(1) for irve(1)endetta'),\n",
       " ('American History X', 'african-american History X'),\n",
       " ('Back to the Future', 'aback to the Future'),\n",
       " ('Léon: The Professional', 'Léon: The unprofessional'),\n",
       " ('Terminator 2', 'exterminator 2'),\n",
       " ('Kill Bill: Vol. 1', 'gaitskill Bill: Vol. 1'),\n",
       " ('Star Wars: Episode VI - Return of the Jedi',\n",
       "  'superstar Wars: Episode VI - Return of the Jedi'),\n",
       " ('The Sixth Sense', 'The Sixth commonsense'),\n",
       " ('Iron Man', 'Iron soloman'),\n",
       " (\"One Flew Over the Cuckoo's Nest\", \"simeone Flew Over the Cuckoo's Nest\"),\n",
       " ('Eternal Sunshine of the Spotless Mind',\n",
       "  'eternal(1) Sunshine of the Spotless Mind'),\n",
       " ('Reservoir Dogs', 'reservoir(1) Dogs'),\n",
       " ('The Lion King', 'The Lion peking'),\n",
       " ('The Hunger Games', \"The Hunger games'\"),\n",
       " ('Raiders of the Lost Ark', \"raiders' of the Lost Ark\"),\n",
       " ('Star Wars: The Force Awakens', 'superstar Wars: The Force Awakens'),\n",
       " ('Toy Story', 'toye Story'),\n",
       " ('Jurassic Park', 'Jurassic transpark'),\n",
       " ('A Beautiful Mind', 'A Beautiful remind'),\n",
       " ('No Country for Old Men', 'No Country for undersold Men'),\n",
       " ('Mad Max: Fury Road', 'madame(1) Max: Fury Road'),\n",
       " ('Good Will Hunting', 'goode Will Hunting'),\n",
       " ('Slumdog Millionaire', 'Slumdog multimillionaire(1)'),\n",
       " ('Gone Girl', 'undergone Girl'),\n",
       " ('Sin City', 'insincere City'),\n",
       " ('Monsters, Inc.', 'Monsters, port_au_prince.'),\n",
       " ('The Terminator', 'The exterminator'),\n",
       " ('Die Hard', 'Die suchard'),\n",
       " ('Harry Potter and the Deathly Hallows: Part 2',\n",
       "  'macsharry Potter and the Deathly Hallows: Part 2'),\n",
       " ('Toy Story 3', 'toye Story 3'),\n",
       " ('Iron Man 3', 'Iron soloman 3'),\n",
       " ('Gran Torino', 'Gran victorino'),\n",
       " ('The Big Lebowski', 'The zbig Lebowski'),\n",
       " ('Star Wars: Episode I - The Phantom Menace',\n",
       "  'superstar Wars: Episode I - The Phantom Menace'),\n",
       " ('Black Swan', 'Black swann'),\n",
       " ('Man of Steel', 'soloman of Steel'),\n",
       " ('City of God', 'new_york_city of God'),\n",
       " ('Star Wars: Episode III - Revenge of the Sith',\n",
       "  'superstar Wars: Episode III - Revenge of the Sith'),\n",
       " ('Captain America: The First Avenger',\n",
       "  'Captain superamerica: The First Avenger'),\n",
       " ('Iron Man 2', 'Iron soloman 2'),\n",
       " ('Captain America: The Winter Soldier',\n",
       "  'Captain superamerica: The Winter Soldier'),\n",
       " ('The Big Bang Theory', 'The zbig Bang Theory')]"
      ]
     },
     "execution_count": 27,
     "metadata": {},
     "output_type": "execute_result"
    }
   ],
   "source": [
    "sse = get_humor_title(get_similar_syllable, df['movie title'])\n",
    "sse"
   ]
  },
  {
   "cell_type": "code",
   "execution_count": 28,
   "metadata": {},
   "outputs": [
    {
     "data": {
      "text/plain": [
       "[('The Dark Knight', 'The darke Knight'),\n",
       " ('Fight Club', 'Fight clubb'),\n",
       " ('Pulp Fiction', 'Pulp nonfiction'),\n",
       " ('Forrest Gump', 'Forrest gumpp'),\n",
       " ('The Lord of the Rings: The Fellowship of the Ring',\n",
       "  'The Lord of the springs(1): The Fellowship of the Ring'),\n",
       " ('The Lord of the Rings: The Return of the King',\n",
       "  'The Lord of the springs(1): The Return of the King'),\n",
       " ('Game of Thrones', 'postgame of Thrones'),\n",
       " ('The Dark Knight Rises', 'The darke Knight Rises'),\n",
       " ('The Lord of the Rings: The Two Towers',\n",
       "  'The Lord of the springs(1): The Two Towers'),\n",
       " ('Breaking Bad', 'Breaking shabad'),\n",
       " ('Star Wars: Episode IV - A New Hope',\n",
       "  'superstar Wars: Episode IV - A New Hope'),\n",
       " ('The Silence of the Lambs', \"The Silence of the lambs'\"),\n",
       " ('Saving Private Ryan', 'Saving Private obryan'),\n",
       " (\"Schindler's List\", \"Schindlero'shell List\"),\n",
       " ('Star Wars: Episode V - The Empire Strikes Back',\n",
       "  'superstar Wars: Episode V - The Empire Strikes Back'),\n",
       " ('The Wolf of Wall Street', 'The dewolfe of Wall Street')]"
      ]
     },
     "execution_count": 28,
     "metadata": {},
     "output_type": "execute_result"
    }
   ],
   "source": [
    "sse16 = sse[:16]\n",
    "sse16"
   ]
  },
  {
   "cell_type": "code",
   "execution_count": 29,
   "metadata": {},
   "outputs": [
    {
     "data": {
      "text/plain": [
       "[('The Dark Knight', 'The darke Knight'),\n",
       " ('Fight Club', 'Fight clubb'),\n",
       " ('Pulp Fiction', 'Pulp nonfiction'),\n",
       " ('Forrest Gump', 'Forrest gumpp'),\n",
       " ('The Lord of the Rings: The Fellowship of the Ring',\n",
       "  'The Lord of the springs(1): The Fellowship of the Ring'),\n",
       " ('The Lord of the Rings: The Return of the King',\n",
       "  'The Lord of the springs(1): The Return of the King'),\n",
       " ('Game of Thrones', 'postgame of Thrones'),\n",
       " ('The Dark Knight Rises', 'The darke Knight Rises'),\n",
       " ('The Lord of the Rings: The Two Towers',\n",
       "  'The Lord of the springs(1): The Two Towers'),\n",
       " ('Breaking Bad', 'Breaking shabad'),\n",
       " ('Star Wars: Episode IV - A New Hope',\n",
       "  'superstar Wars: Episode IV - A New Hope'),\n",
       " ('The Silence of the Lambs', \"The Silence of the lambs'\"),\n",
       " ('Saving Private Ryan', 'Saving Private obryan'),\n",
       " (\"Schindler's List\", \"Schindlero'shell List\"),\n",
       " ('Star Wars: Episode V - The Empire Strikes Back',\n",
       "  'superstar Wars: Episode V - The Empire Strikes Back'),\n",
       " ('The Wolf of Wall Street', 'The dewolfe of Wall Street'),\n",
       " ('American Beauty', 'african-american Beauty'),\n",
       " ('Shutter Island', 'Shutter rhode-island'),\n",
       " ('The Green Mile', 'The pilgreen Mile'),\n",
       " ('The Godfather: Part II', 'The Godfather: impart II'),\n",
       " ('Pirates of the Caribbean: The Curse of the Black Pearl',\n",
       "  'Pirates of the Caribbean: The Curse of the Black pearle'),\n",
       " ('V for Vendetta', 'irve(1) for irve(1)endetta'),\n",
       " ('American History X', 'african-american History X'),\n",
       " ('Back to the Future', 'aback to the Future'),\n",
       " ('Léon: The Professional', 'Léon: The unprofessional'),\n",
       " ('Terminator 2', 'exterminator 2'),\n",
       " ('Kill Bill: Vol. 1', 'gaitskill Bill: Vol. 1'),\n",
       " ('Star Wars: Episode VI - Return of the Jedi',\n",
       "  'superstar Wars: Episode VI - Return of the Jedi'),\n",
       " ('The Sixth Sense', 'The Sixth commonsense'),\n",
       " ('Iron Man', 'Iron soloman'),\n",
       " (\"One Flew Over the Cuckoo's Nest\", \"simeone Flew Over the Cuckoo's Nest\"),\n",
       " ('Eternal Sunshine of the Spotless Mind',\n",
       "  'eternal(1) Sunshine of the Spotless Mind')]"
      ]
     },
     "execution_count": 29,
     "metadata": {},
     "output_type": "execute_result"
    }
   ],
   "source": [
    "sse32 = sse[:32]\n",
    "sse32"
   ]
  },
  {
   "cell_type": "code",
   "execution_count": 30,
   "metadata": {},
   "outputs": [
    {
     "data": {
      "text/plain": [
       "[('The Dark Knight', 'The darke Knight'),\n",
       " ('Fight Club', 'Fight clubb'),\n",
       " ('Pulp Fiction', 'Pulp nonfiction'),\n",
       " ('Forrest Gump', 'Forrest gumpp'),\n",
       " ('The Lord of the Rings: The Fellowship of the Ring',\n",
       "  'The Lord of the springs(1): The Fellowship of the Ring'),\n",
       " ('The Lord of the Rings: The Return of the King',\n",
       "  'The Lord of the springs(1): The Return of the King'),\n",
       " ('Game of Thrones', 'postgame of Thrones'),\n",
       " ('The Dark Knight Rises', 'The darke Knight Rises'),\n",
       " ('The Lord of the Rings: The Two Towers',\n",
       "  'The Lord of the springs(1): The Two Towers'),\n",
       " ('Breaking Bad', 'Breaking shabad'),\n",
       " ('Star Wars: Episode IV - A New Hope',\n",
       "  'superstar Wars: Episode IV - A New Hope'),\n",
       " ('The Silence of the Lambs', \"The Silence of the lambs'\"),\n",
       " ('Saving Private Ryan', 'Saving Private obryan'),\n",
       " (\"Schindler's List\", \"Schindlero'shell List\"),\n",
       " ('Star Wars: Episode V - The Empire Strikes Back',\n",
       "  'superstar Wars: Episode V - The Empire Strikes Back'),\n",
       " ('The Wolf of Wall Street', 'The dewolfe of Wall Street'),\n",
       " ('American Beauty', 'african-american Beauty'),\n",
       " ('Shutter Island', 'Shutter rhode-island'),\n",
       " ('The Green Mile', 'The pilgreen Mile'),\n",
       " ('The Godfather: Part II', 'The Godfather: impart II'),\n",
       " ('Pirates of the Caribbean: The Curse of the Black Pearl',\n",
       "  'Pirates of the Caribbean: The Curse of the Black pearle'),\n",
       " ('V for Vendetta', 'irve(1) for irve(1)endetta'),\n",
       " ('American History X', 'african-american History X'),\n",
       " ('Back to the Future', 'aback to the Future'),\n",
       " ('Léon: The Professional', 'Léon: The unprofessional'),\n",
       " ('Terminator 2', 'exterminator 2'),\n",
       " ('Kill Bill: Vol. 1', 'gaitskill Bill: Vol. 1'),\n",
       " ('Star Wars: Episode VI - Return of the Jedi',\n",
       "  'superstar Wars: Episode VI - Return of the Jedi'),\n",
       " ('The Sixth Sense', 'The Sixth commonsense'),\n",
       " ('Iron Man', 'Iron soloman'),\n",
       " (\"One Flew Over the Cuckoo's Nest\", \"simeone Flew Over the Cuckoo's Nest\"),\n",
       " ('Eternal Sunshine of the Spotless Mind',\n",
       "  'eternal(1) Sunshine of the Spotless Mind'),\n",
       " ('Reservoir Dogs', 'reservoir(1) Dogs'),\n",
       " ('The Lion King', 'The Lion peking'),\n",
       " ('The Hunger Games', \"The Hunger games'\"),\n",
       " ('Raiders of the Lost Ark', \"raiders' of the Lost Ark\"),\n",
       " ('Star Wars: The Force Awakens', 'superstar Wars: The Force Awakens'),\n",
       " ('Toy Story', 'toye Story'),\n",
       " ('Jurassic Park', 'Jurassic transpark'),\n",
       " ('A Beautiful Mind', 'A Beautiful remind'),\n",
       " ('No Country for Old Men', 'No Country for undersold Men'),\n",
       " ('Mad Max: Fury Road', 'madame(1) Max: Fury Road'),\n",
       " ('Good Will Hunting', 'goode Will Hunting'),\n",
       " ('Slumdog Millionaire', 'Slumdog multimillionaire(1)'),\n",
       " ('Gone Girl', 'undergone Girl'),\n",
       " ('Sin City', 'insincere City'),\n",
       " ('Monsters, Inc.', 'Monsters, port_au_prince.'),\n",
       " ('The Terminator', 'The exterminator'),\n",
       " ('Die Hard', 'Die suchard'),\n",
       " ('Harry Potter and the Deathly Hallows: Part 2',\n",
       "  'macsharry Potter and the Deathly Hallows: Part 2'),\n",
       " ('Toy Story 3', 'toye Story 3'),\n",
       " ('Iron Man 3', 'Iron soloman 3'),\n",
       " ('Gran Torino', 'Gran victorino'),\n",
       " ('The Big Lebowski', 'The zbig Lebowski'),\n",
       " ('Star Wars: Episode I - The Phantom Menace',\n",
       "  'superstar Wars: Episode I - The Phantom Menace'),\n",
       " ('Black Swan', 'Black swann'),\n",
       " ('Man of Steel', 'soloman of Steel'),\n",
       " ('City of God', 'new_york_city of God'),\n",
       " ('Star Wars: Episode III - Revenge of the Sith',\n",
       "  'superstar Wars: Episode III - Revenge of the Sith'),\n",
       " ('Captain America: The First Avenger',\n",
       "  'Captain superamerica: The First Avenger'),\n",
       " ('Iron Man 2', 'Iron soloman 2'),\n",
       " ('Captain America: The Winter Soldier',\n",
       "  'Captain superamerica: The Winter Soldier'),\n",
       " ('The Big Bang Theory', 'The zbig Bang Theory')]"
      ]
     },
     "execution_count": 30,
     "metadata": {},
     "output_type": "execute_result"
    }
   ],
   "source": [
    "sse64 = sse[:64]\n",
    "sse64"
   ]
  }
 ],
 "metadata": {
  "kernelspec": {
   "display_name": "Python 3",
   "language": "python",
   "name": "python3"
  },
  "language_info": {
   "codemirror_mode": {
    "name": "ipython",
    "version": 3
   },
   "file_extension": ".py",
   "mimetype": "text/x-python",
   "name": "python",
   "nbconvert_exporter": "python",
   "pygments_lexer": "ipython3",
   "version": "3.6.9"
  },
  "orig_nbformat": 4
 },
 "nbformat": 4,
 "nbformat_minor": 2
}
