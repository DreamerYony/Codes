{
 "cells": [
  {
   "cell_type": "markdown",
   "id": "a57f63b2",
   "metadata": {},
   "source": [
    "# 🧵 고대중국어를 학습한 모델 4개와 현대중국어를 학습한 모델 1개"
   ]
  },
  {
   "cell_type": "markdown",
   "id": "f94c89f1",
   "metadata": {},
   "source": [
    "# 💡 원시와 차운시에서 예측한 결과를 비교하기 위해 z-test를 실시"
   ]
  },
  {
   "cell_type": "code",
   "execution_count": 1,
   "id": "c26be51d",
   "metadata": {},
   "outputs": [],
   "source": [
    "import pandas as pd\n",
    "import numpy as np"
   ]
  },
  {
   "cell_type": "markdown",
   "id": "68bfa332",
   "metadata": {},
   "source": [
    "# Guwenbert-large (고대중국어 모델)"
   ]
  },
  {
   "cell_type": "code",
   "execution_count": 2,
   "id": "42992352",
   "metadata": {},
   "outputs": [
    {
     "name": "stdout",
     "output_type": "stream",
     "text": [
      "412\n"
     ]
    },
    {
     "data": {
      "text/html": [
       "<div>\n",
       "<style scoped>\n",
       "    .dataframe tbody tr th:only-of-type {\n",
       "        vertical-align: middle;\n",
       "    }\n",
       "\n",
       "    .dataframe tbody tr th {\n",
       "        vertical-align: top;\n",
       "    }\n",
       "\n",
       "    .dataframe thead th {\n",
       "        text-align: right;\n",
       "    }\n",
       "</style>\n",
       "<table border=\"1\" class=\"dataframe\">\n",
       "  <thead>\n",
       "    <tr style=\"text-align: right;\">\n",
       "      <th></th>\n",
       "      <th>ow</th>\n",
       "      <th>ot</th>\n",
       "      <th>oc</th>\n",
       "      <th>yunjiao_list</th>\n",
       "      <th>result</th>\n",
       "      <th>all_yunjiao</th>\n",
       "      <th>processed_list</th>\n",
       "      <th>total</th>\n",
       "    </tr>\n",
       "  </thead>\n",
       "  <tbody>\n",
       "    <tr>\n",
       "      <th>0</th>\n",
       "      <td>蘇轍</td>\n",
       "      <td>山胡</td>\n",
       "      <td>山胡拥苍毳，两耳白茸茸。野树啼终日，黔山深几重。啄溪探细石，噪虎上孤峰。被执应多恨，筠笼仅不容。</td>\n",
       "      <td>['茸', '重', '峰', '容']</td>\n",
       "      <td>茸 重 峰 容</td>\n",
       "      <td>4</td>\n",
       "      <td>4</td>\n",
       "      <td>1.00</td>\n",
       "    </tr>\n",
       "    <tr>\n",
       "      <th>1</th>\n",
       "      <td>蘇洵</td>\n",
       "      <td>题阎立本画水官</td>\n",
       "      <td>水官骑苍龙，龙行欲上天。手攀时且住，浩若乘风船。不知几何长，足尾犹在渊。下有二从臣，左右乘鱼...</td>\n",
       "      <td>['天', '船', '渊', '鼋', '翻', '鬟', '莲', '蛮', '旃', ...</td>\n",
       "      <td>天 船 翻 鬟 莲 旃 关 年 前</td>\n",
       "      <td>20</td>\n",
       "      <td>9</td>\n",
       "      <td>0.45</td>\n",
       "    </tr>\n",
       "  </tbody>\n",
       "</table>\n",
       "</div>"
      ],
      "text/plain": [
       "   ow       ot                                                 oc  \\\n",
       "0  蘇轍       山胡   山胡拥苍毳，两耳白茸茸。野树啼终日，黔山深几重。啄溪探细石，噪虎上孤峰。被执应多恨，筠笼仅不容。   \n",
       "1  蘇洵  题阎立本画水官  水官骑苍龙，龙行欲上天。手攀时且住，浩若乘风船。不知几何长，足尾犹在渊。下有二从臣，左右乘鱼...   \n",
       "\n",
       "                                        yunjiao_list             result  \\\n",
       "0                               ['茸', '重', '峰', '容']            茸 重 峰 容   \n",
       "1  ['天', '船', '渊', '鼋', '翻', '鬟', '莲', '蛮', '旃', ...  天 船 翻 鬟 莲 旃 关 年 前   \n",
       "\n",
       "   all_yunjiao  processed_list  total  \n",
       "0            4               4   1.00  \n",
       "1           20               9   0.45  "
      ]
     },
     "execution_count": 2,
     "metadata": {},
     "output_type": "execute_result"
    }
   ],
   "source": [
    "changshi1 = pd.read_csv(\"C:/Users/Dayeon Lee/Desktop/PythonWD/yunjiao_files2/changshi_guwenbert_large.csv\")\n",
    "print(len(changshi1))\n",
    "changshi1.head(2)"
   ]
  },
  {
   "cell_type": "code",
   "execution_count": 3,
   "id": "f30566ab",
   "metadata": {},
   "outputs": [
    {
     "name": "stdout",
     "output_type": "stream",
     "text": [
      "596\n"
     ]
    },
    {
     "data": {
      "text/html": [
       "<div>\n",
       "<style scoped>\n",
       "    .dataframe tbody tr th:only-of-type {\n",
       "        vertical-align: middle;\n",
       "    }\n",
       "\n",
       "    .dataframe tbody tr th {\n",
       "        vertical-align: top;\n",
       "    }\n",
       "\n",
       "    .dataframe thead th {\n",
       "        text-align: right;\n",
       "    }\n",
       "</style>\n",
       "<table border=\"1\" class=\"dataframe\">\n",
       "  <thead>\n",
       "    <tr style=\"text-align: right;\">\n",
       "      <th></th>\n",
       "      <th>poem</th>\n",
       "      <th>result</th>\n",
       "      <th>yunjiao_list</th>\n",
       "      <th>all_yunjiao</th>\n",
       "      <th>processed_list</th>\n",
       "      <th>total</th>\n",
       "    </tr>\n",
       "  </thead>\n",
       "  <tbody>\n",
       "    <tr>\n",
       "      <th>0</th>\n",
       "      <td>终日锁筠笼，回头惜翠茸。谁知声㗲㗲，亦自意重重。夜宿烟生浦，朝鸣日上峰。故巢何足恋，鹰隼岂能容。</td>\n",
       "      <td>重 容</td>\n",
       "      <td>['茸', '重', '峰', '容']</td>\n",
       "      <td>4</td>\n",
       "      <td>2</td>\n",
       "      <td>0.50</td>\n",
       "    </tr>\n",
       "    <tr>\n",
       "      <th>1</th>\n",
       "      <td>高人岂学画，用笔乃其天。譬如善游人，一一能操船。阎子本缝掖，畴昔慕云渊。丹青偶为戏，染指初尝...</td>\n",
       "      <td>天 烟 关 年 前</td>\n",
       "      <td>['天', '船', '渊', '鼋', '翻', '鬟', '莲', '蛮', '旃', ...</td>\n",
       "      <td>20</td>\n",
       "      <td>5</td>\n",
       "      <td>0.25</td>\n",
       "    </tr>\n",
       "  </tbody>\n",
       "</table>\n",
       "</div>"
      ],
      "text/plain": [
       "                                                poem     result  \\\n",
       "0   终日锁筠笼，回头惜翠茸。谁知声㗲㗲，亦自意重重。夜宿烟生浦，朝鸣日上峰。故巢何足恋，鹰隼岂能容。        重 容   \n",
       "1  高人岂学画，用笔乃其天。譬如善游人，一一能操船。阎子本缝掖，畴昔慕云渊。丹青偶为戏，染指初尝...  天 烟 关 年 前   \n",
       "\n",
       "                                        yunjiao_list  all_yunjiao  \\\n",
       "0                               ['茸', '重', '峰', '容']            4   \n",
       "1  ['天', '船', '渊', '鼋', '翻', '鬟', '莲', '蛮', '旃', ...           20   \n",
       "\n",
       "   processed_list  total  \n",
       "0               2   0.50  \n",
       "1               5   0.25  "
      ]
     },
     "execution_count": 3,
     "metadata": {},
     "output_type": "execute_result"
    }
   ],
   "source": [
    "ciyun1 = pd.read_csv(\"C:/Users/Dayeon Lee/Desktop/PythonWD/yunjiao_files2/ciyun_guwenbert_large.csv\")\n",
    "print(len(ciyun1))\n",
    "ciyun1.head(2)"
   ]
  },
  {
   "cell_type": "code",
   "execution_count": 4,
   "id": "bdf2bf5e",
   "metadata": {},
   "outputs": [
    {
     "name": "stdout",
     "output_type": "stream",
     "text": [
      "2563\n",
      "1576\n",
      "원시 : 0.6149044088958252\n",
      "3603\n",
      "1937\n",
      "차운시 : 0.5376075492645018\n"
     ]
    }
   ],
   "source": [
    "print(changshi1[\"all_yunjiao\"].sum())\n",
    "print(changshi1[\"processed_list\"].sum())\n",
    "print(f'원시 : {changshi1[\"processed_list\"].sum()/changshi1[\"all_yunjiao\"].sum()}')\n",
    "\n",
    "print(ciyun1[\"all_yunjiao\"].sum())\n",
    "print(ciyun1[\"processed_list\"].sum())\n",
    "print(f'차운시 : {ciyun1[\"processed_list\"].sum()/ciyun1[\"all_yunjiao\"].sum()}')"
   ]
  },
  {
   "cell_type": "markdown",
   "id": "3856fdb7",
   "metadata": {},
   "source": [
    "# Guwenbert-base (고대중국어 모델)"
   ]
  },
  {
   "cell_type": "code",
   "execution_count": 5,
   "id": "9350d07b",
   "metadata": {},
   "outputs": [
    {
     "name": "stdout",
     "output_type": "stream",
     "text": [
      "412\n"
     ]
    },
    {
     "data": {
      "text/html": [
       "<div>\n",
       "<style scoped>\n",
       "    .dataframe tbody tr th:only-of-type {\n",
       "        vertical-align: middle;\n",
       "    }\n",
       "\n",
       "    .dataframe tbody tr th {\n",
       "        vertical-align: top;\n",
       "    }\n",
       "\n",
       "    .dataframe thead th {\n",
       "        text-align: right;\n",
       "    }\n",
       "</style>\n",
       "<table border=\"1\" class=\"dataframe\">\n",
       "  <thead>\n",
       "    <tr style=\"text-align: right;\">\n",
       "      <th></th>\n",
       "      <th>ow</th>\n",
       "      <th>ot</th>\n",
       "      <th>oc</th>\n",
       "      <th>yunjiao_list</th>\n",
       "      <th>result</th>\n",
       "      <th>all_yunjiao</th>\n",
       "      <th>processed_list</th>\n",
       "      <th>total</th>\n",
       "    </tr>\n",
       "  </thead>\n",
       "  <tbody>\n",
       "    <tr>\n",
       "      <th>0</th>\n",
       "      <td>蘇轍</td>\n",
       "      <td>山胡</td>\n",
       "      <td>山胡拥苍毳，两耳白茸茸。野树啼终日，黔山深几重。啄溪探细石，噪虎上孤峰。被执应多恨，筠笼仅不容。</td>\n",
       "      <td>['茸', '重', '峰', '容']</td>\n",
       "      <td>茸 重 峰</td>\n",
       "      <td>4</td>\n",
       "      <td>3</td>\n",
       "      <td>0.75</td>\n",
       "    </tr>\n",
       "    <tr>\n",
       "      <th>1</th>\n",
       "      <td>蘇洵</td>\n",
       "      <td>题阎立本画水官</td>\n",
       "      <td>水官骑苍龙，龙行欲上天。手攀时且住，浩若乘风船。不知几何长，足尾犹在渊。下有二从臣，左右乘鱼...</td>\n",
       "      <td>['天', '船', '渊', '鼋', '翻', '鬟', '莲', '蛮', '旃', ...</td>\n",
       "      <td>天 翻 年</td>\n",
       "      <td>20</td>\n",
       "      <td>3</td>\n",
       "      <td>0.15</td>\n",
       "    </tr>\n",
       "  </tbody>\n",
       "</table>\n",
       "</div>"
      ],
      "text/plain": [
       "   ow       ot                                                 oc  \\\n",
       "0  蘇轍       山胡   山胡拥苍毳，两耳白茸茸。野树啼终日，黔山深几重。啄溪探细石，噪虎上孤峰。被执应多恨，筠笼仅不容。   \n",
       "1  蘇洵  题阎立本画水官  水官骑苍龙，龙行欲上天。手攀时且住，浩若乘风船。不知几何长，足尾犹在渊。下有二从臣，左右乘鱼...   \n",
       "\n",
       "                                        yunjiao_list result  all_yunjiao  \\\n",
       "0                               ['茸', '重', '峰', '容']  茸 重 峰            4   \n",
       "1  ['天', '船', '渊', '鼋', '翻', '鬟', '莲', '蛮', '旃', ...  天 翻 年           20   \n",
       "\n",
       "   processed_list  total  \n",
       "0               3   0.75  \n",
       "1               3   0.15  "
      ]
     },
     "execution_count": 5,
     "metadata": {},
     "output_type": "execute_result"
    }
   ],
   "source": [
    "changshi3 = pd.read_csv(\"C:/Users/Dayeon Lee/Desktop/PythonWD/yunjiao_files2/changshi_guwenbert_base.csv\")\n",
    "print(len(changshi3))\n",
    "changshi3.head(2)"
   ]
  },
  {
   "cell_type": "code",
   "execution_count": 6,
   "id": "72f40db1",
   "metadata": {},
   "outputs": [
    {
     "name": "stdout",
     "output_type": "stream",
     "text": [
      "596\n"
     ]
    },
    {
     "data": {
      "text/html": [
       "<div>\n",
       "<style scoped>\n",
       "    .dataframe tbody tr th:only-of-type {\n",
       "        vertical-align: middle;\n",
       "    }\n",
       "\n",
       "    .dataframe tbody tr th {\n",
       "        vertical-align: top;\n",
       "    }\n",
       "\n",
       "    .dataframe thead th {\n",
       "        text-align: right;\n",
       "    }\n",
       "</style>\n",
       "<table border=\"1\" class=\"dataframe\">\n",
       "  <thead>\n",
       "    <tr style=\"text-align: right;\">\n",
       "      <th></th>\n",
       "      <th>poem</th>\n",
       "      <th>result</th>\n",
       "      <th>yunjiao_list</th>\n",
       "      <th>all_yunjiao</th>\n",
       "      <th>processed_list</th>\n",
       "      <th>total</th>\n",
       "    </tr>\n",
       "  </thead>\n",
       "  <tbody>\n",
       "    <tr>\n",
       "      <th>0</th>\n",
       "      <td>终日锁筠笼，回头惜翠茸。谁知声㗲㗲，亦自意重重。夜宿烟生浦，朝鸣日上峰。故巢何足恋，鹰隼岂能容。</td>\n",
       "      <td>重 峰</td>\n",
       "      <td>['茸', '重', '峰', '容']</td>\n",
       "      <td>4</td>\n",
       "      <td>2</td>\n",
       "      <td>0.50</td>\n",
       "    </tr>\n",
       "    <tr>\n",
       "      <th>1</th>\n",
       "      <td>高人岂学画，用笔乃其天。譬如善游人，一一能操船。阎子本缝掖，畴昔慕云渊。丹青偶为戏，染指初尝...</td>\n",
       "      <td>船 莲 烟 关 年</td>\n",
       "      <td>['天', '船', '渊', '鼋', '翻', '鬟', '莲', '蛮', '旃', ...</td>\n",
       "      <td>20</td>\n",
       "      <td>5</td>\n",
       "      <td>0.25</td>\n",
       "    </tr>\n",
       "  </tbody>\n",
       "</table>\n",
       "</div>"
      ],
      "text/plain": [
       "                                                poem     result  \\\n",
       "0   终日锁筠笼，回头惜翠茸。谁知声㗲㗲，亦自意重重。夜宿烟生浦，朝鸣日上峰。故巢何足恋，鹰隼岂能容。        重 峰   \n",
       "1  高人岂学画，用笔乃其天。譬如善游人，一一能操船。阎子本缝掖，畴昔慕云渊。丹青偶为戏，染指初尝...  船 莲 烟 关 年   \n",
       "\n",
       "                                        yunjiao_list  all_yunjiao  \\\n",
       "0                               ['茸', '重', '峰', '容']            4   \n",
       "1  ['天', '船', '渊', '鼋', '翻', '鬟', '莲', '蛮', '旃', ...           20   \n",
       "\n",
       "   processed_list  total  \n",
       "0               2   0.50  \n",
       "1               5   0.25  "
      ]
     },
     "execution_count": 6,
     "metadata": {},
     "output_type": "execute_result"
    }
   ],
   "source": [
    "ciyun3 = pd.read_csv(\"C:/Users/Dayeon Lee/Desktop/PythonWD/yunjiao_files2/ciyun_guwenbert_base.csv\")\n",
    "print(len(ciyun3))\n",
    "ciyun3.head(2)"
   ]
  },
  {
   "cell_type": "code",
   "execution_count": 7,
   "id": "a8323168",
   "metadata": {},
   "outputs": [
    {
     "name": "stdout",
     "output_type": "stream",
     "text": [
      "2563\n",
      "1414\n",
      "원시 : 0.5516972298088177\n",
      "3603\n",
      "1762\n",
      "차운시 : 0.4890369136830419\n"
     ]
    }
   ],
   "source": [
    "print(changshi3[\"all_yunjiao\"].sum())\n",
    "print(changshi3[\"processed_list\"].sum())\n",
    "print(f'원시 : {changshi3[\"processed_list\"].sum()/changshi3[\"all_yunjiao\"].sum()}')\n",
    "\n",
    "print(ciyun3[\"all_yunjiao\"].sum())\n",
    "print(ciyun3[\"processed_list\"].sum())\n",
    "print(f'차운시 : {ciyun3[\"processed_list\"].sum()/ciyun3[\"all_yunjiao\"].sum()}')"
   ]
  },
  {
   "cell_type": "markdown",
   "id": "f78b9684",
   "metadata": {},
   "source": [
    "# Sikubert (고대중국어 모델)"
   ]
  },
  {
   "cell_type": "code",
   "execution_count": 8,
   "id": "2179ce50",
   "metadata": {},
   "outputs": [
    {
     "name": "stdout",
     "output_type": "stream",
     "text": [
      "412\n"
     ]
    },
    {
     "data": {
      "text/html": [
       "<div>\n",
       "<style scoped>\n",
       "    .dataframe tbody tr th:only-of-type {\n",
       "        vertical-align: middle;\n",
       "    }\n",
       "\n",
       "    .dataframe tbody tr th {\n",
       "        vertical-align: top;\n",
       "    }\n",
       "\n",
       "    .dataframe thead th {\n",
       "        text-align: right;\n",
       "    }\n",
       "</style>\n",
       "<table border=\"1\" class=\"dataframe\">\n",
       "  <thead>\n",
       "    <tr style=\"text-align: right;\">\n",
       "      <th></th>\n",
       "      <th>ow</th>\n",
       "      <th>ot</th>\n",
       "      <th>oc</th>\n",
       "      <th>yunjiao_list</th>\n",
       "      <th>result</th>\n",
       "      <th>all_yunjiao</th>\n",
       "      <th>processed_list</th>\n",
       "      <th>total</th>\n",
       "    </tr>\n",
       "  </thead>\n",
       "  <tbody>\n",
       "    <tr>\n",
       "      <th>0</th>\n",
       "      <td>蘇轍</td>\n",
       "      <td>山胡</td>\n",
       "      <td>山胡擁蒼毳，兩耳白茸茸。野樹啼終日，黔山深幾重。啄溪探細石，噪虎上孤峰。被執應多恨，筠籠僅不容。</td>\n",
       "      <td>['茸', '重', '峰', '容']</td>\n",
       "      <td>茸 峰</td>\n",
       "      <td>4</td>\n",
       "      <td>2</td>\n",
       "      <td>0.50</td>\n",
       "    </tr>\n",
       "    <tr>\n",
       "      <th>1</th>\n",
       "      <td>蘇洵</td>\n",
       "      <td>題閻立本畫水官</td>\n",
       "      <td>水官騎蒼龍，龍行欲上天。手攀時且住，浩若乘風船。不知幾何長，足尾猶在淵。下有二從臣，左右乘魚...</td>\n",
       "      <td>['天', '船', '淵', '黿', '翻', '鬟', '蓮', '蠻', '旜', ...</td>\n",
       "      <td>天 年 前</td>\n",
       "      <td>20</td>\n",
       "      <td>3</td>\n",
       "      <td>0.15</td>\n",
       "    </tr>\n",
       "  </tbody>\n",
       "</table>\n",
       "</div>"
      ],
      "text/plain": [
       "   ow       ot                                                 oc  \\\n",
       "0  蘇轍       山胡   山胡擁蒼毳，兩耳白茸茸。野樹啼終日，黔山深幾重。啄溪探細石，噪虎上孤峰。被執應多恨，筠籠僅不容。   \n",
       "1  蘇洵  題閻立本畫水官  水官騎蒼龍，龍行欲上天。手攀時且住，浩若乘風船。不知幾何長，足尾猶在淵。下有二從臣，左右乘魚...   \n",
       "\n",
       "                                        yunjiao_list result  all_yunjiao  \\\n",
       "0                               ['茸', '重', '峰', '容']    茸 峰            4   \n",
       "1  ['天', '船', '淵', '黿', '翻', '鬟', '蓮', '蠻', '旜', ...  天 年 前           20   \n",
       "\n",
       "   processed_list  total  \n",
       "0               2   0.50  \n",
       "1               3   0.15  "
      ]
     },
     "execution_count": 8,
     "metadata": {},
     "output_type": "execute_result"
    }
   ],
   "source": [
    "changshi5 = pd.read_csv(\"C:/Users/Dayeon Lee/Desktop/PythonWD/yunjiao_files2/changshi_sikubert.csv\")\n",
    "print(len(changshi5))\n",
    "changshi5.head(2)"
   ]
  },
  {
   "cell_type": "code",
   "execution_count": 9,
   "id": "372660a8",
   "metadata": {},
   "outputs": [
    {
     "name": "stdout",
     "output_type": "stream",
     "text": [
      "596\n"
     ]
    },
    {
     "data": {
      "text/html": [
       "<div>\n",
       "<style scoped>\n",
       "    .dataframe tbody tr th:only-of-type {\n",
       "        vertical-align: middle;\n",
       "    }\n",
       "\n",
       "    .dataframe tbody tr th {\n",
       "        vertical-align: top;\n",
       "    }\n",
       "\n",
       "    .dataframe thead th {\n",
       "        text-align: right;\n",
       "    }\n",
       "</style>\n",
       "<table border=\"1\" class=\"dataframe\">\n",
       "  <thead>\n",
       "    <tr style=\"text-align: right;\">\n",
       "      <th></th>\n",
       "      <th>poem</th>\n",
       "      <th>result</th>\n",
       "      <th>yunjiao_list</th>\n",
       "      <th>all_yunjiao</th>\n",
       "      <th>processed_list</th>\n",
       "      <th>total</th>\n",
       "    </tr>\n",
       "  </thead>\n",
       "  <tbody>\n",
       "    <tr>\n",
       "      <th>0</th>\n",
       "      <td>終日鎖筠籠，回頭惜翠茸。誰知聲㗲㗲，亦自意重重。夜宿煙生浦，朝鳴日上峰。故巢何足戀，鷹隼豈能容。</td>\n",
       "      <td>重 峰</td>\n",
       "      <td>['茸', '重', '峰', '容']</td>\n",
       "      <td>4</td>\n",
       "      <td>2</td>\n",
       "      <td>0.50</td>\n",
       "    </tr>\n",
       "    <tr>\n",
       "      <th>1</th>\n",
       "      <td>淨因大覺璉師, 以閻立本畫水官遺編禮公. 公既報之以詩, 謂軾, 汝亦作, 軾頓首再拜次韻,...</td>\n",
       "      <td>前</td>\n",
       "      <td>['天', '船', '淵', '黿', '翻', '鬟', '蓮', '蠻', '旜', ...</td>\n",
       "      <td>20</td>\n",
       "      <td>1</td>\n",
       "      <td>0.05</td>\n",
       "    </tr>\n",
       "  </tbody>\n",
       "</table>\n",
       "</div>"
      ],
      "text/plain": [
       "                                                poem result  \\\n",
       "0   終日鎖筠籠，回頭惜翠茸。誰知聲㗲㗲，亦自意重重。夜宿煙生浦，朝鳴日上峰。故巢何足戀，鷹隼豈能容。    重 峰   \n",
       "1  淨因大覺璉師, 以閻立本畫水官遺編禮公. 公既報之以詩, 謂軾, 汝亦作, 軾頓首再拜次韻,...      前   \n",
       "\n",
       "                                        yunjiao_list  all_yunjiao  \\\n",
       "0                               ['茸', '重', '峰', '容']            4   \n",
       "1  ['天', '船', '淵', '黿', '翻', '鬟', '蓮', '蠻', '旜', ...           20   \n",
       "\n",
       "   processed_list  total  \n",
       "0               2   0.50  \n",
       "1               1   0.05  "
      ]
     },
     "execution_count": 9,
     "metadata": {},
     "output_type": "execute_result"
    }
   ],
   "source": [
    "ciyun5 = pd.read_csv(\"C:/Users/Dayeon Lee/Desktop/PythonWD/yunjiao_files2/ciyun_sikubert.csv\")\n",
    "print(len(ciyun5))\n",
    "ciyun5.head(2)"
   ]
  },
  {
   "cell_type": "code",
   "execution_count": 10,
   "id": "9b83b769",
   "metadata": {},
   "outputs": [
    {
     "name": "stdout",
     "output_type": "stream",
     "text": [
      "2652\n",
      "462\n",
      "원시 : 0.17420814479638008\n",
      "3625\n",
      "537\n",
      "차운시 : 0.14813793103448275\n"
     ]
    }
   ],
   "source": [
    "print(changshi5[\"all_yunjiao\"].sum())\n",
    "print(changshi5[\"processed_list\"].sum())\n",
    "print(f'원시 : {changshi5[\"processed_list\"].sum()/changshi5[\"all_yunjiao\"].sum()}')\n",
    "\n",
    "print(ciyun5[\"all_yunjiao\"].sum())\n",
    "print(ciyun5[\"processed_list\"].sum())\n",
    "print(f'차운시 : {ciyun5[\"processed_list\"].sum()/ciyun5[\"all_yunjiao\"].sum()}')"
   ]
  },
  {
   "cell_type": "markdown",
   "id": "751ee289",
   "metadata": {},
   "source": [
    "# Siku roberta (고대중국어 모델)"
   ]
  },
  {
   "cell_type": "code",
   "execution_count": 11,
   "id": "65f4344d",
   "metadata": {},
   "outputs": [
    {
     "name": "stdout",
     "output_type": "stream",
     "text": [
      "412\n"
     ]
    },
    {
     "data": {
      "text/html": [
       "<div>\n",
       "<style scoped>\n",
       "    .dataframe tbody tr th:only-of-type {\n",
       "        vertical-align: middle;\n",
       "    }\n",
       "\n",
       "    .dataframe tbody tr th {\n",
       "        vertical-align: top;\n",
       "    }\n",
       "\n",
       "    .dataframe thead th {\n",
       "        text-align: right;\n",
       "    }\n",
       "</style>\n",
       "<table border=\"1\" class=\"dataframe\">\n",
       "  <thead>\n",
       "    <tr style=\"text-align: right;\">\n",
       "      <th></th>\n",
       "      <th>ow</th>\n",
       "      <th>ot</th>\n",
       "      <th>oc</th>\n",
       "      <th>yunjiao_list</th>\n",
       "      <th>result</th>\n",
       "      <th>all_yunjiao</th>\n",
       "      <th>processed_list</th>\n",
       "      <th>total</th>\n",
       "    </tr>\n",
       "  </thead>\n",
       "  <tbody>\n",
       "    <tr>\n",
       "      <th>0</th>\n",
       "      <td>蘇轍</td>\n",
       "      <td>山胡</td>\n",
       "      <td>山胡擁蒼毳，兩耳白茸茸。野樹啼終日，黔山深幾重。啄溪探細石，噪虎上孤峰。被執應多恨，筠籠僅不容。</td>\n",
       "      <td>['茸', '重', '峰', '容']</td>\n",
       "      <td>重 峰 容</td>\n",
       "      <td>4</td>\n",
       "      <td>3</td>\n",
       "      <td>0.75</td>\n",
       "    </tr>\n",
       "    <tr>\n",
       "      <th>1</th>\n",
       "      <td>蘇洵</td>\n",
       "      <td>題閻立本畫水官</td>\n",
       "      <td>水官騎蒼龍，龍行欲上天。手攀時且住，浩若乘風船。不知幾何長，足尾猶在淵。下有二從臣，左右乘魚...</td>\n",
       "      <td>['天', '船', '淵', '黿', '翻', '鬟', '蓮', '蠻', '旜', ...</td>\n",
       "      <td>天 鱣 年 前</td>\n",
       "      <td>20</td>\n",
       "      <td>4</td>\n",
       "      <td>0.20</td>\n",
       "    </tr>\n",
       "  </tbody>\n",
       "</table>\n",
       "</div>"
      ],
      "text/plain": [
       "   ow       ot                                                 oc  \\\n",
       "0  蘇轍       山胡   山胡擁蒼毳，兩耳白茸茸。野樹啼終日，黔山深幾重。啄溪探細石，噪虎上孤峰。被執應多恨，筠籠僅不容。   \n",
       "1  蘇洵  題閻立本畫水官  水官騎蒼龍，龍行欲上天。手攀時且住，浩若乘風船。不知幾何長，足尾猶在淵。下有二從臣，左右乘魚...   \n",
       "\n",
       "                                        yunjiao_list   result  all_yunjiao  \\\n",
       "0                               ['茸', '重', '峰', '容']    重 峰 容            4   \n",
       "1  ['天', '船', '淵', '黿', '翻', '鬟', '蓮', '蠻', '旜', ...  天 鱣 年 前           20   \n",
       "\n",
       "   processed_list  total  \n",
       "0               3   0.75  \n",
       "1               4   0.20  "
      ]
     },
     "execution_count": 11,
     "metadata": {},
     "output_type": "execute_result"
    }
   ],
   "source": [
    "changshi6 = pd.read_csv(\"C:/Users/Dayeon Lee/Desktop/PythonWD/yunjiao_files2/changshi_sikuroberta.csv\")\n",
    "print(len(changshi6))\n",
    "changshi6.head(2)"
   ]
  },
  {
   "cell_type": "code",
   "execution_count": 12,
   "id": "ca7648db",
   "metadata": {},
   "outputs": [
    {
     "name": "stdout",
     "output_type": "stream",
     "text": [
      "596\n"
     ]
    },
    {
     "data": {
      "text/html": [
       "<div>\n",
       "<style scoped>\n",
       "    .dataframe tbody tr th:only-of-type {\n",
       "        vertical-align: middle;\n",
       "    }\n",
       "\n",
       "    .dataframe tbody tr th {\n",
       "        vertical-align: top;\n",
       "    }\n",
       "\n",
       "    .dataframe thead th {\n",
       "        text-align: right;\n",
       "    }\n",
       "</style>\n",
       "<table border=\"1\" class=\"dataframe\">\n",
       "  <thead>\n",
       "    <tr style=\"text-align: right;\">\n",
       "      <th></th>\n",
       "      <th>poem</th>\n",
       "      <th>result</th>\n",
       "      <th>yunjiao_list</th>\n",
       "      <th>all_yunjiao</th>\n",
       "      <th>processed_list</th>\n",
       "      <th>total</th>\n",
       "    </tr>\n",
       "  </thead>\n",
       "  <tbody>\n",
       "    <tr>\n",
       "      <th>0</th>\n",
       "      <td>終日鎖筠籠，回頭惜翠茸。誰知聲㗲㗲，亦自意重重。夜宿煙生浦，朝鳴日上峰。故巢何足戀，鷹隼豈能容。</td>\n",
       "      <td>重</td>\n",
       "      <td>['茸', '重', '峰', '容']</td>\n",
       "      <td>4</td>\n",
       "      <td>1</td>\n",
       "      <td>0.25</td>\n",
       "    </tr>\n",
       "    <tr>\n",
       "      <th>1</th>\n",
       "      <td>淨因大覺璉師, 以閻立本畫水官遺編禮公. 公既報之以詩, 謂軾, 汝亦作, 軾頓首再拜次韻,...</td>\n",
       "      <td>NaN</td>\n",
       "      <td>['天', '船', '淵', '黿', '翻', '鬟', '蓮', '蠻', '旜', ...</td>\n",
       "      <td>20</td>\n",
       "      <td>0</td>\n",
       "      <td>0.00</td>\n",
       "    </tr>\n",
       "  </tbody>\n",
       "</table>\n",
       "</div>"
      ],
      "text/plain": [
       "                                                poem result  \\\n",
       "0   終日鎖筠籠，回頭惜翠茸。誰知聲㗲㗲，亦自意重重。夜宿煙生浦，朝鳴日上峰。故巢何足戀，鷹隼豈能容。      重   \n",
       "1  淨因大覺璉師, 以閻立本畫水官遺編禮公. 公既報之以詩, 謂軾, 汝亦作, 軾頓首再拜次韻,...    NaN   \n",
       "\n",
       "                                        yunjiao_list  all_yunjiao  \\\n",
       "0                               ['茸', '重', '峰', '容']            4   \n",
       "1  ['天', '船', '淵', '黿', '翻', '鬟', '蓮', '蠻', '旜', ...           20   \n",
       "\n",
       "   processed_list  total  \n",
       "0               1   0.25  \n",
       "1               0   0.00  "
      ]
     },
     "execution_count": 12,
     "metadata": {},
     "output_type": "execute_result"
    }
   ],
   "source": [
    "ciyun6 = pd.read_csv(\"C:/Users/Dayeon Lee/Desktop/PythonWD/yunjiao_files2/ciyun_sikuroberta.csv\")\n",
    "print(len(ciyun6))\n",
    "ciyun6.head(2)"
   ]
  },
  {
   "cell_type": "code",
   "execution_count": 13,
   "id": "7f732634",
   "metadata": {},
   "outputs": [
    {
     "name": "stdout",
     "output_type": "stream",
     "text": [
      "2652\n",
      "889\n",
      "원시 : 0.33521870286576166\n",
      "3625\n",
      "1028\n",
      "차운시 : 0.28358620689655173\n"
     ]
    }
   ],
   "source": [
    "print(changshi6[\"all_yunjiao\"].sum())\n",
    "print(changshi6[\"processed_list\"].sum())\n",
    "print(f'원시 : {changshi6[\"processed_list\"].sum()/changshi6[\"all_yunjiao\"].sum()}')\n",
    "\n",
    "print(ciyun6[\"all_yunjiao\"].sum())\n",
    "print(ciyun6[\"processed_list\"].sum())\n",
    "print(f'차운시 : {ciyun6[\"processed_list\"].sum()/ciyun6[\"all_yunjiao\"].sum()}')"
   ]
  },
  {
   "cell_type": "markdown",
   "id": "a91ec5e2",
   "metadata": {},
   "source": [
    "# chinese-wwm (현대중국어 모델)"
   ]
  },
  {
   "cell_type": "code",
   "execution_count": 14,
   "id": "2988c9b5",
   "metadata": {},
   "outputs": [
    {
     "name": "stdout",
     "output_type": "stream",
     "text": [
      "412\n"
     ]
    },
    {
     "data": {
      "text/html": [
       "<div>\n",
       "<style scoped>\n",
       "    .dataframe tbody tr th:only-of-type {\n",
       "        vertical-align: middle;\n",
       "    }\n",
       "\n",
       "    .dataframe tbody tr th {\n",
       "        vertical-align: top;\n",
       "    }\n",
       "\n",
       "    .dataframe thead th {\n",
       "        text-align: right;\n",
       "    }\n",
       "</style>\n",
       "<table border=\"1\" class=\"dataframe\">\n",
       "  <thead>\n",
       "    <tr style=\"text-align: right;\">\n",
       "      <th></th>\n",
       "      <th>ow</th>\n",
       "      <th>ot</th>\n",
       "      <th>oc</th>\n",
       "      <th>yunjiao_list</th>\n",
       "      <th>result</th>\n",
       "      <th>all_yunjiao</th>\n",
       "      <th>processed_list</th>\n",
       "      <th>total</th>\n",
       "    </tr>\n",
       "  </thead>\n",
       "  <tbody>\n",
       "    <tr>\n",
       "      <th>0</th>\n",
       "      <td>蘇轍</td>\n",
       "      <td>山胡</td>\n",
       "      <td>山胡拥苍毳，两耳白茸茸。野树啼终日，黔山深几重。啄溪探细石，噪虎上孤峰。被执应多恨，筠笼仅不容。</td>\n",
       "      <td>['茸', '重', '峰', '容']</td>\n",
       "      <td>茸 峰</td>\n",
       "      <td>4</td>\n",
       "      <td>2</td>\n",
       "      <td>0.50</td>\n",
       "    </tr>\n",
       "    <tr>\n",
       "      <th>1</th>\n",
       "      <td>蘇洵</td>\n",
       "      <td>题阎立本画水官</td>\n",
       "      <td>水官骑苍龙，龙行欲上天。手攀时且住，浩若乘风船。不知几何长，足尾犹在渊。下有二从臣，左右乘鱼...</td>\n",
       "      <td>['天', '船', '渊', '鼋', '翻', '鬟', '莲', '蛮', '旃', ...</td>\n",
       "      <td>天 年 前</td>\n",
       "      <td>20</td>\n",
       "      <td>3</td>\n",
       "      <td>0.15</td>\n",
       "    </tr>\n",
       "  </tbody>\n",
       "</table>\n",
       "</div>"
      ],
      "text/plain": [
       "   ow       ot                                                 oc  \\\n",
       "0  蘇轍       山胡   山胡拥苍毳，两耳白茸茸。野树啼终日，黔山深几重。啄溪探细石，噪虎上孤峰。被执应多恨，筠笼仅不容。   \n",
       "1  蘇洵  题阎立本画水官  水官骑苍龙，龙行欲上天。手攀时且住，浩若乘风船。不知几何长，足尾犹在渊。下有二从臣，左右乘鱼...   \n",
       "\n",
       "                                        yunjiao_list result  all_yunjiao  \\\n",
       "0                               ['茸', '重', '峰', '容']    茸 峰            4   \n",
       "1  ['天', '船', '渊', '鼋', '翻', '鬟', '莲', '蛮', '旃', ...  天 年 前           20   \n",
       "\n",
       "   processed_list  total  \n",
       "0               2   0.50  \n",
       "1               3   0.15  "
      ]
     },
     "execution_count": 14,
     "metadata": {},
     "output_type": "execute_result"
    }
   ],
   "source": [
    "changshi7 = pd.read_csv(\"C:/Users/Dayeon Lee/Desktop/PythonWD/yunjiao_files2/changshi_wwm.csv\")\n",
    "print(len(changshi7))\n",
    "changshi7.head(2)"
   ]
  },
  {
   "cell_type": "code",
   "execution_count": 15,
   "id": "1be76326",
   "metadata": {},
   "outputs": [
    {
     "name": "stdout",
     "output_type": "stream",
     "text": [
      "596\n"
     ]
    },
    {
     "data": {
      "text/html": [
       "<div>\n",
       "<style scoped>\n",
       "    .dataframe tbody tr th:only-of-type {\n",
       "        vertical-align: middle;\n",
       "    }\n",
       "\n",
       "    .dataframe tbody tr th {\n",
       "        vertical-align: top;\n",
       "    }\n",
       "\n",
       "    .dataframe thead th {\n",
       "        text-align: right;\n",
       "    }\n",
       "</style>\n",
       "<table border=\"1\" class=\"dataframe\">\n",
       "  <thead>\n",
       "    <tr style=\"text-align: right;\">\n",
       "      <th></th>\n",
       "      <th>poem</th>\n",
       "      <th>result</th>\n",
       "      <th>yunjiao_list</th>\n",
       "      <th>all_yunjiao</th>\n",
       "      <th>processed_list</th>\n",
       "      <th>total</th>\n",
       "    </tr>\n",
       "  </thead>\n",
       "  <tbody>\n",
       "    <tr>\n",
       "      <th>0</th>\n",
       "      <td>终日锁筠笼，回头惜翠茸。谁知声㗲㗲，亦自意重重。夜宿烟生浦，朝鸣日上峰。故巢何足恋，鹰隼岂能容。</td>\n",
       "      <td>重 峰</td>\n",
       "      <td>['茸', '重', '峰', '容']</td>\n",
       "      <td>4</td>\n",
       "      <td>2</td>\n",
       "      <td>0.5</td>\n",
       "    </tr>\n",
       "    <tr>\n",
       "      <th>1</th>\n",
       "      <td>高人岂学画，用笔乃其天。譬如善游人，一一能操船。阎子本缝掖，畴昔慕云渊。丹青偶为戏，染指初尝...</td>\n",
       "      <td>川 前</td>\n",
       "      <td>['天', '船', '渊', '鼋', '翻', '鬟', '莲', '蛮', '旃', ...</td>\n",
       "      <td>20</td>\n",
       "      <td>2</td>\n",
       "      <td>0.1</td>\n",
       "    </tr>\n",
       "  </tbody>\n",
       "</table>\n",
       "</div>"
      ],
      "text/plain": [
       "                                                poem result  \\\n",
       "0   终日锁筠笼，回头惜翠茸。谁知声㗲㗲，亦自意重重。夜宿烟生浦，朝鸣日上峰。故巢何足恋，鹰隼岂能容。    重 峰   \n",
       "1  高人岂学画，用笔乃其天。譬如善游人，一一能操船。阎子本缝掖，畴昔慕云渊。丹青偶为戏，染指初尝...    川 前   \n",
       "\n",
       "                                        yunjiao_list  all_yunjiao  \\\n",
       "0                               ['茸', '重', '峰', '容']            4   \n",
       "1  ['天', '船', '渊', '鼋', '翻', '鬟', '莲', '蛮', '旃', ...           20   \n",
       "\n",
       "   processed_list  total  \n",
       "0               2    0.5  \n",
       "1               2    0.1  "
      ]
     },
     "execution_count": 15,
     "metadata": {},
     "output_type": "execute_result"
    }
   ],
   "source": [
    "ciyun7 = pd.read_csv(\"C:/Users/Dayeon Lee/Desktop/PythonWD/yunjiao_files2/ciyun_wwm.csv\")\n",
    "print(len(ciyun7))\n",
    "ciyun7.head(2)"
   ]
  },
  {
   "cell_type": "code",
   "execution_count": 16,
   "id": "ab7128bd",
   "metadata": {},
   "outputs": [
    {
     "name": "stdout",
     "output_type": "stream",
     "text": [
      "2563\n",
      "427\n",
      "원시 : 0.166601638704643\n",
      "3603\n",
      "549\n",
      "차운시 : 0.1523730224812656\n"
     ]
    }
   ],
   "source": [
    "print(changshi7[\"all_yunjiao\"].sum())\n",
    "print(changshi7[\"processed_list\"].sum())\n",
    "print(f'원시 : {changshi7[\"processed_list\"].sum()/changshi7[\"all_yunjiao\"].sum()}')\n",
    "\n",
    "print(ciyun7[\"all_yunjiao\"].sum())\n",
    "print(ciyun7[\"processed_list\"].sum())\n",
    "print(f'차운시 : {ciyun7[\"processed_list\"].sum()/ciyun7[\"all_yunjiao\"].sum()}')"
   ]
  },
  {
   "cell_type": "markdown",
   "id": "79e12924",
   "metadata": {},
   "source": [
    "# two sampled z-test"
   ]
  },
  {
   "cell_type": "markdown",
   "id": "fe727687",
   "metadata": {},
   "source": [
    "# 함수 결과와 비교"
   ]
  },
  {
   "cell_type": "code",
   "execution_count": 19,
   "id": "bd69278c",
   "metadata": {},
   "outputs": [],
   "source": [
    "import scipy.stats.distributions as dist\n",
    "\n",
    "def z_test_2_sample_proportions(row, two_tailed=False):\n",
    "    x1, x2, n1, n2 = row['x1'], row['x2'], row['n1'], row['n2']\n",
    "    avg_p = (x1 + x2) / (n1 + n2)\n",
    "    z_val = (x1/n1 - x2/n2) / np.sqrt(avg_p * (1 - avg_p) * (1/n1 + 1/n2))\n",
    "    z_prob = dist.norm.cdf(-np.abs(z_val))\n",
    "\n",
    "    if two_tailed:\n",
    "        return pd.Series({'z-test': z_val, 'p-value': 2 * z_prob})\n",
    "    else:\n",
    "        return pd.Series({'z-test': z_val, 'p-value': z_prob})"
   ]
  },
  {
   "cell_type": "code",
   "execution_count": 20,
   "id": "0b5596a0",
   "metadata": {},
   "outputs": [],
   "source": [
    "data = {'language model' : [\"Guwenbert-base\", \"Guwenbert-large\", \n",
    "                            \"Siku bert\", \"Siku roberta\", \"chinese-bert-wwm\"],\n",
    "    'x1': [changshi3[\"processed_list\"].sum(), changshi1[\"processed_list\"].sum(), \n",
    "           changshi5[\"processed_list\"].sum(), changshi6[\"processed_list\"].sum(), \n",
    "           changshi7[\"processed_list\"].sum()],\n",
    "    'x2': [ciyun3[\"processed_list\"].sum(), ciyun1[\"processed_list\"].sum(),\n",
    "           ciyun5[\"processed_list\"].sum(), ciyun6[\"processed_list\"].sum(),\n",
    "           ciyun7[\"processed_list\"].sum()],\n",
    "    'n1': [2563, 2563, 2563, 2563, 2563],\n",
    "    'n2': [3603, 3603, 3603, 3603, 3603]\n",
    "}"
   ]
  },
  {
   "cell_type": "code",
   "execution_count": 21,
   "id": "adc26de0",
   "metadata": {},
   "outputs": [
    {
     "data": {
      "text/html": [
       "<div>\n",
       "<style scoped>\n",
       "    .dataframe tbody tr th:only-of-type {\n",
       "        vertical-align: middle;\n",
       "    }\n",
       "\n",
       "    .dataframe tbody tr th {\n",
       "        vertical-align: top;\n",
       "    }\n",
       "\n",
       "    .dataframe thead th {\n",
       "        text-align: right;\n",
       "    }\n",
       "</style>\n",
       "<table border=\"1\" class=\"dataframe\">\n",
       "  <thead>\n",
       "    <tr style=\"text-align: right;\">\n",
       "      <th></th>\n",
       "      <th>language model</th>\n",
       "      <th>x1</th>\n",
       "      <th>x2</th>\n",
       "      <th>n1</th>\n",
       "      <th>n2</th>\n",
       "    </tr>\n",
       "  </thead>\n",
       "  <tbody>\n",
       "    <tr>\n",
       "      <th>0</th>\n",
       "      <td>Guwenbert-base</td>\n",
       "      <td>1414</td>\n",
       "      <td>1762</td>\n",
       "      <td>2563</td>\n",
       "      <td>3603</td>\n",
       "    </tr>\n",
       "    <tr>\n",
       "      <th>1</th>\n",
       "      <td>Guwenbert-large</td>\n",
       "      <td>1576</td>\n",
       "      <td>1937</td>\n",
       "      <td>2563</td>\n",
       "      <td>3603</td>\n",
       "    </tr>\n",
       "    <tr>\n",
       "      <th>2</th>\n",
       "      <td>Siku bert</td>\n",
       "      <td>462</td>\n",
       "      <td>537</td>\n",
       "      <td>2563</td>\n",
       "      <td>3603</td>\n",
       "    </tr>\n",
       "    <tr>\n",
       "      <th>3</th>\n",
       "      <td>Siku roberta</td>\n",
       "      <td>889</td>\n",
       "      <td>1028</td>\n",
       "      <td>2563</td>\n",
       "      <td>3603</td>\n",
       "    </tr>\n",
       "    <tr>\n",
       "      <th>4</th>\n",
       "      <td>chinese-bert-wwm</td>\n",
       "      <td>427</td>\n",
       "      <td>549</td>\n",
       "      <td>2563</td>\n",
       "      <td>3603</td>\n",
       "    </tr>\n",
       "  </tbody>\n",
       "</table>\n",
       "</div>"
      ],
      "text/plain": [
       "     language model    x1    x2    n1    n2\n",
       "0    Guwenbert-base  1414  1762  2563  3603\n",
       "1   Guwenbert-large  1576  1937  2563  3603\n",
       "2         Siku bert   462   537  2563  3603\n",
       "3      Siku roberta   889  1028  2563  3603\n",
       "4  chinese-bert-wwm   427   549  2563  3603"
      ]
     },
     "execution_count": 21,
     "metadata": {},
     "output_type": "execute_result"
    }
   ],
   "source": [
    "df = pd.DataFrame(data)\n",
    "df"
   ]
  },
  {
   "cell_type": "code",
   "execution_count": 22,
   "id": "ebe22204",
   "metadata": {},
   "outputs": [
    {
     "data": {
      "text/html": [
       "<div>\n",
       "<style scoped>\n",
       "    .dataframe tbody tr th:only-of-type {\n",
       "        vertical-align: middle;\n",
       "    }\n",
       "\n",
       "    .dataframe tbody tr th {\n",
       "        vertical-align: top;\n",
       "    }\n",
       "\n",
       "    .dataframe thead th {\n",
       "        text-align: right;\n",
       "    }\n",
       "</style>\n",
       "<table border=\"1\" class=\"dataframe\">\n",
       "  <thead>\n",
       "    <tr style=\"text-align: right;\">\n",
       "      <th></th>\n",
       "      <th>language model</th>\n",
       "      <th>x1</th>\n",
       "      <th>x2</th>\n",
       "      <th>n1</th>\n",
       "      <th>n2</th>\n",
       "      <th>z-test</th>\n",
       "      <th>p-value</th>\n",
       "    </tr>\n",
       "  </thead>\n",
       "  <tbody>\n",
       "    <tr>\n",
       "      <th>0</th>\n",
       "      <td>Guwenbert-base</td>\n",
       "      <td>1414</td>\n",
       "      <td>1762</td>\n",
       "      <td>2563</td>\n",
       "      <td>3603</td>\n",
       "      <td>4.852046</td>\n",
       "      <td>6.109705e-07</td>\n",
       "    </tr>\n",
       "    <tr>\n",
       "      <th>1</th>\n",
       "      <td>Guwenbert-large</td>\n",
       "      <td>1576</td>\n",
       "      <td>1937</td>\n",
       "      <td>2563</td>\n",
       "      <td>3603</td>\n",
       "      <td>6.041744</td>\n",
       "      <td>7.622845e-10</td>\n",
       "    </tr>\n",
       "    <tr>\n",
       "      <th>2</th>\n",
       "      <td>Siku bert</td>\n",
       "      <td>462</td>\n",
       "      <td>537</td>\n",
       "      <td>2563</td>\n",
       "      <td>3603</td>\n",
       "      <td>3.278462</td>\n",
       "      <td>5.218714e-04</td>\n",
       "    </tr>\n",
       "    <tr>\n",
       "      <th>3</th>\n",
       "      <td>Siku roberta</td>\n",
       "      <td>889</td>\n",
       "      <td>1028</td>\n",
       "      <td>2563</td>\n",
       "      <td>3603</td>\n",
       "      <td>5.145420</td>\n",
       "      <td>1.334613e-07</td>\n",
       "    </tr>\n",
       "    <tr>\n",
       "      <th>4</th>\n",
       "      <td>chinese-bert-wwm</td>\n",
       "      <td>427</td>\n",
       "      <td>549</td>\n",
       "      <td>2563</td>\n",
       "      <td>3603</td>\n",
       "      <td>1.508559</td>\n",
       "      <td>6.570577e-02</td>\n",
       "    </tr>\n",
       "  </tbody>\n",
       "</table>\n",
       "</div>"
      ],
      "text/plain": [
       "     language model    x1    x2    n1    n2    z-test       p-value\n",
       "0    Guwenbert-base  1414  1762  2563  3603  4.852046  6.109705e-07\n",
       "1   Guwenbert-large  1576  1937  2563  3603  6.041744  7.622845e-10\n",
       "2         Siku bert   462   537  2563  3603  3.278462  5.218714e-04\n",
       "3      Siku roberta   889  1028  2563  3603  5.145420  1.334613e-07\n",
       "4  chinese-bert-wwm   427   549  2563  3603  1.508559  6.570577e-02"
      ]
     },
     "execution_count": 22,
     "metadata": {},
     "output_type": "execute_result"
    }
   ],
   "source": [
    "df[['z-test', 'p-value']] = df.apply(z_test_2_sample_proportions, axis=1)\n",
    "df"
   ]
  },
  {
   "cell_type": "code",
   "execution_count": 23,
   "id": "6a3993ee",
   "metadata": {},
   "outputs": [],
   "source": [
    "df.columns = ['language model', \n",
    "              '원시 정답개수', '차운시 정답개수', \n",
    "              '원시 전체운각개수', '차운시 전체운각개수',\n",
    "              'z-test', 'p-value']"
   ]
  },
  {
   "cell_type": "code",
   "execution_count": 24,
   "id": "f4b2b64e",
   "metadata": {},
   "outputs": [
    {
     "data": {
      "text/html": [
       "<div>\n",
       "<style scoped>\n",
       "    .dataframe tbody tr th:only-of-type {\n",
       "        vertical-align: middle;\n",
       "    }\n",
       "\n",
       "    .dataframe tbody tr th {\n",
       "        vertical-align: top;\n",
       "    }\n",
       "\n",
       "    .dataframe thead th {\n",
       "        text-align: right;\n",
       "    }\n",
       "</style>\n",
       "<table border=\"1\" class=\"dataframe\">\n",
       "  <thead>\n",
       "    <tr style=\"text-align: right;\">\n",
       "      <th></th>\n",
       "      <th>language model</th>\n",
       "      <th>원시 정답개수</th>\n",
       "      <th>차운시 정답개수</th>\n",
       "      <th>원시 전체운각개수</th>\n",
       "      <th>차운시 전체운각개수</th>\n",
       "      <th>z-test</th>\n",
       "      <th>p-value</th>\n",
       "    </tr>\n",
       "  </thead>\n",
       "  <tbody>\n",
       "    <tr>\n",
       "      <th>0</th>\n",
       "      <td>Guwenbert-base</td>\n",
       "      <td>1414</td>\n",
       "      <td>1762</td>\n",
       "      <td>2563</td>\n",
       "      <td>3603</td>\n",
       "      <td>4.852046</td>\n",
       "      <td>6.109705e-07</td>\n",
       "    </tr>\n",
       "    <tr>\n",
       "      <th>1</th>\n",
       "      <td>Guwenbert-large</td>\n",
       "      <td>1576</td>\n",
       "      <td>1937</td>\n",
       "      <td>2563</td>\n",
       "      <td>3603</td>\n",
       "      <td>6.041744</td>\n",
       "      <td>7.622845e-10</td>\n",
       "    </tr>\n",
       "    <tr>\n",
       "      <th>2</th>\n",
       "      <td>Siku bert</td>\n",
       "      <td>462</td>\n",
       "      <td>537</td>\n",
       "      <td>2563</td>\n",
       "      <td>3603</td>\n",
       "      <td>3.278462</td>\n",
       "      <td>5.218714e-04</td>\n",
       "    </tr>\n",
       "    <tr>\n",
       "      <th>3</th>\n",
       "      <td>Siku roberta</td>\n",
       "      <td>889</td>\n",
       "      <td>1028</td>\n",
       "      <td>2563</td>\n",
       "      <td>3603</td>\n",
       "      <td>5.145420</td>\n",
       "      <td>1.334613e-07</td>\n",
       "    </tr>\n",
       "    <tr>\n",
       "      <th>4</th>\n",
       "      <td>chinese-bert-wwm</td>\n",
       "      <td>427</td>\n",
       "      <td>549</td>\n",
       "      <td>2563</td>\n",
       "      <td>3603</td>\n",
       "      <td>1.508559</td>\n",
       "      <td>6.570577e-02</td>\n",
       "    </tr>\n",
       "  </tbody>\n",
       "</table>\n",
       "</div>"
      ],
      "text/plain": [
       "     language model  원시 정답개수  차운시 정답개수  원시 전체운각개수  차운시 전체운각개수    z-test  \\\n",
       "0    Guwenbert-base     1414      1762       2563        3603  4.852046   \n",
       "1   Guwenbert-large     1576      1937       2563        3603  6.041744   \n",
       "2         Siku bert      462       537       2563        3603  3.278462   \n",
       "3      Siku roberta      889      1028       2563        3603  5.145420   \n",
       "4  chinese-bert-wwm      427       549       2563        3603  1.508559   \n",
       "\n",
       "        p-value  \n",
       "0  6.109705e-07  \n",
       "1  7.622845e-10  \n",
       "2  5.218714e-04  \n",
       "3  1.334613e-07  \n",
       "4  6.570577e-02  "
      ]
     },
     "execution_count": 24,
     "metadata": {},
     "output_type": "execute_result"
    }
   ],
   "source": [
    "df"
   ]
  },
  {
   "cell_type": "markdown",
   "id": "26b6bf84",
   "metadata": {},
   "source": [
    "# 아래의 방법도 가능"
   ]
  },
  {
   "cell_type": "code",
   "execution_count": 2,
   "id": "6f28e4b7",
   "metadata": {},
   "outputs": [
    {
     "name": "stdout",
     "output_type": "stream",
     "text": [
      "One sided z-test (larger): z = 6.0417, p value = 0.0000\n"
     ]
    }
   ],
   "source": [
    "# Guwenbert-large\n",
    "import numpy as np\n",
    "from statsmodels.stats.proportion import proportions_ztest\n",
    "\n",
    "x1 = 1576  # 예시 값\n",
    "x2 = 1937  # 예시 값\n",
    "n1 = 2563  # 예시 값\n",
    "n2 = 3603  # 예시 값\n",
    "\n",
    "success_cnts = np.array([x1, x2])\n",
    "total_cnts = np.array([n1, n2])\n",
    "\n",
    "# 첫 번째 비율이 두 번째 비율보다 크다는 가설을 검정하는 경우\n",
    "test_stat, pval = proportions_ztest(count=success_cnts, nobs=total_cnts, alternative='larger')\n",
    "print('One sided z-test (larger): z = {:.4f}, p value = {:.4f}'.format(test_stat, pval))"
   ]
  },
  {
   "cell_type": "code",
   "execution_count": 3,
   "id": "0ec0f289",
   "metadata": {},
   "outputs": [
    {
     "name": "stdout",
     "output_type": "stream",
     "text": [
      "One sided z-test (larger): z = 4.8520, p value = 0.0000\n"
     ]
    }
   ],
   "source": [
    "# Guwenbert-base\n",
    "\n",
    "x1 = 1414  # 예시 값\n",
    "x2 = 1762  # 예시 값\n",
    "n1 = 2563  # 예시 값\n",
    "n2 = 3603  # 예시 값\n",
    "\n",
    "success_cnts = np.array([x1, x2])\n",
    "total_cnts = np.array([n1, n2])\n",
    "\n",
    "test_stat, pval = proportions_ztest(count=success_cnts, nobs=total_cnts, alternative='larger')\n",
    "print('One sided z-test (larger): z = {:.4f}, p value = {:.4f}'.format(test_stat, pval))"
   ]
  },
  {
   "cell_type": "code",
   "execution_count": null,
   "id": "3d6e335c",
   "metadata": {},
   "outputs": [],
   "source": [
    "# Siku bert\n",
    "\n",
    "x1 = 462  # 예시 값\n",
    "x2 = 537  # 예시 값\n",
    "n1 = 2563  # 예시 값\n",
    "n2 = 3603  # 예시 값\n",
    "\n",
    "success_cnts = np.array([x1, x2])\n",
    "total_cnts = np.array([n1, n2])\n",
    "\n",
    "test_stat, pval = proportions_ztest(count=success_cnts, nobs=total_cnts, alternative='larger')\n",
    "print('One sided z-test (larger): z = {:.4f}, p value = {:.4f}'.format(test_stat, pval))"
   ]
  },
  {
   "cell_type": "code",
   "execution_count": null,
   "id": "593226b0",
   "metadata": {},
   "outputs": [],
   "source": [
    "# Siku roberta\n",
    "\n",
    "x1 = 889  # 예시 값\n",
    "x2 = 1028  # 예시 값\n",
    "n1 = 2563  # 예시 값\n",
    "n2 = 3603  # 예시 값\n",
    "\n",
    "success_cnts = np.array([x1, x2])\n",
    "total_cnts = np.array([n1, n2])\n",
    "\n",
    "test_stat, pval = proportions_ztest(count=success_cnts, nobs=total_cnts, alternative='larger')\n",
    "print('One sided z-test (larger): z = {:.4f}, p value = {:.4f}'.format(test_stat, pval))"
   ]
  },
  {
   "cell_type": "code",
   "execution_count": null,
   "id": "8df3317f",
   "metadata": {},
   "outputs": [],
   "source": [
    "# chinese-wwm\n",
    "\n",
    "x1 = 427  # 예시 값\n",
    "x2 = 549  # 예시 값\n",
    "n1 = 2563  # 예시 값\n",
    "n2 = 3603  # 예시 값\n",
    "\n",
    "success_cnts = np.array([x1, x2])\n",
    "total_cnts = np.array([n1, n2])\n",
    "\n",
    "test_stat, pval = proportions_ztest(count=success_cnts, nobs=total_cnts, alternative='larger')\n",
    "print('One sided z-test (larger): z = {:.4f}, p value = {:.4f}'.format(test_stat, pval))"
   ]
  },
  {
   "cell_type": "code",
   "execution_count": null,
   "id": "7effdf5e",
   "metadata": {},
   "outputs": [],
   "source": []
  }
 ],
 "metadata": {
  "kernelspec": {
   "display_name": "Python 3",
   "language": "python",
   "name": "python3"
  },
  "language_info": {
   "codemirror_mode": {
    "name": "ipython",
    "version": 3
   },
   "file_extension": ".py",
   "mimetype": "text/x-python",
   "name": "python",
   "nbconvert_exporter": "python",
   "pygments_lexer": "ipython3",
   "version": "3.9.5"
  }
 },
 "nbformat": 4,
 "nbformat_minor": 5
}
